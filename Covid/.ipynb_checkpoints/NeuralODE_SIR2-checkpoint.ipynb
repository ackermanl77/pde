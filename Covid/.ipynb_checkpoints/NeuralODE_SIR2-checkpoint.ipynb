{
 "cells": [
  {
   "cell_type": "code",
   "execution_count": 1,
   "metadata": {
    "colab": {
     "base_uri": "https://localhost:8080/",
     "height": 459
    },
    "colab_type": "code",
    "id": "iMr2uYAb4Kae",
    "outputId": "e6772147-7d4c-41da-a04f-ac97e6f73ff1"
   },
   "outputs": [
    {
     "name": "stdout",
     "output_type": "stream",
     "text": [
      "Collecting scipy\n",
      "\u001b[?25l  Downloading https://files.pythonhosted.org/packages/2b/a8/f4c66eb529bb252d50e83dbf2909c6502e2f857550f22571ed8556f62d95/scipy-1.5.2-cp36-cp36m-manylinux1_x86_64.whl (25.9MB)\n",
      "\u001b[K     |████████████████████████████████| 25.9MB 146kB/s \n",
      "\u001b[?25hRequirement already satisfied, skipping upgrade: numpy>=1.14.5 in /usr/local/lib/python3.6/dist-packages (from scipy) (1.18.5)\n",
      "\u001b[31mERROR: tensorflow 2.2.0 has requirement scipy==1.4.1; python_version >= \"3\", but you'll have scipy 1.5.2 which is incompatible.\u001b[0m\n",
      "\u001b[31mERROR: albumentations 0.1.12 has requirement imgaug<0.2.7,>=0.2.5, but you'll have imgaug 0.2.9 which is incompatible.\u001b[0m\n",
      "Installing collected packages: scipy\n",
      "  Found existing installation: scipy 1.4.1\n",
      "    Uninstalling scipy-1.4.1:\n",
      "      Successfully uninstalled scipy-1.4.1\n",
      "Successfully installed scipy-1.5.2\n",
      "Collecting scikit-learn\n",
      "\u001b[?25l  Downloading https://files.pythonhosted.org/packages/d9/3a/eb8d7bbe28f4787d140bb9df685b7d5bf6115c0e2a969def4027144e98b6/scikit_learn-0.23.1-cp36-cp36m-manylinux1_x86_64.whl (6.8MB)\n",
      "\u001b[K     |████████████████████████████████| 6.9MB 2.7MB/s \n",
      "\u001b[?25hRequirement already satisfied, skipping upgrade: numpy>=1.13.3 in /usr/local/lib/python3.6/dist-packages (from scikit-learn) (1.18.5)\n",
      "Requirement already satisfied, skipping upgrade: joblib>=0.11 in /usr/local/lib/python3.6/dist-packages (from scikit-learn) (0.16.0)\n",
      "Requirement already satisfied, skipping upgrade: scipy>=0.19.1 in /usr/local/lib/python3.6/dist-packages (from scikit-learn) (1.5.2)\n",
      "Collecting threadpoolctl>=2.0.0\n",
      "  Downloading https://files.pythonhosted.org/packages/f7/12/ec3f2e203afa394a149911729357aa48affc59c20e2c1c8297a60f33f133/threadpoolctl-2.1.0-py3-none-any.whl\n",
      "Installing collected packages: threadpoolctl, scikit-learn\n",
      "  Found existing installation: scikit-learn 0.22.2.post1\n",
      "    Uninstalling scikit-learn-0.22.2.post1:\n",
      "      Successfully uninstalled scikit-learn-0.22.2.post1\n",
      "Successfully installed scikit-learn-0.23.1 threadpoolctl-2.1.0\n"
     ]
    }
   ],
   "source": [
    "!pip install --upgrade  scipy\n",
    "!pip install --upgrade  scikit-learn"
   ]
  },
  {
   "cell_type": "code",
   "execution_count": 2,
   "metadata": {
    "colab": {},
    "colab_type": "code",
    "id": "Cg_WvHaHeHBw"
   },
   "outputs": [],
   "source": [
    "%matplotlib inline\n",
    "import numpy as np\n",
    "import matplotlib.pyplot as plt\n",
    "plt.style.use('seaborn-paper')"
   ]
  },
  {
   "cell_type": "code",
   "execution_count": 3,
   "metadata": {
    "colab": {},
    "colab_type": "code",
    "id": "7Al8ZRF5emic"
   },
   "outputs": [],
   "source": [
    "%tensorflow_version 2.x"
   ]
  },
  {
   "cell_type": "code",
   "execution_count": 4,
   "metadata": {
    "colab": {
     "base_uri": "https://localhost:8080/",
     "height": 34
    },
    "colab_type": "code",
    "id": "GMof13ePeZNp",
    "outputId": "a4e7baa3-8c72-42ca-d616-a946e445c292"
   },
   "outputs": [
    {
     "name": "stdout",
     "output_type": "stream",
     "text": [
      "2.2.0\n"
     ]
    }
   ],
   "source": [
    "import tensorflow as tf\n",
    "#tf.enable_eager_execution()\n",
    "print(tf.__version__)"
   ]
  },
  {
   "cell_type": "code",
   "execution_count": 5,
   "metadata": {
    "colab": {
     "base_uri": "https://localhost:8080/",
     "height": 354
    },
    "colab_type": "code",
    "id": "viPToQkOecMI",
    "outputId": "b6265709-6a39-4fad-c6da-beaae27b08be"
   },
   "outputs": [
    {
     "name": "stdout",
     "output_type": "stream",
     "text": [
      "Collecting git+https://github.com/titu1994/tfdiffeq.git\n",
      "  Cloning https://github.com/titu1994/tfdiffeq.git to /tmp/pip-req-build-a751qo5c\n",
      "  Running command git clone -q https://github.com/titu1994/tfdiffeq.git /tmp/pip-req-build-a751qo5c\n",
      "Requirement already satisfied, skipping upgrade: numpy>=1.16.2 in /usr/local/lib/python3.6/dist-packages (from tfdiffeq==0.0.1) (1.18.5)\n",
      "Requirement already satisfied, skipping upgrade: scipy>=1.1.0 in /usr/local/lib/python3.6/dist-packages (from tfdiffeq==0.0.1) (1.5.2)\n",
      "Requirement already satisfied, skipping upgrade: six>=1.11.0 in /usr/local/lib/python3.6/dist-packages (from tfdiffeq==0.0.1) (1.15.0)\n",
      "Requirement already satisfied, skipping upgrade: matplotlib>=3.0.0 in /usr/local/lib/python3.6/dist-packages (from tfdiffeq==0.0.1) (3.2.2)\n",
      "Requirement already satisfied, skipping upgrade: pyparsing!=2.0.4,!=2.1.2,!=2.1.6,>=2.0.1 in /usr/local/lib/python3.6/dist-packages (from matplotlib>=3.0.0->tfdiffeq==0.0.1) (2.4.7)\n",
      "Requirement already satisfied, skipping upgrade: cycler>=0.10 in /usr/local/lib/python3.6/dist-packages (from matplotlib>=3.0.0->tfdiffeq==0.0.1) (0.10.0)\n",
      "Requirement already satisfied, skipping upgrade: python-dateutil>=2.1 in /usr/local/lib/python3.6/dist-packages (from matplotlib>=3.0.0->tfdiffeq==0.0.1) (2.8.1)\n",
      "Requirement already satisfied, skipping upgrade: kiwisolver>=1.0.1 in /usr/local/lib/python3.6/dist-packages (from matplotlib>=3.0.0->tfdiffeq==0.0.1) (1.2.0)\n",
      "Building wheels for collected packages: tfdiffeq\n",
      "  Building wheel for tfdiffeq (setup.py) ... \u001b[?25l\u001b[?25hdone\n",
      "  Created wheel for tfdiffeq: filename=tfdiffeq-0.0.1-py2.py3-none-any.whl size=50528 sha256=b3f6e392dda30b14a96a660237c5de21b76b13269b9c894dc7e532ad52aa675b\n",
      "  Stored in directory: /tmp/pip-ephem-wheel-cache-85mtjoy1/wheels/1a/fc/26/608bd5ecbf21d23b0e87bb71814d3c031b7c8a5b37fa7aa904\n",
      "Successfully built tfdiffeq\n",
      "Installing collected packages: tfdiffeq\n",
      "Successfully installed tfdiffeq-0.0.1\n"
     ]
    }
   ],
   "source": [
    "!pip install --upgrade git+https://github.com/titu1994/tfdiffeq.git "
   ]
  },
  {
   "cell_type": "code",
   "execution_count": 6,
   "metadata": {
    "colab": {
     "base_uri": "https://localhost:8080/",
     "height": 195
    },
    "colab_type": "code",
    "id": "ZKY7P0zNe3kS",
    "outputId": "bd74e54e-6b05-4902-9315-d4ebec68adfd"
   },
   "outputs": [
    {
     "name": "stdout",
     "output_type": "stream",
     "text": [
      "Collecting pysindy\n",
      "  Downloading https://files.pythonhosted.org/packages/8f/43/23d9214c7e1f5526ed8af023fcfef19eeb9002f4ed5c73c9145668327043/pysindy-1.1.0-py3-none-any.whl\n",
      "Requirement already satisfied: scipy in /usr/local/lib/python3.6/dist-packages (from pysindy) (1.5.2)\n",
      "Requirement already satisfied: scikit-learn[alldeps]>=0.23 in /usr/local/lib/python3.6/dist-packages (from pysindy) (0.23.1)\n",
      "Requirement already satisfied: numpy in /usr/local/lib/python3.6/dist-packages (from pysindy) (1.18.5)\n",
      "Requirement already satisfied: threadpoolctl>=2.0.0 in /usr/local/lib/python3.6/dist-packages (from scikit-learn[alldeps]>=0.23->pysindy) (2.1.0)\n",
      "Requirement already satisfied: joblib>=0.11 in /usr/local/lib/python3.6/dist-packages (from scikit-learn[alldeps]>=0.23->pysindy) (0.16.0)\n",
      "Installing collected packages: pysindy\n",
      "Successfully installed pysindy-1.1.0\n"
     ]
    }
   ],
   "source": [
    "!pip install pysindy"
   ]
  },
  {
   "cell_type": "code",
   "execution_count": 7,
   "metadata": {
    "colab": {
     "base_uri": "https://localhost:8080/",
     "height": 142
    },
    "colab_type": "code",
    "id": "v63jc-GhtQQ_",
    "outputId": "05c3a0e8-2491-497b-a4db-9064930ed889"
   },
   "outputs": [
    {
     "name": "stdout",
     "output_type": "stream",
     "text": [
      "Requirement already satisfied: tensorflow_probability in /usr/local/lib/python3.6/dist-packages (0.10.0)\n",
      "Requirement already satisfied: cloudpickle>=1.2.2 in /usr/local/lib/python3.6/dist-packages (from tensorflow_probability) (1.3.0)\n",
      "Requirement already satisfied: decorator in /usr/local/lib/python3.6/dist-packages (from tensorflow_probability) (4.4.2)\n",
      "Requirement already satisfied: numpy>=1.13.3 in /usr/local/lib/python3.6/dist-packages (from tensorflow_probability) (1.18.5)\n",
      "Requirement already satisfied: six>=1.10.0 in /usr/local/lib/python3.6/dist-packages (from tensorflow_probability) (1.15.0)\n",
      "Requirement already satisfied: gast>=0.3.2 in /usr/local/lib/python3.6/dist-packages (from tensorflow_probability) (0.3.3)\n"
     ]
    }
   ],
   "source": [
    "!pip install tensorflow_probability"
   ]
  },
  {
   "cell_type": "code",
   "execution_count": 8,
   "metadata": {
    "colab": {},
    "colab_type": "code",
    "id": "c4gIdM-LLDMm"
   },
   "outputs": [],
   "source": [
    "%load_ext autoreload\n",
    "%autoreload 2"
   ]
  },
  {
   "cell_type": "code",
   "execution_count": 18,
   "metadata": {
    "colab": {},
    "colab_type": "code",
    "id": "YwKnjxGne9mW"
   },
   "outputs": [],
   "source": [
    "from tfdiffeq import odeint\n",
    "from tfdiffeq import plot_phase_portrait, plot_vector_field, plot_results\n",
    "from tfdiffeq.bfgs_optimizer import BFGSOptimizer\n",
    "import pandas as pd"
   ]
  },
  {
   "cell_type": "code",
   "execution_count": 10,
   "metadata": {
    "colab": {},
    "colab_type": "code",
    "id": "rOVfrbuZfugq"
   },
   "outputs": [],
   "source": [
    "NUM_SAMPLES = 1000\n",
    "device = 'cpu:0' # These experiments do not require the GPU. Normally, 'gpu:0' if tf.test.is_gpu_available() else 'cpu:0' should be used.\n",
    "\n",
    "# Force Float 64\n",
    "tf.keras.backend.set_floatx('float64')"
   ]
  },
  {
   "cell_type": "code",
   "execution_count": 11,
   "metadata": {
    "colab": {},
    "colab_type": "code",
    "id": "Q3TBRZCPfXHE"
   },
   "outputs": [],
   "source": [
    "class LotkaVoltera(tf.keras.Model):\n",
    "  \n",
    "  def __init__(self, a, b, c, d, **kwargs):\n",
    "    super().__init__(**kwargs)\n",
    "    \n",
    "    self.a, self.b, self.c, self.d = a, b, c, d\n",
    "  \n",
    "  @tf.function\n",
    "  def call(self, t, y):\n",
    "    # y = [R, F]\n",
    "    r, f = tf.unstack(y)\n",
    "    \n",
    "    dR_dT = self.a * r - self.b * r * f\n",
    "    dF_dT = -self.c * f + self.d * r * f\n",
    "    \n",
    "    return tf.stack([dR_dT, dF_dT])"
   ]
  },
  {
   "cell_type": "code",
   "execution_count": 12,
   "metadata": {
    "colab": {},
    "colab_type": "code",
    "id": "EJKyjYl4fn6n"
   },
   "outputs": [],
   "source": [
    "t = tf.linspace(0., 10., num=NUM_SAMPLES)\n",
    "initial_states = tf.convert_to_tensor([1, 1], dtype=tf.float64)\n",
    "\n",
    "a = 1.5\n",
    "b = 1\n",
    "c = 3\n",
    "d = 1"
   ]
  },
  {
   "cell_type": "code",
   "execution_count": 13,
   "metadata": {
    "colab": {
     "base_uri": "https://localhost:8080/",
     "height": 70
    },
    "colab_type": "code",
    "id": "BmPPnn1Qfpwg",
    "outputId": "b5d95f82-4d39-45b4-d413-42ba68a454a3"
   },
   "outputs": [
    {
     "name": "stdout",
     "output_type": "stream",
     "text": [
      "Finished integrating ! Result shape :  (1000, 2)\n",
      "CPU times: user 2.1 s, sys: 39.2 ms, total: 2.14 s\n",
      "Wall time: 2.28 s\n"
     ]
    }
   ],
   "source": [
    "%%time\n",
    "\n",
    "with tf.device(device):\n",
    "  result = odeint(LotkaVoltera(a, b, c, d), initial_states, t)\n",
    "  \n",
    "print(\"Finished integrating ! Result shape : \", result.shape)"
   ]
  },
  {
   "cell_type": "code",
   "execution_count": 14,
   "metadata": {
    "colab": {
     "base_uri": "https://localhost:8080/",
     "height": 301
    },
    "colab_type": "code",
    "id": "xye3D3C7f5Zu",
    "outputId": "993c2065-a29b-4693-f6be-4bf7a8a4d91c"
   },
   "outputs": [
    {
     "data": {
      "image/png": "[encoded data removed]",
      "text/plain": [
       "<Figure size 460.8x316.8 with 1 Axes>"
      ]
     },
     "metadata": {
      "needs_background": "light",
      "tags": []
     },
     "output_type": "display_data"
    }
   ],
   "source": [
    "lims = [0, 5]\n",
    "plot_phase_portrait(LotkaVoltera(a, b, c, d), xlabel='Rabbit', ylabel='Wolf', xlims=[0, 7], ylims=lims)\n",
    "plot_vector_field(result, xlabel='Rabbit', ylabel='Wolf')"
   ]
  },
  {
   "cell_type": "code",
   "execution_count": 15,
   "metadata": {
    "colab": {
     "base_uri": "https://localhost:8080/",
     "height": 288
    },
    "colab_type": "code",
    "id": "b1MBr-rVgL-W",
    "outputId": "3bf30daf-99df-4d27-c8ed-f66a8ab2a99c"
   },
   "outputs": [
    {
     "data": {
      "image/png": "[encoded data removed]",
      "text/plain": [
       "<Figure size 460.8x316.8 with 1 Axes>"
      ]
     },
     "metadata": {
      "needs_background": "light",
      "tags": []
     },
     "output_type": "display_data"
    }
   ],
   "source": [
    "plot_results(t, result, labels=['Rabbit', 'Fox'])"
   ]
  },
  {
   "cell_type": "code",
   "execution_count": 72,
   "metadata": {
    "colab": {},
    "colab_type": "code",
    "id": "y5YFNo89tHir"
   },
   "outputs": [],
   "source": [
    "t = tf.linspace(0., 20., num=21)\n",
    "initial_states = tf.convert_to_tensor([30, 4], dtype=tf.float64)\n",
    "\n",
    "#a,b,c,d=0.5, 0.02, 0.8, 0.02\n",
    "a,b,c,d=0.4970243837965384,0.022672841600171096,0.7971518919963235,0.022622014469468894"
   ]
  },
  {
   "cell_type": "code",
   "execution_count": 73,
   "metadata": {
    "colab": {
     "base_uri": "https://localhost:8080/",
     "height": 70
    },
    "colab_type": "code",
    "id": "m6v27kz8tIcx",
    "outputId": "a5f6ce27-a1c1-45dc-9bdc-060bfc9e51e8"
   },
   "outputs": [
    {
     "name": "stdout",
     "output_type": "stream",
     "text": [
      "Finished integrating ! Result shape :  (21, 2)\n",
      "CPU times: user 993 ms, sys: 20.3 ms, total: 1.01 s\n",
      "Wall time: 984 ms\n"
     ]
    }
   ],
   "source": [
    "%%time\n",
    "\n",
    "with tf.device(device):\n",
    "  result = odeint(LotkaVoltera(a, b, c, d), initial_states, t)\n",
    "  \n",
    "print(\"Finished integrating ! Result shape : \", result.shape)"
   ]
  },
  {
   "cell_type": "code",
   "execution_count": 74,
   "metadata": {
    "colab": {
     "base_uri": "https://localhost:8080/",
     "height": 288
    },
    "colab_type": "code",
    "id": "am2MtKbQtcOO",
    "outputId": "d988af22-c984-48e8-ecb6-5ccee1269335"
   },
   "outputs": [
    {
     "data": {
      "image/png": "[encoded data removed]",
      "text/plain": [
       "<Figure size 460.8x316.8 with 1 Axes>"
      ]
     },
     "metadata": {
      "needs_background": "light",
      "tags": []
     },
     "output_type": "display_data"
    }
   ],
   "source": [
    "plot_results(t, result, labels=['Rabbit', 'Fox'])"
   ]
  },
  {
   "cell_type": "markdown",
   "metadata": {
    "colab_type": "text",
    "id": "5IBlcslbgr3x"
   },
   "source": [
    "# Universal ODEs\n",
    "\n",
    "Original Lotke-Volterra system \n",
    ">$\\frac{\\partial R}{\\partial T} = aR - bRF \\\\ \\frac{\\partial F}{\\partial T} = -cF + dRF$\n",
    "\n",
    "For our system, we set $a=1.5$, $b=1$, $c=3.0$, $d=1$\n",
    "\n",
    "-------\n",
    "\n",
    "For Universal ODE formulation of the above,\n",
    "\n",
    "> We substitute $bRF$ with $U_1(R, F)$ in $\\frac{\\partial R}{\\partial T}$.\n",
    "\n",
    "> We substitute $bRF$ with $U_2(R, F)$ in $\\frac{\\partial F}{\\partial T}$.\n",
    "\n",
    "Therefore,\n",
    ">$\\frac{\\partial R}{\\partial T} = aR - U_1(R, F) \\\\ \\frac{\\partial F}{\\partial T} = -cF + U_2(R, F)$\n"
   ]
  },
  {
   "cell_type": "code",
   "execution_count": null,
   "metadata": {
    "colab": {},
    "colab_type": "code",
    "id": "0KVE3OQpgtE8"
   },
   "outputs": [],
   "source": [
    "class LotkaVolteraTrainable(tf.keras.Model):\n",
    "  \n",
    "  def __init__(self, a, b, c, d, **kwargs):\n",
    "    super().__init__(**kwargs)\n",
    "    \n",
    "    self.a, self.c = a, c\n",
    "\n",
    "    self.eqn = tf.keras.Sequential([\n",
    "             tf.keras.layers.Dense(32, activation=tf.nn.swish, input_shape=(2,)),\n",
    "             tf.keras.layers.Dense(32, activation=tf.nn.swish,),\n",
    "             tf.keras.layers.Dense(32, activation=tf.nn.swish),\n",
    "             tf.keras.layers.Dense(2, activation='relu',)   \n",
    "    ])\n",
    "  \n",
    "  @tf.function\n",
    "  def call(self, t, y):\n",
    "    # y = [R, F]\n",
    "    r, f = tf.unstack(y)\n",
    "\n",
    "    # Neural ODE component\n",
    "    n_out = self.eqn(tf.reshape(y, [1, 2]))  # [1, 2] -> [1, 2]\n",
    "    pred1 = n_out[0, 0]\n",
    "    pred2 = n_out[0, 1]\n",
    "    \n",
    "    dR_dT = self.a * r - pred1\n",
    "    dF_dT = -self.c * f + pred2\n",
    "    \n",
    "    return tf.stack([dR_dT, dF_dT])"
   ]
  },
  {
   "cell_type": "code",
   "execution_count": null,
   "metadata": {
    "colab": {},
    "colab_type": "code",
    "id": "0c_4_YNJk4jr"
   },
   "outputs": [],
   "source": [
    "t_train = tf.linspace(0., 2., num=30)  # Train for just 2 seconds of input\n",
    "initial_states_train = tf.convert_to_tensor([1, 1], dtype=tf.float64)\n",
    "\n",
    "a = 1.5\n",
    "b = 1\n",
    "c = 3\n",
    "d = 1\n",
    "\n",
    "epochs = 100\n",
    "initial_learning_rate = 0.01\n",
    "decay_steps = 100\n",
    "decay_rate = 0.5"
   ]
  },
  {
   "cell_type": "code",
   "execution_count": null,
   "metadata": {
    "colab": {
     "base_uri": "https://localhost:8080/",
     "height": 70
    },
    "colab_type": "code",
    "id": "z1xCYaJt2fQQ",
    "outputId": "af79496f-0230-4edc-f655-4c012a8b1df6"
   },
   "outputs": [
    {
     "name": "stdout",
     "output_type": "stream",
     "text": [
      "Finished integrating ! Result shape :  (30, 2)\n",
      "CPU times: user 378 ms, sys: 2.82 ms, total: 380 ms\n",
      "Wall time: 374 ms\n"
     ]
    }
   ],
   "source": [
    "# Lets see the ground truth sample\n",
    "%%time\n",
    "\n",
    "with tf.device(device):\n",
    "  result_train = odeint(LotkaVoltera(a, b, c, d), initial_states_train, t_train)\n",
    "  \n",
    "print(\"Finished integrating ! Result shape : \", result_train.shape)"
   ]
  },
  {
   "cell_type": "code",
   "execution_count": null,
   "metadata": {
    "colab": {
     "base_uri": "https://localhost:8080/",
     "height": 288
    },
    "colab_type": "code",
    "id": "oZHyNveF2sG9",
    "outputId": "5dd829c5-e939-44ff-e077-f8d14f0ef4f8"
   },
   "outputs": [
    {
     "data": {
      "image/png": "[encoded data removed]",
      "text/plain": [
       "<Figure size 460.8x316.8 with 1 Axes>"
      ]
     },
     "metadata": {
      "needs_background": "light",
      "tags": []
     },
     "output_type": "display_data"
    }
   ],
   "source": [
    "plot_results(t_train, result_train, labels=['Rabbit', 'Fox'])"
   ]
  },
  {
   "cell_type": "markdown",
   "metadata": {
    "colab_type": "text",
    "id": "tvh4VR74MI-_"
   },
   "source": [
    "# Train a model\n",
    "\n",
    "We pretrain the model for a few epochs to reduce the loss quickly, and then retrain the model using BFGS to reduce the loss to a small enough tolerance (say $10^{-6}$)."
   ]
  },
  {
   "cell_type": "code",
   "execution_count": null,
   "metadata": {
    "colab": {
     "base_uri": "https://localhost:8080/",
     "height": 1000
    },
    "colab_type": "code",
    "id": "yfAKw4zZl_sm",
    "outputId": "93cf5d01-b136-4669-f3dc-8dd64ef74663"
   },
   "outputs": [
    {
     "name": "stdout",
     "output_type": "stream",
     "text": [
      "Computing ground truth...\n",
      "Ground truth shape : (30, 2)\n",
      "Epoch 1\n",
      "Loss : 8.421962522171398\n",
      "LR : 0.0099309245\n",
      "\n",
      "Epoch 2\n",
      "Loss : 2.2960119205530094\n",
      "LR : 0.009862327\n",
      "\n",
      "Epoch 3\n",
      "Loss : 0.29949217288317415\n",
      "LR : 0.009794203\n",
      "\n",
      "Epoch 4\n",
      "Loss : 0.4868180378551776\n",
      "LR : 0.0097265495\n",
      "\n",
      "Epoch 5\n",
      "Loss : 1.2526577811319137\n",
      "LR : 0.009659363\n",
      "\n",
      "Epoch 6\n",
      "Loss : 1.619637765079077\n",
      "LR : 0.009592641\n",
      "\n",
      "Epoch 7\n",
      "Loss : 1.5144941110341756\n",
      "LR : 0.009526379\n",
      "\n",
      "Epoch 8\n",
      "Loss : 1.1328132557292192\n",
      "LR : 0.009460577\n",
      "\n",
      "Epoch 9\n",
      "Loss : 0.6871124588826306\n",
      "LR : 0.009395227\n",
      "\n",
      "Epoch 10\n",
      "Loss : 0.346940138478378\n",
      "LR : 0.0093303295\n",
      "\n",
      "Epoch 11\n",
      "Loss : 0.20680470285313016\n",
      "LR : 0.00926588\n",
      "\n",
      "Epoch 12\n",
      "Loss : 0.2648385532319216\n",
      "LR : 0.009201876\n",
      "\n",
      "Epoch 13\n",
      "Loss : 0.4294528314458957\n",
      "LR : 0.009138315\n",
      "\n",
      "Epoch 14\n",
      "Loss : 0.5740422988227076\n",
      "LR : 0.009075192\n",
      "\n",
      "Epoch 15\n",
      "Loss : 0.6164694778432452\n",
      "LR : 0.0090125045\n",
      "\n",
      "Epoch 16\n",
      "Loss : 0.5491411364288502\n",
      "LR : 0.00895025\n",
      "\n",
      "Epoch 17\n",
      "Loss : 0.4164153125376867\n",
      "LR : 0.008888427\n",
      "\n",
      "Epoch 18\n",
      "Loss : 0.2760740162393521\n",
      "LR : 0.00882703\n",
      "\n",
      "Epoch 19\n",
      "Loss : 0.17272572594213867\n",
      "LR : 0.008766057\n",
      "\n",
      "Epoch 20\n",
      "Loss : 0.1260866652279169\n",
      "LR : 0.008705505\n",
      "\n",
      "Epoch 21\n",
      "Loss : 0.131266809911336\n",
      "LR : 0.008645372\n",
      "\n",
      "Epoch 22\n",
      "Loss : 0.16700274251956623\n",
      "LR : 0.008585654\n",
      "\n",
      "Epoch 23\n",
      "Loss : 0.20717884694573993\n",
      "LR : 0.0085263485\n",
      "\n",
      "Epoch 24\n",
      "Loss : 0.23094880219684646\n",
      "LR : 0.008467453\n",
      "\n",
      "Epoch 25\n",
      "Loss : 0.22834766928508513\n",
      "LR : 0.008408964\n",
      "\n",
      "Epoch 26\n",
      "Loss : 0.20086440224033486\n",
      "LR : 0.008350879\n",
      "\n",
      "Epoch 27\n",
      "Loss : 0.15834905337172595\n",
      "LR : 0.008293196\n",
      "\n",
      "Epoch 28\n",
      "Loss : 0.11416779690189838\n",
      "LR : 0.00823591\n",
      "\n",
      "Epoch 29\n",
      "Loss : 0.08027201884095204\n",
      "LR : 0.008179021\n",
      "\n",
      "Epoch 30\n",
      "Loss : 0.06348534768772279\n",
      "LR : 0.008122524\n",
      "\n",
      "Epoch 31\n",
      "Loss : 0.06393820849963704\n",
      "LR : 0.008066418\n",
      "\n",
      "Epoch 32\n",
      "Loss : 0.07598240289893304\n",
      "LR : 0.0080106985\n",
      "\n",
      "Epoch 33\n",
      "Loss : 0.09106606892435512\n",
      "LR : 0.007955364\n",
      "\n",
      "Epoch 34\n",
      "Loss : 0.10129117208941496\n",
      "LR : 0.007900413\n",
      "\n",
      "Epoch 35\n",
      "Loss : 0.1021834612831856\n",
      "LR : 0.00784584\n",
      "\n",
      "Epoch 36\n",
      "Loss : 0.09371604945847865\n",
      "LR : 0.0077916454\n",
      "\n",
      "Epoch 37\n",
      "Loss : 0.07949873650708353\n",
      "LR : 0.0077378247\n",
      "\n",
      "Epoch 38\n",
      "Loss : 0.06477538758435056\n",
      "LR : 0.0076843756\n",
      "\n",
      "Epoch 39\n",
      "Loss : 0.05418461769929303\n",
      "LR : 0.007631296\n",
      "\n",
      "Epoch 40\n",
      "Loss : 0.05014107852451688\n",
      "LR : 0.0075785825\n",
      "\n",
      "Epoch 41\n",
      "Loss : 0.0523219936016931\n",
      "LR : 0.007526234\n",
      "\n",
      "Epoch 42\n",
      "Loss : 0.058260378506482975\n",
      "LR : 0.007474246\n",
      "\n",
      "Epoch 43\n",
      "Loss : 0.06462997390124167\n",
      "LR : 0.0074226176\n",
      "\n",
      "Epoch 44\n",
      "Loss : 0.06861255362179512\n",
      "LR : 0.007371346\n",
      "\n",
      "Epoch 45\n",
      "Loss : 0.06882017320202696\n",
      "LR : 0.0073204283\n",
      "\n",
      "Epoch 46\n",
      "Loss : 0.0655198228337288\n",
      "LR : 0.007269862\n",
      "\n",
      "Epoch 47\n",
      "Loss : 0.06021795550088094\n",
      "LR : 0.0072196457\n",
      "\n",
      "Epoch 48\n",
      "Loss : 0.05487842834647571\n",
      "LR : 0.0071697766\n",
      "\n",
      "Epoch 49\n",
      "Loss : 0.051120450145461745\n",
      "LR : 0.0071202507\n",
      "\n",
      "Epoch 50\n",
      "Loss : 0.049686688488350055\n",
      "LR : 0.0070710676\n",
      "\n",
      "Epoch 51\n",
      "Loss : 0.05032820595636278\n",
      "LR : 0.0070222244\n",
      "\n",
      "Epoch 52\n",
      "Loss : 0.05207876955172546\n",
      "LR : 0.0069737183\n",
      "\n",
      "Epoch 53\n",
      "Loss : 0.05374961249134994\n",
      "LR : 0.0069255475\n",
      "\n",
      "Epoch 54\n",
      "Loss : 0.05441827515105446\n",
      "LR : 0.0068777087\n",
      "\n",
      "Epoch 55\n",
      "Loss : 0.05372594168909194\n",
      "LR : 0.006830201\n",
      "\n",
      "Epoch 56\n",
      "Loss : 0.05190571932366394\n",
      "LR : 0.0067830216\n",
      "\n",
      "Epoch 57\n",
      "Loss : 0.04958295438886787\n",
      "LR : 0.0067361677\n",
      "\n",
      "Epoch 58\n",
      "Loss : 0.04746759379644408\n",
      "LR : 0.006689638\n",
      "\n",
      "Epoch 59\n",
      "Loss : 0.046075169519801944\n",
      "LR : 0.0066434294\n",
      "\n",
      "Epoch 60\n",
      "Loss : 0.04557451322166871\n",
      "LR : 0.006597539\n",
      "\n",
      "Epoch 61\n",
      "Loss : 0.0457931735421589\n",
      "LR : 0.0065519665\n",
      "\n",
      "Epoch 62\n",
      "Loss : 0.04634678558882629\n",
      "LR : 0.0065067094\n",
      "\n",
      "Epoch 63\n",
      "Loss : 0.046819894325719716\n",
      "LR : 0.0064617638\n",
      "\n",
      "Epoch 64\n",
      "Loss : 0.04692185204324135\n",
      "LR : 0.0064171297\n",
      "\n",
      "Epoch 65\n",
      "Loss : 0.04656629913806301\n",
      "LR : 0.0063728034\n",
      "\n",
      "Epoch 66\n",
      "Loss : 0.04586094129918491\n",
      "LR : 0.006328783\n",
      "\n",
      "Epoch 67\n",
      "Loss : 0.04502918681334527\n",
      "LR : 0.0062850663\n",
      "\n",
      "Epoch 68\n",
      "Loss : 0.04430519256901051\n",
      "LR : 0.0062416526\n",
      "\n",
      "Epoch 69\n",
      "Loss : 0.04384522940807854\n",
      "LR : 0.0061985385\n",
      "\n",
      "Epoch 70\n",
      "Loss : 0.043684275859336735\n",
      "LR : 0.006155722\n",
      "\n",
      "Epoch 71\n",
      "Loss : 0.04374510385975208\n",
      "LR : 0.0061132014\n",
      "\n",
      "Epoch 72\n",
      "Loss : 0.04388677716639708\n",
      "LR : 0.0060709743\n",
      "\n",
      "Epoch 73\n",
      "Loss : 0.04396750709076526\n",
      "LR : 0.0060290387\n",
      "\n",
      "Epoch 74\n",
      "Loss : 0.043896147394774494\n",
      "LR : 0.005987393\n",
      "\n",
      "Epoch 75\n",
      "Loss : 0.043655558533271854\n",
      "LR : 0.005946035\n",
      "\n",
      "Epoch 76\n",
      "Loss : 0.04329458144393705\n",
      "LR : 0.0059049637\n",
      "\n",
      "Epoch 77\n",
      "Loss : 0.042897540540394144\n",
      "LR : 0.005864175\n",
      "\n",
      "Epoch 78\n",
      "Loss : 0.0425467439049915\n",
      "LR : 0.005823668\n",
      "\n",
      "Epoch 79\n",
      "Loss : 0.042293019707434695\n",
      "LR : 0.005783441\n",
      "\n",
      "Epoch 80\n",
      "Loss : 0.04214344957512194\n",
      "LR : 0.0057434915\n",
      "\n",
      "Epoch 81\n",
      "Loss : 0.04206738714118725\n",
      "LR : 0.0057038185\n",
      "\n",
      "Epoch 82\n",
      "Loss : 0.04201498169175826\n",
      "LR : 0.0056644194\n",
      "\n",
      "Epoch 83\n",
      "Loss : 0.04193903354139038\n",
      "LR : 0.0056252927\n",
      "\n",
      "Epoch 84\n",
      "Loss : 0.04181161821784595\n",
      "LR : 0.0055864356\n",
      "\n",
      "Epoch 85\n",
      "Loss : 0.04163049728742737\n",
      "LR : 0.005547847\n",
      "\n",
      "Epoch 86\n",
      "Loss : 0.041414994050839114\n",
      "LR : 0.0055095255\n",
      "\n",
      "Epoch 87\n",
      "Loss : 0.04119486501072396\n",
      "LR : 0.0054714684\n",
      "\n",
      "Epoch 88\n",
      "Loss : 0.04099752973574782\n",
      "LR : 0.0054336744\n",
      "\n",
      "Epoch 89\n",
      "Loss : 0.040838575856094\n",
      "LR : 0.005396141\n",
      "\n",
      "Epoch 90\n",
      "Loss : 0.0407183329333589\n",
      "LR : 0.0053588673\n",
      "\n",
      "Epoch 91\n",
      "Loss : 0.04062458799917255\n",
      "LR : 0.0053218505\n",
      "\n",
      "Epoch 92\n",
      "Loss : 0.04053928644043735\n",
      "LR : 0.0052850903\n",
      "\n",
      "Epoch 93\n",
      "Loss : 0.04044603690772863\n",
      "LR : 0.0052485834\n",
      "\n",
      "Epoch 94\n",
      "Loss : 0.04033556148743158\n",
      "LR : 0.005212329\n",
      "\n",
      "Epoch 95\n",
      "Loss : 0.0402075295812417\n",
      "LR : 0.005176325\n",
      "\n",
      "Epoch 96\n",
      "Loss : 0.0400688250865243\n",
      "LR : 0.005140569\n",
      "\n",
      "Epoch 97\n",
      "Loss : 0.039929574281213874\n",
      "LR : 0.00510506\n",
      "\n",
      "Epoch 98\n",
      "Loss : 0.039798805775728543\n",
      "LR : 0.005069797\n",
      "\n",
      "Epoch 99\n",
      "Loss : 0.03968137327702261\n",
      "LR : 0.0050347773\n",
      "\n",
      "Epoch 100\n",
      "Loss : 0.03957699181534465\n",
      "LR : 0.005\n",
      "\n",
      "CPU times: user 1min 25s, sys: 1.36 s, total: 1min 27s\n",
      "Wall time: 1min 24s\n"
     ]
    }
   ],
   "source": [
    "%%time\n",
    "\n",
    "with tf.device(device):\n",
    "  model = LotkaVolteraTrainable(a, b, c, d)\n",
    "\n",
    "  learning_rate = tf.keras.optimizers.schedules.ExponentialDecay(\n",
    "    initial_learning_rate, decay_steps, decay_rate, staircase=False,\n",
    "  )\n",
    "\n",
    "  optimizer = tf.keras.optimizers.Adam(learning_rate)\n",
    "\n",
    "  print(\"Computing ground truth...\")\n",
    "  y_real = odeint(LotkaVoltera(a, b, c, d), initial_states_train, t_train)\n",
    "\n",
    "  print(\"Ground truth shape :\", y_real.shape)\n",
    "\n",
    "  for epoch in range(epochs):\n",
    "    print(f\"Epoch {epoch + 1}\")\n",
    "\n",
    "    with tf.GradientTape() as tape:\n",
    "      preds = odeint(model, initial_states_train, t_train)\n",
    "      loss = tf.reduce_mean(tf.square(y_real - preds), axis=1)\n",
    "\n",
    "    grads = tape.gradient(loss, model.trainable_variables)\n",
    "    optimizer.apply_gradients(zip(grads, model.trainable_variables))\n",
    "\n",
    "    print(\"Loss :\", loss.numpy().mean())\n",
    "    print(\"LR :\", learning_rate(optimizer.iterations).numpy())\n",
    "    print()"
   ]
  },
  {
   "cell_type": "code",
   "execution_count": null,
   "metadata": {
    "colab": {},
    "colab_type": "code",
    "id": "WLUK0cMat9fv"
   },
   "outputs": [],
   "source": [
    "model.save_weights('model_weights/ckpt', save_format='tf')"
   ]
  },
  {
   "cell_type": "code",
   "execution_count": null,
   "metadata": {
    "colab": {
     "base_uri": "https://localhost:8080/",
     "height": 34
    },
    "colab_type": "code",
    "id": "nL0hVP91vsSE",
    "outputId": "a63c7586-9687-443d-c76a-19c66dbb5f05"
   },
   "outputs": [
    {
     "data": {
      "text/plain": [
       "<tensorflow.python.training.tracking.util.CheckpointLoadStatus at 0x7faf3fc51a90>"
      ]
     },
     "execution_count": 22,
     "metadata": {
      "tags": []
     },
     "output_type": "execute_result"
    }
   ],
   "source": [
    "model.load_weights('model_weights/ckpt')"
   ]
  },
  {
   "cell_type": "markdown",
   "metadata": {
    "colab_type": "text",
    "id": "u3ZO0Qgut4cu"
   },
   "source": [
    "## Finetune the model with BFGS"
   ]
  },
  {
   "cell_type": "code",
   "execution_count": null,
   "metadata": {
    "colab": {},
    "colab_type": "code",
    "id": "SdgoZlE9t3zn"
   },
   "outputs": [],
   "source": [
    "#from tfdiffeq.bfgs_optimizer import BFGSOptimizer"
   ]
  },
  {
   "cell_type": "code",
   "execution_count": null,
   "metadata": {
    "colab": {},
    "colab_type": "code",
    "id": "i3MSoP2Xt34c"
   },
   "outputs": [],
   "source": [
    "tolerance = 1e-6\n",
    "bfgs_optimizer = BFGSOptimizer(max_iterations=50, tolerance=tolerance)"
   ]
  },
  {
   "cell_type": "markdown",
   "metadata": {
    "colab_type": "text",
    "id": "S3BYQj7ouXsp"
   },
   "source": [
    "### Create a wrapper function for the BFGS optimizer \n",
    "\n",
    "BFGS optimizer is somewhat different than SGD or ADAM from Tensorflow. It requires a callable function `loss_func`, which accepts the `model` as input and returns a single float value `loss_value`.\n",
    "\n",
    "```python\n",
    "loss_value = loss_func(model)\n",
    "```\n",
    "\n",
    "The model is generally a `tf.keras.Model` or its subclasses, and we can use external data as inputs if required to obtain a loss value as shown below."
   ]
  },
  {
   "cell_type": "code",
   "execution_count": null,
   "metadata": {
    "colab": {},
    "colab_type": "code",
    "id": "95K2-Z5YuE2-"
   },
   "outputs": [],
   "source": [
    "from tfdiffeq.adjoint import odeint as adjoint_odeint\n",
    "\n",
    "def loss_wrapper(model):\n",
    "  # Can use `adjoing_odeint` here as replacement for `adjoint_odeint`\n",
    "  preds = odeint(model, initial_states_train, t_train, atol=1e-6, rtol=1e-6)\n",
    "  loss = tf.reduce_mean(tf.square(y_real - preds))\n",
    "  return loss"
   ]
  },
  {
   "cell_type": "code",
   "execution_count": null,
   "metadata": {
    "colab": {
     "base_uri": "https://localhost:8080/",
     "height": 1000
    },
    "colab_type": "code",
    "id": "I2_0WaHnuE5O",
    "outputId": "56645b44-fe91-4386-a8f8-e55197e5fe3d"
   },
   "outputs": [
    {
     "name": "stdout",
     "output_type": "stream",
     "text": [
      "Iter: 1 loss: 0.039481248791246384\n",
      "Iter: 2 loss: 0.051695258339139773\n",
      "Iter: 3 loss: 0.039405697826756556\n",
      "Iter: 4 loss: 0.036932669574323611\n",
      "Iter: 5 loss: 0.03693246617957021\n",
      "Iter: 6 loss: 0.032721308478080011\n",
      "Iter: 7 loss: 0.12849677951572636\n",
      "Iter: 8 loss: 0.032710894403882085\n",
      "Iter: 9 loss: 0.028109023482855659\n",
      "Iter: 10 loss: 0.10942248624519466\n",
      "Iter: 11 loss: 0.027947713906822647\n",
      "Iter: 12 loss: 0.022760031613739247\n",
      "Iter: 13 loss: 0.022310210925035882\n",
      "Iter: 14 loss: 0.13453256532172078\n",
      "Iter: 15 loss: 0.02098480309951305\n",
      "Iter: 16 loss: 0.10768476371226245\n",
      "Iter: 17 loss: 0.019670434120606931\n",
      "Iter: 18 loss: 0.019604602319421072\n",
      "Iter: 19 loss: 0.017209835998101872\n",
      "Iter: 20 loss: 0.017336452795288126\n",
      "Iter: 21 loss: 0.016502087355170926\n",
      "Iter: 22 loss: 0.01642444180611858\n",
      "Iter: 23 loss: 0.015946337561465355\n",
      "Iter: 24 loss: 0.015517133984830296\n",
      "Iter: 25 loss: 0.0292447337878854\n",
      "Iter: 26 loss: 0.015517220518829275\n",
      "Iter: 27 loss: 0.014975077122542622\n",
      "Iter: 28 loss: 0.014953263723425753\n",
      "Iter: 29 loss: 0.014444956199465831\n",
      "Iter: 30 loss: 0.014849822372674026\n",
      "Iter: 31 loss: 0.01460626666165498\n",
      "Iter: 32 loss: 0.014492807456553548\n",
      "Iter: 33 loss: 0.013573929210598855\n",
      "Iter: 34 loss: 0.018375583124946412\n",
      "Iter: 35 loss: 0.0131750796257688\n",
      "Iter: 36 loss: 10.377818763814812\n",
      "Iter: 37 loss: 0.013051718228496711\n",
      "Iter: 38 loss: 2.366709739495493\n",
      "Iter: 39 loss: 0.01293729054287115\n",
      "Iter: 40 loss: 0.011940907129271868\n",
      "Iter: 41 loss: 0.91831326167674565\n",
      "Iter: 42 loss: 0.011798655728742634\n",
      "Iter: 43 loss: 0.010965717338010311\n",
      "Iter: 44 loss: 0.00865518341505556\n",
      "Iter: 45 loss: 0.034767821379139766\n",
      "Iter: 46 loss: 0.00821664738798297\n",
      "Iter: 47 loss: 0.0052067579318358093\n",
      "Iter: 48 loss: 0.038165560744919932\n",
      "Iter: 49 loss: 0.0047174660793660207\n",
      "Iter: 50 loss: 0.054859239756660488\n",
      "Iter: 51 loss: 0.0043955201757831354\n",
      "Iter: 52 loss: 0.01372873746379628\n",
      "Iter: 53 loss: 0.0033361218463442074\n",
      "Iter: 54 loss: 0.0031876747697135764\n",
      "Iter: 55 loss: 0.0031588000394061886\n",
      "Iter: 56 loss: 0.0027076937171194955\n",
      "Iter: 57 loss: 0.0024485426709948835\n",
      "Iter: 58 loss: 0.0024481284108599857\n",
      "Iter: 59 loss: 0.0023671976350147458\n",
      "Iter: 60 loss: 0.0030894779455342327\n",
      "Iter: 61 loss: 0.00236167142915782\n",
      "Iter: 62 loss: 0.00214024282953036\n",
      "Iter: 63 loss: 0.005799082501661796\n",
      "Iter: 64 loss: 0.0021342912350804486\n",
      "Iter: 65 loss: 0.00177401837007908\n",
      "Iter: 66 loss: 0.0043049074483990542\n",
      "Iter: 67 loss: 0.001704147005828026\n",
      "Iter: 68 loss: 0.00143585923367079\n",
      "Iter: 69 loss: 0.0014883780430439615\n",
      "Iter: 70 loss: 0.0012511451364187358\n",
      "Iter: 71 loss: 0.0011210603611915555\n",
      "Iter: 72 loss: 0.0011013737042299451\n",
      "Iter: 73 loss: 0.00078024716637918319\n",
      "Iter: 74 loss: 0.00073471905835300623\n",
      "Iter: 75 loss: 0.00046046010111523613\n",
      "Iter: 76 loss: 0.00045766563011780006\n",
      "Iter: 77 loss: 0.0004744192818411077\n",
      "Iter: 78 loss: 0.00038518889993689796\n",
      "Iter: 79 loss: 0.00033702559635448\n",
      "Iter: 80 loss: 0.00033639096271776103\n",
      "Iter: 81 loss: 0.0003170753399020091\n",
      "Iter: 82 loss: 0.00060050729207770817\n",
      "Iter: 83 loss: 0.00031695939080038138\n",
      "Iter: 84 loss: 0.00029206994557285244\n",
      "Iter: 85 loss: 0.00023337642577741832\n",
      "Iter: 86 loss: 0.00880330044567959\n",
      "Iter: 87 loss: 0.0002330956962668374\n",
      "Iter: 88 loss: 0.00019038293925838532\n",
      "Iter: 89 loss: 0.00019020826119855417\n",
      "Iter: 90 loss: 0.00017722468069350405\n",
      "Iter: 91 loss: 0.0001588080561947275\n",
      "Iter: 92 loss: 0.00014283195255712649\n",
      "Iter: 93 loss: 0.0013566512083903503\n",
      "Iter: 94 loss: 0.00014283028248899364\n",
      "Iter: 95 loss: 0.00013292757072807911\n",
      "Iter: 96 loss: 0.0001390580620522779\n",
      "Iter: 97 loss: 0.00012746945488945131\n",
      "Iter: 98 loss: 0.00012116373764180723\n",
      "Iter: 99 loss: 0.00018855610220379105\n",
      "Iter: 100 loss: 0.00012051956674635071\n",
      "Iter: 101 loss: 0.00012219189356908706\n",
      "Iter: 102 loss: 0.00011814429593878605\n",
      "Iter: 103 loss: 0.00011575760168162878\n",
      "Iter: 104 loss: 0.00020529200170727602\n",
      "Iter: 105 loss: 0.00011575306711791263\n",
      "Iter: 106 loss: 0.0001137699310820608\n",
      "Iter: 107 loss: 0.00012829103734003273\n",
      "Iter: 108 loss: 0.00011339928648067228\n",
      "Iter: 109 loss: 0.0001110523983478539\n",
      "Iter: 110 loss: 0.00012555345232136174\n",
      "Iter: 111 loss: 0.00011091970543084597\n",
      "Iter: 112 loss: 0.00010883194510822492\n",
      "Iter: 113 loss: 0.00017570847023592732\n",
      "Iter: 114 loss: 0.00010878054032461015\n",
      "Iter: 115 loss: 0.00010588648169908185\n",
      "Iter: 116 loss: 0.00011268147321529368\n",
      "Iter: 117 loss: 0.00010438042345419833\n",
      "Iter: 118 loss: 9.534883647733386e-05\n",
      "Iter: 119 loss: 0.00013536364004710589\n",
      "Iter: 120 loss: 9.2969037691721486e-05\n",
      "Iter: 121 loss: 8.25821551214464e-05\n",
      "Iter: 122 loss: 8.25547810256985e-05\n",
      "Iter: 123 loss: 5.5635304623883645e-05\n",
      "Iter: 124 loss: 0.0013663919739215558\n",
      "Iter: 125 loss: 5.5114695169993816e-05\n",
      "Iter: 126 loss: 3.9763694323749027e-05\n",
      "Iter: 127 loss: 3.9756953464218755e-05\n",
      "Iter: 128 loss: 0.00010584370349882019\n",
      "Iter: 129 loss: 3.1046270006529946e-05\n",
      "Iter: 130 loss: 0.00020929269261765965\n",
      "Iter: 131 loss: 2.5409682394881497e-05\n",
      "Iter: 132 loss: 2.7969614017134103e-05\n",
      "Iter: 133 loss: 1.7448273600293744e-05\n",
      "BFGS complete, and parameters updated !\n",
      "CPU times: user 1min 41s, sys: 2.02 s, total: 1min 43s\n",
      "Wall time: 1min 33s\n"
     ]
    }
   ],
   "source": [
    "%%time\n",
    "\n",
    "model = bfgs_optimizer.minimize(loss_wrapper, model)"
   ]
  },
  {
   "cell_type": "markdown",
   "metadata": {
    "colab_type": "text",
    "id": "Fi3nrE1bOiEx"
   },
   "source": [
    "# Save your weights and download them !"
   ]
  },
  {
   "cell_type": "code",
   "execution_count": null,
   "metadata": {
    "colab": {},
    "colab_type": "code",
    "id": "Eu2-OtuGEy1w"
   },
   "outputs": [],
   "source": [
    "model.save_weights('model_weights/ckpt', save_format='tf')"
   ]
  },
  {
   "cell_type": "markdown",
   "metadata": {
    "colab_type": "text",
    "id": "MouCNTbKOmPe"
   },
   "source": [
    "# Load a new model and load these weights (if you didnt train above)"
   ]
  },
  {
   "cell_type": "code",
   "execution_count": null,
   "metadata": {
    "colab": {},
    "colab_type": "code",
    "id": "2QvMCjNKT421"
   },
   "outputs": [],
   "source": [
    "import os\n",
    "import requests\n",
    "\n",
    "def get_checkpoints():\n",
    "  if not os.path.exists('model_weights'):\n",
    "      os.makedirs('model_weights')\n",
    "\n",
    "  r = requests.get('https://github.com/titu1994/tfdiffeq/releases/download/v0.0.1-pre0/checkpoint')\n",
    "  with open('./model_weights/checkpoint', 'wb') as f:\n",
    "    f.write(r.content)\n",
    "\n",
    "  r = requests.get('https://github.com/titu1994/tfdiffeq/releases/download/v0.0.1-pre0/ckpt.data-00000-of-00001')\n",
    "  with open('./model_weights/ckpt.data-00000-of-00001', 'wb') as f:\n",
    "    f.write(r.content)\n",
    "\n",
    "  r = requests.get('https://github.com/titu1994/tfdiffeq/releases/download/v0.0.1-pre0/ckpt.index')\n",
    "  with open('./model_weights/ckpt.index', 'wb') as f:\n",
    "    f.write(r.content)\n",
    "  \n",
    "  print(\"Pretrained checkpoints retrieved !\")"
   ]
  },
  {
   "cell_type": "code",
   "execution_count": null,
   "metadata": {
    "colab": {
     "base_uri": "https://localhost:8080/",
     "height": 34
    },
    "colab_type": "code",
    "id": "29RtKGxoV01d",
    "outputId": "93b1268c-3fcb-4f2c-a257-79ed31414cde"
   },
   "outputs": [
    {
     "name": "stdout",
     "output_type": "stream",
     "text": [
      "Pretrained checkpoints retrieved !\n"
     ]
    }
   ],
   "source": [
    "get_checkpoints()"
   ]
  },
  {
   "cell_type": "code",
   "execution_count": null,
   "metadata": {
    "colab": {
     "base_uri": "https://localhost:8080/",
     "height": 34
    },
    "colab_type": "code",
    "id": "D-_0raHnGdzd",
    "outputId": "99ac0e2f-1775-4ba0-fb3c-d6a7730e09ce"
   },
   "outputs": [
    {
     "data": {
      "text/plain": [
       "<tensorflow.python.training.tracking.util.CheckpointLoadStatus at 0x7faf3ce3edd8>"
      ]
     },
     "execution_count": 30,
     "metadata": {
      "tags": []
     },
     "output_type": "execute_result"
    }
   ],
   "source": [
    "model = LotkaVolteraTrainable(a, b, c, d)\n",
    "model.load_weights('model_weights/ckpt')"
   ]
  },
  {
   "cell_type": "markdown",
   "metadata": {
    "colab_type": "text",
    "id": "XtpdC7y4PZKF"
   },
   "source": [
    "# Lets interpolate with our approximate universal ODE !\n",
    "\n",
    "With a trained Neural ODE that appxoximates the Lotka Voltera system with just 30 samples, lets interpolate within the same timeframe to get a fine solution to the coarse approximate."
   ]
  },
  {
   "cell_type": "code",
   "execution_count": null,
   "metadata": {
    "colab": {
     "base_uri": "https://localhost:8080/",
     "height": 52
    },
    "colab_type": "code",
    "id": "OsA1wxZIpLXf",
    "outputId": "7ce46e1d-a60f-46b8-f579-962b217ec535"
   },
   "outputs": [
    {
     "name": "stdout",
     "output_type": "stream",
     "text": [
      "CPU times: user 1.97 s, sys: 22.1 ms, total: 1.99 s\n",
      "Wall time: 1.97 s\n"
     ]
    }
   ],
   "source": [
    "%%time\n",
    "\n",
    "t_eval = tf.linspace(0., 2, num=1000)  # Re-evaluate for just 2 seconds of input, but 1000 timesteps\n",
    "\n",
    "with tf.device(device):\n",
    "    model_results = odeint(model, initial_states, t_eval)\n",
    "    real_results = odeint(LotkaVoltera(a, b, c, d), initial_states, t_eval)"
   ]
  },
  {
   "cell_type": "markdown",
   "metadata": {
    "colab_type": "text",
    "id": "fS5zRscsP66o"
   },
   "source": [
    "# Plot the ODE approximation !"
   ]
  },
  {
   "cell_type": "code",
   "execution_count": null,
   "metadata": {
    "colab": {
     "base_uri": "https://localhost:8080/",
     "height": 288
    },
    "colab_type": "code",
    "id": "Q2xw2uOmzkOF",
    "outputId": "0e3b9a13-2d30-4d15-94ad-4e6d4664a5b8"
   },
   "outputs": [
    {
     "data": {
      "image/png": "[encoded data removed]",
      "text/plain": [
       "<Figure size 460.8x316.8 with 1 Axes>"
      ]
     },
     "metadata": {
      "needs_background": "light",
      "tags": []
     },
     "output_type": "display_data"
    }
   ],
   "source": [
    "plot_results(t_eval, real_results, labels=['Rabbit_real', 'Fox_real'])\n",
    "plot_results(t_eval, model_results, labels=['Rabbit_model', 'Fox_model'])"
   ]
  },
  {
   "cell_type": "markdown",
   "metadata": {
    "colab_type": "text",
    "id": "UrkHnUmRQBSL"
   },
   "source": [
    "# Lets try and obtain the underlying equations of this system"
   ]
  },
  {
   "cell_type": "code",
   "execution_count": null,
   "metadata": {
    "colab": {},
    "colab_type": "code",
    "id": "M_erg_eulXfA"
   },
   "outputs": [],
   "source": [
    "real_results_np = real_results.numpy()\n",
    "model_preds_np = model_results.numpy()\n",
    "t_eval_np = t_eval.numpy()"
   ]
  },
  {
   "cell_type": "code",
   "execution_count": null,
   "metadata": {
    "colab": {},
    "colab_type": "code",
    "id": "1tr1mHnPljab"
   },
   "outputs": [],
   "source": [
    "from pysindy import SINDy\n",
    "from pysindy import SR3\n",
    "from pysindy.feature_library.polynomial_library import PolynomialLibrary\n",
    "\n",
    "# Import this optimizer for Ridge regression !\n",
    "from tfdiffeq.sindy_utils import STRRidge"
   ]
  },
  {
   "cell_type": "markdown",
   "metadata": {
    "colab_type": "text",
    "id": "UhoOsm-aQarS"
   },
   "source": [
    "# Optimize hyper parameters of SRTRidge and the Polynomial Library"
   ]
  },
  {
   "cell_type": "code",
   "execution_count": null,
   "metadata": {
    "colab": {},
    "colab_type": "code",
    "id": "9-e5B3mPTxN4"
   },
   "outputs": [],
   "source": [
    "# sindy_optm = SRTRidge(threshold=0.5, alpha=1.0)\n",
    "sindy_optm = SR3(threshold=0.1, nu=1.0, max_iter=100)\n",
    "sindy_library = PolynomialLibrary(degree=10, include_interaction=True,  interaction_only=True)"
   ]
  },
  {
   "cell_type": "markdown",
   "metadata": {
    "colab_type": "text",
    "id": "oZQeATEAQjEW"
   },
   "source": [
    "# Lets fit the SInDy model !\n",
    "\n",
    "SInDy is short for \"Sparse Identification of Non-linear Dynamical Systems\" from the paper [Discovering governing equations from data by sparse identification of nonlinear dynamical systems](https://www.pnas.org/content/113/15/3932)"
   ]
  },
  {
   "cell_type": "code",
   "execution_count": null,
   "metadata": {
    "colab": {
     "base_uri": "https://localhost:8080/"
    },
    "colab_type": "code",
    "id": "1AaQQNHYRjW8",
    "outputId": "73f44c73-f190-403f-e18f-51cbaad33359"
   },
   "outputs": [
    {
     "data": {
      "text/plain": [
       "SINDy(differentiation_method=FiniteDifference(),\n",
       "      feature_library=PolynomialLibrary(degree=10, interaction_only=True),\n",
       "      feature_names=['x0', 'x1'], optimizer=SR3(max_iter=100))"
      ]
     },
     "execution_count": 36,
     "metadata": {
      "tags": []
     },
     "output_type": "execute_result"
    }
   ],
   "source": [
    "sindy_model = SINDy(optimizer=sindy_optm, feature_library=sindy_library, discrete_time=False)\n",
    "sindy_model.fit(model_preds_np, t_eval_np)"
   ]
  },
  {
   "cell_type": "markdown",
   "metadata": {
    "colab_type": "text",
    "id": "Ha5dtT5ARD2X"
   },
   "source": [
    "# Lets compare with the original equations\n",
    "\n",
    ">$\\frac{\\partial R}{\\partial T} = aR - bRF \\\\ \\frac{\\partial F}{\\partial T} = -cF + dRF$\n",
    "\n",
    "Recall, $a=1.5$, $b=1$, $c=3.0$, $d=1$\n",
    "\n",
    "We substitute $bRF$ with $U_1(R, F)$ in $\\frac{\\partial R}{\\partial T}$.\n",
    "\n",
    "We substitute $bRF$ with $U_2(R, F)$ in $\\frac{\\partial F}{\\partial T}$.\n",
    "\n",
    "--------\n",
    "\n",
    "We compare the above two equations with the one printed below.\n",
    "\n",
    "We get $a'=1.498$ which is quite close to $a=1.5$, $c'=2.993$, close to the original $c=3.0$.\n",
    "\n",
    "The equation below approximates $b'=0.997$, close to the $b=1$ we expect. $d'=0.999$ is a closer approximate to our original $d=1$.\n",
    "\n"
   ]
  },
  {
   "cell_type": "code",
   "execution_count": null,
   "metadata": {
    "colab": {
     "base_uri": "https://localhost:8080/"
    },
    "colab_type": "code",
    "id": "2cynYciQSHAu",
    "outputId": "bdc9a80f-7dd5-4564-b035-22d5fcbe522e"
   },
   "outputs": [
    {
     "name": "stdout",
     "output_type": "stream",
     "text": [
      "x0' = 1.498 x0 + -0.997 x0 x1\n",
      "x1' = -2.993 x1 + 0.999 x0 x1\n"
     ]
    }
   ],
   "source": [
    "sindy_model.print()"
   ]
  },
  {
   "cell_type": "code",
   "execution_count": null,
   "metadata": {
    "colab": {
     "base_uri": "https://localhost:8080/"
    },
    "colab_type": "code",
    "id": "_QJOTM3ESBWf",
    "outputId": "73dd7080-59ff-493c-ac96-e5dfac0a55c0"
   },
   "outputs": [
    {
     "data": {
      "text/plain": [
       "array([[ 0.        ,  1.49801949,  0.        , -0.99657202],\n",
       "       [ 0.        ,  0.        , -2.99258126,  0.99857371]])"
      ]
     },
     "execution_count": 38,
     "metadata": {
      "tags": []
     },
     "output_type": "execute_result"
    }
   ],
   "source": [
    "sindy_model.coefficients()"
   ]
  },
  {
   "cell_type": "code",
   "execution_count": null,
   "metadata": {
    "colab": {
     "base_uri": "https://localhost:8080/"
    },
    "colab_type": "code",
    "id": "hImAMyPXSIMV",
    "outputId": "acabc269-6c84-4625-aff3-886a75036b97"
   },
   "outputs": [
    {
     "data": {
      "text/plain": [
       "['1.498 x0 + -0.997 x0 x1', '-2.993 x1 + 0.999 x0 x1']"
      ]
     },
     "execution_count": 39,
     "metadata": {
      "tags": []
     },
     "output_type": "execute_result"
    }
   ],
   "source": [
    "sindy_model.equations()"
   ]
  },
  {
   "cell_type": "markdown",
   "metadata": {
    "colab_type": "text",
    "id": "ZPgviQUyTNpp"
   },
   "source": [
    "# Compute the $R^2$ score "
   ]
  },
  {
   "cell_type": "code",
   "execution_count": null,
   "metadata": {
    "colab": {
     "base_uri": "https://localhost:8080/"
    },
    "colab_type": "code",
    "id": "I2nPkj4eTDX9",
    "outputId": "d0a4d396-1c86-4524-e201-dfcd53e56631"
   },
   "outputs": [
    {
     "data": {
      "text/plain": [
       "0.9999293714444477"
      ]
     },
     "execution_count": 40,
     "metadata": {
      "tags": []
     },
     "output_type": "execute_result"
    }
   ],
   "source": [
    "sindy_model.score(model_preds_np, t_eval_np)"
   ]
  },
  {
   "cell_type": "markdown",
   "metadata": {
    "colab_type": "text",
    "id": "agq0PpESS_Za"
   },
   "source": [
    "# Finding the correct coefficients for the model\n",
    "\n",
    "We have the ode framework components which correspond to the neural network modules, but we cant be sure that the parameters found are correctly found by SInDy.\n",
    "\n",
    "We can refit the model (but now replacing correct components and removing the corresponding neural network component), and try to estimate the parameters from the train set."
   ]
  },
  {
   "cell_type": "code",
   "execution_count": null,
   "metadata": {
    "colab": {},
    "colab_type": "code",
    "id": "40AKkEXiiQqR"
   },
   "outputs": [],
   "source": [
    "device = 'cpu:0' "
   ]
  },
  {
   "cell_type": "code",
   "execution_count": 63,
   "metadata": {
    "colab": {},
    "colab_type": "code",
    "id": "GSNxY1f6Tone"
   },
   "outputs": [],
   "source": [
    "class LotkaVolteraParameters(tf.keras.Model):\n",
    "  \n",
    "  def __init__(self, **kwargs):\n",
    "    super().__init__(**kwargs)\n",
    "    \n",
    "    # Can also initialize with the values found above for much faster convergence !\n",
    "    # self.parameters = tf.Variable([1.498, 0.997, 2.993, 0.999], dtype=tf.float64)\n",
    "    # Next values are for Lynx and Hare\n",
    "    self.parameters = tf.Variable([0.5, 0.02, 0.8, 0.02], dtype=tf.float64)\n",
    "#    self.parameters = tf.Variable(tf.random.uniform(shape=[4], dtype=tf.float64))\n",
    "  \n",
    "  @tf.function\n",
    "  def call(self, t, y):\n",
    "    # y = [R, F]\n",
    "    r, f = tf.unstack(y)\n",
    "\n",
    "    # Apply abs, because we want to ensure these parameters are > 0\n",
    "    params = tf.math.abs(self.parameters)\n",
    "    a, b, c, d = tf.unstack(params)\n",
    "    \n",
    "    dR_dT = a * r - b * r * f\n",
    "    dF_dT = -c * f + d * r * f\n",
    "    \n",
    "    return tf.stack([dR_dT, dF_dT])"
   ]
  },
  {
   "cell_type": "code",
   "execution_count": 65,
   "metadata": {
    "colab": {
     "base_uri": "https://localhost:8080/",
     "height": 34
    },
    "colab_type": "code",
    "id": "XvErCh7lhG_H",
    "outputId": "62aab0a4-15a1-4e0c-f387-a08e608ec5e4"
   },
   "outputs": [
    {
     "data": {
      "text/plain": [
       "21"
      ]
     },
     "execution_count": 65,
     "metadata": {
      "tags": []
     },
     "output_type": "execute_result"
    }
   ],
   "source": [
    "#data=pd.read_csv(\"hudson-bay-lynx-hare.csv\",header=1, delim_whitespace=True)\n",
    "data=pd.read_csv(\"hudson-bay-lynx-hare.csv\")\n",
    "yobs=data[[\"Lynx\",\"Hare\"]]\n",
    "y_obs_tmp=yobs.to_numpy()\n",
    "y_obs=tf.convert_to_tensor(y_obs_tmp,dtype='float64')\n",
    "len(y_obs[:,0])"
   ]
  },
  {
   "cell_type": "code",
   "execution_count": 42,
   "metadata": {
    "colab": {
     "base_uri": "https://localhost:8080/",
     "height": 669
    },
    "colab_type": "code",
    "id": "ypWeEEBaiWWY",
    "outputId": "b7ecd8c1-efa6-4621-ece7-ab09c3ea07a7"
   },
   "outputs": [
    {
     "data": {
      "text/html": [
       "<div>\n",
       "<style scoped>\n",
       "    .dataframe tbody tr th:only-of-type {\n",
       "        vertical-align: middle;\n",
       "    }\n",
       "\n",
       "    .dataframe tbody tr th {\n",
       "        vertical-align: top;\n",
       "    }\n",
       "\n",
       "    .dataframe thead th {\n",
       "        text-align: right;\n",
       "    }\n",
       "</style>\n",
       "<table border=\"1\" class=\"dataframe\">\n",
       "  <thead>\n",
       "    <tr style=\"text-align: right;\">\n",
       "      <th></th>\n",
       "      <th>Year</th>\n",
       "      <th>Lynx</th>\n",
       "      <th>Hare</th>\n",
       "    </tr>\n",
       "  </thead>\n",
       "  <tbody>\n",
       "    <tr>\n",
       "      <th>0</th>\n",
       "      <td>1900</td>\n",
       "      <td>4.0</td>\n",
       "      <td>30.0</td>\n",
       "    </tr>\n",
       "    <tr>\n",
       "      <th>1</th>\n",
       "      <td>1901</td>\n",
       "      <td>6.1</td>\n",
       "      <td>47.2</td>\n",
       "    </tr>\n",
       "    <tr>\n",
       "      <th>2</th>\n",
       "      <td>1902</td>\n",
       "      <td>9.8</td>\n",
       "      <td>70.2</td>\n",
       "    </tr>\n",
       "    <tr>\n",
       "      <th>3</th>\n",
       "      <td>1903</td>\n",
       "      <td>35.2</td>\n",
       "      <td>77.4</td>\n",
       "    </tr>\n",
       "    <tr>\n",
       "      <th>4</th>\n",
       "      <td>1904</td>\n",
       "      <td>59.4</td>\n",
       "      <td>36.3</td>\n",
       "    </tr>\n",
       "    <tr>\n",
       "      <th>5</th>\n",
       "      <td>1905</td>\n",
       "      <td>41.7</td>\n",
       "      <td>20.6</td>\n",
       "    </tr>\n",
       "    <tr>\n",
       "      <th>6</th>\n",
       "      <td>1906</td>\n",
       "      <td>19.0</td>\n",
       "      <td>18.1</td>\n",
       "    </tr>\n",
       "    <tr>\n",
       "      <th>7</th>\n",
       "      <td>1907</td>\n",
       "      <td>13.0</td>\n",
       "      <td>21.4</td>\n",
       "    </tr>\n",
       "    <tr>\n",
       "      <th>8</th>\n",
       "      <td>1908</td>\n",
       "      <td>8.3</td>\n",
       "      <td>22.0</td>\n",
       "    </tr>\n",
       "    <tr>\n",
       "      <th>9</th>\n",
       "      <td>1909</td>\n",
       "      <td>9.1</td>\n",
       "      <td>25.4</td>\n",
       "    </tr>\n",
       "    <tr>\n",
       "      <th>10</th>\n",
       "      <td>1910</td>\n",
       "      <td>7.4</td>\n",
       "      <td>27.1</td>\n",
       "    </tr>\n",
       "    <tr>\n",
       "      <th>11</th>\n",
       "      <td>1911</td>\n",
       "      <td>8.0</td>\n",
       "      <td>40.3</td>\n",
       "    </tr>\n",
       "    <tr>\n",
       "      <th>12</th>\n",
       "      <td>1912</td>\n",
       "      <td>12.3</td>\n",
       "      <td>57.0</td>\n",
       "    </tr>\n",
       "    <tr>\n",
       "      <th>13</th>\n",
       "      <td>1913</td>\n",
       "      <td>19.5</td>\n",
       "      <td>76.6</td>\n",
       "    </tr>\n",
       "    <tr>\n",
       "      <th>14</th>\n",
       "      <td>1914</td>\n",
       "      <td>45.7</td>\n",
       "      <td>52.3</td>\n",
       "    </tr>\n",
       "    <tr>\n",
       "      <th>15</th>\n",
       "      <td>1915</td>\n",
       "      <td>51.1</td>\n",
       "      <td>19.5</td>\n",
       "    </tr>\n",
       "    <tr>\n",
       "      <th>16</th>\n",
       "      <td>1916</td>\n",
       "      <td>29.7</td>\n",
       "      <td>11.2</td>\n",
       "    </tr>\n",
       "    <tr>\n",
       "      <th>17</th>\n",
       "      <td>1917</td>\n",
       "      <td>15.8</td>\n",
       "      <td>7.6</td>\n",
       "    </tr>\n",
       "    <tr>\n",
       "      <th>18</th>\n",
       "      <td>1918</td>\n",
       "      <td>9.7</td>\n",
       "      <td>14.6</td>\n",
       "    </tr>\n",
       "    <tr>\n",
       "      <th>19</th>\n",
       "      <td>1919</td>\n",
       "      <td>10.1</td>\n",
       "      <td>16.2</td>\n",
       "    </tr>\n",
       "    <tr>\n",
       "      <th>20</th>\n",
       "      <td>1920</td>\n",
       "      <td>8.6</td>\n",
       "      <td>24.7</td>\n",
       "    </tr>\n",
       "  </tbody>\n",
       "</table>\n",
       "</div>"
      ],
      "text/plain": [
       "    Year  Lynx  Hare\n",
       "0   1900   4.0  30.0\n",
       "1   1901   6.1  47.2\n",
       "2   1902   9.8  70.2\n",
       "3   1903  35.2  77.4\n",
       "4   1904  59.4  36.3\n",
       "5   1905  41.7  20.6\n",
       "6   1906  19.0  18.1\n",
       "7   1907  13.0  21.4\n",
       "8   1908   8.3  22.0\n",
       "9   1909   9.1  25.4\n",
       "10  1910   7.4  27.1\n",
       "11  1911   8.0  40.3\n",
       "12  1912  12.3  57.0\n",
       "13  1913  19.5  76.6\n",
       "14  1914  45.7  52.3\n",
       "15  1915  51.1  19.5\n",
       "16  1916  29.7  11.2\n",
       "17  1917  15.8   7.6\n",
       "18  1918   9.7  14.6\n",
       "19  1919  10.1  16.2\n",
       "20  1920   8.6  24.7"
      ]
     },
     "execution_count": 42,
     "metadata": {
      "tags": []
     },
     "output_type": "execute_result"
    }
   ],
   "source": [
    "data"
   ]
  },
  {
   "cell_type": "code",
   "execution_count": 66,
   "metadata": {
    "colab": {
     "base_uri": "https://localhost:8080/",
     "height": 324
    },
    "colab_type": "code",
    "id": "wl73lEdsnI6C",
    "outputId": "5edd028b-ceec-4a2b-8d83-8b9435472b07"
   },
   "outputs": [
    {
     "data": {
      "text/plain": [
       "[<matplotlib.lines.Line2D at 0x7f21bb4d2470>,\n",
       " <matplotlib.lines.Line2D at 0x7f21bb4d2588>]"
      ]
     },
     "execution_count": 66,
     "metadata": {
      "tags": []
     },
     "output_type": "execute_result"
    },
    {
     "data": {
      "image/png": "[encoded data removed]",
      "text/plain": [
       "<Figure size 460.8x316.8 with 1 Axes>"
      ]
     },
     "metadata": {
      "needs_background": "light",
      "tags": []
     },
     "output_type": "display_data"
    }
   ],
   "source": [
    "plt.plot(t_train,y_obs[:,0],t_train,y_obs[:,1])"
   ]
  },
  {
   "cell_type": "code",
   "execution_count": null,
   "metadata": {
    "colab": {},
    "colab_type": "code",
    "id": "SBYnIlJvvLCH"
   },
   "outputs": [],
   "source": [
    "t_train = tf.linspace(0., 2., num=30)  # Train for just 2 seconds of input\n",
    "initial_states_train = tf.convert_to_tensor([1, 1], dtype=tf.float64)\n",
    "\n",
    "a = 1.5\n",
    "b = 1\n",
    "c = 3\n",
    "d = 1\n",
    "\n",
    "epochs = 25\n",
    "initial_learning_rate = 0.1\n",
    "decay_steps = 100\n",
    "decay_rate = 0.5"
   ]
  },
  {
   "cell_type": "code",
   "execution_count": 106,
   "metadata": {
    "colab": {
     "base_uri": "https://localhost:8080/",
     "height": 1000
    },
    "colab_type": "code",
    "id": "asxNmXqFWZyn",
    "outputId": "aad16ef4-5ed4-4944-a7ee-09b7588ced94"
   },
   "outputs": [
    {
     "name": "stdout",
     "output_type": "stream",
     "text": [
      "Computing ground truth...\n",
      "Ground truth shape : (21, 2)\n",
      "Epoch 1\n",
      "Loss : 100.32090654602152\n",
      "LR : 0.09930925\n",
      "\n",
      "Epoch 2\n",
      "Loss : 87.63697634003715\n",
      "LR : 0.09862327\n",
      "\n",
      "Epoch 3\n",
      "Loss : 76.43466983327974\n",
      "LR : 0.09794203\n",
      "\n",
      "Epoch 4\n",
      "Loss : 66.72221618788991\n",
      "LR : 0.0972655\n",
      "\n",
      "Epoch 5\n",
      "Loss : 58.357187185181935\n",
      "LR : 0.09659363\n",
      "\n",
      "Epoch 6\n",
      "Loss : 51.16492494485719\n",
      "LR : 0.09592641\n",
      "\n",
      "Epoch 7\n",
      "Loss : 44.977387510234074\n",
      "LR : 0.0952638\n",
      "\n",
      "Epoch 8\n",
      "Loss : 39.64506443618193\n",
      "LR : 0.094605766\n",
      "\n",
      "Epoch 9\n",
      "Loss : 35.039182514183736\n",
      "LR : 0.093952276\n",
      "\n",
      "Epoch 10\n",
      "Loss : 31.050578932236487\n",
      "LR : 0.0933033\n",
      "\n",
      "Epoch 11\n",
      "Loss : 27.587549011169738\n",
      "LR : 0.09265881\n",
      "\n",
      "Epoch 12\n",
      "Loss : 24.572844441909215\n",
      "LR : 0.09201877\n",
      "\n",
      "Epoch 13\n",
      "Loss : 21.94162680975919\n",
      "LR : 0.09138315\n",
      "\n",
      "Epoch 14\n"
     ]
    },
    {
     "ename": "KeyboardInterrupt",
     "evalue": "ignored",
     "output_type": "error",
     "traceback": [
      "\u001b[0;31m---------------------------------------------------------------------------\u001b[0m",
      "\u001b[0;31mKeyboardInterrupt\u001b[0m                         Traceback (most recent call last)",
      "\u001b[0;32m<ipython-input-106-cc3715e8969f>\u001b[0m in \u001b[0;36m<module>\u001b[0;34m()\u001b[0m\n\u001b[0;32m----> 1\u001b[0;31m \u001b[0mget_ipython\u001b[0m\u001b[0;34m(\u001b[0m\u001b[0;34m)\u001b[0m\u001b[0;34m.\u001b[0m\u001b[0mrun_cell_magic\u001b[0m\u001b[0;34m(\u001b[0m\u001b[0;34m'time'\u001b[0m\u001b[0;34m,\u001b[0m \u001b[0;34m''\u001b[0m\u001b[0;34m,\u001b[0m \u001b[0;34m'\\nwith tf.device(device):\\n  model = LotkaVolteraParameters()\\n\\n  learning_rate = tf.keras.optimizers.schedules.ExponentialDecay(\\n    initial_learning_rate, decay_steps, decay_rate, staircase=False,\\n  )\\n\\n  optimizer = tf.keras.optimizers.Adadelta(learning_rate)\\n\\n  print(\"Computing ground truth...\")\\n  y_real = odeint(LotkaVoltera(a, b, c, d), initial_states_train, t_train)\\n\\n  print(\"Ground truth shape :\", y_real.shape)\\n\\n  for epoch in range(epochs):\\n    print(f\"Epoch {epoch + 1}\")\\n\\n    with tf.GradientTape() as tape:\\n      preds = odeint(model, initial_states_train, t_train)\\n      loss = tf.reduce_mean(tf.square(y_real - preds), axis=1)\\n\\n    grads = tape.gradient(loss, model.trainable_variables)\\n    optimizer.apply_gradients(zip(grads, model.trainable_variables))\\n\\n    print(\"Loss :\", loss.numpy().mean())\\n    print(\"LR :\", learning_rate(optimizer.iterations).numpy())\\n    print()'\u001b[0m\u001b[0;34m)\u001b[0m\u001b[0;34m\u001b[0m\u001b[0;34m\u001b[0m\u001b[0m\n\u001b[0m",
      "\u001b[0;32m/usr/local/lib/python3.6/dist-packages/IPython/core/interactiveshell.py\u001b[0m in \u001b[0;36mrun_cell_magic\u001b[0;34m(self, magic_name, line, cell)\u001b[0m\n\u001b[1;32m   2115\u001b[0m             \u001b[0mmagic_arg_s\u001b[0m \u001b[0;34m=\u001b[0m \u001b[0mself\u001b[0m\u001b[0;34m.\u001b[0m\u001b[0mvar_expand\u001b[0m\u001b[0;34m(\u001b[0m\u001b[0mline\u001b[0m\u001b[0;34m,\u001b[0m \u001b[0mstack_depth\u001b[0m\u001b[0;34m)\u001b[0m\u001b[0;34m\u001b[0m\u001b[0;34m\u001b[0m\u001b[0m\n\u001b[1;32m   2116\u001b[0m             \u001b[0;32mwith\u001b[0m \u001b[0mself\u001b[0m\u001b[0;34m.\u001b[0m\u001b[0mbuiltin_trap\u001b[0m\u001b[0;34m:\u001b[0m\u001b[0;34m\u001b[0m\u001b[0;34m\u001b[0m\u001b[0m\n\u001b[0;32m-> 2117\u001b[0;31m                 \u001b[0mresult\u001b[0m \u001b[0;34m=\u001b[0m \u001b[0mfn\u001b[0m\u001b[0;34m(\u001b[0m\u001b[0mmagic_arg_s\u001b[0m\u001b[0;34m,\u001b[0m \u001b[0mcell\u001b[0m\u001b[0;34m)\u001b[0m\u001b[0;34m\u001b[0m\u001b[0;34m\u001b[0m\u001b[0m\n\u001b[0m\u001b[1;32m   2118\u001b[0m             \u001b[0;32mreturn\u001b[0m \u001b[0mresult\u001b[0m\u001b[0;34m\u001b[0m\u001b[0;34m\u001b[0m\u001b[0m\n\u001b[1;32m   2119\u001b[0m \u001b[0;34m\u001b[0m\u001b[0m\n",
      "\u001b[0;32m<decorator-gen-60>\u001b[0m in \u001b[0;36mtime\u001b[0;34m(self, line, cell, local_ns)\u001b[0m\n",
      "\u001b[0;32m/usr/local/lib/python3.6/dist-packages/IPython/core/magic.py\u001b[0m in \u001b[0;36m<lambda>\u001b[0;34m(f, *a, **k)\u001b[0m\n\u001b[1;32m    186\u001b[0m     \u001b[0;31m# but it's overkill for just that one bit of state.\u001b[0m\u001b[0;34m\u001b[0m\u001b[0;34m\u001b[0m\u001b[0;34m\u001b[0m\u001b[0m\n\u001b[1;32m    187\u001b[0m     \u001b[0;32mdef\u001b[0m \u001b[0mmagic_deco\u001b[0m\u001b[0;34m(\u001b[0m\u001b[0marg\u001b[0m\u001b[0;34m)\u001b[0m\u001b[0;34m:\u001b[0m\u001b[0;34m\u001b[0m\u001b[0;34m\u001b[0m\u001b[0m\n\u001b[0;32m--> 188\u001b[0;31m         \u001b[0mcall\u001b[0m \u001b[0;34m=\u001b[0m \u001b[0;32mlambda\u001b[0m \u001b[0mf\u001b[0m\u001b[0;34m,\u001b[0m \u001b[0;34m*\u001b[0m\u001b[0ma\u001b[0m\u001b[0;34m,\u001b[0m \u001b[0;34m**\u001b[0m\u001b[0mk\u001b[0m\u001b[0;34m:\u001b[0m \u001b[0mf\u001b[0m\u001b[0;34m(\u001b[0m\u001b[0;34m*\u001b[0m\u001b[0ma\u001b[0m\u001b[0;34m,\u001b[0m \u001b[0;34m**\u001b[0m\u001b[0mk\u001b[0m\u001b[0;34m)\u001b[0m\u001b[0;34m\u001b[0m\u001b[0;34m\u001b[0m\u001b[0m\n\u001b[0m\u001b[1;32m    189\u001b[0m \u001b[0;34m\u001b[0m\u001b[0m\n\u001b[1;32m    190\u001b[0m         \u001b[0;32mif\u001b[0m \u001b[0mcallable\u001b[0m\u001b[0;34m(\u001b[0m\u001b[0marg\u001b[0m\u001b[0;34m)\u001b[0m\u001b[0;34m:\u001b[0m\u001b[0;34m\u001b[0m\u001b[0;34m\u001b[0m\u001b[0m\n",
      "\u001b[0;32m/usr/local/lib/python3.6/dist-packages/IPython/core/magics/execution.py\u001b[0m in \u001b[0;36mtime\u001b[0;34m(self, line, cell, local_ns)\u001b[0m\n\u001b[1;32m   1191\u001b[0m         \u001b[0;32melse\u001b[0m\u001b[0;34m:\u001b[0m\u001b[0;34m\u001b[0m\u001b[0;34m\u001b[0m\u001b[0m\n\u001b[1;32m   1192\u001b[0m             \u001b[0mst\u001b[0m \u001b[0;34m=\u001b[0m \u001b[0mclock2\u001b[0m\u001b[0;34m(\u001b[0m\u001b[0;34m)\u001b[0m\u001b[0;34m\u001b[0m\u001b[0;34m\u001b[0m\u001b[0m\n\u001b[0;32m-> 1193\u001b[0;31m             \u001b[0mexec\u001b[0m\u001b[0;34m(\u001b[0m\u001b[0mcode\u001b[0m\u001b[0;34m,\u001b[0m \u001b[0mglob\u001b[0m\u001b[0;34m,\u001b[0m \u001b[0mlocal_ns\u001b[0m\u001b[0;34m)\u001b[0m\u001b[0;34m\u001b[0m\u001b[0;34m\u001b[0m\u001b[0m\n\u001b[0m\u001b[1;32m   1194\u001b[0m             \u001b[0mend\u001b[0m \u001b[0;34m=\u001b[0m \u001b[0mclock2\u001b[0m\u001b[0;34m(\u001b[0m\u001b[0;34m)\u001b[0m\u001b[0;34m\u001b[0m\u001b[0;34m\u001b[0m\u001b[0m\n\u001b[1;32m   1195\u001b[0m             \u001b[0mout\u001b[0m \u001b[0;34m=\u001b[0m \u001b[0;32mNone\u001b[0m\u001b[0;34m\u001b[0m\u001b[0;34m\u001b[0m\u001b[0m\n",
      "\u001b[0;32m<timed exec>\u001b[0m in \u001b[0;36m<module>\u001b[0;34m()\u001b[0m\n",
      "\u001b[0;32m/usr/local/lib/python3.6/dist-packages/tfdiffeq/odeint.py\u001b[0m in \u001b[0;36modeint\u001b[0;34m(func, y0, t, rtol, atol, method, options)\u001b[0m\n\u001b[1;32m     80\u001b[0m \u001b[0;34m\u001b[0m\u001b[0m\n\u001b[1;32m     81\u001b[0m         \u001b[0msolver\u001b[0m \u001b[0;34m=\u001b[0m \u001b[0mSOLVERS\u001b[0m\u001b[0;34m[\u001b[0m\u001b[0mmethod\u001b[0m\u001b[0;34m]\u001b[0m\u001b[0;34m(\u001b[0m\u001b[0mfunc\u001b[0m\u001b[0;34m,\u001b[0m \u001b[0my0\u001b[0m\u001b[0;34m,\u001b[0m \u001b[0mrtol\u001b[0m\u001b[0;34m=\u001b[0m\u001b[0mrtol\u001b[0m\u001b[0;34m,\u001b[0m \u001b[0matol\u001b[0m\u001b[0;34m=\u001b[0m\u001b[0matol\u001b[0m\u001b[0;34m,\u001b[0m \u001b[0;34m**\u001b[0m\u001b[0moptions\u001b[0m\u001b[0;34m)\u001b[0m\u001b[0;34m\u001b[0m\u001b[0;34m\u001b[0m\u001b[0m\n\u001b[0;32m---> 82\u001b[0;31m         \u001b[0msolution\u001b[0m \u001b[0;34m=\u001b[0m \u001b[0msolver\u001b[0m\u001b[0;34m.\u001b[0m\u001b[0mintegrate\u001b[0m\u001b[0;34m(\u001b[0m\u001b[0mt\u001b[0m\u001b[0;34m)\u001b[0m\u001b[0;34m\u001b[0m\u001b[0;34m\u001b[0m\u001b[0m\n\u001b[0m\u001b[1;32m     83\u001b[0m \u001b[0;34m\u001b[0m\u001b[0m\n\u001b[1;32m     84\u001b[0m         \u001b[0;32mif\u001b[0m \u001b[0mtensor_input\u001b[0m\u001b[0;34m:\u001b[0m\u001b[0;34m\u001b[0m\u001b[0;34m\u001b[0m\u001b[0m\n",
      "\u001b[0;32m/usr/local/lib/python3.6/dist-packages/tfdiffeq/solvers.py\u001b[0m in \u001b[0;36mintegrate\u001b[0;34m(self, t)\u001b[0m\n\u001b[1;32m     32\u001b[0m         \u001b[0mself\u001b[0m\u001b[0;34m.\u001b[0m\u001b[0mbefore_integrate\u001b[0m\u001b[0;34m(\u001b[0m\u001b[0mt\u001b[0m\u001b[0;34m)\u001b[0m\u001b[0;34m\u001b[0m\u001b[0;34m\u001b[0m\u001b[0m\n\u001b[1;32m     33\u001b[0m         \u001b[0;32mfor\u001b[0m \u001b[0mi\u001b[0m \u001b[0;32min\u001b[0m \u001b[0mrange\u001b[0m\u001b[0;34m(\u001b[0m\u001b[0;36m1\u001b[0m\u001b[0;34m,\u001b[0m \u001b[0mt\u001b[0m\u001b[0;34m.\u001b[0m\u001b[0mshape\u001b[0m\u001b[0;34m[\u001b[0m\u001b[0;36m0\u001b[0m\u001b[0;34m]\u001b[0m\u001b[0;34m)\u001b[0m\u001b[0;34m:\u001b[0m\u001b[0;34m\u001b[0m\u001b[0;34m\u001b[0m\u001b[0m\n\u001b[0;32m---> 34\u001b[0;31m             \u001b[0my\u001b[0m \u001b[0;34m=\u001b[0m \u001b[0mself\u001b[0m\u001b[0;34m.\u001b[0m\u001b[0madvance\u001b[0m\u001b[0;34m(\u001b[0m\u001b[0mt\u001b[0m\u001b[0;34m[\u001b[0m\u001b[0mi\u001b[0m\u001b[0;34m]\u001b[0m\u001b[0;34m)\u001b[0m\u001b[0;34m\u001b[0m\u001b[0;34m\u001b[0m\u001b[0m\n\u001b[0m\u001b[1;32m     35\u001b[0m             \u001b[0my\u001b[0m \u001b[0;34m=\u001b[0m \u001b[0mcast_double\u001b[0m\u001b[0;34m(\u001b[0m\u001b[0my\u001b[0m\u001b[0;34m)\u001b[0m\u001b[0;34m\u001b[0m\u001b[0;34m\u001b[0m\u001b[0m\n\u001b[1;32m     36\u001b[0m             \u001b[0msolution\u001b[0m\u001b[0;34m.\u001b[0m\u001b[0mappend\u001b[0m\u001b[0;34m(\u001b[0m\u001b[0my\u001b[0m\u001b[0;34m)\u001b[0m\u001b[0;34m\u001b[0m\u001b[0;34m\u001b[0m\u001b[0m\n",
      "\u001b[0;32m/usr/local/lib/python3.6/dist-packages/tfdiffeq/dopri5.py\u001b[0m in \u001b[0;36madvance\u001b[0;34m(self, next_t)\u001b[0m\n\u001b[1;32m     94\u001b[0m         \u001b[0;32mwhile\u001b[0m \u001b[0mnext_t\u001b[0m \u001b[0;34m>\u001b[0m \u001b[0mself\u001b[0m\u001b[0;34m.\u001b[0m\u001b[0mrk_state\u001b[0m\u001b[0;34m.\u001b[0m\u001b[0mt1\u001b[0m\u001b[0;34m:\u001b[0m\u001b[0;34m\u001b[0m\u001b[0;34m\u001b[0m\u001b[0m\n\u001b[1;32m     95\u001b[0m             \u001b[0;32massert\u001b[0m \u001b[0mn_steps\u001b[0m \u001b[0;34m<\u001b[0m \u001b[0mself\u001b[0m\u001b[0;34m.\u001b[0m\u001b[0mmax_num_steps\u001b[0m\u001b[0;34m,\u001b[0m \u001b[0;34m'max_num_steps exceeded ({}>={})'\u001b[0m\u001b[0;34m.\u001b[0m\u001b[0mformat\u001b[0m\u001b[0;34m(\u001b[0m\u001b[0mn_steps\u001b[0m\u001b[0;34m,\u001b[0m \u001b[0mself\u001b[0m\u001b[0;34m.\u001b[0m\u001b[0mmax_num_steps\u001b[0m\u001b[0;34m)\u001b[0m\u001b[0;34m\u001b[0m\u001b[0;34m\u001b[0m\u001b[0m\n\u001b[0;32m---> 96\u001b[0;31m             \u001b[0mself\u001b[0m\u001b[0;34m.\u001b[0m\u001b[0mrk_state\u001b[0m \u001b[0;34m=\u001b[0m \u001b[0mself\u001b[0m\u001b[0;34m.\u001b[0m\u001b[0m_adaptive_dopri5_step\u001b[0m\u001b[0;34m(\u001b[0m\u001b[0mself\u001b[0m\u001b[0;34m.\u001b[0m\u001b[0mrk_state\u001b[0m\u001b[0;34m)\u001b[0m\u001b[0;34m\u001b[0m\u001b[0;34m\u001b[0m\u001b[0m\n\u001b[0m\u001b[1;32m     97\u001b[0m             \u001b[0mn_steps\u001b[0m \u001b[0;34m+=\u001b[0m \u001b[0;36m1\u001b[0m\u001b[0;34m\u001b[0m\u001b[0;34m\u001b[0m\u001b[0m\n\u001b[1;32m     98\u001b[0m         \u001b[0;32mreturn\u001b[0m \u001b[0m_interp_evaluate\u001b[0m\u001b[0;34m(\u001b[0m\u001b[0mself\u001b[0m\u001b[0;34m.\u001b[0m\u001b[0mrk_state\u001b[0m\u001b[0;34m.\u001b[0m\u001b[0minterp_coeff\u001b[0m\u001b[0;34m,\u001b[0m \u001b[0mself\u001b[0m\u001b[0;34m.\u001b[0m\u001b[0mrk_state\u001b[0m\u001b[0;34m.\u001b[0m\u001b[0mt0\u001b[0m\u001b[0;34m,\u001b[0m \u001b[0mself\u001b[0m\u001b[0;34m.\u001b[0m\u001b[0mrk_state\u001b[0m\u001b[0;34m.\u001b[0m\u001b[0mt1\u001b[0m\u001b[0;34m,\u001b[0m \u001b[0mnext_t\u001b[0m\u001b[0;34m)\u001b[0m\u001b[0;34m\u001b[0m\u001b[0;34m\u001b[0m\u001b[0m\n",
      "\u001b[0;32m/usr/local/lib/python3.6/dist-packages/tfdiffeq/dopri5.py\u001b[0m in \u001b[0;36m_adaptive_dopri5_step\u001b[0;34m(self, rk_state)\u001b[0m\n\u001b[1;32m    122\u001b[0m         \u001b[0mf_next\u001b[0m \u001b[0;34m=\u001b[0m \u001b[0mf1\u001b[0m \u001b[0;32mif\u001b[0m \u001b[0maccept_step\u001b[0m \u001b[0;32melse\u001b[0m \u001b[0mf0\u001b[0m\u001b[0;34m\u001b[0m\u001b[0;34m\u001b[0m\u001b[0m\n\u001b[1;32m    123\u001b[0m         \u001b[0mt_next\u001b[0m \u001b[0;34m=\u001b[0m \u001b[0mt0\u001b[0m \u001b[0;34m+\u001b[0m \u001b[0mdt\u001b[0m \u001b[0;32mif\u001b[0m \u001b[0maccept_step\u001b[0m \u001b[0;32melse\u001b[0m \u001b[0mt0\u001b[0m\u001b[0;34m\u001b[0m\u001b[0;34m\u001b[0m\u001b[0m\n\u001b[0;32m--> 124\u001b[0;31m         \u001b[0minterp_coeff\u001b[0m \u001b[0;34m=\u001b[0m \u001b[0m_interp_fit_dopri5\u001b[0m\u001b[0;34m(\u001b[0m\u001b[0my0\u001b[0m\u001b[0;34m,\u001b[0m \u001b[0my1\u001b[0m\u001b[0;34m,\u001b[0m \u001b[0mk\u001b[0m\u001b[0;34m,\u001b[0m \u001b[0mdt\u001b[0m\u001b[0;34m)\u001b[0m \u001b[0;32mif\u001b[0m \u001b[0maccept_step\u001b[0m \u001b[0;32melse\u001b[0m \u001b[0minterp_coeff\u001b[0m\u001b[0;34m\u001b[0m\u001b[0;34m\u001b[0m\u001b[0m\n\u001b[0m\u001b[1;32m    125\u001b[0m         dt_next = _optimal_step_size(\n\u001b[1;32m    126\u001b[0m             \u001b[0mdt\u001b[0m\u001b[0;34m,\u001b[0m \u001b[0mmean_sq_error_ratio\u001b[0m\u001b[0;34m,\u001b[0m \u001b[0msafety\u001b[0m\u001b[0;34m=\u001b[0m\u001b[0mself\u001b[0m\u001b[0;34m.\u001b[0m\u001b[0msafety\u001b[0m\u001b[0;34m,\u001b[0m \u001b[0mifactor\u001b[0m\u001b[0;34m=\u001b[0m\u001b[0mself\u001b[0m\u001b[0;34m.\u001b[0m\u001b[0mifactor\u001b[0m\u001b[0;34m,\u001b[0m \u001b[0mdfactor\u001b[0m\u001b[0;34m=\u001b[0m\u001b[0mself\u001b[0m\u001b[0;34m.\u001b[0m\u001b[0mdfactor\u001b[0m\u001b[0;34m,\u001b[0m \u001b[0morder\u001b[0m\u001b[0;34m=\u001b[0m\u001b[0mself\u001b[0m\u001b[0;34m.\u001b[0m\u001b[0morder\u001b[0m\u001b[0;34m\u001b[0m\u001b[0;34m\u001b[0m\u001b[0m\n",
      "\u001b[0;32m/usr/local/lib/python3.6/dist-packages/tfdiffeq/dopri5.py\u001b[0m in \u001b[0;36m_interp_fit_dopri5\u001b[0;34m(y0, y1, k, dt, tableau)\u001b[0m\n\u001b[1;32m     42\u001b[0m     \u001b[0my0\u001b[0m \u001b[0;34m=\u001b[0m \u001b[0mcast_double\u001b[0m\u001b[0;34m(\u001b[0m\u001b[0my0\u001b[0m\u001b[0;34m)\u001b[0m\u001b[0;34m\u001b[0m\u001b[0;34m\u001b[0m\u001b[0m\n\u001b[1;32m     43\u001b[0m \u001b[0;34m\u001b[0m\u001b[0m\n\u001b[0;32m---> 44\u001b[0;31m     \u001b[0my_mid\u001b[0m \u001b[0;34m=\u001b[0m \u001b[0mtuple\u001b[0m\u001b[0;34m(\u001b[0m\u001b[0my0_\u001b[0m \u001b[0;34m+\u001b[0m \u001b[0m_scaled_dot_product\u001b[0m\u001b[0;34m(\u001b[0m\u001b[0mdt\u001b[0m\u001b[0;34m,\u001b[0m \u001b[0mDPS_C_MID\u001b[0m\u001b[0;34m,\u001b[0m \u001b[0mk_\u001b[0m\u001b[0;34m)\u001b[0m \u001b[0;32mfor\u001b[0m \u001b[0my0_\u001b[0m\u001b[0;34m,\u001b[0m \u001b[0mk_\u001b[0m \u001b[0;32min\u001b[0m \u001b[0mzip\u001b[0m\u001b[0;34m(\u001b[0m\u001b[0my0\u001b[0m\u001b[0;34m,\u001b[0m \u001b[0mk\u001b[0m\u001b[0;34m)\u001b[0m\u001b[0;34m)\u001b[0m\u001b[0;34m\u001b[0m\u001b[0;34m\u001b[0m\u001b[0m\n\u001b[0m\u001b[1;32m     45\u001b[0m     \u001b[0mf0\u001b[0m \u001b[0;34m=\u001b[0m \u001b[0mtuple\u001b[0m\u001b[0;34m(\u001b[0m\u001b[0mk_\u001b[0m\u001b[0;34m[\u001b[0m\u001b[0;36m0\u001b[0m\u001b[0;34m]\u001b[0m \u001b[0;32mfor\u001b[0m \u001b[0mk_\u001b[0m \u001b[0;32min\u001b[0m \u001b[0mk\u001b[0m\u001b[0;34m)\u001b[0m\u001b[0;34m\u001b[0m\u001b[0;34m\u001b[0m\u001b[0m\n\u001b[1;32m     46\u001b[0m     \u001b[0mf1\u001b[0m \u001b[0;34m=\u001b[0m \u001b[0mtuple\u001b[0m\u001b[0;34m(\u001b[0m\u001b[0mk_\u001b[0m\u001b[0;34m[\u001b[0m\u001b[0;34m-\u001b[0m\u001b[0;36m1\u001b[0m\u001b[0;34m]\u001b[0m \u001b[0;32mfor\u001b[0m \u001b[0mk_\u001b[0m \u001b[0;32min\u001b[0m \u001b[0mk\u001b[0m\u001b[0;34m)\u001b[0m\u001b[0;34m\u001b[0m\u001b[0;34m\u001b[0m\u001b[0m\n",
      "\u001b[0;32m/usr/local/lib/python3.6/dist-packages/tfdiffeq/dopri5.py\u001b[0m in \u001b[0;36m<genexpr>\u001b[0;34m(.0)\u001b[0m\n\u001b[1;32m     42\u001b[0m     \u001b[0my0\u001b[0m \u001b[0;34m=\u001b[0m \u001b[0mcast_double\u001b[0m\u001b[0;34m(\u001b[0m\u001b[0my0\u001b[0m\u001b[0;34m)\u001b[0m\u001b[0;34m\u001b[0m\u001b[0;34m\u001b[0m\u001b[0m\n\u001b[1;32m     43\u001b[0m \u001b[0;34m\u001b[0m\u001b[0m\n\u001b[0;32m---> 44\u001b[0;31m     \u001b[0my_mid\u001b[0m \u001b[0;34m=\u001b[0m \u001b[0mtuple\u001b[0m\u001b[0;34m(\u001b[0m\u001b[0my0_\u001b[0m \u001b[0;34m+\u001b[0m \u001b[0m_scaled_dot_product\u001b[0m\u001b[0;34m(\u001b[0m\u001b[0mdt\u001b[0m\u001b[0;34m,\u001b[0m \u001b[0mDPS_C_MID\u001b[0m\u001b[0;34m,\u001b[0m \u001b[0mk_\u001b[0m\u001b[0;34m)\u001b[0m \u001b[0;32mfor\u001b[0m \u001b[0my0_\u001b[0m\u001b[0;34m,\u001b[0m \u001b[0mk_\u001b[0m \u001b[0;32min\u001b[0m \u001b[0mzip\u001b[0m\u001b[0;34m(\u001b[0m\u001b[0my0\u001b[0m\u001b[0;34m,\u001b[0m \u001b[0mk\u001b[0m\u001b[0;34m)\u001b[0m\u001b[0;34m)\u001b[0m\u001b[0;34m\u001b[0m\u001b[0;34m\u001b[0m\u001b[0m\n\u001b[0m\u001b[1;32m     45\u001b[0m     \u001b[0mf0\u001b[0m \u001b[0;34m=\u001b[0m \u001b[0mtuple\u001b[0m\u001b[0;34m(\u001b[0m\u001b[0mk_\u001b[0m\u001b[0;34m[\u001b[0m\u001b[0;36m0\u001b[0m\u001b[0;34m]\u001b[0m \u001b[0;32mfor\u001b[0m \u001b[0mk_\u001b[0m \u001b[0;32min\u001b[0m \u001b[0mk\u001b[0m\u001b[0;34m)\u001b[0m\u001b[0;34m\u001b[0m\u001b[0;34m\u001b[0m\u001b[0m\n\u001b[1;32m     46\u001b[0m     \u001b[0mf1\u001b[0m \u001b[0;34m=\u001b[0m \u001b[0mtuple\u001b[0m\u001b[0;34m(\u001b[0m\u001b[0mk_\u001b[0m\u001b[0;34m[\u001b[0m\u001b[0;34m-\u001b[0m\u001b[0;36m1\u001b[0m\u001b[0;34m]\u001b[0m \u001b[0;32mfor\u001b[0m \u001b[0mk_\u001b[0m \u001b[0;32min\u001b[0m \u001b[0mk\u001b[0m\u001b[0;34m)\u001b[0m\u001b[0;34m\u001b[0m\u001b[0;34m\u001b[0m\u001b[0m\n",
      "\u001b[0;32m/usr/local/lib/python3.6/dist-packages/tfdiffeq/misc.py\u001b[0m in \u001b[0;36m_scaled_dot_product\u001b[0;34m(scale, xs, ys)\u001b[0m\n\u001b[1;32m    162\u001b[0m     \u001b[0;34m\"\"\"Calculate a scaled, vector inner product between lists of Tensors.\"\"\"\u001b[0m\u001b[0;34m\u001b[0m\u001b[0;34m\u001b[0m\u001b[0m\n\u001b[1;32m    163\u001b[0m     \u001b[0;31m# Using _possibly_nonzero lets us avoid wasted computation.\u001b[0m\u001b[0;34m\u001b[0m\u001b[0;34m\u001b[0m\u001b[0;34m\u001b[0m\u001b[0m\n\u001b[0;32m--> 164\u001b[0;31m     \u001b[0;32mreturn\u001b[0m \u001b[0msum\u001b[0m\u001b[0;34m(\u001b[0m\u001b[0;34m[\u001b[0m\u001b[0;34m(\u001b[0m\u001b[0mscale\u001b[0m \u001b[0;34m*\u001b[0m \u001b[0mx\u001b[0m\u001b[0;34m)\u001b[0m \u001b[0;34m*\u001b[0m \u001b[0my\u001b[0m \u001b[0;32mfor\u001b[0m \u001b[0mx\u001b[0m\u001b[0;34m,\u001b[0m \u001b[0my\u001b[0m \u001b[0;32min\u001b[0m \u001b[0mzip\u001b[0m\u001b[0;34m(\u001b[0m\u001b[0mxs\u001b[0m\u001b[0;34m,\u001b[0m \u001b[0mys\u001b[0m\u001b[0;34m)\u001b[0m \u001b[0;32mif\u001b[0m \u001b[0m_possibly_nonzero\u001b[0m\u001b[0;34m(\u001b[0m\u001b[0mx\u001b[0m\u001b[0;34m)\u001b[0m \u001b[0;32mor\u001b[0m \u001b[0m_possibly_nonzero\u001b[0m\u001b[0;34m(\u001b[0m\u001b[0my\u001b[0m\u001b[0;34m)\u001b[0m\u001b[0;34m]\u001b[0m\u001b[0;34m)\u001b[0m\u001b[0;34m\u001b[0m\u001b[0;34m\u001b[0m\u001b[0m\n\u001b[0m\u001b[1;32m    165\u001b[0m \u001b[0;34m\u001b[0m\u001b[0m\n\u001b[1;32m    166\u001b[0m \u001b[0;34m\u001b[0m\u001b[0m\n",
      "\u001b[0;32m/usr/local/lib/python3.6/dist-packages/tfdiffeq/misc.py\u001b[0m in \u001b[0;36m<listcomp>\u001b[0;34m(.0)\u001b[0m\n\u001b[1;32m    162\u001b[0m     \u001b[0;34m\"\"\"Calculate a scaled, vector inner product between lists of Tensors.\"\"\"\u001b[0m\u001b[0;34m\u001b[0m\u001b[0;34m\u001b[0m\u001b[0m\n\u001b[1;32m    163\u001b[0m     \u001b[0;31m# Using _possibly_nonzero lets us avoid wasted computation.\u001b[0m\u001b[0;34m\u001b[0m\u001b[0;34m\u001b[0m\u001b[0;34m\u001b[0m\u001b[0m\n\u001b[0;32m--> 164\u001b[0;31m     \u001b[0;32mreturn\u001b[0m \u001b[0msum\u001b[0m\u001b[0;34m(\u001b[0m\u001b[0;34m[\u001b[0m\u001b[0;34m(\u001b[0m\u001b[0mscale\u001b[0m \u001b[0;34m*\u001b[0m \u001b[0mx\u001b[0m\u001b[0;34m)\u001b[0m \u001b[0;34m*\u001b[0m \u001b[0my\u001b[0m \u001b[0;32mfor\u001b[0m \u001b[0mx\u001b[0m\u001b[0;34m,\u001b[0m \u001b[0my\u001b[0m \u001b[0;32min\u001b[0m \u001b[0mzip\u001b[0m\u001b[0;34m(\u001b[0m\u001b[0mxs\u001b[0m\u001b[0;34m,\u001b[0m \u001b[0mys\u001b[0m\u001b[0;34m)\u001b[0m \u001b[0;32mif\u001b[0m \u001b[0m_possibly_nonzero\u001b[0m\u001b[0;34m(\u001b[0m\u001b[0mx\u001b[0m\u001b[0;34m)\u001b[0m \u001b[0;32mor\u001b[0m \u001b[0m_possibly_nonzero\u001b[0m\u001b[0;34m(\u001b[0m\u001b[0my\u001b[0m\u001b[0;34m)\u001b[0m\u001b[0;34m]\u001b[0m\u001b[0;34m)\u001b[0m\u001b[0;34m\u001b[0m\u001b[0;34m\u001b[0m\u001b[0m\n\u001b[0m\u001b[1;32m    165\u001b[0m \u001b[0;34m\u001b[0m\u001b[0m\n\u001b[1;32m    166\u001b[0m \u001b[0;34m\u001b[0m\u001b[0m\n",
      "\u001b[0;32m/usr/local/lib/python3.6/dist-packages/tensorflow/python/ops/math_ops.py\u001b[0m in \u001b[0;36mbinary_op_wrapper\u001b[0;34m(x, y)\u001b[0m\n\u001b[1;32m    980\u001b[0m \u001b[0;34m\u001b[0m\u001b[0m\n\u001b[1;32m    981\u001b[0m   \u001b[0;32mdef\u001b[0m \u001b[0mbinary_op_wrapper\u001b[0m\u001b[0;34m(\u001b[0m\u001b[0mx\u001b[0m\u001b[0;34m,\u001b[0m \u001b[0my\u001b[0m\u001b[0;34m)\u001b[0m\u001b[0;34m:\u001b[0m\u001b[0;34m\u001b[0m\u001b[0;34m\u001b[0m\u001b[0m\n\u001b[0;32m--> 982\u001b[0;31m     \u001b[0;32mwith\u001b[0m \u001b[0mops\u001b[0m\u001b[0;34m.\u001b[0m\u001b[0mname_scope\u001b[0m\u001b[0;34m(\u001b[0m\u001b[0;32mNone\u001b[0m\u001b[0;34m,\u001b[0m \u001b[0mop_name\u001b[0m\u001b[0;34m,\u001b[0m \u001b[0;34m[\u001b[0m\u001b[0mx\u001b[0m\u001b[0;34m,\u001b[0m \u001b[0my\u001b[0m\u001b[0;34m]\u001b[0m\u001b[0;34m)\u001b[0m \u001b[0;32mas\u001b[0m \u001b[0mname\u001b[0m\u001b[0;34m:\u001b[0m\u001b[0;34m\u001b[0m\u001b[0;34m\u001b[0m\u001b[0m\n\u001b[0m\u001b[1;32m    983\u001b[0m       \u001b[0;32mif\u001b[0m \u001b[0misinstance\u001b[0m\u001b[0;34m(\u001b[0m\u001b[0mx\u001b[0m\u001b[0;34m,\u001b[0m \u001b[0mops\u001b[0m\u001b[0;34m.\u001b[0m\u001b[0mTensor\u001b[0m\u001b[0;34m)\u001b[0m \u001b[0;32mand\u001b[0m \u001b[0misinstance\u001b[0m\u001b[0;34m(\u001b[0m\u001b[0my\u001b[0m\u001b[0;34m,\u001b[0m \u001b[0mops\u001b[0m\u001b[0;34m.\u001b[0m\u001b[0mTensor\u001b[0m\u001b[0;34m)\u001b[0m\u001b[0;34m:\u001b[0m\u001b[0;34m\u001b[0m\u001b[0;34m\u001b[0m\u001b[0m\n\u001b[1;32m    984\u001b[0m         \u001b[0;32mreturn\u001b[0m \u001b[0mfunc\u001b[0m\u001b[0;34m(\u001b[0m\u001b[0mx\u001b[0m\u001b[0;34m,\u001b[0m \u001b[0my\u001b[0m\u001b[0;34m,\u001b[0m \u001b[0mname\u001b[0m\u001b[0;34m=\u001b[0m\u001b[0mname\u001b[0m\u001b[0;34m)\u001b[0m\u001b[0;34m\u001b[0m\u001b[0;34m\u001b[0m\u001b[0m\n",
      "\u001b[0;32m/usr/local/lib/python3.6/dist-packages/tensorflow/python/framework/ops.py\u001b[0m in \u001b[0;36mname_scope\u001b[0;34m(name, default_name, values, skip_on_eager)\u001b[0m\n\u001b[1;32m   6218\u001b[0m \u001b[0;34m\u001b[0m\u001b[0m\n\u001b[1;32m   6219\u001b[0m   \u001b[0;32mif\u001b[0m \u001b[0mskip_on_eager\u001b[0m\u001b[0;34m:\u001b[0m\u001b[0;34m\u001b[0m\u001b[0;34m\u001b[0m\u001b[0m\n\u001b[0;32m-> 6220\u001b[0;31m     \u001b[0;32mreturn\u001b[0m \u001b[0mNullContextmanager\u001b[0m\u001b[0;34m(\u001b[0m\u001b[0;34m)\u001b[0m\u001b[0;34m\u001b[0m\u001b[0;34m\u001b[0m\u001b[0m\n\u001b[0m\u001b[1;32m   6221\u001b[0m \u001b[0;34m\u001b[0m\u001b[0m\n\u001b[1;32m   6222\u001b[0m   \u001b[0mname\u001b[0m \u001b[0;34m=\u001b[0m \u001b[0mdefault_name\u001b[0m \u001b[0;32mif\u001b[0m \u001b[0mname\u001b[0m \u001b[0;32mis\u001b[0m \u001b[0;32mNone\u001b[0m \u001b[0;32melse\u001b[0m \u001b[0mname\u001b[0m\u001b[0;34m\u001b[0m\u001b[0;34m\u001b[0m\u001b[0m\n",
      "\u001b[0;31mKeyboardInterrupt\u001b[0m: "
     ]
    }
   ],
   "source": [
    "%%time\n",
    "\n",
    "with tf.device(device):\n",
    "  model = LotkaVolteraParameters()\n",
    "\n",
    "  learning_rate = tf.keras.optimizers.schedules.ExponentialDecay(\n",
    "    initial_learning_rate, decay_steps, decay_rate, staircase=False,\n",
    "  )\n",
    "\n",
    "  optimizer = tf.keras.optimizers.Adam(learning_rate)\n",
    "\n",
    "  print(\"Computing ground truth...\")\n",
    "  y_real = odeint(LotkaVoltera(a, b, c, d), initial_states_train, t_train)\n",
    "\n",
    "  print(\"Ground truth shape :\", y_real.shape)\n",
    "\n",
    "  for epoch in range(epochs):\n",
    "    print(f\"Epoch {epoch + 1}\")\n",
    "\n",
    "    with tf.GradientTape() as tape:\n",
    "      preds = odeint(model, initial_states_train, t_train)\n",
    "      loss = tf.reduce_mean(tf.square(y_real - preds), axis=1)\n",
    "\n",
    "    grads = tape.gradient(loss, model.trainable_variables)\n",
    "    optimizer.apply_gradients(zip(grads, model.trainable_variables))\n",
    "\n",
    "    print(\"Loss :\", loss.numpy().mean())\n",
    "    print(\"LR :\", learning_rate(optimizer.iterations).numpy())\n",
    "    print()"
   ]
  },
  {
   "cell_type": "code",
   "execution_count": null,
   "metadata": {
    "colab": {},
    "colab_type": "code",
    "id": "EnGd-_uLYiCp"
   },
   "outputs": [],
   "source": [
    "tolerance = 1e-6\n",
    "bfgs_optimizer = BFGSOptimizer(max_iterations=50, tolerance=tolerance)"
   ]
  },
  {
   "cell_type": "code",
   "execution_count": 111,
   "metadata": {
    "colab": {},
    "colab_type": "code",
    "id": "dd6-oQc2kql-"
   },
   "outputs": [],
   "source": [
    "t_train = tf.linspace(0., 20., num=21)  # Train for just 2 seconds of input\n",
    "initial_states_train = tf.convert_to_tensor([30, 4], dtype=tf.float64)\n",
    "\n",
    "\n",
    "epochs = 55\n",
    "initial_learning_rate = 0.1\n",
    "decay_steps = 100\n",
    "decay_rate = 0.5"
   ]
  },
  {
   "cell_type": "code",
   "execution_count": 112,
   "metadata": {
    "colab": {
     "base_uri": "https://localhost:8080/",
     "height": 1000
    },
    "colab_type": "code",
    "id": "9y2BgLuXksPt",
    "outputId": "d6af0cbf-1634-48d4-cd90-380c47e65b06"
   },
   "outputs": [
    {
     "name": "stdout",
     "output_type": "stream",
     "text": [
      "Computing ground truth...\n",
      "Ground truth shape : (21, 2)\n",
      "Epoch 1\n",
      "Loss : 1360.8579086380937\n",
      "LR : 0.09930925\n",
      "\n",
      "Epoch 2\n",
      "Loss : 1338.1916714325437\n",
      "LR : 0.09862327\n",
      "\n",
      "Epoch 3\n",
      "Loss : 1316.5511920420936\n",
      "LR : 0.09794203\n",
      "\n",
      "Epoch 4\n",
      "Loss : 1296.069659026235\n",
      "LR : 0.0972655\n",
      "\n",
      "Epoch 5\n",
      "Loss : 1276.7461355975724\n",
      "LR : 0.09659363\n",
      "\n",
      "Epoch 6\n",
      "Loss : 1258.5332457903564\n",
      "LR : 0.09592641\n",
      "\n",
      "Epoch 7\n",
      "Loss : 1241.3670768798875\n",
      "LR : 0.0952638\n",
      "\n",
      "Epoch 8\n",
      "Loss : 1225.178464122218\n",
      "LR : 0.094605766\n",
      "\n",
      "Epoch 9\n",
      "Loss : 1209.8992905963994\n",
      "LR : 0.093952276\n",
      "\n",
      "Epoch 10\n",
      "Loss : 1195.4643851782225\n",
      "LR : 0.0933033\n",
      "\n",
      "Epoch 11\n",
      "Loss : 1181.8127572512192\n",
      "LR : 0.09265881\n",
      "\n",
      "Epoch 12\n",
      "Loss : 1168.8878396765278\n",
      "LR : 0.09201877\n",
      "\n",
      "Epoch 13\n",
      "Loss : 1156.637545176888\n",
      "LR : 0.09138315\n",
      "\n",
      "Epoch 14\n",
      "Loss : 1145.0137223871427\n",
      "LR : 0.090751916\n",
      "\n",
      "Epoch 15\n",
      "Loss : 1133.9723730901776\n",
      "LR : 0.09012505\n",
      "\n",
      "Epoch 16\n",
      "Loss : 1123.473115556047\n",
      "LR : 0.089502506\n",
      "\n",
      "Epoch 17\n",
      "Loss : 1113.4788160601624\n",
      "LR : 0.08888427\n",
      "\n",
      "Epoch 18\n",
      "Loss : 1103.9554556633236\n",
      "LR : 0.0882703\n",
      "\n",
      "Epoch 19\n",
      "Loss : 1094.871403369885\n",
      "LR : 0.08766057\n",
      "\n",
      "Epoch 20\n",
      "Loss : 1086.1982743419078\n",
      "LR : 0.08705506\n",
      "\n",
      "Epoch 21\n",
      "Loss : 1077.90946905445\n",
      "LR : 0.08645373\n",
      "\n",
      "Epoch 22\n",
      "Loss : 1069.9805853823646\n",
      "LR : 0.08585655\n",
      "\n",
      "Epoch 23\n",
      "Loss : 1062.3891160507887\n",
      "LR : 0.08526349\n",
      "\n",
      "Epoch 24\n",
      "Loss : 1055.1142842148388\n",
      "LR : 0.08467453\n",
      "\n",
      "Epoch 25\n",
      "Loss : 1048.1368901894016\n",
      "LR : 0.084089644\n",
      "\n",
      "Epoch 26\n",
      "Loss : 1041.4391772238096\n",
      "LR : 0.08350879\n",
      "\n",
      "Epoch 27\n",
      "Loss : 1035.0046245277026\n",
      "LR : 0.08293196\n",
      "\n",
      "Epoch 28\n",
      "Loss : 1028.8180173661362\n",
      "LR : 0.0823591\n",
      "\n",
      "Epoch 29\n",
      "Loss : 1022.8653659701846\n",
      "LR : 0.08179021\n",
      "\n",
      "Epoch 30\n",
      "Loss : 1017.1334246671397\n",
      "LR : 0.08122524\n",
      "\n",
      "Epoch 31\n",
      "Loss : 1011.6100299755972\n",
      "LR : 0.08066418\n",
      "\n",
      "Epoch 32\n",
      "Loss : 1006.2838413147497\n",
      "LR : 0.08010699\n",
      "\n",
      "Epoch 33\n",
      "Loss : 1001.1439520646979\n",
      "LR : 0.07955365\n",
      "\n",
      "Epoch 34\n",
      "Loss : 996.1809688156084\n",
      "LR : 0.07900413\n",
      "\n",
      "Epoch 35\n",
      "Loss : 991.3855271973123\n",
      "LR : 0.07845841\n",
      "\n",
      "Epoch 36\n",
      "Loss : 986.7489487787772\n",
      "LR : 0.07791646\n",
      "\n",
      "Epoch 37\n",
      "Loss : 982.2633499560259\n",
      "LR : 0.07737825\n",
      "\n",
      "Epoch 38\n",
      "Loss : 977.921173642449\n",
      "LR : 0.07684376\n",
      "\n",
      "Epoch 39\n",
      "Loss : 973.7155083725646\n",
      "LR : 0.07631296\n",
      "\n",
      "Epoch 40\n",
      "Loss : 969.6395723608595\n",
      "LR : 0.07578583\n",
      "\n",
      "Epoch 41\n",
      "Loss : 965.6872845770237\n",
      "LR : 0.07526234\n",
      "\n",
      "Epoch 42\n",
      "Loss : 961.8528060543734\n",
      "LR : 0.07474246\n",
      "\n",
      "Epoch 43\n",
      "Loss : 958.1307016617492\n",
      "LR : 0.07422618\n",
      "\n",
      "Epoch 44\n",
      "Loss : 954.5157742958753\n",
      "LR : 0.07371347\n",
      "\n",
      "Epoch 45\n",
      "Loss : 951.0033074547699\n",
      "LR : 0.07320429\n",
      "\n",
      "Epoch 46\n",
      "Loss : 947.5887264008497\n",
      "LR : 0.07269862\n",
      "\n",
      "Epoch 47\n",
      "Loss : 944.2677545310551\n",
      "LR : 0.07219646\n",
      "\n",
      "Epoch 48\n",
      "Loss : 941.0363584570093\n",
      "LR : 0.071697764\n",
      "\n",
      "Epoch 49\n",
      "Loss : 937.8907294496943\n",
      "LR : 0.07120251\n",
      "\n",
      "Epoch 50\n",
      "Loss : 934.8272707843396\n",
      "LR : 0.07071068\n",
      "\n",
      "Epoch 51\n",
      "Loss : 931.8425829936506\n",
      "LR : 0.07022225\n",
      "\n",
      "Epoch 52\n",
      "Loss : 928.9333481064532\n",
      "LR : 0.06973719\n",
      "\n",
      "Epoch 53\n",
      "Loss : 926.0967447610733\n",
      "LR : 0.06925548\n",
      "\n",
      "Epoch 54\n",
      "Loss : 923.3297699851395\n",
      "LR : 0.06877709\n",
      "\n",
      "Epoch 55\n",
      "Loss : 920.6296914662283\n",
      "LR : 0.06830201\n",
      "\n",
      "CPU times: user 2min 10s, sys: 2.44 s, total: 2min 12s\n",
      "Wall time: 2min 8s\n"
     ]
    }
   ],
   "source": [
    "%%time\n",
    "\n",
    "with tf.device(device):\n",
    "  model = LotkaVolteraParameters()\n",
    "\n",
    "  learning_rate = tf.keras.optimizers.schedules.ExponentialDecay(\n",
    "    initial_learning_rate, decay_steps, decay_rate, staircase=False,\n",
    "  )\n",
    "\n",
    "  optimizer = tf.keras.optimizers.Adadelta(learning_rate)\n",
    "\n",
    "  print(\"Computing ground truth...\")\n",
    "#  y_real = odeint(LotkaVoltera(a, b, c, d), initial_states_train, t_train)\n",
    "  y_real = y_obs\n",
    "\n",
    "  print(\"Ground truth shape :\", y_real.shape)\n",
    "\n",
    "  for epoch in range(epochs):\n",
    "    print(f\"Epoch {epoch + 1}\")\n",
    "\n",
    "    with tf.GradientTape() as tape:\n",
    "      preds = odeint(model, initial_states_train, t_train)\n",
    "      loss = tf.reduce_mean(tf.square(y_real - preds), axis=1)\n",
    "\n",
    "    grads = tape.gradient(loss, model.trainable_variables)\n",
    "    optimizer.apply_gradients(zip(grads, model.trainable_variables))\n",
    "\n",
    "    print(\"Loss :\", loss.numpy().mean())\n",
    "    print(\"LR :\", learning_rate(optimizer.iterations).numpy())\n",
    "    print()"
   ]
  },
  {
   "cell_type": "code",
   "execution_count": 86,
   "metadata": {
    "colab": {},
    "colab_type": "code",
    "id": "KaqZKbvp0gNV"
   },
   "outputs": [],
   "source": [
    "tolerance = 1e-1\n",
    "bfgs_optimizer = BFGSOptimizer(max_iterations=50, tolerance=tolerance)"
   ]
  },
  {
   "cell_type": "code",
   "execution_count": 91,
   "metadata": {
    "colab": {},
    "colab_type": "code",
    "id": "aOsUQZn8YiG_"
   },
   "outputs": [],
   "source": [
    "def loss_wrapper(model):\n",
    "  # Can use `adjoing_odeint` here as replacement for `adjoint_odeint`\n",
    "  preds = odeint(model, initial_states_train, t_train, atol=1e-8, rtol=1e-8)\n",
    "  loss = tf.reduce_mean(tf.square(y_real - preds))\n",
    "  return loss"
   ]
  },
  {
   "cell_type": "code",
   "execution_count": 92,
   "metadata": {
    "colab": {
     "base_uri": "https://localhost:8080/",
     "height": 664
    },
    "colab_type": "code",
    "id": "NCaGXByCYiKv",
    "outputId": "6ef172a0-d42d-47f3-fc83-16bf7bc6f7eb"
   },
   "outputs": [
    {
     "name": "stderr",
     "output_type": "stream",
     "text": [
      "Exception ignored in: <bound method EagerResourceDeleter.__del__ of <tensorflow.python.ops.resource_variable_ops.EagerResourceDeleter object at 0x7f21bc742c88>>\n",
      "Traceback (most recent call last):\n",
      "  File \"/usr/local/lib/python3.6/dist-packages/tensorflow/python/ops/resource_variable_ops.py\", line 280, in __del__\n",
      "    def __del__(self):\n",
      "KeyboardInterrupt\n"
     ]
    },
    {
     "ename": "KeyboardInterrupt",
     "evalue": "ignored",
     "output_type": "error",
     "traceback": [
      "\u001b[0;31m---------------------------------------------------------------------------\u001b[0m",
      "\u001b[0;31mKeyboardInterrupt\u001b[0m                         Traceback (most recent call last)",
      "\u001b[0;32m/usr/local/lib/python3.6/dist-packages/zmq/backend/cython/checkrc.pxd\u001b[0m in \u001b[0;36mzmq.backend.cython.checkrc._check_rc\u001b[0;34m()\u001b[0m\n",
      "\u001b[0;31mKeyboardInterrupt\u001b[0m: "
     ]
    },
    {
     "name": "stderr",
     "output_type": "stream",
     "text": [
      "Exception ignored in: 'zmq.backend.cython.message.Frame.__dealloc__'\n",
      "Traceback (most recent call last):\n",
      "  File \"zmq/backend/cython/checkrc.pxd\", line 13, in zmq.backend.cython.checkrc._check_rc\n",
      "KeyboardInterrupt\n"
     ]
    },
    {
     "ename": "KeyboardInterrupt",
     "evalue": "ignored",
     "output_type": "error",
     "traceback": [
      "\u001b[0;31m---------------------------------------------------------------------------\u001b[0m",
      "\u001b[0;31mKeyboardInterrupt\u001b[0m                         Traceback (most recent call last)",
      "\u001b[0;32m<ipython-input-92-d7fbfe49ca5a>\u001b[0m in \u001b[0;36m<module>\u001b[0;34m()\u001b[0m\n\u001b[0;32m----> 1\u001b[0;31m \u001b[0mmodel\u001b[0m \u001b[0;34m=\u001b[0m \u001b[0mbfgs_optimizer\u001b[0m\u001b[0;34m.\u001b[0m\u001b[0mminimize\u001b[0m\u001b[0;34m(\u001b[0m\u001b[0mloss_wrapper\u001b[0m\u001b[0;34m,\u001b[0m \u001b[0mmodel\u001b[0m\u001b[0;34m)\u001b[0m\u001b[0;34m\u001b[0m\u001b[0;34m\u001b[0m\u001b[0m\n\u001b[0m",
      "\u001b[0;32m/usr/local/lib/python3.6/dist-packages/tfdiffeq/bfgs_optimizer.py\u001b[0m in \u001b[0;36mminimize\u001b[0;34m(self, loss_func, model)\u001b[0m\n\u001b[1;32m    166\u001b[0m             \u001b[0mx_tolerance\u001b[0m\u001b[0;34m=\u001b[0m\u001b[0mself\u001b[0m\u001b[0;34m.\u001b[0m\u001b[0mtolerance\u001b[0m\u001b[0;34m,\u001b[0m\u001b[0;34m\u001b[0m\u001b[0;34m\u001b[0m\u001b[0m\n\u001b[1;32m    167\u001b[0m             \u001b[0mf_relative_tolerance\u001b[0m\u001b[0;34m=\u001b[0m\u001b[0mself\u001b[0m\u001b[0;34m.\u001b[0m\u001b[0mtolerance\u001b[0m\u001b[0;34m,\u001b[0m\u001b[0;34m\u001b[0m\u001b[0;34m\u001b[0m\u001b[0m\n\u001b[0;32m--> 168\u001b[0;31m             **self.bfgs_kwargs)\n\u001b[0m\u001b[1;32m    169\u001b[0m \u001b[0;34m\u001b[0m\u001b[0m\n\u001b[1;32m    170\u001b[0m         \u001b[0;31m# after training, the final optimized parameters are still in results.position\u001b[0m\u001b[0;34m\u001b[0m\u001b[0;34m\u001b[0m\u001b[0;34m\u001b[0m\u001b[0m\n",
      "\u001b[0;32m/usr/local/lib/python3.6/dist-packages/tensorflow_probability/python/optimizer/bfgs.py\u001b[0m in \u001b[0;36mminimize\u001b[0;34m(value_and_gradients_function, initial_position, tolerance, x_tolerance, f_relative_tolerance, initial_inverse_hessian_estimate, max_iterations, parallel_iterations, stopping_condition, validate_args, name)\u001b[0m\n\u001b[1;32m    284\u001b[0m         \u001b[0minitial_position\u001b[0m\u001b[0;34m,\u001b[0m\u001b[0;34m\u001b[0m\u001b[0;34m\u001b[0m\u001b[0m\n\u001b[1;32m    285\u001b[0m         \u001b[0mtolerance\u001b[0m\u001b[0;34m,\u001b[0m\u001b[0;34m\u001b[0m\u001b[0;34m\u001b[0m\u001b[0m\n\u001b[0;32m--> 286\u001b[0;31m         control_inputs)\n\u001b[0m\u001b[1;32m    287\u001b[0m     \u001b[0mkwargs\u001b[0m\u001b[0;34m[\u001b[0m\u001b[0;34m'inverse_hessian_estimate'\u001b[0m\u001b[0;34m]\u001b[0m \u001b[0;34m=\u001b[0m \u001b[0minitial_inv_hessian\u001b[0m\u001b[0;34m\u001b[0m\u001b[0;34m\u001b[0m\u001b[0m\n\u001b[1;32m    288\u001b[0m     \u001b[0minitial_state\u001b[0m \u001b[0;34m=\u001b[0m \u001b[0mBfgsOptimizerResults\u001b[0m\u001b[0;34m(\u001b[0m\u001b[0;34m**\u001b[0m\u001b[0mkwargs\u001b[0m\u001b[0;34m)\u001b[0m\u001b[0;34m\u001b[0m\u001b[0;34m\u001b[0m\u001b[0m\n",
      "\u001b[0;32m/usr/local/lib/python3.6/dist-packages/tensorflow_probability/python/optimizer/bfgs_utils.py\u001b[0m in \u001b[0;36mget_initial_state_args\u001b[0;34m(value_and_gradients_function, initial_position, grad_tolerance, control_inputs)\u001b[0m\n\u001b[1;32m     80\u001b[0m       \u001b[0mf0\u001b[0m\u001b[0;34m,\u001b[0m \u001b[0mdf0\u001b[0m \u001b[0;34m=\u001b[0m \u001b[0mvalue_and_gradients_function\u001b[0m\u001b[0;34m(\u001b[0m\u001b[0minitial_position\u001b[0m\u001b[0;34m)\u001b[0m\u001b[0;34m\u001b[0m\u001b[0;34m\u001b[0m\u001b[0m\n\u001b[1;32m     81\u001b[0m   \u001b[0;32melse\u001b[0m\u001b[0;34m:\u001b[0m\u001b[0;34m\u001b[0m\u001b[0;34m\u001b[0m\u001b[0m\n\u001b[0;32m---> 82\u001b[0;31m     \u001b[0mf0\u001b[0m\u001b[0;34m,\u001b[0m \u001b[0mdf0\u001b[0m \u001b[0;34m=\u001b[0m \u001b[0mvalue_and_gradients_function\u001b[0m\u001b[0;34m(\u001b[0m\u001b[0minitial_position\u001b[0m\u001b[0;34m)\u001b[0m\u001b[0;34m\u001b[0m\u001b[0;34m\u001b[0m\u001b[0m\n\u001b[0m\u001b[1;32m     83\u001b[0m   \u001b[0mconverged\u001b[0m \u001b[0;34m=\u001b[0m \u001b[0mnorm\u001b[0m\u001b[0;34m(\u001b[0m\u001b[0mdf0\u001b[0m\u001b[0;34m,\u001b[0m \u001b[0mdims\u001b[0m\u001b[0;34m=\u001b[0m\u001b[0;36m1\u001b[0m\u001b[0;34m)\u001b[0m \u001b[0;34m<\u001b[0m \u001b[0mgrad_tolerance\u001b[0m\u001b[0;34m\u001b[0m\u001b[0;34m\u001b[0m\u001b[0m\n\u001b[1;32m     84\u001b[0m   return dict(\n",
      "\u001b[0;32m/usr/local/lib/python3.6/dist-packages/tfdiffeq/bfgs_optimizer.py\u001b[0m in \u001b[0;36mf\u001b[0;34m(params_1d)\u001b[0m\n\u001b[1;32m     73\u001b[0m                 \u001b[0massign_new_model_parameters\u001b[0m\u001b[0;34m(\u001b[0m\u001b[0mparams_1d\u001b[0m\u001b[0;34m)\u001b[0m\u001b[0;34m\u001b[0m\u001b[0;34m\u001b[0m\u001b[0m\n\u001b[1;32m     74\u001b[0m                 \u001b[0;31m# calculate the loss\u001b[0m\u001b[0;34m\u001b[0m\u001b[0;34m\u001b[0m\u001b[0;34m\u001b[0m\u001b[0m\n\u001b[0;32m---> 75\u001b[0;31m                 \u001b[0mloss_value\u001b[0m \u001b[0;34m=\u001b[0m \u001b[0mloss_func\u001b[0m\u001b[0;34m(\u001b[0m\u001b[0mmodel\u001b[0m\u001b[0;34m)\u001b[0m\u001b[0;34m\u001b[0m\u001b[0;34m\u001b[0m\u001b[0m\n\u001b[0m\u001b[1;32m     76\u001b[0m \u001b[0;34m\u001b[0m\u001b[0m\n\u001b[1;32m     77\u001b[0m             \u001b[0;31m# calculate gradients and convert to 1D tf.Tensor\u001b[0m\u001b[0;34m\u001b[0m\u001b[0;34m\u001b[0m\u001b[0;34m\u001b[0m\u001b[0m\n",
      "\u001b[0;32m<ipython-input-91-c96441758726>\u001b[0m in \u001b[0;36mloss_wrapper\u001b[0;34m(model)\u001b[0m\n\u001b[1;32m      1\u001b[0m \u001b[0;32mdef\u001b[0m \u001b[0mloss_wrapper\u001b[0m\u001b[0;34m(\u001b[0m\u001b[0mmodel\u001b[0m\u001b[0;34m)\u001b[0m\u001b[0;34m:\u001b[0m\u001b[0;34m\u001b[0m\u001b[0;34m\u001b[0m\u001b[0m\n\u001b[1;32m      2\u001b[0m   \u001b[0;31m# Can use `adjoing_odeint` here as replacement for `adjoint_odeint`\u001b[0m\u001b[0;34m\u001b[0m\u001b[0;34m\u001b[0m\u001b[0;34m\u001b[0m\u001b[0m\n\u001b[0;32m----> 3\u001b[0;31m   \u001b[0mpreds\u001b[0m \u001b[0;34m=\u001b[0m \u001b[0modeint\u001b[0m\u001b[0;34m(\u001b[0m\u001b[0mmodel\u001b[0m\u001b[0;34m,\u001b[0m \u001b[0minitial_states_train\u001b[0m\u001b[0;34m,\u001b[0m \u001b[0mt_train\u001b[0m\u001b[0;34m,\u001b[0m \u001b[0matol\u001b[0m\u001b[0;34m=\u001b[0m\u001b[0;36m1e-8\u001b[0m\u001b[0;34m,\u001b[0m \u001b[0mrtol\u001b[0m\u001b[0;34m=\u001b[0m\u001b[0;36m1e-8\u001b[0m\u001b[0;34m)\u001b[0m\u001b[0;34m\u001b[0m\u001b[0;34m\u001b[0m\u001b[0m\n\u001b[0m\u001b[1;32m      4\u001b[0m   \u001b[0mloss\u001b[0m \u001b[0;34m=\u001b[0m \u001b[0mtf\u001b[0m\u001b[0;34m.\u001b[0m\u001b[0mreduce_mean\u001b[0m\u001b[0;34m(\u001b[0m\u001b[0mtf\u001b[0m\u001b[0;34m.\u001b[0m\u001b[0msquare\u001b[0m\u001b[0;34m(\u001b[0m\u001b[0my_real\u001b[0m \u001b[0;34m-\u001b[0m \u001b[0mpreds\u001b[0m\u001b[0;34m)\u001b[0m\u001b[0;34m)\u001b[0m\u001b[0;34m\u001b[0m\u001b[0;34m\u001b[0m\u001b[0m\n\u001b[1;32m      5\u001b[0m   \u001b[0;32mreturn\u001b[0m \u001b[0mloss\u001b[0m\u001b[0;34m\u001b[0m\u001b[0;34m\u001b[0m\u001b[0m\n",
      "\u001b[0;32m/usr/local/lib/python3.6/dist-packages/tfdiffeq/odeint.py\u001b[0m in \u001b[0;36modeint\u001b[0;34m(func, y0, t, rtol, atol, method, options)\u001b[0m\n\u001b[1;32m     80\u001b[0m \u001b[0;34m\u001b[0m\u001b[0m\n\u001b[1;32m     81\u001b[0m         \u001b[0msolver\u001b[0m \u001b[0;34m=\u001b[0m \u001b[0mSOLVERS\u001b[0m\u001b[0;34m[\u001b[0m\u001b[0mmethod\u001b[0m\u001b[0;34m]\u001b[0m\u001b[0;34m(\u001b[0m\u001b[0mfunc\u001b[0m\u001b[0;34m,\u001b[0m \u001b[0my0\u001b[0m\u001b[0;34m,\u001b[0m \u001b[0mrtol\u001b[0m\u001b[0;34m=\u001b[0m\u001b[0mrtol\u001b[0m\u001b[0;34m,\u001b[0m \u001b[0matol\u001b[0m\u001b[0;34m=\u001b[0m\u001b[0matol\u001b[0m\u001b[0;34m,\u001b[0m \u001b[0;34m**\u001b[0m\u001b[0moptions\u001b[0m\u001b[0;34m)\u001b[0m\u001b[0;34m\u001b[0m\u001b[0;34m\u001b[0m\u001b[0m\n\u001b[0;32m---> 82\u001b[0;31m         \u001b[0msolution\u001b[0m \u001b[0;34m=\u001b[0m \u001b[0msolver\u001b[0m\u001b[0;34m.\u001b[0m\u001b[0mintegrate\u001b[0m\u001b[0;34m(\u001b[0m\u001b[0mt\u001b[0m\u001b[0;34m)\u001b[0m\u001b[0;34m\u001b[0m\u001b[0;34m\u001b[0m\u001b[0m\n\u001b[0m\u001b[1;32m     83\u001b[0m \u001b[0;34m\u001b[0m\u001b[0m\n\u001b[1;32m     84\u001b[0m         \u001b[0;32mif\u001b[0m \u001b[0mtensor_input\u001b[0m\u001b[0;34m:\u001b[0m\u001b[0;34m\u001b[0m\u001b[0;34m\u001b[0m\u001b[0m\n",
      "\u001b[0;32m/usr/local/lib/python3.6/dist-packages/tfdiffeq/solvers.py\u001b[0m in \u001b[0;36mintegrate\u001b[0;34m(self, t)\u001b[0m\n\u001b[1;32m     32\u001b[0m         \u001b[0mself\u001b[0m\u001b[0;34m.\u001b[0m\u001b[0mbefore_integrate\u001b[0m\u001b[0;34m(\u001b[0m\u001b[0mt\u001b[0m\u001b[0;34m)\u001b[0m\u001b[0;34m\u001b[0m\u001b[0;34m\u001b[0m\u001b[0m\n\u001b[1;32m     33\u001b[0m         \u001b[0;32mfor\u001b[0m \u001b[0mi\u001b[0m \u001b[0;32min\u001b[0m \u001b[0mrange\u001b[0m\u001b[0;34m(\u001b[0m\u001b[0;36m1\u001b[0m\u001b[0;34m,\u001b[0m \u001b[0mt\u001b[0m\u001b[0;34m.\u001b[0m\u001b[0mshape\u001b[0m\u001b[0;34m[\u001b[0m\u001b[0;36m0\u001b[0m\u001b[0;34m]\u001b[0m\u001b[0;34m)\u001b[0m\u001b[0;34m:\u001b[0m\u001b[0;34m\u001b[0m\u001b[0;34m\u001b[0m\u001b[0m\n\u001b[0;32m---> 34\u001b[0;31m             \u001b[0my\u001b[0m \u001b[0;34m=\u001b[0m \u001b[0mself\u001b[0m\u001b[0;34m.\u001b[0m\u001b[0madvance\u001b[0m\u001b[0;34m(\u001b[0m\u001b[0mt\u001b[0m\u001b[0;34m[\u001b[0m\u001b[0mi\u001b[0m\u001b[0;34m]\u001b[0m\u001b[0;34m)\u001b[0m\u001b[0;34m\u001b[0m\u001b[0;34m\u001b[0m\u001b[0m\n\u001b[0m\u001b[1;32m     35\u001b[0m             \u001b[0my\u001b[0m \u001b[0;34m=\u001b[0m \u001b[0mcast_double\u001b[0m\u001b[0;34m(\u001b[0m\u001b[0my\u001b[0m\u001b[0;34m)\u001b[0m\u001b[0;34m\u001b[0m\u001b[0;34m\u001b[0m\u001b[0m\n\u001b[1;32m     36\u001b[0m             \u001b[0msolution\u001b[0m\u001b[0;34m.\u001b[0m\u001b[0mappend\u001b[0m\u001b[0;34m(\u001b[0m\u001b[0my\u001b[0m\u001b[0;34m)\u001b[0m\u001b[0;34m\u001b[0m\u001b[0;34m\u001b[0m\u001b[0m\n",
      "\u001b[0;32m/usr/local/lib/python3.6/dist-packages/tfdiffeq/dopri5.py\u001b[0m in \u001b[0;36madvance\u001b[0;34m(self, next_t)\u001b[0m\n\u001b[1;32m     94\u001b[0m         \u001b[0;32mwhile\u001b[0m \u001b[0mnext_t\u001b[0m \u001b[0;34m>\u001b[0m \u001b[0mself\u001b[0m\u001b[0;34m.\u001b[0m\u001b[0mrk_state\u001b[0m\u001b[0;34m.\u001b[0m\u001b[0mt1\u001b[0m\u001b[0;34m:\u001b[0m\u001b[0;34m\u001b[0m\u001b[0;34m\u001b[0m\u001b[0m\n\u001b[1;32m     95\u001b[0m             \u001b[0;32massert\u001b[0m \u001b[0mn_steps\u001b[0m \u001b[0;34m<\u001b[0m \u001b[0mself\u001b[0m\u001b[0;34m.\u001b[0m\u001b[0mmax_num_steps\u001b[0m\u001b[0;34m,\u001b[0m \u001b[0;34m'max_num_steps exceeded ({}>={})'\u001b[0m\u001b[0;34m.\u001b[0m\u001b[0mformat\u001b[0m\u001b[0;34m(\u001b[0m\u001b[0mn_steps\u001b[0m\u001b[0;34m,\u001b[0m \u001b[0mself\u001b[0m\u001b[0;34m.\u001b[0m\u001b[0mmax_num_steps\u001b[0m\u001b[0;34m)\u001b[0m\u001b[0;34m\u001b[0m\u001b[0;34m\u001b[0m\u001b[0m\n\u001b[0;32m---> 96\u001b[0;31m             \u001b[0mself\u001b[0m\u001b[0;34m.\u001b[0m\u001b[0mrk_state\u001b[0m \u001b[0;34m=\u001b[0m \u001b[0mself\u001b[0m\u001b[0;34m.\u001b[0m\u001b[0m_adaptive_dopri5_step\u001b[0m\u001b[0;34m(\u001b[0m\u001b[0mself\u001b[0m\u001b[0;34m.\u001b[0m\u001b[0mrk_state\u001b[0m\u001b[0;34m)\u001b[0m\u001b[0;34m\u001b[0m\u001b[0;34m\u001b[0m\u001b[0m\n\u001b[0m\u001b[1;32m     97\u001b[0m             \u001b[0mn_steps\u001b[0m \u001b[0;34m+=\u001b[0m \u001b[0;36m1\u001b[0m\u001b[0;34m\u001b[0m\u001b[0;34m\u001b[0m\u001b[0m\n\u001b[1;32m     98\u001b[0m         \u001b[0;32mreturn\u001b[0m \u001b[0m_interp_evaluate\u001b[0m\u001b[0;34m(\u001b[0m\u001b[0mself\u001b[0m\u001b[0;34m.\u001b[0m\u001b[0mrk_state\u001b[0m\u001b[0;34m.\u001b[0m\u001b[0minterp_coeff\u001b[0m\u001b[0;34m,\u001b[0m \u001b[0mself\u001b[0m\u001b[0;34m.\u001b[0m\u001b[0mrk_state\u001b[0m\u001b[0;34m.\u001b[0m\u001b[0mt0\u001b[0m\u001b[0;34m,\u001b[0m \u001b[0mself\u001b[0m\u001b[0;34m.\u001b[0m\u001b[0mrk_state\u001b[0m\u001b[0;34m.\u001b[0m\u001b[0mt1\u001b[0m\u001b[0;34m,\u001b[0m \u001b[0mnext_t\u001b[0m\u001b[0;34m)\u001b[0m\u001b[0;34m\u001b[0m\u001b[0;34m\u001b[0m\u001b[0m\n",
      "\u001b[0;32m/usr/local/lib/python3.6/dist-packages/tfdiffeq/dopri5.py\u001b[0m in \u001b[0;36m_adaptive_dopri5_step\u001b[0;34m(self, rk_state)\u001b[0m\n\u001b[1;32m    108\u001b[0m         \u001b[0;32mfor\u001b[0m \u001b[0my0_\u001b[0m \u001b[0;32min\u001b[0m \u001b[0my0\u001b[0m\u001b[0;34m:\u001b[0m\u001b[0;34m\u001b[0m\u001b[0;34m\u001b[0m\u001b[0m\n\u001b[1;32m    109\u001b[0m             \u001b[0;32massert\u001b[0m \u001b[0m_is_finite\u001b[0m\u001b[0;34m(\u001b[0m\u001b[0mtf\u001b[0m\u001b[0;34m.\u001b[0m\u001b[0mabs\u001b[0m\u001b[0;34m(\u001b[0m\u001b[0my0_\u001b[0m\u001b[0;34m)\u001b[0m\u001b[0;34m)\u001b[0m\u001b[0;34m,\u001b[0m \u001b[0;34m'non-finite values in state `y`: {}'\u001b[0m\u001b[0;34m.\u001b[0m\u001b[0mformat\u001b[0m\u001b[0;34m(\u001b[0m\u001b[0my0_\u001b[0m\u001b[0;34m)\u001b[0m\u001b[0;34m\u001b[0m\u001b[0;34m\u001b[0m\u001b[0m\n\u001b[0;32m--> 110\u001b[0;31m         \u001b[0my1\u001b[0m\u001b[0;34m,\u001b[0m \u001b[0mf1\u001b[0m\u001b[0;34m,\u001b[0m \u001b[0my1_error\u001b[0m\u001b[0;34m,\u001b[0m \u001b[0mk\u001b[0m \u001b[0;34m=\u001b[0m \u001b[0m_runge_kutta_step\u001b[0m\u001b[0;34m(\u001b[0m\u001b[0mself\u001b[0m\u001b[0;34m.\u001b[0m\u001b[0mfunc\u001b[0m\u001b[0;34m,\u001b[0m \u001b[0my0\u001b[0m\u001b[0;34m,\u001b[0m \u001b[0mf0\u001b[0m\u001b[0;34m,\u001b[0m \u001b[0mt0\u001b[0m\u001b[0;34m,\u001b[0m \u001b[0mdt\u001b[0m\u001b[0;34m,\u001b[0m \u001b[0mtableau\u001b[0m\u001b[0;34m=\u001b[0m\u001b[0mself\u001b[0m\u001b[0;34m.\u001b[0m\u001b[0mtableau\u001b[0m\u001b[0;34m)\u001b[0m\u001b[0;34m\u001b[0m\u001b[0;34m\u001b[0m\u001b[0m\n\u001b[0m\u001b[1;32m    111\u001b[0m \u001b[0;34m\u001b[0m\u001b[0m\n\u001b[1;32m    112\u001b[0m         \u001b[0;31m########################################################\u001b[0m\u001b[0;34m\u001b[0m\u001b[0;34m\u001b[0m\u001b[0;34m\u001b[0m\u001b[0m\n",
      "\u001b[0;32m/usr/local/lib/python3.6/dist-packages/tfdiffeq/rk_common.py\u001b[0m in \u001b[0;36m_runge_kutta_step\u001b[0;34m(func, y0, f0, t0, dt, tableau)\u001b[0m\n\u001b[1;32m     52\u001b[0m     \u001b[0;32mfor\u001b[0m \u001b[0malpha_i\u001b[0m\u001b[0;34m,\u001b[0m \u001b[0mbeta_i\u001b[0m \u001b[0;32min\u001b[0m \u001b[0mzip\u001b[0m\u001b[0;34m(\u001b[0m\u001b[0mtableau\u001b[0m\u001b[0;34m.\u001b[0m\u001b[0malpha\u001b[0m\u001b[0;34m,\u001b[0m \u001b[0mtableau\u001b[0m\u001b[0;34m.\u001b[0m\u001b[0mbeta\u001b[0m\u001b[0;34m)\u001b[0m\u001b[0;34m:\u001b[0m\u001b[0;34m\u001b[0m\u001b[0;34m\u001b[0m\u001b[0m\n\u001b[1;32m     53\u001b[0m         \u001b[0mti\u001b[0m \u001b[0;34m=\u001b[0m \u001b[0mt0\u001b[0m \u001b[0;34m+\u001b[0m \u001b[0malpha_i\u001b[0m \u001b[0;34m*\u001b[0m \u001b[0mdt\u001b[0m\u001b[0;34m\u001b[0m\u001b[0;34m\u001b[0m\u001b[0m\n\u001b[0;32m---> 54\u001b[0;31m         \u001b[0myi\u001b[0m \u001b[0;34m=\u001b[0m \u001b[0mtuple\u001b[0m\u001b[0;34m(\u001b[0m\u001b[0my0_\u001b[0m \u001b[0;34m+\u001b[0m \u001b[0m_scaled_dot_product\u001b[0m\u001b[0;34m(\u001b[0m\u001b[0mdt\u001b[0m\u001b[0;34m,\u001b[0m \u001b[0mcast_double\u001b[0m\u001b[0;34m(\u001b[0m\u001b[0mbeta_i\u001b[0m\u001b[0;34m)\u001b[0m\u001b[0;34m,\u001b[0m \u001b[0mk_\u001b[0m\u001b[0;34m)\u001b[0m \u001b[0;32mfor\u001b[0m \u001b[0my0_\u001b[0m\u001b[0;34m,\u001b[0m \u001b[0mk_\u001b[0m \u001b[0;32min\u001b[0m \u001b[0mzip\u001b[0m\u001b[0;34m(\u001b[0m\u001b[0my0\u001b[0m\u001b[0;34m,\u001b[0m \u001b[0mk\u001b[0m\u001b[0;34m)\u001b[0m\u001b[0;34m)\u001b[0m\u001b[0;34m\u001b[0m\u001b[0;34m\u001b[0m\u001b[0m\n\u001b[0m\u001b[1;32m     55\u001b[0m         \u001b[0mtuple\u001b[0m\u001b[0;34m(\u001b[0m\u001b[0mk_\u001b[0m\u001b[0;34m.\u001b[0m\u001b[0mappend\u001b[0m\u001b[0;34m(\u001b[0m\u001b[0mcast_double\u001b[0m\u001b[0;34m(\u001b[0m\u001b[0mf_\u001b[0m\u001b[0;34m)\u001b[0m\u001b[0;34m)\u001b[0m \u001b[0;32mfor\u001b[0m \u001b[0mk_\u001b[0m\u001b[0;34m,\u001b[0m \u001b[0mf_\u001b[0m \u001b[0;32min\u001b[0m \u001b[0mzip\u001b[0m\u001b[0;34m(\u001b[0m\u001b[0mk\u001b[0m\u001b[0;34m,\u001b[0m \u001b[0mfunc\u001b[0m\u001b[0;34m(\u001b[0m\u001b[0mti\u001b[0m\u001b[0;34m,\u001b[0m \u001b[0myi\u001b[0m\u001b[0;34m)\u001b[0m\u001b[0;34m)\u001b[0m\u001b[0;34m)\u001b[0m\u001b[0;34m\u001b[0m\u001b[0;34m\u001b[0m\u001b[0m\n\u001b[1;32m     56\u001b[0m \u001b[0;34m\u001b[0m\u001b[0m\n",
      "\u001b[0;32m/usr/local/lib/python3.6/dist-packages/tfdiffeq/rk_common.py\u001b[0m in \u001b[0;36m<genexpr>\u001b[0;34m(.0)\u001b[0m\n\u001b[1;32m     52\u001b[0m     \u001b[0;32mfor\u001b[0m \u001b[0malpha_i\u001b[0m\u001b[0;34m,\u001b[0m \u001b[0mbeta_i\u001b[0m \u001b[0;32min\u001b[0m \u001b[0mzip\u001b[0m\u001b[0;34m(\u001b[0m\u001b[0mtableau\u001b[0m\u001b[0;34m.\u001b[0m\u001b[0malpha\u001b[0m\u001b[0;34m,\u001b[0m \u001b[0mtableau\u001b[0m\u001b[0;34m.\u001b[0m\u001b[0mbeta\u001b[0m\u001b[0;34m)\u001b[0m\u001b[0;34m:\u001b[0m\u001b[0;34m\u001b[0m\u001b[0;34m\u001b[0m\u001b[0m\n\u001b[1;32m     53\u001b[0m         \u001b[0mti\u001b[0m \u001b[0;34m=\u001b[0m \u001b[0mt0\u001b[0m \u001b[0;34m+\u001b[0m \u001b[0malpha_i\u001b[0m \u001b[0;34m*\u001b[0m \u001b[0mdt\u001b[0m\u001b[0;34m\u001b[0m\u001b[0;34m\u001b[0m\u001b[0m\n\u001b[0;32m---> 54\u001b[0;31m         \u001b[0myi\u001b[0m \u001b[0;34m=\u001b[0m \u001b[0mtuple\u001b[0m\u001b[0;34m(\u001b[0m\u001b[0my0_\u001b[0m \u001b[0;34m+\u001b[0m \u001b[0m_scaled_dot_product\u001b[0m\u001b[0;34m(\u001b[0m\u001b[0mdt\u001b[0m\u001b[0;34m,\u001b[0m \u001b[0mcast_double\u001b[0m\u001b[0;34m(\u001b[0m\u001b[0mbeta_i\u001b[0m\u001b[0;34m)\u001b[0m\u001b[0;34m,\u001b[0m \u001b[0mk_\u001b[0m\u001b[0;34m)\u001b[0m \u001b[0;32mfor\u001b[0m \u001b[0my0_\u001b[0m\u001b[0;34m,\u001b[0m \u001b[0mk_\u001b[0m \u001b[0;32min\u001b[0m \u001b[0mzip\u001b[0m\u001b[0;34m(\u001b[0m\u001b[0my0\u001b[0m\u001b[0;34m,\u001b[0m \u001b[0mk\u001b[0m\u001b[0;34m)\u001b[0m\u001b[0;34m)\u001b[0m\u001b[0;34m\u001b[0m\u001b[0;34m\u001b[0m\u001b[0m\n\u001b[0m\u001b[1;32m     55\u001b[0m         \u001b[0mtuple\u001b[0m\u001b[0;34m(\u001b[0m\u001b[0mk_\u001b[0m\u001b[0;34m.\u001b[0m\u001b[0mappend\u001b[0m\u001b[0;34m(\u001b[0m\u001b[0mcast_double\u001b[0m\u001b[0;34m(\u001b[0m\u001b[0mf_\u001b[0m\u001b[0;34m)\u001b[0m\u001b[0;34m)\u001b[0m \u001b[0;32mfor\u001b[0m \u001b[0mk_\u001b[0m\u001b[0;34m,\u001b[0m \u001b[0mf_\u001b[0m \u001b[0;32min\u001b[0m \u001b[0mzip\u001b[0m\u001b[0;34m(\u001b[0m\u001b[0mk\u001b[0m\u001b[0;34m,\u001b[0m \u001b[0mfunc\u001b[0m\u001b[0;34m(\u001b[0m\u001b[0mti\u001b[0m\u001b[0;34m,\u001b[0m \u001b[0myi\u001b[0m\u001b[0;34m)\u001b[0m\u001b[0;34m)\u001b[0m\u001b[0;34m)\u001b[0m\u001b[0;34m\u001b[0m\u001b[0;34m\u001b[0m\u001b[0m\n\u001b[1;32m     56\u001b[0m \u001b[0;34m\u001b[0m\u001b[0m\n",
      "\u001b[0;32m/usr/local/lib/python3.6/dist-packages/tfdiffeq/misc.py\u001b[0m in \u001b[0;36m_scaled_dot_product\u001b[0;34m(scale, xs, ys)\u001b[0m\n\u001b[1;32m    162\u001b[0m     \u001b[0;34m\"\"\"Calculate a scaled, vector inner product between lists of Tensors.\"\"\"\u001b[0m\u001b[0;34m\u001b[0m\u001b[0;34m\u001b[0m\u001b[0m\n\u001b[1;32m    163\u001b[0m     \u001b[0;31m# Using _possibly_nonzero lets us avoid wasted computation.\u001b[0m\u001b[0;34m\u001b[0m\u001b[0;34m\u001b[0m\u001b[0;34m\u001b[0m\u001b[0m\n\u001b[0;32m--> 164\u001b[0;31m     \u001b[0;32mreturn\u001b[0m \u001b[0msum\u001b[0m\u001b[0;34m(\u001b[0m\u001b[0;34m[\u001b[0m\u001b[0;34m(\u001b[0m\u001b[0mscale\u001b[0m \u001b[0;34m*\u001b[0m \u001b[0mx\u001b[0m\u001b[0;34m)\u001b[0m \u001b[0;34m*\u001b[0m \u001b[0my\u001b[0m \u001b[0;32mfor\u001b[0m \u001b[0mx\u001b[0m\u001b[0;34m,\u001b[0m \u001b[0my\u001b[0m \u001b[0;32min\u001b[0m \u001b[0mzip\u001b[0m\u001b[0;34m(\u001b[0m\u001b[0mxs\u001b[0m\u001b[0;34m,\u001b[0m \u001b[0mys\u001b[0m\u001b[0;34m)\u001b[0m \u001b[0;32mif\u001b[0m \u001b[0m_possibly_nonzero\u001b[0m\u001b[0;34m(\u001b[0m\u001b[0mx\u001b[0m\u001b[0;34m)\u001b[0m \u001b[0;32mor\u001b[0m \u001b[0m_possibly_nonzero\u001b[0m\u001b[0;34m(\u001b[0m\u001b[0my\u001b[0m\u001b[0;34m)\u001b[0m\u001b[0;34m]\u001b[0m\u001b[0;34m)\u001b[0m\u001b[0;34m\u001b[0m\u001b[0;34m\u001b[0m\u001b[0m\n\u001b[0m\u001b[1;32m    165\u001b[0m \u001b[0;34m\u001b[0m\u001b[0m\n\u001b[1;32m    166\u001b[0m \u001b[0;34m\u001b[0m\u001b[0m\n",
      "\u001b[0;32m/usr/local/lib/python3.6/dist-packages/tfdiffeq/misc.py\u001b[0m in \u001b[0;36m<listcomp>\u001b[0;34m(.0)\u001b[0m\n\u001b[1;32m    162\u001b[0m     \u001b[0;34m\"\"\"Calculate a scaled, vector inner product between lists of Tensors.\"\"\"\u001b[0m\u001b[0;34m\u001b[0m\u001b[0;34m\u001b[0m\u001b[0m\n\u001b[1;32m    163\u001b[0m     \u001b[0;31m# Using _possibly_nonzero lets us avoid wasted computation.\u001b[0m\u001b[0;34m\u001b[0m\u001b[0;34m\u001b[0m\u001b[0;34m\u001b[0m\u001b[0m\n\u001b[0;32m--> 164\u001b[0;31m     \u001b[0;32mreturn\u001b[0m \u001b[0msum\u001b[0m\u001b[0;34m(\u001b[0m\u001b[0;34m[\u001b[0m\u001b[0;34m(\u001b[0m\u001b[0mscale\u001b[0m \u001b[0;34m*\u001b[0m \u001b[0mx\u001b[0m\u001b[0;34m)\u001b[0m \u001b[0;34m*\u001b[0m \u001b[0my\u001b[0m \u001b[0;32mfor\u001b[0m \u001b[0mx\u001b[0m\u001b[0;34m,\u001b[0m \u001b[0my\u001b[0m \u001b[0;32min\u001b[0m \u001b[0mzip\u001b[0m\u001b[0;34m(\u001b[0m\u001b[0mxs\u001b[0m\u001b[0;34m,\u001b[0m \u001b[0mys\u001b[0m\u001b[0;34m)\u001b[0m \u001b[0;32mif\u001b[0m \u001b[0m_possibly_nonzero\u001b[0m\u001b[0;34m(\u001b[0m\u001b[0mx\u001b[0m\u001b[0;34m)\u001b[0m \u001b[0;32mor\u001b[0m \u001b[0m_possibly_nonzero\u001b[0m\u001b[0;34m(\u001b[0m\u001b[0my\u001b[0m\u001b[0;34m)\u001b[0m\u001b[0;34m]\u001b[0m\u001b[0;34m)\u001b[0m\u001b[0;34m\u001b[0m\u001b[0;34m\u001b[0m\u001b[0m\n\u001b[0m\u001b[1;32m    165\u001b[0m \u001b[0;34m\u001b[0m\u001b[0m\n\u001b[1;32m    166\u001b[0m \u001b[0;34m\u001b[0m\u001b[0m\n",
      "\u001b[0;32m/usr/local/lib/python3.6/dist-packages/tensorflow/python/framework/ops.py\u001b[0m in \u001b[0;36m__next__\u001b[0;34m(self)\u001b[0m\n\u001b[1;32m   6738\u001b[0m     \u001b[0;32mif\u001b[0m \u001b[0mself\u001b[0m\u001b[0;34m.\u001b[0m\u001b[0m_index\u001b[0m \u001b[0;34m==\u001b[0m \u001b[0mself\u001b[0m\u001b[0;34m.\u001b[0m\u001b[0m_limit\u001b[0m\u001b[0;34m:\u001b[0m\u001b[0;34m\u001b[0m\u001b[0;34m\u001b[0m\u001b[0m\n\u001b[1;32m   6739\u001b[0m       \u001b[0;32mraise\u001b[0m \u001b[0mStopIteration\u001b[0m\u001b[0;34m\u001b[0m\u001b[0;34m\u001b[0m\u001b[0m\n\u001b[0;32m-> 6740\u001b[0;31m     \u001b[0mresult\u001b[0m \u001b[0;34m=\u001b[0m \u001b[0mself\u001b[0m\u001b[0;34m.\u001b[0m\u001b[0m_tensor\u001b[0m\u001b[0;34m[\u001b[0m\u001b[0mself\u001b[0m\u001b[0;34m.\u001b[0m\u001b[0m_index\u001b[0m\u001b[0;34m]\u001b[0m\u001b[0;34m\u001b[0m\u001b[0;34m\u001b[0m\u001b[0m\n\u001b[0m\u001b[1;32m   6741\u001b[0m     \u001b[0mself\u001b[0m\u001b[0;34m.\u001b[0m\u001b[0m_index\u001b[0m \u001b[0;34m+=\u001b[0m \u001b[0;36m1\u001b[0m\u001b[0;34m\u001b[0m\u001b[0;34m\u001b[0m\u001b[0m\n\u001b[1;32m   6742\u001b[0m     \u001b[0;32mreturn\u001b[0m \u001b[0mresult\u001b[0m\u001b[0;34m\u001b[0m\u001b[0;34m\u001b[0m\u001b[0m\n",
      "\u001b[0;32m/usr/local/lib/python3.6/dist-packages/tensorflow/python/ops/array_ops.py\u001b[0m in \u001b[0;36m_slice_helper\u001b[0;34m(tensor, slice_spec, var)\u001b[0m\n\u001b[1;32m    957\u001b[0m       skip_on_eager=False) as name:\n\u001b[1;32m    958\u001b[0m     \u001b[0;32mif\u001b[0m \u001b[0mbegin\u001b[0m\u001b[0;34m:\u001b[0m\u001b[0;34m\u001b[0m\u001b[0;34m\u001b[0m\u001b[0m\n\u001b[0;32m--> 959\u001b[0;31m       packed_begin, packed_end, packed_strides = (stack(begin), stack(end),\n\u001b[0m\u001b[1;32m    960\u001b[0m                                                   stack(strides))\n\u001b[1;32m    961\u001b[0m       if (packed_begin.dtype == dtypes.int64 or\n",
      "\u001b[0;32m/usr/local/lib/python3.6/dist-packages/tensorflow/python/util/dispatch.py\u001b[0m in \u001b[0;36mwrapper\u001b[0;34m(*args, **kwargs)\u001b[0m\n\u001b[1;32m    178\u001b[0m     \u001b[0;34m\"\"\"Call target, and fall back on dispatchers if there is a TypeError.\"\"\"\u001b[0m\u001b[0;34m\u001b[0m\u001b[0;34m\u001b[0m\u001b[0m\n\u001b[1;32m    179\u001b[0m     \u001b[0;32mtry\u001b[0m\u001b[0;34m:\u001b[0m\u001b[0;34m\u001b[0m\u001b[0;34m\u001b[0m\u001b[0m\n\u001b[0;32m--> 180\u001b[0;31m       \u001b[0;32mreturn\u001b[0m \u001b[0mtarget\u001b[0m\u001b[0;34m(\u001b[0m\u001b[0;34m*\u001b[0m\u001b[0margs\u001b[0m\u001b[0;34m,\u001b[0m \u001b[0;34m**\u001b[0m\u001b[0mkwargs\u001b[0m\u001b[0;34m)\u001b[0m\u001b[0;34m\u001b[0m\u001b[0;34m\u001b[0m\u001b[0m\n\u001b[0m\u001b[1;32m    181\u001b[0m     \u001b[0;32mexcept\u001b[0m \u001b[0;34m(\u001b[0m\u001b[0mTypeError\u001b[0m\u001b[0;34m,\u001b[0m \u001b[0mValueError\u001b[0m\u001b[0;34m)\u001b[0m\u001b[0;34m:\u001b[0m\u001b[0;34m\u001b[0m\u001b[0;34m\u001b[0m\u001b[0m\n\u001b[1;32m    182\u001b[0m       \u001b[0;31m# Note: convert_to_eager_tensor currently raises a ValueError, not a\u001b[0m\u001b[0;34m\u001b[0m\u001b[0;34m\u001b[0m\u001b[0;34m\u001b[0m\u001b[0m\n",
      "\u001b[0;32m/usr/local/lib/python3.6/dist-packages/tensorflow/python/ops/array_ops.py\u001b[0m in \u001b[0;36mstack\u001b[0;34m(values, axis, name)\u001b[0m\n\u001b[1;32m   1329\u001b[0m     \u001b[0;32mtry\u001b[0m\u001b[0;34m:\u001b[0m\u001b[0;34m\u001b[0m\u001b[0;34m\u001b[0m\u001b[0m\n\u001b[1;32m   1330\u001b[0m       \u001b[0;31m# If the input is a constant list, it can be converted to a constant op\u001b[0m\u001b[0;34m\u001b[0m\u001b[0;34m\u001b[0m\u001b[0;34m\u001b[0m\u001b[0m\n\u001b[0;32m-> 1331\u001b[0;31m       \u001b[0;32mreturn\u001b[0m \u001b[0mops\u001b[0m\u001b[0;34m.\u001b[0m\u001b[0mconvert_to_tensor\u001b[0m\u001b[0;34m(\u001b[0m\u001b[0mvalues\u001b[0m\u001b[0;34m,\u001b[0m \u001b[0mname\u001b[0m\u001b[0;34m=\u001b[0m\u001b[0mname\u001b[0m\u001b[0;34m)\u001b[0m\u001b[0;34m\u001b[0m\u001b[0;34m\u001b[0m\u001b[0m\n\u001b[0m\u001b[1;32m   1332\u001b[0m     \u001b[0;32mexcept\u001b[0m \u001b[0;34m(\u001b[0m\u001b[0mTypeError\u001b[0m\u001b[0;34m,\u001b[0m \u001b[0mValueError\u001b[0m\u001b[0;34m)\u001b[0m\u001b[0;34m:\u001b[0m\u001b[0;34m\u001b[0m\u001b[0;34m\u001b[0m\u001b[0m\n\u001b[1;32m   1333\u001b[0m       \u001b[0;32mpass\u001b[0m  \u001b[0;31m# Input list contains non-constant tensors\u001b[0m\u001b[0;34m\u001b[0m\u001b[0;34m\u001b[0m\u001b[0m\n",
      "\u001b[0;32m/usr/local/lib/python3.6/dist-packages/tensorflow/python/framework/ops.py\u001b[0m in \u001b[0;36mconvert_to_tensor\u001b[0;34m(value, dtype, name, as_ref, preferred_dtype, dtype_hint, ctx, accepted_result_types)\u001b[0m\n\u001b[1;32m   1320\u001b[0m   \u001b[0;32mif\u001b[0m \u001b[0mpreferred_dtype\u001b[0m \u001b[0;32mis\u001b[0m \u001b[0;32mnot\u001b[0m \u001b[0;32mNone\u001b[0m\u001b[0;34m:\u001b[0m\u001b[0;34m\u001b[0m\u001b[0;34m\u001b[0m\u001b[0m\n\u001b[1;32m   1321\u001b[0m     \u001b[0mpreferred_dtype\u001b[0m \u001b[0;34m=\u001b[0m \u001b[0mdtypes\u001b[0m\u001b[0;34m.\u001b[0m\u001b[0mas_dtype\u001b[0m\u001b[0;34m(\u001b[0m\u001b[0mpreferred_dtype\u001b[0m\u001b[0;34m)\u001b[0m\u001b[0;34m\u001b[0m\u001b[0;34m\u001b[0m\u001b[0m\n\u001b[0;32m-> 1322\u001b[0;31m   \u001b[0;32mfor\u001b[0m \u001b[0mbase_type\u001b[0m\u001b[0;34m,\u001b[0m \u001b[0mconversion_func\u001b[0m \u001b[0;32min\u001b[0m \u001b[0mtensor_conversion_registry\u001b[0m\u001b[0;34m.\u001b[0m\u001b[0mget\u001b[0m\u001b[0;34m(\u001b[0m\u001b[0mtype\u001b[0m\u001b[0;34m(\u001b[0m\u001b[0mvalue\u001b[0m\u001b[0;34m)\u001b[0m\u001b[0;34m)\u001b[0m\u001b[0;34m:\u001b[0m\u001b[0;34m\u001b[0m\u001b[0;34m\u001b[0m\u001b[0m\n\u001b[0m\u001b[1;32m   1323\u001b[0m     \u001b[0;31m# If dtype is None but preferred_dtype is not None, we try to\u001b[0m\u001b[0;34m\u001b[0m\u001b[0;34m\u001b[0m\u001b[0;34m\u001b[0m\u001b[0m\n\u001b[1;32m   1324\u001b[0m     \u001b[0;31m# cast to preferred_dtype first.\u001b[0m\u001b[0;34m\u001b[0m\u001b[0;34m\u001b[0m\u001b[0;34m\u001b[0m\u001b[0m\n",
      "\u001b[0;31mKeyboardInterrupt\u001b[0m: "
     ]
    }
   ],
   "source": [
    "model = bfgs_optimizer.minimize(loss_wrapper, model)"
   ]
  },
  {
   "cell_type": "markdown",
   "metadata": {
    "colab_type": "text",
    "id": "h2JGIGK7aOi-"
   },
   "source": [
    "## Lets print the learned parameters of this ODE"
   ]
  },
  {
   "cell_type": "code",
   "execution_count": 113,
   "metadata": {
    "colab": {
     "base_uri": "https://localhost:8080/",
     "height": 87
    },
    "colab_type": "code",
    "id": "OOSLwpc-aNSw",
    "outputId": "769598db-9142-4741-dca5-92bea85c43c3"
   },
   "outputs": [
    {
     "data": {
      "text/plain": [
       "[0.494555407395403,\n",
       " 0.02443678907946571,\n",
       " 0.7949255763294267,\n",
       " 0.024317046388837187]"
      ]
     },
     "execution_count": 113,
     "metadata": {
      "tags": []
     },
     "output_type": "execute_result"
    }
   ],
   "source": [
    "params = tf.math.abs(model.trainable_variables[0])\n",
    "params.numpy().tolist()"
   ]
  },
  {
   "cell_type": "markdown",
   "metadata": {
    "colab_type": "text",
    "id": "scoYwBqEWrvc"
   },
   "source": [
    "# Finally, lets extrapolate the derived ODE !"
   ]
  },
  {
   "cell_type": "code",
   "execution_count": null,
   "metadata": {
    "colab": {
     "base_uri": "https://localhost:8080/",
     "height": 142
    },
    "colab_type": "code",
    "id": "BdluyouWWwgu",
    "outputId": "07804f27-7960-4a0d-eb9a-c215b77c60cf"
   },
   "outputs": [
    {
     "name": "stdout",
     "output_type": "stream",
     "text": [
      "WARNING:tensorflow:Entity <bound method LotkaVoltera.call of <tensorflow.python.eager.function.TfMethodTarget object at 0x7fd5778e6240>> could not be transformed and will be executed as-is. Please report this to the AutoGraph team. When filing the bug, set the verbosity to 10 (on Linux, `export AUTOGRAPH_VERBOSITY=10`) and attach the full output. Cause: Bad argument number for Name: 3, expecting 4\n",
      "WARNING: Entity <bound method LotkaVoltera.call of <tensorflow.python.eager.function.TfMethodTarget object at 0x7fd5778e6240>> could not be transformed and will be executed as-is. Please report this to the AutoGraph team. When filing the bug, set the verbosity to 10 (on Linux, `export AUTOGRAPH_VERBOSITY=10`) and attach the full output. Cause: Bad argument number for Name: 3, expecting 4\n",
      "WARNING:tensorflow:Entity <bound method LotkaVoltera.call of <tensorflow.python.eager.function.TfMethodTarget object at 0x7fd577960978>> could not be transformed and will be executed as-is. Please report this to the AutoGraph team. When filing the bug, set the verbosity to 10 (on Linux, `export AUTOGRAPH_VERBOSITY=10`) and attach the full output. Cause: Bad argument number for Name: 3, expecting 4\n",
      "WARNING: Entity <bound method LotkaVoltera.call of <tensorflow.python.eager.function.TfMethodTarget object at 0x7fd577960978>> could not be transformed and will be executed as-is. Please report this to the AutoGraph team. When filing the bug, set the verbosity to 10 (on Linux, `export AUTOGRAPH_VERBOSITY=10`) and attach the full output. Cause: Bad argument number for Name: 3, expecting 4\n",
      "CPU times: user 5.49 s, sys: 78.2 ms, total: 5.57 s\n",
      "Wall time: 5.4 s\n"
     ]
    }
   ],
   "source": [
    "%%time\n",
    "\n",
    "a_dash = 1.4999991609739252\n",
    "b_dash = 0.9999962444516388\n",
    "c_dash = 2.999976055259427\n",
    "d_dash = 0.9999915353099846\n",
    "\n",
    "t_extrapolate = tf.linspace(0., 10.0, num=1000)  # Train for just 3 seconds of input\n",
    "initial_states_extrapolate = tf.convert_to_tensor([1, 1], dtype=tf.float64)\n",
    "\n",
    "with tf.device(device):\n",
    "    extrapolation_model = LotkaVoltera(a_dash, b_dash, c_dash, d_dash)\n",
    "    extrapolated_results = odeint(extrapolation_model, initial_states_extrapolate, t_extrapolate)\n",
    "    real_results = odeint(LotkaVoltera(a, b, c, d), initial_states_extrapolate, t_extrapolate)"
   ]
  },
  {
   "cell_type": "code",
   "execution_count": null,
   "metadata": {
    "colab": {
     "base_uri": "https://localhost:8080/",
     "height": 288
    },
    "colab_type": "code",
    "id": "vwlHQDtRXnNj",
    "outputId": "6b955fea-c90b-4f50-f3ac-1a26b33ce8ba"
   },
   "outputs": [
    {
     "data": {
      "image/png": "[encoded data removed]",
      "text/plain": [
       "<Figure size 460.8x316.8 with 1 Axes>"
      ]
     },
     "metadata": {
      "needs_background": "light",
      "tags": []
     },
     "output_type": "display_data"
    }
   ],
   "source": [
    "plot_results(t_extrapolate, real_results, labels=['Rabbit_real', 'Fox_real'])\n",
    "plot_results(t_extrapolate, extrapolated_results, labels=['Rabbit_model', 'Fox_model'])"
   ]
  },
  {
   "cell_type": "code",
   "execution_count": 114,
   "metadata": {
    "colab": {
     "base_uri": "https://localhost:8080/",
     "height": 52
    },
    "colab_type": "code",
    "id": "nho5A7Walwn6",
    "outputId": "838f8417-ff28-4543-9322-83368409483a"
   },
   "outputs": [
    {
     "name": "stdout",
     "output_type": "stream",
     "text": [
      "CPU times: user 1.16 s, sys: 26.9 ms, total: 1.18 s\n",
      "Wall time: 1.15 s\n"
     ]
    }
   ],
   "source": [
    "%%time\n",
    "\n",
    "a_dash ,b_dash ,c_dash,d_dash= 0.494555407395403,0.02443678907946571,0.7949255763294267,0.024317046388837187\n",
    "\n",
    "\n",
    "t_extrapolate = tf.linspace(0., 24.0, num=100)  # Train for just 3 seconds of input\n",
    "initial_states_extrapolate = tf.convert_to_tensor([30, 4], dtype=tf.float64)\n",
    "\n",
    "with tf.device(device):\n",
    "    extrapolation_model = LotkaVoltera(a_dash, b_dash, c_dash, d_dash)\n",
    "    extrapolated_results = odeint(extrapolation_model, initial_states_extrapolate, t_extrapolate)\n",
    "    real_results = y_obs\n",
    "#    real_results = odeint(LotkaVoltera(a, b, c, d), initial_states_extrapolate, t_extrapolate)"
   ]
  },
  {
   "cell_type": "code",
   "execution_count": 115,
   "metadata": {
    "colab": {
     "base_uri": "https://localhost:8080/",
     "height": 288
    },
    "colab_type": "code",
    "id": "vfpK9WJjmH_u",
    "outputId": "8b581231-cfad-427a-e819-1be5b1c12a20"
   },
   "outputs": [
    {
     "data": {
      "image/png": "[encoded data removed]",
      "text/plain": [
       "<Figure size 460.8x316.8 with 1 Axes>"
      ]
     },
     "metadata": {
      "needs_background": "light",
      "tags": []
     },
     "output_type": "display_data"
    }
   ],
   "source": [
    "plot_results(t_train, real_results, labels=['Rabbit_real', 'Fox_real'])\n",
    "plot_results(t_extrapolate, extrapolated_results, labels=['Rabbit_model', 'Fox_model'])"
   ]
  },
  {
   "cell_type": "code",
   "execution_count": null,
   "metadata": {
    "colab": {},
    "colab_type": "code",
    "id": "cxEupTh4uh44"
   },
   "outputs": [],
   "source": [
    "import pandas as pd\n",
    "import matplotlib.pyplot as plt\n",
    "\n",
    "NUM_SAMPLES=89\n",
    "# a = 0.28\n",
    "# b = 0.2\n",
    "# c = .01\n",
    "\n",
    "a = 1.\n",
    "b = 0.07\n",
    "c = .01\n",
    "\n",
    "mu = 0.000046948\n",
    "nu = 0.00001589\n",
    "# mu = 0.0\n",
    "# nu = 0.0\n",
    "N  = 128932753\n",
    "S0 = (N-4)/N\n",
    "I0 = 4/N\n",
    "R0 = 0\n",
    "\n",
    "t = tf.linspace(0., 89., num=NUM_SAMPLES)\n",
    "initial_states = tf.convert_to_tensor([S0, I0,R0], dtype=tf.float64)"
   ]
  },
  {
   "cell_type": "code",
   "execution_count": null,
   "metadata": {
    "colab": {},
    "colab_type": "code",
    "id": "1l1jOwmYJr1h"
   },
   "outputs": [],
   "source": [
    "class SIR(tf.keras.Model):\n",
    "  \n",
    "  def __init__(self, a, b, c, **kwargs):\n",
    "    super().__init__(**kwargs)\n",
    "    \n",
    "    self.a, self.b, self.c = a, b, c\n",
    "  \n",
    "  @tf.function\n",
    "  def call(self, t, y):\n",
    "    # y = [R, F]\n",
    "    r, f,g= tf.unstack(y)\n",
    "\n",
    "\n",
    "    dS_dT = mu - ( self.a*f + nu   )*r   \n",
    "    dI_dT = ( self.a*f + nu   )*r -(self.b + nu)*f     \n",
    "    dP_dT = self.c*f\n",
    "    \n",
    "    return tf.stack([dS_dT,dI_dT,dP_dT])"
   ]
  },
  {
   "cell_type": "code",
   "execution_count": null,
   "metadata": {
    "colab": {
     "base_uri": "https://localhost:8080/",
     "height": 70
    },
    "colab_type": "code",
    "id": "N29c9zpBMAzD",
    "outputId": "e51d17a3-f87e-436e-c17e-8d9284cdb756"
   },
   "outputs": [
    {
     "name": "stdout",
     "output_type": "stream",
     "text": [
      "Finished integrating ! Result shape :  (89, 3)\n",
      "CPU times: user 880 ms, sys: 23.2 ms, total: 903 ms\n",
      "Wall time: 887 ms\n"
     ]
    }
   ],
   "source": [
    "%%time\n",
    "\n",
    "with tf.device(device):\n",
    "#     result = odeint(SIR(a, b, c), initial_states, t,method='rk4')\n",
    "#     result = odeint(SIR(a, b, c), initial_states, t,method='adams')\n",
    "     result = odeint(SIR(a, b, c), initial_states, t)\n",
    "  \n",
    "print(\"Finished integrating ! Result shape : \", result.shape)"
   ]
  },
  {
   "cell_type": "code",
   "execution_count": null,
   "metadata": {
    "colab": {
     "base_uri": "https://localhost:8080/",
     "height": 34
    },
    "colab_type": "code",
    "id": "efkqjPUBDEJr",
    "outputId": "ab57c5e4-d44c-4196-f727-125b06860db0"
   },
   "outputs": [
    {
     "data": {
      "text/plain": [
       "TensorShape([89, 3])"
      ]
     },
     "execution_count": 70,
     "metadata": {
      "tags": []
     },
     "output_type": "execute_result"
    }
   ],
   "source": [
    "np.shape(result)"
   ]
  },
  {
   "cell_type": "code",
   "execution_count": null,
   "metadata": {
    "colab": {
     "base_uri": "https://localhost:8080/",
     "height": 288
    },
    "colab_type": "code",
    "id": "96l9lbhqRM9F",
    "outputId": "c7e25e4f-1e59-4a47-9a43-0a42e52319ff"
   },
   "outputs": [
    {
     "data": {
      "image/png": "[encoded data removed]",
      "text/plain": [
       "<Figure size 460.8x316.8 with 1 Axes>"
      ]
     },
     "metadata": {
      "needs_background": "light",
      "tags": []
     },
     "output_type": "display_data"
    }
   ],
   "source": [
    "plot_results(t, result, labels=['S', 'I','P'])"
   ]
  },
  {
   "cell_type": "code",
   "execution_count": null,
   "metadata": {
    "colab": {
     "base_uri": "https://localhost:8080/",
     "height": 323
    },
    "colab_type": "code",
    "id": "YxBOpVkjDKrs",
    "outputId": "440f40cf-444d-4385-d165-60ca7d5b89a6"
   },
   "outputs": [
    {
     "data": {
      "text/plain": [
       "[<matplotlib.lines.Line2D at 0x7f8bace1f390>,\n",
       " <matplotlib.lines.Line2D at 0x7f8bace1f4a8>]"
      ]
     },
     "execution_count": 22,
     "metadata": {
      "tags": []
     },
     "output_type": "execute_result"
    },
    {
     "data": {
      "image/png": "[encoded data removed]",
      "text/plain": [
       "<Figure size 460.8x316.8 with 1 Axes>"
      ]
     },
     "metadata": {
      "needs_background": "light",
      "tags": []
     },
     "output_type": "display_data"
    }
   ],
   "source": [
    "plt.plot(t, result[:,1], t, result[:,2])"
   ]
  },
  {
   "cell_type": "code",
   "execution_count": null,
   "metadata": {
    "colab": {},
    "colab_type": "code",
    "id": "q8rzjRi4MiON"
   },
   "outputs": [],
   "source": [
    "class SIRParameters(tf.keras.Model):\n",
    "  \n",
    "  def __init__(self, **kwargs):\n",
    "    super().__init__(**kwargs)\n",
    "\n",
    "    # Can also initialize with the values found above for much faster convergence !\n",
    "    self.parameters = tf.Variable([.1, 2., .01], dtype=tf.float64)\n",
    "#    self.parameters = tf.Variable(tf.random.uniform(shape=[3], minval=0, maxval=1,dtype=tf.float64))\n",
    "  \n",
    "  @tf.function\n",
    "  def call(self, t, y):\n",
    "    # y = [R, F]\n",
    "    r, f,g = tf.unstack(y)\n",
    "\n",
    "    # Apply abs, because we want to ensure these parameters are > 0\n",
    "    params = tf.math.abs(self.parameters)\n",
    "    a, b, c = tf.unstack(params)\n",
    "\n",
    "    dS_dT = mu - ( a*f + nu   )*r   \n",
    "    dI_dT = ( a*f + nu   )*r -(b + nu)*f     \n",
    "    dP_dT = c*f\n",
    "    \n",
    "    return tf.stack([dS_dT,dI_dT,dP_dT])    "
   ]
  },
  {
   "cell_type": "code",
   "execution_count": null,
   "metadata": {
    "colab": {},
    "colab_type": "code",
    "id": "LhMOKntES_NK"
   },
   "outputs": [],
   "source": [
    "epochs = 50\n",
    "initial_learning_rate = 0.1\n",
    "decay_steps = 100\n",
    "decay_rate = 0.5\n",
    "\n",
    "\n",
    "t_train = tf.linspace(0., 89., num=89)  # Train for the days of the pandemic\n",
    "initial_states_train = tf.convert_to_tensor([S0, I0,R0], dtype=tf.float64)\n",
    "#initial_states_train = tf.convert_to_tensor([1, 1], dtype=tf.float64)"
   ]
  },
  {
   "cell_type": "code",
   "execution_count": null,
   "metadata": {
    "colab": {},
    "colab_type": "code",
    "id": "TBcdORCCTi5e"
   },
   "outputs": [],
   "source": [
    "data=pd.read_csv(\"covidMexico.csv\")\n",
    "yobs=data[[\"New cases (HUC)\",\"Deaths (HUC)\"]]\n",
    "y_obs=yobs.to_numpy()\n",
    "y_real=tf.convert_to_tensor(y_obs, dtype=tf.float64)"
   ]
  },
  {
   "cell_type": "code",
   "execution_count": null,
   "metadata": {
    "colab": {
     "base_uri": "https://localhost:8080/",
     "height": 1000
    },
    "colab_type": "code",
    "id": "B3xrFGnkS_m3",
    "outputId": "f6511c73-fd4c-43aa-c4ee-09e4d4d7b163"
   },
   "outputs": [
    {
     "name": "stdout",
     "output_type": "stream",
     "text": [
      "Computing ground truth...\n",
      "Ground truth shape : (89, 2)\n",
      "Epoch 1\n",
      "Loss : 562944.8227157246\n",
      "LR : 0.09930925\n",
      "\n",
      "Epoch 2\n",
      "Loss : 559623.4237287353\n",
      "LR : 0.09862327\n",
      "\n",
      "Epoch 3\n",
      "Loss : 556378.1000889831\n",
      "LR : 0.09794203\n",
      "\n",
      "Epoch 4\n",
      "Loss : 553231.4799949161\n",
      "LR : 0.0972655\n",
      "\n",
      "Epoch 5\n",
      "Loss : 550192.1745754066\n",
      "LR : 0.09659363\n",
      "\n",
      "Epoch 6\n",
      "Loss : 547263.0229315172\n",
      "LR : 0.09592641\n",
      "\n",
      "Epoch 7\n",
      "Loss : 544444.0815240839\n",
      "LR : 0.0952638\n",
      "\n",
      "Epoch 8\n",
      "Loss : 541733.8289647811\n",
      "LR : 0.094605766\n",
      "\n",
      "Epoch 9\n",
      "Loss : 539129.8253914582\n",
      "LR : 0.093952276\n",
      "\n",
      "Epoch 10\n",
      "Loss : 536629.1759686145\n",
      "LR : 0.0933033\n",
      "\n",
      "Epoch 11\n",
      "Loss : 534228.8315035454\n",
      "LR : 0.09265881\n",
      "\n",
      "Epoch 12\n",
      "Loss : 531925.32904027\n",
      "LR : 0.09201877\n",
      "\n",
      "Epoch 13\n",
      "Loss : 529715.1112340107\n",
      "LR : 0.09138315\n",
      "\n",
      "Epoch 14\n",
      "Loss : 527594.6065631794\n",
      "LR : 0.090751916\n",
      "\n",
      "Epoch 15\n",
      "Loss : 525560.2731484404\n",
      "LR : 0.09012505\n",
      "\n",
      "Epoch 16\n",
      "Loss : 523608.62950647296\n",
      "LR : 0.089502506\n",
      "\n",
      "Epoch 17\n",
      "Loss : 521736.2743262861\n",
      "LR : 0.08888427\n",
      "\n",
      "Epoch 18\n",
      "Loss : 519939.89889077615\n",
      "LR : 0.0882703\n",
      "\n",
      "Epoch 19\n",
      "Loss : 518216.29857275565\n",
      "LR : 0.08766057\n",
      "\n",
      "Epoch 20\n",
      "Loss : 516562.37929863064\n",
      "LR : 0.08705506\n",
      "\n",
      "Epoch 21\n",
      "Loss : 514975.22576385166\n",
      "LR : 0.08645373\n",
      "\n",
      "Epoch 22\n",
      "Loss : 513452.39116780733\n",
      "LR : 0.08585655\n",
      "\n",
      "Epoch 23\n",
      "Loss : 511991.2218272814\n",
      "LR : 0.08526349\n",
      "\n",
      "Epoch 24\n",
      "Loss : 510589.0462618585\n",
      "LR : 0.08467453\n",
      "\n",
      "Epoch 25\n",
      "Loss : 509243.2898263664\n",
      "LR : 0.084089644\n",
      "\n",
      "Epoch 26\n",
      "Loss : 507951.47573872126\n",
      "LR : 0.08350879\n",
      "\n",
      "Epoch 27\n",
      "Loss : 506711.2560569654\n",
      "LR : 0.08293196\n",
      "\n",
      "Epoch 28\n",
      "Loss : 505520.38416011026\n",
      "LR : 0.0823591\n",
      "\n",
      "Epoch 29\n",
      "Loss : 504376.7535359936\n",
      "LR : 0.08179021\n",
      "\n",
      "Epoch 30\n",
      "Loss : 503278.3170882694\n",
      "LR : 0.08122524\n",
      "\n",
      "Epoch 31\n",
      "Loss : 502223.11854392727\n",
      "LR : 0.08066418\n",
      "\n",
      "Epoch 32\n",
      "Loss : 501209.2895388947\n",
      "LR : 0.08010699\n",
      "\n",
      "Epoch 33\n",
      "Loss : 500235.0454355442\n",
      "LR : 0.07955365\n",
      "\n",
      "Epoch 34\n",
      "Loss : 499298.682490331\n",
      "LR : 0.07900413\n",
      "\n",
      "Epoch 35\n",
      "Loss : 498398.5770208228\n",
      "LR : 0.07845841\n",
      "\n",
      "Epoch 36\n",
      "Loss : 497533.17780829716\n",
      "LR : 0.07791646\n",
      "\n",
      "Epoch 37\n",
      "Loss : 496701.0014032328\n",
      "LR : 0.07737825\n",
      "\n",
      "Epoch 38\n",
      "Loss : 495900.6316259561\n",
      "LR : 0.07684376\n",
      "\n",
      "Epoch 39\n",
      "Loss : 495130.7162730291\n",
      "LR : 0.07631296\n",
      "\n",
      "Epoch 40\n",
      "Loss : 494389.96433771495\n",
      "LR : 0.07578583\n",
      "\n",
      "Epoch 41\n",
      "Loss : 493677.143179026\n",
      "LR : 0.07526234\n",
      "\n",
      "Epoch 42\n",
      "Loss : 492991.07567273866\n",
      "LR : 0.07474246\n",
      "\n",
      "Epoch 43\n",
      "Loss : 492330.6378257454\n",
      "LR : 0.07422618\n",
      "\n",
      "Epoch 44\n",
      "Loss : 491694.75615009834\n",
      "LR : 0.07371347\n",
      "\n",
      "Epoch 45\n",
      "Loss : 491082.4056890268\n",
      "LR : 0.07320429\n",
      "\n",
      "Epoch 46\n",
      "Loss : 490492.66133844905\n",
      "LR : 0.07269862\n",
      "\n",
      "Epoch 47\n",
      "Loss : 489924.6816982959\n",
      "LR : 0.07219646\n",
      "\n",
      "Epoch 48\n",
      "Loss : 489377.56654501567\n",
      "LR : 0.071697764\n",
      "\n",
      "Epoch 49\n",
      "Loss : 488850.4559921495\n",
      "LR : 0.07120251\n",
      "\n",
      "Epoch 50\n",
      "Loss : 488342.528753874\n",
      "LR : 0.07071068\n",
      "\n",
      "CPU times: user 1min 46s, sys: 1.71 s, total: 1min 48s\n",
      "Wall time: 1min 46s\n"
     ]
    }
   ],
   "source": [
    "%%time\n",
    "\n",
    "with tf.device(device):\n",
    "  model = SIRParameters()\n",
    "\n",
    "  learning_rate = tf.keras.optimizers.schedules.ExponentialDecay(\n",
    "    initial_learning_rate, decay_steps, decay_rate, staircase=False,\n",
    "  )\n",
    "\n",
    "  optimizer = tf.keras.optimizers.Adadelta(learning_rate)\n",
    "\n",
    "  print(\"Computing ground truth...\")\n",
    "#  y_real = odeint(LotkaVoltera(a, b, c, d), initial_states_train, t_train)\n",
    "#  y_real = tf.convert_to_tensor(yobs, dtype=tf.float64)\n",
    "\n",
    "  print(\"Ground truth shape :\", y_real.shape)\n",
    "\n",
    "  for epoch in range(epochs):\n",
    "    print(f\"Epoch {epoch + 1}\")\n",
    "\n",
    "    with tf.GradientTape() as tape:\n",
    "      preds = odeint(model, initial_states_train, t_train)\n",
    "      y_hat = tf.transpose(tf.stack([preds[:,1],preds[:,2]]))\n",
    "      loss = tf.reduce_mean(tf.square(y_real - N*y_hat), axis=1)\n",
    "\n",
    "    grads = tape.gradient(loss, model.trainable_variables)\n",
    "    optimizer.apply_gradients(zip(grads, model.trainable_variables))\n",
    "\n",
    "    print(\"Loss :\", loss.numpy().mean())\n",
    "    print(\"LR :\", learning_rate(optimizer.iterations).numpy())\n",
    "    print()"
   ]
  },
  {
   "cell_type": "code",
   "execution_count": null,
   "metadata": {
    "colab": {},
    "colab_type": "code",
    "id": "5D-d2rvSS_Ds"
   },
   "outputs": [],
   "source": [
    "# tolerance = 1e-1\n",
    "# bfgs_optimizer = BFGSOptimizer(max_iterations=50, tolerance=tolerance)"
   ]
  },
  {
   "cell_type": "code",
   "execution_count": null,
   "metadata": {
    "colab": {},
    "colab_type": "code",
    "id": "fWfqq-6pV3QW"
   },
   "outputs": [],
   "source": [
    "# def loss_wrapper(model):\n",
    "#   # Can use `adjoing_odeint` here as replacement for `adjoint_odeint`\n",
    "#   preds = odeint(model, initial_states_train, t_train, atol=1e-3, rtol=1e-3)\n",
    "#   y_hat = tf.transpose(tf.stack([preds[:,1],preds[:,2]]))\n",
    "#   loss = tf.reduce_mean(tf.square(y_real - N*y_hat))\n",
    "#   return loss"
   ]
  },
  {
   "cell_type": "code",
   "execution_count": null,
   "metadata": {
    "colab": {},
    "colab_type": "code",
    "id": "G0ZBb4UMV3iy"
   },
   "outputs": [],
   "source": [
    "# model = bfgs_optimizer.minimize(loss_wrapper, model)"
   ]
  },
  {
   "cell_type": "code",
   "execution_count": null,
   "metadata": {
    "colab": {
     "base_uri": "https://localhost:8080/",
     "height": 34
    },
    "colab_type": "code",
    "id": "kNh8QWR-V3WL",
    "outputId": "6613ede6-2ef2-4d5a-aaf1-775f2bcbed00"
   },
   "outputs": [
    {
     "data": {
      "text/plain": [
       "[0.09600440536619413, 2.003998257662741, 0.005456481836558528]"
      ]
     },
     "execution_count": 101,
     "metadata": {
      "tags": []
     },
     "output_type": "execute_result"
    }
   ],
   "source": [
    "params = tf.math.abs(model.trainable_variables[0])\n",
    "params.numpy().tolist()"
   ]
  },
  {
   "cell_type": "code",
   "execution_count": null,
   "metadata": {
    "colab": {},
    "colab_type": "code",
    "id": "JSpIlZh2V3M4"
   },
   "outputs": [],
   "source": [
    "a_dash = 0.2944932012466365\n",
    "b_dash = 0.01259975623864584\n",
    "c_dash = 0.014807657555633421\n",
    "\n",
    "\n",
    "t_extrapolate = tf.linspace(0., 120, num=1000)  # Train for just 3 seconds of input\n",
    "initial_states_extrapolate = tf.convert_to_tensor([S0, I0,R0], dtype=tf.float64)\n",
    "#initial_states_extrapolate = tf.convert_to_tensor([1, 1], dtype=tf.float64)\n",
    "\n",
    "with tf.device(device):\n",
    "    extrapolation_model = SIR(a_dash, b_dash, c_dash)\n",
    "    extrapolated_results = odeint(extrapolation_model, initial_states_extrapolate, t_extrapolate)\n",
    "#    real_results = odeint(SIR(a, b, c), initial_states_extrapolate, t_extrapolate)"
   ]
  },
  {
   "cell_type": "code",
   "execution_count": null,
   "metadata": {
    "colab": {
     "base_uri": "https://localhost:8080/",
     "height": 288
    },
    "colab_type": "code",
    "id": "pcQGB0nqaiQ0",
    "outputId": "26e183b7-94c8-42de-f767-e6c9a093f5a1"
   },
   "outputs": [
    {
     "data": {
      "image/png": "[encoded data removed]",
      "text/plain": [
       "<Figure size 460.8x316.8 with 1 Axes>"
      ]
     },
     "metadata": {
      "needs_background": "light",
      "tags": []
     },
     "output_type": "display_data"
    }
   ],
   "source": [
    "#plot_results(t_extrapolate, real_results, labels=['S_real', 'Fox_real'])\n",
    "plot_results(t_extrapolate, extrapolated_results, labels=['S_model', 'I_model','P_model'])"
   ]
  },
  {
   "cell_type": "code",
   "execution_count": null,
   "metadata": {
    "colab": {},
    "colab_type": "code",
    "id": "lhsGqgTubbg0"
   },
   "outputs": [],
   "source": [
    "a_dash, b_dash,c_dash=  0.10138332655995629, 5.5986186195375165, 0.007058885499027403\n",
    "\n",
    "\n",
    "t_extrapolate = tf.linspace(0., 120, num=1000)  # Train for just 3 seconds of input\n",
    "initial_states_extrapolate = tf.convert_to_tensor([S0, I0,R0], dtype=tf.float64)\n",
    "#initial_states_extrapolate = tf.convert_to_tensor([1, 1], dtype=tf.float64)\n",
    "\n",
    "with tf.device(device):\n",
    "    extrapolation_model = SIR(a_dash, b_dash, c_dash)\n",
    "    extrapolated_results = odeint(extrapolation_model, initial_states_extrapolate, t_extrapolate)\n",
    "#    real_results = odeint(SIR(a, b, c), initial_states_extrapolate, t_extrapolate)"
   ]
  },
  {
   "cell_type": "code",
   "execution_count": null,
   "metadata": {
    "colab": {
     "base_uri": "https://localhost:8080/",
     "height": 323
    },
    "colab_type": "code",
    "id": "1veQEvwl39zT",
    "outputId": "d515e8c5-4b5d-48d3-dd24-09c18571f2a4"
   },
   "outputs": [
    {
     "data": {
      "text/plain": [
       "[<matplotlib.lines.Line2D at 0x7f8bac849438>,\n",
       " <matplotlib.lines.Line2D at 0x7f8bac0f1240>]"
      ]
     },
     "execution_count": 93,
     "metadata": {
      "tags": []
     },
     "output_type": "execute_result"
    },
    {
     "data": {
      "image/png": "[encoded data removed]",
      "text/plain": [
       "<Figure size 460.8x316.8 with 1 Axes>"
      ]
     },
     "metadata": {
      "needs_background": "light",
      "tags": []
     },
     "output_type": "display_data"
    }
   ],
   "source": [
    "plt.plot(t_train, y_obs[:,0],'r.', t_train, y_obs[:,1],'b.')\n",
    "plt.plot(t_extrapolate, N*extrapolated_results[:,1], \n",
    "         t_extrapolate, N*extrapolated_results[:,2])"
   ]
  },
  {
   "cell_type": "code",
   "execution_count": null,
   "metadata": {
    "colab": {},
    "colab_type": "code",
    "id": "Ou3UEpx-4c8w"
   },
   "outputs": [],
   "source": []
  }
 ],
 "metadata": {
  "colab": {
   "collapsed_sections": [],
   "name": "NeuralODE_SIR2.ipynb",
   "provenance": []
  },
  "kernelspec": {
   "display_name": "Python 3",
   "language": "python",
   "name": "python3"
  },
  "language_info": {
   "codemirror_mode": {
    "name": "ipython",
    "version": 3
   },
   "file_extension": ".py",
   "mimetype": "text/x-python",
   "name": "python",
   "nbconvert_exporter": "python",
   "pygments_lexer": "ipython3",
   "version": "3.7.0"
  }
 },
 "nbformat": 4,
 "nbformat_minor": 4
}
