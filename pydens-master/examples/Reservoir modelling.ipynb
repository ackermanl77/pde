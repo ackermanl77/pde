{
 "cells": [
  {
   "cell_type": "code",
   "execution_count": 1,
   "metadata": {
    "ExecuteTime": {
     "end_time": "2019-10-07T14:11:01.435254Z",
     "start_time": "2019-10-07T14:10:59.918359Z"
    }
   },
   "outputs": [],
   "source": [
    "%load_ext autoreload\n",
    "%autoreload 2\n",
    "\n",
    "import os\n",
    "import warnings\n",
    "import sys\n",
    "\n",
    "warnings.filterwarnings('ignore')\n",
    "from tensorflow import logging\n",
    "logging.set_verbosity(logging.ERROR)\n",
    "os.environ['TF_CPP_MIN_LOG_LEVEL'] = '3'\n",
    "\n",
    "import numpy as np\n",
    "import tensorflow as tf\n",
    "from tqdm import tqdm_notebook\n",
    "import matplotlib.pyplot as plt"
   ]
  },
  {
   "cell_type": "code",
   "execution_count": 2,
   "metadata": {
    "ExecuteTime": {
     "end_time": "2019-10-07T14:11:03.318590Z",
     "start_time": "2019-10-07T14:11:02.356832Z"
    }
   },
   "outputs": [],
   "source": [
    "sys.path.append('..')\n",
    "from pydens import Solver, NumpySampler, cart_prod\n",
    "\n",
    "from pydens import add_tokens\n",
    "add_tokens()"
   ]
  },
  {
   "cell_type": "markdown",
   "metadata": {},
   "source": [
    "<tr>\n",
    "<td> <img src=\"params_1.png\" alt=\"Drawing\" style=\"width: 500px; height: 550px\"/> </td>\n",
    "<td> <img src=\"params_2.png\" alt=\"Drawing\" style=\"width: 500px; height: 200px\"/> </td>\n",
    "</tr>"
   ]
  },
  {
   "cell_type": "code",
   "execution_count": 3,
   "metadata": {
    "ExecuteTime": {
     "end_time": "2019-10-07T14:11:04.894676Z",
     "start_time": "2019-10-07T14:11:04.862574Z"
    }
   },
   "outputs": [],
   "source": [
    "m = (0.1 + 0.3) / 2\n",
    "g = 9.81\n",
    "\n",
    "k_o = (0.1 + 10) / 2\n",
    "mu_o = (0.5 + 1) / 2\n",
    "b_o = (1.1 + 1.5) / 2\n",
    "rho_o = (750 + 950) / 2\n",
    "coeff_o = k_o / (mu_o*b_o)\n",
    "Q_o = 10 #(10 + 500) / 2\n",
    "\n",
    "k_w = (0.1 + 10) / 2\n",
    "mu_w = (0.2 + 12) / 2\n",
    "b_w = (1.0 + 1.02) / 2\n",
    "rho_w = (980 + 1040) / 2\n",
    "coeff_w = k_w / (mu_w*b_w)\n",
    "Q_w = 10 #(10 + 500) / 2\n",
    "\n",
    "theta = (0.01 + 0.03) / 2\n",
    "a = (-0.25 - 0.05) / 2\n",
    "c = (-2 - 4) / 2"
   ]
  },
  {
   "cell_type": "markdown",
   "metadata": {},
   "source": [
    "<img src=\"equations.png\" alt=\"Drawing\" style=\"width: 400px; height: 150px\"/>"
   ]
  },
  {
   "cell_type": "code",
   "execution_count": 4,
   "metadata": {
    "ExecuteTime": {
     "end_time": "2019-10-07T14:11:06.328738Z",
     "start_time": "2019-10-07T14:11:06.299017Z"
    }
   },
   "outputs": [],
   "source": [
    "p_ow = lambda s_w: (2*theta / np.sqrt(k_o/m)) / (a*(1 - s_w)/(1 + c*s_w))\n",
    "\n",
    "eq_1 = lambda p_w, s_w, x, y, z, t: div(coeff_o*D(p_w + p_ow(s_w)) - np.array([0, 0, rho_o*g, 0]), length=3) - \\\n",
    "                                    ((m / b_o)*D(1 - s_w, t) + Q_o)\n",
    "\n",
    "eq_2 = lambda p_w, s_w, x, y, z, t: div(coeff_w*D(p_w) - np.array([0, 0, rho_w*g, 0]), length=3) - \\\n",
    "                                    ((m / b_w)*D(s_w, t) + Q_w)"
   ]
  },
  {
   "cell_type": "code",
   "execution_count": 5,
   "metadata": {
    "ExecuteTime": {
     "end_time": "2019-10-07T14:11:07.643385Z",
     "start_time": "2019-10-07T14:11:07.595651Z"
    }
   },
   "outputs": [],
   "source": [
    "initial_condition = [[200], [0.7]]"
   ]
  },
  {
   "cell_type": "code",
   "execution_count": 6,
   "metadata": {
    "ExecuteTime": {
     "end_time": "2019-10-07T14:11:08.924949Z",
     "start_time": "2019-10-07T14:11:08.893682Z"
    }
   },
   "outputs": [],
   "source": [
    "pde = {'n_dims': 4, 'n_funs': 2, 'n_eqns': 2,\n",
    "       'form': [eq_1,\n",
    "                eq_2],\n",
    "       'initial_condition': initial_condition,\n",
    "       'time_multiplier': 'sigmoid'}\n",
    "\n",
    "# Put it all together in model-config\n",
    "config = {\n",
    "    'pde': pde,\n",
    "#     'body': {'layout': 'fa fa fa RRfa+ fa fa+',\n",
    "#              'units': [16, 32, 64, 64, 128, 64],\n",
    "#              'activation': tf.nn.tanh},\n",
    "#     'head': {'layout': 'fa f', 'units': [32, 1],\n",
    "#              'activation': tf.nn.tanh},\n",
    "    'decay': {'name': 'invtime', 'learning_rate':0.05,\n",
    "              'decay_steps': 100, 'decay_rate': 0.05},\n",
    "    'track': {'p_w': lambda p_w, s_w, x, y, z, t: p_w,\n",
    "              'p_o': lambda p_w, s_w, x, y, z, t: p_w + p_ow(s_w),\n",
    "              's_w': lambda p_w, s_w, x, y, z, t: s_w,\n",
    "              's_o': lambda p_w, s_w, x, y, z, t: 1 - s_w},\n",
    "}  \n",
    "\n",
    "# Uniform sampling scheme\n",
    "s = NumpySampler('u', dim=4)"
   ]
  },
  {
   "cell_type": "code",
   "execution_count": 7,
   "metadata": {
    "ExecuteTime": {
     "end_time": "2019-10-07T14:12:34.377191Z",
     "start_time": "2019-10-07T14:11:10.253234Z"
    }
   },
   "outputs": [
    {
     "data": {
      "application/vnd.jupyter.widget-view+json": {
       "model_id": "d1a5e08279564e9d8cdd79bd5ecbb3d2",
       "version_major": 2,
       "version_minor": 0
      },
      "text/plain": [
       "HBox(children=(IntProgress(value=0, max=1500), HTML(value='')))"
      ]
     },
     "metadata": {},
     "output_type": "display_data"
    },
    {
     "name": "stdout",
     "output_type": "stream",
     "text": [
      "\n"
     ]
    }
   ],
   "source": [
    "# train the network on batches of 100 points\n",
    "dg = Solver(config, layer_size=35)\n",
    "dg.fit(batch_size=500, sampler=s, n_iters=1500, bar='notebook')"
   ]
  },
  {
   "cell_type": "code",
   "execution_count": 8,
   "metadata": {
    "ExecuteTime": {
     "end_time": "2019-10-07T14:22:10.385520Z",
     "start_time": "2019-10-07T14:12:35.639305Z"
    }
   },
   "outputs": [
    {
     "data": {
      "application/vnd.jupyter.widget-view+json": {
       "model_id": "1d9206f5cefa49b6ae6c29b6591a1a6a",
       "version_major": 2,
       "version_minor": 0
      },
      "text/plain": [
       "HBox(children=(IntProgress(value=0, max=10000), HTML(value='')))"
      ]
     },
     "metadata": {},
     "output_type": "display_data"
    },
    {
     "name": "stdout",
     "output_type": "stream",
     "text": [
      "\n"
     ]
    }
   ],
   "source": [
    "dg.fit(batch_size=1000, sampler=s, n_iters=10000, bar='notebook')"
   ]
  },
  {
   "cell_type": "code",
   "execution_count": 9,
   "metadata": {
    "ExecuteTime": {
     "end_time": "2019-10-07T14:22:11.973817Z",
     "start_time": "2019-10-07T14:22:11.748953Z"
    }
   },
   "outputs": [
    {
     "data": {
      "image/png": "[encoded data removed]",
      "text/plain": [
       "<Figure size 432x288 with 1 Axes>"
      ]
     },
     "metadata": {
      "needs_background": "light"
     },
     "output_type": "display_data"
    }
   ],
   "source": [
    "# Plot loss\n",
    "plt.plot(dg.loss[50:])\n",
    "plt.xlabel('iteration number', fontdict={'fontsize': 15})\n",
    "plt.ylabel('Loss', fontdict={'fontsize': 15})\n",
    "plt.show()"
   ]
  },
  {
   "cell_type": "code",
   "execution_count": null,
   "metadata": {
    "ExecuteTime": {
     "end_time": "2019-10-07T13:58:44.597484Z",
     "start_time": "2019-10-07T13:58:43.982834Z"
    }
   },
   "outputs": [],
   "source": [
    "# Plot one vertical trace\n",
    "n_el = 100\n",
    "pts_ = np.linspace(0, 1, n_el).reshape((n_el, 1))\n",
    "pts = np.asarray([[0.5, 0.5, point, 0.01] for point in pts_])\n",
    "\n",
    "approxs_p_w, approxs_p_o, approxs_s_w, approxs_s_o = dg.solve(pts, ['p_w', 'p_o', 's_w', 's_o'])\n",
    "# approxs_s_w = dg.solve(pts, 's_w')\n",
    "\n",
    "# approxs_p_o = dg.solve(pts, 'p_o')\n",
    "# approxs_s_o = dg.solve(pts, 's_o')\n",
    "\n",
    "fig, ax = plt.subplots(figsize=(6, 4))\n",
    "\n",
    "plt.plot(pts_, approxs_p_w.reshape(n_el, ), 'y', label='p_w approximation')\n",
    "plt.plot(pts_, approxs_p_o.reshape(n_el, ), 'r', label='p_o approximation')\n",
    "\n",
    "plt.legend(loc='auto', shadow=True, ncol=2)\n",
    "fig.show()\n",
    "\n",
    "\n",
    "fig, ax = plt.subplots(figsize=(6, 4))\n",
    "\n",
    "plt.plot(pts_, approxs_s_w.reshape(n_el, ), 'y', label='s_w approximation')\n",
    "plt.plot(pts_, approxs_s_o.reshape(n_el, ), 'r', label='s_o approximation')\n",
    "\n",
    "plt.legend(loc='auto', shadow=True, ncol=2)\n",
    "fig.show()"
   ]
  },
  {
   "cell_type": "code",
   "execution_count": null,
   "metadata": {
    "ExecuteTime": {
     "end_time": "2019-10-07T11:55:18.461613Z",
     "start_time": "2019-10-07T11:55:18.242994Z"
    }
   },
   "outputs": [],
   "source": [
    "from mpl_toolkits.mplot3d import Axes3D\n",
    "import matplotlib.pyplot as plt\n",
    "import numpy as np\n",
    "from ipywidgets import interact\n",
    "import ipyvolume"
   ]
  },
  {
   "cell_type": "code",
   "execution_count": null,
   "metadata": {
    "ExecuteTime": {
     "end_time": "2019-10-07T11:06:32.539545Z",
     "start_time": "2019-10-07T11:06:32.445445Z"
    }
   },
   "outputs": [],
   "source": [
    "# %matplotlib notebook\n",
    "\n",
    "x = np.arange(0, 1, 0.1)\n",
    "y = np.arange(0, 1, 0.1)\n",
    "z = np.arange(0, 1, 0.1)\n",
    "xx, yy, zz = np.meshgrid(x, y, z)\n",
    "\n",
    "stacked = np.vstack([xx.flatten(), yy.flatten(), zz.flatten()]).T\n",
    "\n",
    "\n",
    "def plt_solution(time):\n",
    "    pts = np.hstack([stacked, time * np.ones((stacked.shape[0], 1))])\n",
    "    \n",
    "#     approxs_p_w = dg.solve(pts)[:, 0]\n",
    "    approxs = np.array(dg.solve(pts, 's_o')).reshape(stacked.shape[0])\n",
    "    \n",
    "    fig = plt.figure()\n",
    "    ax = fig.add_subplot(111, projection='3d')\n",
    "    img = ax.scatter(xx.flatten(), yy.flatten(), zz.flatten(), c=approxs)\n",
    "    fig.colorbar(img)\n",
    "    print(np.mean(approxs))\n",
    "    plt.show()\n",
    "\n",
    "#     plt.xlabel(r'$t$', fontdict={'fontsize': 14})\n",
    "#     plt.title(r'$\\epsilon={}$'.format(e))\n",
    "#     plt.legend()\n",
    "    plt.show()"
   ]
  },
  {
   "cell_type": "code",
   "execution_count": null,
   "metadata": {
    "ExecuteTime": {
     "end_time": "2019-10-07T11:06:35.476393Z",
     "start_time": "2019-10-07T11:06:35.069701Z"
    }
   },
   "outputs": [],
   "source": [
    "_ = interact(plt_solution, time=(0, 1, 0.1))"
   ]
  },
  {
   "cell_type": "code",
   "execution_count": null,
   "metadata": {
    "ExecuteTime": {
     "end_time": "2019-10-07T13:58:08.017804Z",
     "start_time": "2019-10-07T13:58:07.963674Z"
    }
   },
   "outputs": [],
   "source": [
    "# %matplotlib notebook\n",
    "\n",
    "x = np.arange(0, 1, 0.1)\n",
    "y = np.arange(0, 1, 0.1)\n",
    "xx, yy = np.meshgrid(x, y)\n",
    "\n",
    "stacked = np.vstack([xx.flatten(), yy.flatten()]).T\n",
    "\n",
    "\n",
    "def plt_solution(time):\n",
    "    z = 0.5\n",
    "    print(time)\n",
    "    pts = np.hstack([stacked,\n",
    "                     z * np.ones((stacked.shape[0], 1)),\n",
    "                     time * np.ones((stacked.shape[0], 1))])\n",
    "    \n",
    "    print(pts[:, -1])\n",
    "    \n",
    "    approxs = np.array(dg.solve(pts, 's_w')).reshape(stacked.shape[0])\n",
    "    \n",
    "    fig = plt.figure()\n",
    "    ax = fig.add_subplot(111)\n",
    "    img = ax.imshow(approxs.reshape(10, 10))\n",
    "    fig.colorbar(img)\n",
    "    print(np.mean(approxs))\n",
    "    plt.show()\n",
    "\n",
    "#     plt.xlabel(r'$t$', fontdict={'fontsize': 14})\n",
    "#     plt.title(r'$\\epsilon={}$'.format(e))\n",
    "#     plt.legend()\n",
    "    plt.show()"
   ]
  },
  {
   "cell_type": "code",
   "execution_count": null,
   "metadata": {
    "ExecuteTime": {
     "end_time": "2019-10-07T13:58:10.697043Z",
     "start_time": "2019-10-07T13:58:10.398745Z"
    }
   },
   "outputs": [],
   "source": [
    "_ = interact(plt_solution, time=(0, 1, 0.1))"
   ]
  },
  {
   "cell_type": "code",
   "execution_count": null,
   "metadata": {
    "ExecuteTime": {
     "end_time": "2019-10-07T13:57:40.994113Z",
     "start_time": "2019-10-07T13:57:40.907375Z"
    }
   },
   "outputs": [],
   "source": [
    "pts"
   ]
  },
  {
   "cell_type": "code",
   "execution_count": null,
   "metadata": {},
   "outputs": [],
   "source": []
  }
 ],
 "metadata": {
  "kernelspec": {
   "display_name": "Python 3",
   "language": "python",
   "name": "python3"
  },
  "language_info": {
   "codemirror_mode": {
    "name": "ipython",
    "version": 3
   },
   "file_extension": ".py",
   "mimetype": "text/x-python",
   "name": "python",
   "nbconvert_exporter": "python",
   "pygments_lexer": "ipython3",
   "version": "3.7.1"
  },
  "varInspector": {
   "cols": {
    "lenName": 16,
    "lenType": 16,
    "lenVar": 40
   },
   "kernels_config": {
    "python": {
     "delete_cmd_postfix": "",
     "delete_cmd_prefix": "del ",
     "library": "var_list.py",
     "varRefreshCmd": "print(var_dic_list())"
    },
    "r": {
     "delete_cmd_postfix": ") ",
     "delete_cmd_prefix": "rm(",
     "library": "var_list.r",
     "varRefreshCmd": "cat(var_dic_list()) "
    }
   },
   "types_to_exclude": [
    "module",
    "function",
    "builtin_function_or_method",
    "instance",
    "_Feature"
   ],
   "window_display": false
  }
 },
 "nbformat": 4,
 "nbformat_minor": 2
}
