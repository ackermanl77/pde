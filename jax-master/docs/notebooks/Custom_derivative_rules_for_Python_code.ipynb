{
  "nbformat": 4,
  "nbformat_minor": 0,
  "metadata": {
    "colab": {
      "name": "Custom derivative rules for Python code.ipynb",
      "provenance": [],
      "collapsed_sections": [],
      "toc_visible": true
    },
    "kernelspec": {
      "name": "python3",
      "display_name": "Python 3"
    },
    "accelerator": "GPU"
  },
  "cells": [
    {
      "cell_type": "markdown",
      "metadata": {
        "id": "LqiaKasFjH82",
        "colab_type": "text"
      },
      "source": [
        "# Custom derivative rules for JAX-transformable Python functions\n",
        "\n",
        "*mattjj@ Mar 19 2020, last updated Mar 30 2020*\n",
        "\n",
        "There are two ways to define differentiation rules in JAX:\n",
        "\n",
        "1. using `jax.custom_jvp` and `jax.custom_vjp` to define custom differentiation rules for Python functions that are already JAX-transformable; and\n",
        "2. defining new `core.Primitive` instances along with all their transformation rules, for example to call into functions from other systems like solvers, simulators, or general numerical computing systems.\n",
        "\n",
        "This notebook is about #1. To read instead about #2, see the [notebook on adding primitives](https://jax.readthedocs.io/en/latest/notebooks/How_JAX_primitives_work.html).\n",
        "\n",
        "For an introduction to JAX's automatic differentiation API, see [The Autodiff Cookbook](https://jax.readthedocs.io/en/latest/notebooks/autodiff_cookbook.html). This notebook assumes some familiarity with [jax.jvp](https://jax.readthedocs.io/en/latest/jax.html#jax.jvp) and [jax.grad](https://jax.readthedocs.io/en/latest/jax.html#jax.grad), and the mathematical meaning of JVPs and VJPs."
      ]
    },
    {
      "cell_type": "markdown",
      "metadata": {
        "id": "9Fg3NFNY-2RY",
        "colab_type": "text"
      },
      "source": [
        "## TL;DR"
      ]
    },
    {
      "cell_type": "markdown",
      "metadata": {
        "id": "ZgMNRtXyWIW8",
        "colab_type": "text"
      },
      "source": [
        "#### Custom JVPs with `jax.custom_jvp`"
      ]
    },
    {
      "cell_type": "code",
      "metadata": {
        "id": "zXic8tr--1PK",
        "colab_type": "code",
        "colab": {}
      },
      "source": [
        "import jax.numpy as np\n",
        "from jax import custom_jvp\n",
        "\n",
        "@custom_jvp\n",
        "def f(x, y):\n",
        "  return np.sin(x) * y\n",
        "\n",
        "@f.defjvp\n",
        "def f_jvp(primals, tangents):\n",
        "  x, y = primals\n",
        "  x_dot, y_dot = tangents\n",
        "  primal_out = f(x, y)\n",
        "  tangent_out = np.cos(x) * x_dot * y + np.sin(x) * y_dot\n",
        "  return primal_out, tangent_out"
      ],
      "execution_count": 0,
      "outputs": []
    },
    {
      "cell_type": "code",
      "metadata": {
        "id": "RrNf588X_kJF",
        "colab_type": "code",
        "outputId": "33bc1c36-b720-442f-b385-8ebe025319e3",
        "colab": {
          "base_uri": "https://localhost:8080/",
          "height": 85
        }
      },
      "source": [
        "from jax import jvp, grad\n",
        "\n",
        "print(f(2., 3.))\n",
        "y, y_dot = jvp(f, (2., 3.), (1., 0.))\n",
        "print(y)\n",
        "print(y_dot)\n",
        "print(grad(f)(2., 3.))"
      ],
      "execution_count": 2,
      "outputs": [
        {
          "output_type": "stream",
          "text": [
            "2.7278922\n",
            "2.7278922\n",
            "-1.2484405\n",
            "-1.2484405\n"
          ],
          "name": "stdout"
        }
      ]
    },
    {
      "cell_type": "code",
      "metadata": {
        "id": "1kHd3cKOWQgB",
        "colab_type": "code",
        "colab": {}
      },
      "source": [
        "# Equivalent alternative using the defjvps convenience wrapper\n",
        "\n",
        "@custom_jvp\n",
        "def f(x, y):\n",
        "  return np.sin(x) * y\n",
        "\n",
        "f.defjvps(lambda x_dot, primal_out, x, y: np.cos(x) * x_dot * y,\n",
        "          lambda y_dot, primal_out, x, y: np.sin(x) * y_dot)"
      ],
      "execution_count": 0,
      "outputs": []
    },
    {
      "cell_type": "code",
      "metadata": {
        "id": "Zn81cHeYWVOw",
        "colab_type": "code",
        "colab": {
          "base_uri": "https://localhost:8080/",
          "height": 85
        },
        "outputId": "fb5e7e94-488f-4c30-a851-5e7c0a8173bf"
      },
      "source": [
        "print(f(2., 3.))\n",
        "y, y_dot = jvp(f, (2., 3.), (1., 0.))\n",
        "print(y)\n",
        "print(y_dot)\n",
        "print(grad(f)(2., 3.))"
      ],
      "execution_count": 4,
      "outputs": [
        {
          "output_type": "stream",
          "text": [
            "2.7278922\n",
            "2.7278922\n",
            "-1.2484405\n",
            "-1.2484405\n"
          ],
          "name": "stdout"
        }
      ]
    },
    {
      "cell_type": "markdown",
      "metadata": {
        "id": "N2DOGCREWXFj",
        "colab_type": "text"
      },
      "source": [
        "#### Custom VJPs with `jax.custom_vjp`"
      ]
    },
    {
      "cell_type": "code",
      "metadata": {
        "id": "35ScHqhrBwPh",
        "colab_type": "code",
        "colab": {}
      },
      "source": [
        "from jax import custom_vjp\n",
        "\n",
        "@custom_vjp\n",
        "def f(x, y):\n",
        "  return np.sin(x) * y\n",
        "\n",
        "def f_fwd(x, y):\n",
        "  return f(x, y), (np.cos(x), np.sin(x), y)\n",
        "\n",
        "def f_bwd(res, g):\n",
        "  cos_x, sin_x, y = res\n",
        "  return (cos_x * g * y, sin_x * g)\n",
        "\n",
        "f.defvjp(f_fwd, f_bwd)"
      ],
      "execution_count": 0,
      "outputs": []
    },
    {
      "cell_type": "code",
      "metadata": {
        "id": "HpSozxKUCXgp",
        "colab_type": "code",
        "outputId": "e515914b-a65b-49ba-a746-c343308451e7",
        "colab": {
          "base_uri": "https://localhost:8080/",
          "height": 34
        }
      },
      "source": [
        "print(grad(f)(2., 3.))"
      ],
      "execution_count": 6,
      "outputs": [
        {
          "output_type": "stream",
          "text": [
            "-1.2484405\n"
          ],
          "name": "stdout"
        }
      ]
    },
    {
      "cell_type": "markdown",
      "metadata": {
        "id": "p5ypWA7XlZpu",
        "colab_type": "text"
      },
      "source": [
        "## Example problems\n",
        "\n",
        "To get an idea of what problems `jax.custom_jvp` and `jax.custom_vjp` are meant to solve, let's go over a few examples. A more thorough introduction to the `jax.custom_jvp` and `jax.custom_vjp` APIs is in [the next section](#scrollTo=Dr0aNkBslfQf).\n",
        "\n"
      ]
    },
    {
      "cell_type": "markdown",
      "metadata": {
        "id": "AR02eyd1GQhC",
        "colab_type": "text"
      },
      "source": [
        "\n",
        "\n",
        "### Numerical stability\n",
        "\n",
        "One application of `jax.custom_jvp` is to improve the numerical stability of differentiation."
      ]
    },
    {
      "cell_type": "markdown",
      "metadata": {
        "id": "GksPXslaGPaW",
        "colab_type": "text"
      },
      "source": [
        "\n",
        "Say we want to write a function called `log1pexp`, which computes $x \\mapsto \\log ( 1 + e^x )$. We can write that using `jax.numpy`:"
      ]
    },
    {
      "cell_type": "code",
      "metadata": {
        "id": "6lWbTvs40ET-",
        "colab_type": "code",
        "outputId": "739b4df9-7c64-4fb4-c0ce-c04fa7d86db4",
        "colab": {
          "base_uri": "https://localhost:8080/",
          "height": 34
        }
      },
      "source": [
        "import jax.numpy as np\n",
        "\n",
        "def log1pexp(x):\n",
        "  return np.log(1. + np.exp(x))\n",
        "\n",
        "log1pexp(3.)"
      ],
      "execution_count": 7,
      "outputs": [
        {
          "output_type": "execute_result",
          "data": {
            "text/plain": [
              "DeviceArray(3.0485873, dtype=float32)"
            ]
          },
          "metadata": {
            "tags": []
          },
          "execution_count": 7
        }
      ]
    },
    {
      "cell_type": "markdown",
      "metadata": {
        "id": "PL36r_cD0oE8",
        "colab_type": "text"
      },
      "source": [
        "Since it's written in terms of `jax.numpy`, it's JAX-transformable:"
      ]
    },
    {
      "cell_type": "code",
      "metadata": {
        "id": "XgtGKFld02UD",
        "colab_type": "code",
        "outputId": "a2722ad0-00d6-48d9-f5fa-cc87779bbe53",
        "colab": {
          "base_uri": "https://localhost:8080/",
          "height": 68
        }
      },
      "source": [
        "from jax import jit, grad, vmap\n",
        "\n",
        "print(jit(log1pexp)(3.))\n",
        "print(jit(grad(log1pexp))(3.))\n",
        "print(vmap(jit(grad(log1pexp)))(np.arange(3.)))"
      ],
      "execution_count": 8,
      "outputs": [
        {
          "output_type": "stream",
          "text": [
            "3.0485873\n",
            "0.95257413\n",
            "[0.5        0.7310586  0.88079715]\n"
          ],
          "name": "stdout"
        }
      ]
    },
    {
      "cell_type": "markdown",
      "metadata": {
        "id": "o56Nr3V61PKS",
        "colab_type": "text"
      },
      "source": [
        "But there's a numerical stability problem lurking here:"
      ]
    },
    {
      "cell_type": "code",
      "metadata": {
        "id": "sVM6iwIO22sB",
        "colab_type": "code",
        "outputId": "1a1624bc-15fa-43c0-a9d0-ac17c80e8097",
        "colab": {
          "base_uri": "https://localhost:8080/",
          "height": 34
        }
      },
      "source": [
        "print(grad(log1pexp)(100.))"
      ],
      "execution_count": 9,
      "outputs": [
        {
          "output_type": "stream",
          "text": [
            "nan\n"
          ],
          "name": "stdout"
        }
      ]
    },
    {
      "cell_type": "markdown",
      "metadata": {
        "id": "Zu9sR2I73wuO",
        "colab_type": "text"
      },
      "source": [
        "That doesn't seem right! After all, the derivative of $x \\mapsto \\log (1 + e^x)$ is $x \\mapsto \\frac{e^x}{1 + e^x}$, and so for large values of $x$ we'd expect the value to be about 1.\n",
        "\n",
        "We can get a bit more insight into what's going on by looking at the jaxpr for the gradient computation:"
      ]
    },
    {
      "cell_type": "code",
      "metadata": {
        "id": "dO6uZlYR4TVp",
        "colab_type": "code",
        "outputId": "36835248-669f-4025-8931-783072bed9f9",
        "colab": {
          "base_uri": "https://localhost:8080/",
          "height": 119
        }
      },
      "source": [
        "from jax import make_jaxpr\n",
        "\n",
        "make_jaxpr(grad(log1pexp))(100.)"
      ],
      "execution_count": 10,
      "outputs": [
        {
          "output_type": "execute_result",
          "data": {
            "text/plain": [
              "{ lambda  ; a.\n",
              "  let b = exp a\n",
              "      c = add b 1.0\n",
              "      d = div 1.0 c\n",
              "      e = mul d b\n",
              "  in (e,) }"
            ]
          },
          "metadata": {
            "tags": []
          },
          "execution_count": 10
        }
      ]
    },
    {
      "cell_type": "markdown",
      "metadata": {
        "id": "52HR5EW26PEt",
        "colab_type": "text"
      },
      "source": [
        "Stepping through how the jaxpr would be evaluated, we can see that the last line would involve multiplying values that floating point math will round to 0 and $\\infty$, respectively, which is never a good idea. That is, we're effectively evaluating `lambda x: (1 / (1 + np.exp(x))) * np.exp(x)` for large `x`, which effectively turns into `0. * np.inf`.\n",
        "\n",
        "Instead of generating such large and small values, hoping for a cancellation that floats can't always provide, we'd rather just express the derivative function as a more numerically stable program. In particular, we can write a program that more closely evaluates the equal mathematical expression $1 - \\frac{1}{1 + e^x}$, with no cancellation in sight.\n",
        "\n",
        "This problem is interesting because even though our definition of `log1pexp` could already be JAX-differentiated (and transformed with `jit`, `vmap`, ...), we're not happy with the result of applying standard autodiff rules to the primitives comprising `log1pexp` and composing the result. Instead, we'd like to specify how the whole function `log1pexp` should be differentiated, as a unit, and thus arrange those exponentials better.\n",
        "\n",
        "This is one application of custom derivative rules for Python functions that are already JAX transformable: specifying how a composite function should be differentiated, while still using its original Python definition for other transformations (like `jit`, `vmap`, ...).\n",
        "\n",
        "Here's a solution using `jax.custom_jvp`:"
      ]
    },
    {
      "cell_type": "code",
      "metadata": {
        "id": "XQt6MAuTJewG",
        "colab_type": "code",
        "colab": {}
      },
      "source": [
        "from jax import custom_jvp\n",
        "\n",
        "@custom_jvp\n",
        "def log1pexp(x):\n",
        "  return np.log(1. + np.exp(x))\n",
        "\n",
        "@log1pexp.defjvp\n",
        "def log1pexp_jvp(primals, tangents):\n",
        "  x, = primals\n",
        "  x_dot, = tangents\n",
        "  ans = log1pexp(x)\n",
        "  ans_dot = (1 - 1/(1 + np.exp(x))) * x_dot\n",
        "  return ans, ans_dot"
      ],
      "execution_count": 0,
      "outputs": []
    },
    {
      "cell_type": "code",
      "metadata": {
        "id": "rhiMHulfKBIF",
        "colab_type": "code",
        "outputId": "45256c6b-19fd-4bac-baf8-4892298048bd",
        "colab": {
          "base_uri": "https://localhost:8080/",
          "height": 34
        }
      },
      "source": [
        "print(grad(log1pexp)(100.))"
      ],
      "execution_count": 12,
      "outputs": [
        {
          "output_type": "stream",
          "text": [
            "1.0\n"
          ],
          "name": "stdout"
        }
      ]
    },
    {
      "cell_type": "code",
      "metadata": {
        "id": "9cLDuAo6KGUu",
        "colab_type": "code",
        "outputId": "c8194a60-7e48-4fb2-d78d-569b38841b42",
        "colab": {
          "base_uri": "https://localhost:8080/",
          "height": 68
        }
      },
      "source": [
        "print(jit(log1pexp)(3.))\n",
        "print(jit(grad(log1pexp))(3.))\n",
        "print(vmap(jit(grad(log1pexp)))(np.arange(3.)))"
      ],
      "execution_count": 13,
      "outputs": [
        {
          "output_type": "stream",
          "text": [
            "3.0485873\n",
            "0.95257413\n",
            "[0.5       0.7310586 0.8807971]\n"
          ],
          "name": "stdout"
        }
      ]
    },
    {
      "cell_type": "markdown",
      "metadata": {
        "id": "9sVUGbGkUOqO",
        "colab_type": "text"
      },
      "source": [
        "Here's a `defjvps` convenience wrapper to express the same thing:"
      ]
    },
    {
      "cell_type": "code",
      "metadata": {
        "id": "xfQTp8F7USEM",
        "colab_type": "code",
        "colab": {}
      },
      "source": [
        "@custom_jvp\n",
        "def log1pexp(x):\n",
        "  return np.log(1. + np.exp(x))\n",
        "\n",
        "log1pexp.defjvps(lambda t, ans, x: (1 - 1/(1 + np.exp(x))) * t)"
      ],
      "execution_count": 0,
      "outputs": []
    },
    {
      "cell_type": "code",
      "metadata": {
        "id": "dtdh-PLaUsvw",
        "colab_type": "code",
        "colab": {
          "base_uri": "https://localhost:8080/",
          "height": 85
        },
        "outputId": "588a0619-0b5c-42ed-b2cf-955255b0f7a7"
      },
      "source": [
        "print(grad(log1pexp)(100.))\n",
        "print(jit(log1pexp)(3.))\n",
        "print(jit(grad(log1pexp))(3.))\n",
        "print(vmap(jit(grad(log1pexp)))(np.arange(3.)))"
      ],
      "execution_count": 15,
      "outputs": [
        {
          "output_type": "stream",
          "text": [
            "1.0\n",
            "3.0485873\n",
            "0.95257413\n",
            "[0.5       0.7310586 0.8807971]\n"
          ],
          "name": "stdout"
        }
      ]
    },
    {
      "cell_type": "markdown",
      "metadata": {
        "id": "V9tHAfrSF1N-",
        "colab_type": "text"
      },
      "source": [
        "### Enforcing a differentiation convention\n",
        "\n",
        "A related application is to enforce a differentiation convention, perhaps at a boundary."
      ]
    },
    {
      "cell_type": "markdown",
      "metadata": {
        "id": "l_6tdb-QGK-H",
        "colab_type": "text"
      },
      "source": [
        "\n",
        "Consider the function $f : \\mathbb{R}_+ \\mapsto \\mathbb{R}_+$ with $f(x) = \\frac{x}{1 + \\sqrt{x}}$, where we take $\\mathbb{R}_+ = [0, \\infty)$. We might implement $f$ as a program like this:"
      ]
    },
    {
      "cell_type": "code",
      "metadata": {
        "id": "AfF5P7x_GaSe",
        "colab_type": "code",
        "colab": {}
      },
      "source": [
        "def f(x):\n",
        "  return x / (1 + np.sqrt(x))"
      ],
      "execution_count": 0,
      "outputs": []
    },
    {
      "cell_type": "markdown",
      "metadata": {
        "id": "BVcEkF3ZGgv1",
        "colab_type": "text"
      },
      "source": [
        "As a mathematical function on $\\mathbb{R}$ (the full real line), $f$ is not differentiable at zero (because the limit defining the derivative doesn't exist from the left). Correspondingly, autodiff produces a `nan` value:"
      ]
    },
    {
      "cell_type": "code",
      "metadata": {
        "id": "piI0u5MiHhQh",
        "colab_type": "code",
        "outputId": "35bdee7d-41d7-44ed-b326-43d494cf71fa",
        "colab": {
          "base_uri": "https://localhost:8080/",
          "height": 34
        }
      },
      "source": [
        "print(grad(f)(0.))"
      ],
      "execution_count": 17,
      "outputs": [
        {
          "output_type": "stream",
          "text": [
            "nan\n"
          ],
          "name": "stdout"
        }
      ]
    },
    {
      "cell_type": "markdown",
      "metadata": {
        "id": "IP0H2b7ZHkzD",
        "colab_type": "text"
      },
      "source": [
        "But mathematically if we think of $f$ as a function on $\\mathbb{R}_+$ then it is differentiable at 0 [Rudin's Principles of Mathematical Analysis Definition 5.1, or Tao's Analysis I 3rd ed. Definition 10.1.1 and Example 10.1.6]. Alternatively, we might say as a convention we want to consider the directional derivative from the right. So there is a sensible value for the Python function `grad(f)` to return at `0.0`, namely `1.0`. By default, JAX's machinery for differentiation assumes all functions are defined over $\\mathbb{R}$ and thus doesn't produce `1.0` here.\n",
        "\n",
        "We can use a custom JVP rule! In particular, we can define the JVP rule in terms of the derivative function $x \\mapsto \\frac{\\sqrt{x} + 2}{2(\\sqrt{x} + 1)^2}$ on $\\mathbb{R}_+$,"
      ]
    },
    {
      "cell_type": "code",
      "metadata": {
        "id": "ksHmCkcSKQJr",
        "colab_type": "code",
        "colab": {}
      },
      "source": [
        "@custom_jvp\n",
        "def f(x):\n",
        "  return x / (1 + np.sqrt(x))\n",
        "\n",
        "@f.defjvp\n",
        "def f_jvp(primals, tangents):\n",
        "  x, = primals\n",
        "  x_dot, = tangents\n",
        "  ans = f(x)\n",
        "  ans_dot = ((np.sqrt(x) + 2) / (2 * (np.sqrt(x) + 1)**2)) * x_dot\n",
        "  return ans, ans_dot"
      ],
      "execution_count": 0,
      "outputs": []
    },
    {
      "cell_type": "code",
      "metadata": {
        "id": "Gsh9ZvMTKi1O",
        "colab_type": "code",
        "outputId": "fb288478-eb53-4362-aa46-24ea18003bec",
        "colab": {
          "base_uri": "https://localhost:8080/",
          "height": 34
        }
      },
      "source": [
        "print(grad(f)(0.))"
      ],
      "execution_count": 19,
      "outputs": [
        {
          "output_type": "stream",
          "text": [
            "1.0\n"
          ],
          "name": "stdout"
        }
      ]
    },
    {
      "cell_type": "markdown",
      "metadata": {
        "id": "Usbp_gxaVVea",
        "colab_type": "text"
      },
      "source": [
        "Here's the convenience wrapper version:"
      ]
    },
    {
      "cell_type": "code",
      "metadata": {
        "id": "qXnrxIfaVYCs",
        "colab_type": "code",
        "colab": {}
      },
      "source": [
        "@custom_jvp\n",
        "def f(x):\n",
        "  return x / (1 + np.sqrt(x))\n",
        "\n",
        "f.defjvps(lambda t, ans, x: ((np.sqrt(x) + 2) / (2 * (np.sqrt(x) + 1)**2)) * t)"
      ],
      "execution_count": 0,
      "outputs": []
    },
    {
      "cell_type": "code",
      "metadata": {
        "id": "uUU5qRmEViK1",
        "colab_type": "code",
        "colab": {
          "base_uri": "https://localhost:8080/",
          "height": 34
        },
        "outputId": "109052a3-2176-4d7f-b63a-09d86898ce8b"
      },
      "source": [
        "print(grad(f)(0.))"
      ],
      "execution_count": 21,
      "outputs": [
        {
          "output_type": "stream",
          "text": [
            "1.0\n"
          ],
          "name": "stdout"
        }
      ]
    },
    {
      "cell_type": "markdown",
      "metadata": {
        "id": "7J2A85wbSAmF",
        "colab_type": "text"
      },
      "source": [
        "### Gradient clipping\n",
        "\n",
        "While in some cases we want to express a mathematical differentiation computation, in other cases we may even want to take a step away from mathematics to adjust the computation autodiff performs. One canonical example is reverse-mode gradient clipping.\n",
        "\n",
        "For gradient clipping, we can use `np.clip` together with a `jax.custom_vjp` reverse-mode-only rule:"
      ]
    },
    {
      "cell_type": "code",
      "metadata": {
        "id": "8jfjSanIW_tJ",
        "colab_type": "code",
        "colab": {}
      },
      "source": [
        "from functools import partial\n",
        "from jax import custom_vjp\n",
        "\n",
        "@partial(custom_vjp, nondiff_argnums=(0, 1))\n",
        "def clip_gradient(lo, hi, x):\n",
        "  return x  # identity function\n",
        "\n",
        "def clip_gradient_fwd(lo, hi, x):\n",
        "  return x, None  # no residual values to save\n",
        "\n",
        "def clip_gradient_bwd(lo, hi, _, g):\n",
        "  return (np.clip(g, lo, hi),)\n",
        "\n",
        "clip_gradient.defvjp(clip_gradient_fwd, clip_gradient_bwd)"
      ],
      "execution_count": 0,
      "outputs": []
    },
    {
      "cell_type": "code",
      "metadata": {
        "id": "4OLU_vf8Xw2J",
        "colab_type": "code",
        "colab": {
          "base_uri": "https://localhost:8080/",
          "height": 282
        },
        "outputId": "36b37747-6330-4990-a056-04780c218d79"
      },
      "source": [
        "import matplotlib.pyplot as plt\n",
        "from jax import vmap\n",
        "\n",
        "t = np.linspace(0, 10, 1000)\n",
        "\n",
        "plt.plot(np.sin(t))\n",
        "plt.plot(vmap(grad(np.sin))(t))"
      ],
      "execution_count": 23,
      "outputs": [
        {
          "output_type": "execute_result",
          "data": {
            "text/plain": [
              "[<matplotlib.lines.Line2D at 0x7fe986788d68>]"
            ]
          },
          "metadata": {
            "tags": []
          },
          "execution_count": 23
        },
        {
          "output_type": "display_data",
          "data": {
            "image/png": "[encoded data removed]",
            "text/plain": [
              "<Figure size 432x288 with 1 Axes>"
            ]
          },
          "metadata": {
            "tags": []
          }
        }
      ]
    },
    {
      "cell_type": "code",
      "metadata": {
        "id": "iS8nRuBZYLcD",
        "colab_type": "code",
        "colab": {
          "base_uri": "https://localhost:8080/",
          "height": 282
        },
        "outputId": "a22b17bc-df65-4531-9427-40d9ce834d38"
      },
      "source": [
        "def clip_sin(x):\n",
        "  x = clip_gradient(-0.75, 0.75, x)\n",
        "  return np.sin(x)\n",
        "\n",
        "plt.plot(clip_sin(t))\n",
        "plt.plot(vmap(grad(clip_sin))(t))"
      ],
      "execution_count": 24,
      "outputs": [
        {
          "output_type": "execute_result",
          "data": {
            "text/plain": [
              "[<matplotlib.lines.Line2D at 0x7fe9862444e0>]"
            ]
          },
          "metadata": {
            "tags": []
          },
          "execution_count": 24
        },
        {
          "output_type": "display_data",
          "data": {
            "image/png": "[encoded data removed]",
            "text/plain": [
              "<Figure size 432x288 with 1 Axes>"
            ]
          },
          "metadata": {
            "tags": []
          }
        }
      ]
    },
    {
      "cell_type": "markdown",
      "metadata": {
        "colab_type": "text",
        "id": "CICQuI86WK4_"
      },
      "source": [
        "### Python debugging\n",
        "\n",
        "Another application that is motivated by development workflow rather than numerics is to set a `pdb` debugger trace in the backward pass of reverse-mode autodiff.\n"
      ]
    },
    {
      "cell_type": "markdown",
      "metadata": {
        "id": "cgxMjNTrGjJn",
        "colab_type": "text"
      },
      "source": [
        "\n",
        "When trying to track down the source of a `nan` runtime error, or just examine carefully the cotangent (gradient) values being propagated, it can be useful to insert a debugger at a point in the backward pass that corresponds to a specific point in the primal computation. You can do that with `jax.custom_vjp`.\n",
        "\n",
        "We'll defer an example until the next section."
      ]
    },
    {
      "cell_type": "markdown",
      "metadata": {
        "id": "IC7tEcr1-Fc5",
        "colab_type": "text"
      },
      "source": [
        "### Implicit function differentiation of iterative implementations\n",
        "\n",
        "This example gets pretty deep in the mathematical weeds!"
      ]
    },
    {
      "cell_type": "markdown",
      "metadata": {
        "id": "szAt97t80hew",
        "colab_type": "text"
      },
      "source": [
        "Another application for `jax.custom_vjp` is reverse-mode differentiation of functions that are JAX-transformable (by `jit`, `vmap`, ...) but not efficiently JAX-differentiable for some reason, perhaps because they involve `lax.while_loop`. (It's not possible to produce an XLA HLO program that efficiently computes the reverse-mode derivative of an XLA HLO While loop because that would require a program with unbounded memory use, which isn't possible to express in XLA HLO, at least without side-effecting interactions through infeed/outfeed.)\n",
        "\n",
        "For example, consider this `fixed_point` routine which computes a fixed point by iteratively applying a function in a `while_loop`:"
      ]
    },
    {
      "cell_type": "code",
      "metadata": {
        "id": "2uA8X2izXH2b",
        "colab_type": "code",
        "colab": {}
      },
      "source": [
        "from jax.lax import while_loop\n",
        "\n",
        "def fixed_point(f, a, x_guess):\n",
        "  def cond_fun(carry):\n",
        "    x_prev, x = carry\n",
        "    return np.abs(x_prev - x) > 1e-6\n",
        "\n",
        "  def body_fun(carry):\n",
        "    _, x = carry\n",
        "    return x, f(a, x)\n",
        "\n",
        "  _, x_star = while_loop(cond_fun, body_fun, (x_guess, f(a, x_guess)))\n",
        "  return x_star"
      ],
      "execution_count": 0,
      "outputs": []
    },
    {
      "cell_type": "markdown",
      "metadata": {
        "id": "p2xFQAte19sF",
        "colab_type": "text"
      },
      "source": [
        "This is an iterative procedure for numerically solving the equation $x = f(a, x)$ for $x$, by iterating $x_{t+1} = f(a, x_t)$ until $x_{t+1}$ is sufficiently close to $x_t$. The result $x^*$ depends on the parameters $a$, and so we can think of there being a function $a \\mapsto x^*(a)$ that is implicity defined by equation $x = f(a, x)$.\n",
        "\n",
        "We can use `fixed_point` to run iterative procedures to convergence, for example running Newton's method to calculate square roots while only executing adds, multiplies, and divides:"
      ]
    },
    {
      "cell_type": "code",
      "metadata": {
        "id": "rDDwM8bYYzRT",
        "colab_type": "code",
        "colab": {}
      },
      "source": [
        "def newton_sqrt(a):\n",
        "  update = lambda a, x: 0.5 * (x + a / x)\n",
        "  return fixed_point(update, a, a)"
      ],
      "execution_count": 0,
      "outputs": []
    },
    {
      "cell_type": "code",
      "metadata": {
        "id": "42Ydd7_6aLXU",
        "colab_type": "code",
        "outputId": "a8b367eb-0701-4a22-b4a5-7074abd375a0",
        "colab": {
          "base_uri": "https://localhost:8080/",
          "height": 34
        }
      },
      "source": [
        "print(newton_sqrt(2.))"
      ],
      "execution_count": 27,
      "outputs": [
        {
          "output_type": "stream",
          "text": [
            "1.4142135\n"
          ],
          "name": "stdout"
        }
      ]
    },
    {
      "cell_type": "markdown",
      "metadata": {
        "id": "-yFtYWH13QWm",
        "colab_type": "text"
      },
      "source": [
        "We can `vmap` or `jit` the function as well:"
      ]
    },
    {
      "cell_type": "code",
      "metadata": {
        "id": "t_YSXieT3Yyk",
        "colab_type": "code",
        "outputId": "796b9153-b5d7-4503-d496-480d9773cad7",
        "colab": {
          "base_uri": "https://localhost:8080/",
          "height": 34
        }
      },
      "source": [
        "print(jit(vmap(newton_sqrt))(np.array([1., 2., 3., 4.])))"
      ],
      "execution_count": 28,
      "outputs": [
        {
          "output_type": "stream",
          "text": [
            "[1.        1.4142135 1.7320508 2.       ]\n"
          ],
          "name": "stdout"
        }
      ]
    },
    {
      "cell_type": "markdown",
      "metadata": {
        "id": "emwWIt3d3h1T",
        "colab_type": "text"
      },
      "source": [
        "We can't apply reverse-mode automatic differentiation because of the `while_loop`, but it turns out we wouldn't want to anyway: instead of differentiating through the implementation of `fixed_point` and all its iterations, we can exploit the mathematical structure to do something that is much more memory-efficient (and FLOP-efficient in this case, too!). We can instead use the implicit function theorem [Prop A.25 of Bertsekas's Nonlinear Programming, 2nd ed.], which guarantees (under some conditions) the existence of the mathematical objects we're about to use. In essence, we linearize at the solution and solve those linear equations iteratively to compute the derivatives we want.\n",
        "\n",
        "Consider again the equation $x = f(a, x)$ and the function $x^*$. We want to evaluate vector-Jacobian products like $v^\\mathsf{T} \\mapsto v^\\mathsf{T} \\partial x^*(a_0)$.\n",
        "\n",
        "At least in an open neighborhood around the point $a_0$ at which we want to differentiate, let's assume that the equation $x^*(a) = f(a, x^*(a))$ holds for all $a$. Since the two sides are equal as functions of $a$, their derivatives must be equal as well, so let's differentiate both sides:\n",
        "\n",
        "$\\qquad \\partial x^*(a) = \\partial_0 f(a, x^*(a)) + \\partial_1 f(a, x^*(a))  \\partial x^*(a)$.\n",
        "\n",
        "Setting $A = \\partial_1 f(a_0, x^*(a_0))$ and $B = \\partial_0 f(a_0, x^*(a_0))$, we can write the quantity we're after more simply as\n",
        "\n",
        "$\\qquad \\partial x^*(a_0) = B + A \\partial x^*(a_0)$,\n",
        "\n",
        "or, by rearranging,\n",
        "\n",
        "$\\qquad \\partial x^*(a_0) = (I - A)^{-1} B$.\n",
        "\n",
        "That means we can evaluate vector-Jacobian products like\n",
        "\n",
        "$\\qquad v^\\mathsf{T} \\partial x^*(a_0) = v^\\mathsf{T} (I - A)^{-1} B = w^\\mathsf{T} B$,\n",
        "\n",
        "where $w^\\mathsf{T} = v^\\mathsf{T} (I - A)^{-1}$, or equivalently $w^\\mathsf{T} = v^\\mathsf{T} + w^\\mathsf{T} A$, or equivalently $w^\\mathsf{T}$ is the fixed point of the map $u^\\mathsf{T} \\mapsto v^\\mathsf{T} + u^\\mathsf{T} A$. That last characterization gives us a way to write the VJP for `fixed_point` in terms of a call to `fixed_point`! Moreover, after expanding $A$ and $B$ back out, we can see we need only to evaluate VJPs of $f$ at $(a_0, x^*(a_0))$.\n",
        "\n",
        "Here's the upshot:"
      ]
    },
    {
      "cell_type": "code",
      "metadata": {
        "id": "g4jo-xlvdiym",
        "colab_type": "code",
        "colab": {}
      },
      "source": [
        "from jax import vjp\n",
        "\n",
        "@partial(custom_vjp, nondiff_argnums=(0,))\n",
        "def fixed_point(f, a, x_guess):\n",
        "  def cond_fun(carry):\n",
        "    x_prev, x = carry\n",
        "    return np.abs(x_prev - x) > 1e-6\n",
        "\n",
        "  def body_fun(carry):\n",
        "    _, x = carry\n",
        "    return x, f(a, x)\n",
        "\n",
        "  _, x_star = while_loop(cond_fun, body_fun, (x_guess, f(a, x_guess)))\n",
        "  return x_star\n",
        "\n",
        "def fixed_point_fwd(f, a, x_init):\n",
        "  x_star = fixed_point(f, a, x_init)\n",
        "  return x_star, (a, x_star)\n",
        "\n",
        "def fixed_point_rev(f, res, x_star_bar):\n",
        "  a, x_star = res\n",
        "  _, vjp_a = vjp(lambda a: f(a, x_star), a)\n",
        "  a_bar, = vjp_a(fixed_point(partial(rev_iter, f),\n",
        "                             (a, x_star, x_star_bar),\n",
        "                             x_star_bar))\n",
        "  return a_bar, np.zeros_like(x_star)\n",
        "  \n",
        "def rev_iter(f, packed, u):\n",
        "  a, x_star, x_star_bar = packed\n",
        "  _, vjp_x = vjp(lambda x: f(a, x), x_star)\n",
        "  return x_star_bar + vjp_x(u)[0]\n",
        "\n",
        "fixed_point.defvjp(fixed_point_fwd, fixed_point_rev)"
      ],
      "execution_count": 0,
      "outputs": []
    },
    {
      "cell_type": "code",
      "metadata": {
        "id": "iKzfT6d_mEoB",
        "colab_type": "code",
        "outputId": "31b93e63-6487-484b-e9a7-4b75c216fc01",
        "colab": {
          "base_uri": "https://localhost:8080/",
          "height": 34
        }
      },
      "source": [
        "print(newton_sqrt(2.))"
      ],
      "execution_count": 30,
      "outputs": [
        {
          "output_type": "stream",
          "text": [
            "1.4142135\n"
          ],
          "name": "stdout"
        }
      ]
    },
    {
      "cell_type": "code",
      "metadata": {
        "id": "Hmcpjr6gmtkO",
        "colab_type": "code",
        "outputId": "7f7c5025-11bb-48f1-e1df-9b30e05b6a19",
        "colab": {
          "base_uri": "https://localhost:8080/",
          "height": 51
        }
      },
      "source": [
        "print(grad(newton_sqrt)(2.))\n",
        "print(grad(grad(newton_sqrt))(2.))"
      ],
      "execution_count": 31,
      "outputs": [
        {
          "output_type": "stream",
          "text": [
            "0.35355335\n",
            "-0.088388346\n"
          ],
          "name": "stdout"
        }
      ]
    },
    {
      "cell_type": "markdown",
      "metadata": {
        "id": "DvVmlaPD7W-4",
        "colab_type": "text"
      },
      "source": [
        "We can check our answers by differentiating `np.sqrt`, which uses a totally different implementation:"
      ]
    },
    {
      "cell_type": "code",
      "metadata": {
        "id": "jj_JnI9Pm4jg",
        "colab_type": "code",
        "outputId": "0efc9081-980f-47cd-95a2-476024545692",
        "colab": {
          "base_uri": "https://localhost:8080/",
          "height": 51
        }
      },
      "source": [
        "print(grad(np.sqrt)(2.))\n",
        "print(grad(grad(np.sqrt))(2.))"
      ],
      "execution_count": 32,
      "outputs": [
        {
          "output_type": "stream",
          "text": [
            "0.35355338\n",
            "-0.08838835\n"
          ],
          "name": "stdout"
        }
      ]
    },
    {
      "cell_type": "markdown",
      "metadata": {
        "id": "HowvqayEuy-H",
        "colab_type": "text"
      },
      "source": [
        "A limitation to this approach is that the argument `f` can't close over any values involved in differentiation. That is, you might notice that we kept the parameter `a` explicit in the argument list of `fixed_point`. While other JAX mechanisms can handle closed-over transformation-traced values in the arguments to higher-order functions (as is done for the control flow primitives like `lax.cond`, `lax.scan`, and `lax.while_loop` itself), `jax.custom_vjp` used as above cannot. A `fixed_point` routine that used a bit more of JAX's internals could have a more convenient and robust API."
      ]
    },
    {
      "cell_type": "markdown",
      "metadata": {
        "id": "Dr0aNkBslfQf",
        "colab_type": "text"
      },
      "source": [
        "## Basic usage of `jax.custom_jvp` and `jax.custom_vjp` APIs\n"
      ]
    },
    {
      "cell_type": "markdown",
      "metadata": {
        "id": "MojTOg4tmQNT",
        "colab_type": "text"
      },
      "source": [
        "\n",
        "### Use `jax.custom_jvp` to define forward-mode (and, indirectly, reverse-mode) rules\n",
        "\n",
        "Here's a canonical basic example of using `jax.custom_jvp`:"
      ]
    },
    {
      "cell_type": "code",
      "metadata": {
        "id": "nVkhbIFAOGZk",
        "colab_type": "code",
        "colab": {}
      },
      "source": [
        "from jax import custom_jvp\n",
        "import jax.numpy as np\n",
        "\n",
        "# f :: a -> b\n",
        "@custom_jvp\n",
        "def f(x):\n",
        "  return np.sin(x)\n",
        "\n",
        "# f_jvp :: (a, T a) -> (b, T b)\n",
        "def f_jvp(primals, tangents):\n",
        "  x, = primals\n",
        "  t, = tangents\n",
        "  return f(x), np.cos(x) * t\n",
        "\n",
        "f.defjvp(f_jvp)"
      ],
      "execution_count": 0,
      "outputs": []
    },
    {
      "cell_type": "code",
      "metadata": {
        "id": "fxhlECvW7Krj",
        "colab_type": "code",
        "outputId": "a727d3c5-ab82-4c0c-f77f-ac0500e84f5c",
        "colab": {
          "base_uri": "https://localhost:8080/",
          "height": 68
        }
      },
      "source": [
        "from jax import jvp\n",
        "\n",
        "print(f(3.))\n",
        "\n",
        "y, y_dot = jvp(f, (3.,), (1.,))\n",
        "print(y)\n",
        "print(y_dot)"
      ],
      "execution_count": 34,
      "outputs": [
        {
          "output_type": "stream",
          "text": [
            "0.14112\n",
            "0.14112\n",
            "-0.9899925\n"
          ],
          "name": "stdout"
        }
      ]
    },
    {
      "cell_type": "markdown",
      "metadata": {
        "id": "JaoQVRzSQ9Qd",
        "colab_type": "text"
      },
      "source": [
        "In words, we start with a a primal function `f` that takes inputs of type `a` and produces outputs of type `b`. We associate with it a JVP rule function `f_jvp` that takes a pair of inputs representing the primal inputs of type `a` and the corresponding tangent inputs of type `T a`, and produces a pair of outputs representing the primal outputs of type `b` and tangent outputs of type `T b`. The tangent outputs should be a linear function of the tangent inputs."
      ]
    },
    {
      "cell_type": "markdown",
      "metadata": {
        "id": "1xGky7yMOavq",
        "colab_type": "text"
      },
      "source": [
        "You can also use `f.defjvp` as a decorator, as in\n",
        "\n",
        "```python\n",
        "@custom_jvp\n",
        "def f(x):\n",
        "  ...\n",
        "\n",
        "@f.defjvp\n",
        "def f_jvp(primals, tangents):\n",
        "  ...\n",
        "```"
      ]
    },
    {
      "cell_type": "markdown",
      "metadata": {
        "id": "e9R-ppvdQIOC",
        "colab_type": "text"
      },
      "source": [
        "Even though we defined only a JVP rule and no VJP rule, we can use both forward- and reverse-mode differentiation on `f`. JAX will automatically transpose the linear computation on tangent values from our custom JVP rule, computing the VJP as efficiently as if we had written the rule by hand:"
      ]
    },
    {
      "cell_type": "code",
      "metadata": {
        "id": "hl9Io86pQD6s",
        "colab_type": "code",
        "outputId": "e8794287-da8f-47e8-a1ce-eaa41831a591",
        "colab": {
          "base_uri": "https://localhost:8080/",
          "height": 51
        }
      },
      "source": [
        "from jax import grad\n",
        "\n",
        "print(grad(f)(3.))\n",
        "print(grad(grad(f))(3.))"
      ],
      "execution_count": 35,
      "outputs": [
        {
          "output_type": "stream",
          "text": [
            "-0.9899925\n",
            "-0.14112\n"
          ],
          "name": "stdout"
        }
      ]
    },
    {
      "cell_type": "markdown",
      "metadata": {
        "id": "MRlKe5D90svj",
        "colab_type": "text"
      },
      "source": [
        "For automatic transposition to work, the JVP rule's output tangents must be linear as a function of the input tangents. Otherwise a transposition error is raised."
      ]
    },
    {
      "cell_type": "markdown",
      "metadata": {
        "id": "GRu-0yg96lXE",
        "colab_type": "text"
      },
      "source": [
        "Multiple arguments work like this:"
      ]
    },
    {
      "cell_type": "code",
      "metadata": {
        "id": "JFLXlXuq6pRf",
        "colab_type": "code",
        "colab": {}
      },
      "source": [
        "@custom_jvp\n",
        "def f(x, y):\n",
        "  return x ** 2 * y\n",
        "\n",
        "@f.defjvp\n",
        "def f_jvp(primals, tangents):\n",
        "  x, y = primals\n",
        "  x_dot, y_dot = tangents\n",
        "  primal_out = f(x, y)\n",
        "  tangent_out = 2 * x * y * x_dot + x ** 2 * y_dot\n",
        "  return primal_out, tangent_out"
      ],
      "execution_count": 0,
      "outputs": []
    },
    {
      "cell_type": "code",
      "metadata": {
        "id": "QpKwA0oA8DfE",
        "colab_type": "code",
        "outputId": "44aba2b3-200c-4cb7-f275-4cd9404d4068",
        "colab": {
          "base_uri": "https://localhost:8080/",
          "height": 34
        }
      },
      "source": [
        "print(grad(f)(2., 3.))"
      ],
      "execution_count": 37,
      "outputs": [
        {
          "output_type": "stream",
          "text": [
            "12.0\n"
          ],
          "name": "stdout"
        }
      ]
    },
    {
      "cell_type": "markdown",
      "metadata": {
        "id": "YPsPS3rdaGo2",
        "colab_type": "text"
      },
      "source": [
        "The `defjvps` convenience wrapper lets us define a JVP for each argument separately, and the results are computed separately then summed:\n",
        "\n"
      ]
    },
    {
      "cell_type": "code",
      "metadata": {
        "id": "CsQIUhUkajua",
        "colab_type": "code",
        "colab": {}
      },
      "source": [
        "@custom_jvp\n",
        "def f(x):\n",
        "  return np.sin(x)\n",
        "\n",
        "f.defjvps(lambda t, ans, x: np.cos(x) * t)"
      ],
      "execution_count": 0,
      "outputs": []
    },
    {
      "cell_type": "code",
      "metadata": {
        "id": "zfSgXrPEap-i",
        "colab_type": "code",
        "colab": {
          "base_uri": "https://localhost:8080/",
          "height": 34
        },
        "outputId": "b9401e3a-cbce-4aca-bad6-490524cfce7e"
      },
      "source": [
        "print(grad(f)(3.))"
      ],
      "execution_count": 39,
      "outputs": [
        {
          "output_type": "stream",
          "text": [
            "-0.9899925\n"
          ],
          "name": "stdout"
        }
      ]
    },
    {
      "cell_type": "markdown",
      "metadata": {
        "id": "iYUCLJghbPiP",
        "colab_type": "text"
      },
      "source": [
        "Here's a `defjvps` example with multiple arguments:"
      ]
    },
    {
      "cell_type": "code",
      "metadata": {
        "id": "Vx4Jv9s9bCi1",
        "colab_type": "code",
        "colab": {}
      },
      "source": [
        "@custom_jvp\n",
        "def f(x, y):\n",
        "  return x ** 2 * y\n",
        "\n",
        "f.defjvps(lambda x_dot, primal_out, x, y: 2 * x * y * x_dot,\n",
        "          lambda y_dot, primal_out, x, y: x ** 2 * y_dot)"
      ],
      "execution_count": 0,
      "outputs": []
    },
    {
      "cell_type": "code",
      "metadata": {
        "id": "o9ezUYsjbbvC",
        "colab_type": "code",
        "colab": {
          "base_uri": "https://localhost:8080/",
          "height": 68
        },
        "outputId": "67a9f25d-89ad-4abc-908b-8a97062da239"
      },
      "source": [
        "print(grad(f)(2., 3.))\n",
        "print(grad(f, 0)(2., 3.))  # same as above\n",
        "print(grad(f, 1)(2., 3.))"
      ],
      "execution_count": 41,
      "outputs": [
        {
          "output_type": "stream",
          "text": [
            "12.0\n",
            "12.0\n",
            "4.0\n"
          ],
          "name": "stdout"
        }
      ]
    },
    {
      "cell_type": "markdown",
      "metadata": {
        "id": "nuIUkaxibVfD",
        "colab_type": "text"
      },
      "source": [
        "As a shorthand, with `defjvps` you can pass a `None` value to indicate that the JVP for a particular argument is zero:"
      ]
    },
    {
      "cell_type": "code",
      "metadata": {
        "id": "z4z3esdZbTzQ",
        "colab_type": "code",
        "colab": {}
      },
      "source": [
        "@custom_jvp\n",
        "def f(x, y):\n",
        "  return x ** 2 * y\n",
        "\n",
        "f.defjvps(lambda x_dot, primal_out, x, y: 2 * x * y * x_dot,\n",
        "          None)"
      ],
      "execution_count": 0,
      "outputs": []
    },
    {
      "cell_type": "code",
      "metadata": {
        "id": "jOtQfp-5btSo",
        "colab_type": "code",
        "colab": {
          "base_uri": "https://localhost:8080/",
          "height": 68
        },
        "outputId": "ded61c3a-14a1-4965-b988-7a7c94eeaf53"
      },
      "source": [
        "print(grad(f)(2., 3.))\n",
        "print(grad(f, 0)(2., 3.))  # same as above\n",
        "print(grad(f, 1)(2., 3.))"
      ],
      "execution_count": 43,
      "outputs": [
        {
          "output_type": "stream",
          "text": [
            "12.0\n",
            "12.0\n",
            "0.0\n"
          ],
          "name": "stdout"
        }
      ]
    },
    {
      "cell_type": "markdown",
      "metadata": {
        "id": "kZ0yc-Ihoezk",
        "colab_type": "text"
      },
      "source": [
        "Calling a `jax.custom_jvp` function with keyword arguments, or writing a `jax.custom_jvp` function definition with default arguments, are both allowed so long as they can be unambiguosly mapped to positional arguments based on the function signature retrieved by the standard library `inspect.signature` mechanism."
      ]
    },
    {
      "cell_type": "markdown",
      "metadata": {
        "id": "3FGwfT67PDs9",
        "colab_type": "text"
      },
      "source": [
        "When you're not performing differentiation, the function `f` is called just as if it weren't decorated by `jax.custom_jvp`:"
      ]
    },
    {
      "cell_type": "code",
      "metadata": {
        "id": "b-tB3xCHPRFt",
        "colab_type": "code",
        "colab": {}
      },
      "source": [
        "@custom_jvp\n",
        "def f(x):\n",
        "  print('called f!')  # a harmless side-effect\n",
        "  return np.sin(x)\n",
        "\n",
        "@f.defjvp\n",
        "def f_jvp(primals, tangents):\n",
        "  print('called f_jvp!')  # a harmless side-effect\n",
        "  x, = primals\n",
        "  t, = tangents\n",
        "  return f(x), np.cos(x) * t"
      ],
      "execution_count": 0,
      "outputs": []
    },
    {
      "cell_type": "code",
      "metadata": {
        "id": "xAlRea95PjA5",
        "colab_type": "code",
        "outputId": "b20e8a49-1ba3-4be0-dcb7-83b2b7cca0d5",
        "colab": {
          "base_uri": "https://localhost:8080/",
          "height": 51
        }
      },
      "source": [
        "from jax import vmap, jit\n",
        "\n",
        "print(f(3.))"
      ],
      "execution_count": 45,
      "outputs": [
        {
          "output_type": "stream",
          "text": [
            "called f!\n",
            "0.14112\n"
          ],
          "name": "stdout"
        }
      ]
    },
    {
      "cell_type": "code",
      "metadata": {
        "id": "dyD2ow4NmpI-",
        "colab_type": "code",
        "outputId": "19081712-d417-4678-ba19-d60f8a86bd78",
        "colab": {
          "base_uri": "https://localhost:8080/",
          "height": 85
        }
      },
      "source": [
        "print(vmap(f)(np.arange(3.)))\n",
        "print(jit(f)(3.))"
      ],
      "execution_count": 46,
      "outputs": [
        {
          "output_type": "stream",
          "text": [
            "called f!\n",
            "[0.        0.841471  0.9092974]\n",
            "called f!\n",
            "0.14112\n"
          ],
          "name": "stdout"
        }
      ]
    },
    {
      "cell_type": "markdown",
      "metadata": {
        "id": "EzB75KZ5Pz7m",
        "colab_type": "text"
      },
      "source": [
        "The custom JVP rule is invoked during differentiation, whether forward or reverse:"
      ]
    },
    {
      "cell_type": "code",
      "metadata": {
        "id": "hKF0xyAxPyLZ",
        "colab_type": "code",
        "outputId": "7919ce76-d1a0-478b-a9d4-cf6050250c97",
        "colab": {
          "base_uri": "https://localhost:8080/",
          "height": 68
        }
      },
      "source": [
        "y, y_dot = jvp(f, (3.,), (1.,))\n",
        "print(y_dot)"
      ],
      "execution_count": 47,
      "outputs": [
        {
          "output_type": "stream",
          "text": [
            "called f_jvp!\n",
            "called f!\n",
            "-0.9899925\n"
          ],
          "name": "stdout"
        }
      ]
    },
    {
      "cell_type": "code",
      "metadata": {
        "id": "Z1KaEgA58MEG",
        "colab_type": "code",
        "outputId": "3554eb34-a95d-48b4-e291-f7aa0885c02f",
        "colab": {
          "base_uri": "https://localhost:8080/",
          "height": 68
        }
      },
      "source": [
        "print(grad(f)(3.))"
      ],
      "execution_count": 48,
      "outputs": [
        {
          "output_type": "stream",
          "text": [
            "called f_jvp!\n",
            "called f!\n",
            "-0.9899925\n"
          ],
          "name": "stdout"
        }
      ]
    },
    {
      "cell_type": "markdown",
      "metadata": {
        "id": "o8JFxk3lQhOs",
        "colab_type": "text"
      },
      "source": [
        "Notice that `f_jvp` calls `f` to compute the primal outputs. In the context of higher-order differentiation, each application of a differentiation transform will use the custom JVP rule if and only if the rule calls the original `f` to compute the primal outputs. (This represents a kind of fundamental tradeoff, where we can't make use of intermediate values from the evaluation of `f` in our rule _and also_ have the rule apply in all orders of higher-order differentiation.)"
      ]
    },
    {
      "cell_type": "code",
      "metadata": {
        "id": "B6PLJooTQgVp",
        "colab_type": "code",
        "outputId": "f53dba7d-fa93-4419-98b9-8c6568ac4741",
        "colab": {
          "base_uri": "https://localhost:8080/",
          "height": 85
        }
      },
      "source": [
        "grad(grad(f))(3.)"
      ],
      "execution_count": 49,
      "outputs": [
        {
          "output_type": "stream",
          "text": [
            "called f_jvp!\n",
            "called f_jvp!\n",
            "called f!\n"
          ],
          "name": "stdout"
        },
        {
          "output_type": "execute_result",
          "data": {
            "text/plain": [
              "DeviceArray(-0.14112, dtype=float32)"
            ]
          },
          "metadata": {
            "tags": []
          },
          "execution_count": 49
        }
      ]
    },
    {
      "cell_type": "markdown",
      "metadata": {
        "id": "XNxAmFSsaaro",
        "colab_type": "text"
      },
      "source": [
        "You can use Python control flow with `jax.custom_jvp`:"
      ]
    },
    {
      "cell_type": "code",
      "metadata": {
        "id": "kkXlSJL6adU2",
        "colab_type": "code",
        "colab": {}
      },
      "source": [
        "@custom_jvp\n",
        "def f(x):\n",
        "  if x > 0:\n",
        "    return np.sin(x)\n",
        "  else:\n",
        "    return np.cos(x)\n",
        "\n",
        "@f.defjvp\n",
        "def f_jvp(primals, tangents):\n",
        "  x, = primals\n",
        "  x_dot, = tangents\n",
        "  ans = f(x)\n",
        "  if x > 0:\n",
        "    return ans, 2 * x_dot\n",
        "  else:\n",
        "    return ans, 3 * x_dot"
      ],
      "execution_count": 0,
      "outputs": []
    },
    {
      "cell_type": "code",
      "metadata": {
        "id": "QCHmJ56Na2G3",
        "colab_type": "code",
        "outputId": "fcc3fd07-6a14-47eb-e86a-a820c9917a16",
        "colab": {
          "base_uri": "https://localhost:8080/",
          "height": 51
        }
      },
      "source": [
        "print(grad(f)(1.))\n",
        "print(grad(f)(-1.))"
      ],
      "execution_count": 51,
      "outputs": [
        {
          "output_type": "stream",
          "text": [
            "2.0\n",
            "3.0\n"
          ],
          "name": "stdout"
        }
      ]
    },
    {
      "cell_type": "markdown",
      "metadata": {
        "id": "9cVdgR7ilt8l",
        "colab_type": "text"
      },
      "source": [
        "### Use `jax.custom_vjp` to define custom reverse-mode-only rules\n",
        "\n",
        "While `jax.custom_jvp` suffices for controlling both forward- and, via JAX's automatic transposition, reverse-mode differentiation behavior, in some cases we may want to directly control a VJP rule, for example in the latter two example problems presented above. We can do that with `jax.custom_vjp`:"
      ]
    },
    {
      "cell_type": "code",
      "metadata": {
        "id": "zAZk1n3dUw76",
        "colab_type": "code",
        "colab": {}
      },
      "source": [
        "from jax import custom_vjp\n",
        "import jax.numpy as np\n",
        "\n",
        "# f :: a -> b\n",
        "@custom_vjp\n",
        "def f(x):\n",
        "  return np.sin(x)\n",
        "\n",
        "# f_fwd :: a -> (b, c)\n",
        "def f_fwd(x):\n",
        "  return f(x), np.cos(x)\n",
        "\n",
        "# f_bwd :: (c, CT b) -> CT a\n",
        "def f_bwd(cos_x, y_bar):\n",
        "  return (cos_x * y_bar,)\n",
        "\n",
        "f.defvjp(f_fwd, f_bwd)"
      ],
      "execution_count": 0,
      "outputs": []
    },
    {
      "cell_type": "code",
      "metadata": {
        "id": "E8W-H2S0Ngdr",
        "colab_type": "code",
        "outputId": "62e3afa0-d10f-4e72-e567-9ee9b8dd7c3d",
        "colab": {
          "base_uri": "https://localhost:8080/",
          "height": 51
        }
      },
      "source": [
        "from jax import grad\n",
        "\n",
        "print(f(3.))\n",
        "print(grad(f)(3.))"
      ],
      "execution_count": 53,
      "outputs": [
        {
          "output_type": "stream",
          "text": [
            "0.14112\n",
            "-0.9899925\n"
          ],
          "name": "stdout"
        }
      ]
    },
    {
      "cell_type": "markdown",
      "metadata": {
        "id": "yLING7qEVGGN",
        "colab_type": "text"
      },
      "source": [
        "In words, we again start with a a primal function `f` that takes inputs of type `a` and produces outputs of type `b`. We associate with it two functions, `f_fwd` and `f_bwd`, which describe how to perform the forward- and backward-passes of reverse-mode autodiff, respectively.\n",
        "\n",
        "The function `f_fwd` describes the forward pass, not only the primal computation but also what values to save for use on the backward pass. Its input signature is just like that of the primal function `f`, in that it takes a primal input of type `a`. But as output it produces a pair, where the first element is the primal output `b` and the second element is any \"residual\" data of type `c` to be stored for use by the backward pass. (This second output is analogous to [PyTorch's save_for_backward mechanism](https://pytorch.org/tutorials/beginner/examples_autograd/two_layer_net_custom_function.html).)\n",
        "\n",
        "The function `f_bwd` describes the backward pass. It takes two inputs, where the first is the residual data of type `c` produced by `f_fwd` and the second is the output cotangents of type `CT b` corresponding to the output of the primal function. It produces an output of type `CT a` representing the cotangents corresponding to the input of the primal function. In particular, the output of `f_bwd` must be a sequence (e.g. a tuple) of length equal to the number of arguments to the primal function."
      ]
    },
    {
      "cell_type": "markdown",
      "metadata": {
        "id": "d1b5v67Oncfz",
        "colab_type": "text"
      },
      "source": [
        "So multiple arguments work like this:"
      ]
    },
    {
      "cell_type": "code",
      "metadata": {
        "id": "IhMb64gkngAt",
        "colab_type": "code",
        "colab": {}
      },
      "source": [
        "from jax import custom_vjp\n",
        "\n",
        "@custom_vjp\n",
        "def f(x, y):\n",
        "  return np.sin(x) * y\n",
        "\n",
        "def f_fwd(x, y):\n",
        "  return f(x, y), (np.cos(x), np.sin(x), y)\n",
        "\n",
        "def f_bwd(res, g):\n",
        "  cos_x, sin_x, y = res\n",
        "  return (cos_x * g * y, -sin_x * g)\n",
        "\n",
        "f.defvjp(f_fwd, f_bwd)"
      ],
      "execution_count": 0,
      "outputs": []
    },
    {
      "cell_type": "code",
      "metadata": {
        "id": "EnRtIhhLnkry",
        "colab_type": "code",
        "outputId": "4d28ce02-26e5-4d04-fb4a-767892844c88",
        "colab": {
          "base_uri": "https://localhost:8080/",
          "height": 34
        }
      },
      "source": [
        "print(grad(f)(2., 3.))"
      ],
      "execution_count": 55,
      "outputs": [
        {
          "output_type": "stream",
          "text": [
            "-1.2484405\n"
          ],
          "name": "stdout"
        }
      ]
    },
    {
      "cell_type": "markdown",
      "metadata": {
        "id": "GwC26P9kn8qw",
        "colab_type": "text"
      },
      "source": [
        "Calling a `jax.custom_vjp` function with keyword arguments, or writing a `jax.custom_vjp` function definition with default arguments, are both allowed so long as they can be unambiguosly mapped to positional arguments based on the function signature retrieved by the standard library `inspect.signature` mechanism."
      ]
    },
    {
      "cell_type": "markdown",
      "metadata": {
        "id": "XfH-ae8bYt6-",
        "colab_type": "text"
      },
      "source": [
        "As with `jax.custom_jvp`, the custom VJP rule comprised by `f_fwd` and `f_bwd` is not invoked if differentiation is not applied. If function is evaluated, or transformed with `jit`, `vmap`, or other non-differentiation transformations, then only `f` is called."
      ]
    },
    {
      "cell_type": "code",
      "metadata": {
        "id": "s-_Dbqi-N5Ij",
        "colab_type": "code",
        "colab": {}
      },
      "source": [
        "@custom_vjp\n",
        "def f(x):\n",
        "  print(\"called f!\")\n",
        "  return np.sin(x)\n",
        "\n",
        "def f_fwd(x):\n",
        "  print(\"called f_fwd!\")\n",
        "  return f(x), np.cos(x)\n",
        "\n",
        "def f_bwd(cos_x, y_bar):\n",
        "  print(\"called f_bwd!\")\n",
        "  return (cos_x * y_bar,)\n",
        "\n",
        "f.defvjp(f_fwd, f_bwd)"
      ],
      "execution_count": 0,
      "outputs": []
    },
    {
      "cell_type": "code",
      "metadata": {
        "id": "r0aZ79OmOAR5",
        "colab_type": "code",
        "outputId": "e62fd6d9-ec63-4a41-c4cd-5be2c8095818",
        "colab": {
          "base_uri": "https://localhost:8080/",
          "height": 51
        }
      },
      "source": [
        "print(f(3.))"
      ],
      "execution_count": 57,
      "outputs": [
        {
          "output_type": "stream",
          "text": [
            "called f!\n",
            "0.14112\n"
          ],
          "name": "stdout"
        }
      ]
    },
    {
      "cell_type": "code",
      "metadata": {
        "id": "7ToB9BYlm6uN",
        "colab_type": "code",
        "outputId": "6835b89c-847a-4b82-ac19-1e19a7b9858c",
        "colab": {
          "base_uri": "https://localhost:8080/",
          "height": 85
        }
      },
      "source": [
        "print(grad(f)(3.))"
      ],
      "execution_count": 58,
      "outputs": [
        {
          "output_type": "stream",
          "text": [
            "called f_fwd!\n",
            "called f!\n",
            "called f_bwd!\n",
            "-0.9899925\n"
          ],
          "name": "stdout"
        }
      ]
    },
    {
      "cell_type": "code",
      "metadata": {
        "id": "s1Pn_qCIODcF",
        "colab_type": "code",
        "outputId": "991797e7-ec9d-45b8-b88c-1548d9919334",
        "colab": {
          "base_uri": "https://localhost:8080/",
          "height": 68
        }
      },
      "source": [
        "from jax import vjp\n",
        "\n",
        "y, f_vjp = vjp(f, 3.)\n",
        "print(y)"
      ],
      "execution_count": 59,
      "outputs": [
        {
          "output_type": "stream",
          "text": [
            "called f_fwd!\n",
            "called f!\n",
            "0.14112\n"
          ],
          "name": "stdout"
        }
      ]
    },
    {
      "cell_type": "code",
      "metadata": {
        "id": "dvgQtDHaOHuo",
        "colab_type": "code",
        "outputId": "02447bcd-2885-4883-cc09-a2b352ee3864",
        "colab": {
          "base_uri": "https://localhost:8080/",
          "height": 51
        }
      },
      "source": [
        "print(f_vjp(1.))"
      ],
      "execution_count": 60,
      "outputs": [
        {
          "output_type": "stream",
          "text": [
            "called f_bwd!\n",
            "(DeviceArray(-0.9899925, dtype=float32),)\n"
          ],
          "name": "stdout"
        }
      ]
    },
    {
      "cell_type": "markdown",
      "metadata": {
        "id": "qFIIpkFcZCNP",
        "colab_type": "text"
      },
      "source": [
        "**Forward-mode autodiff cannot be used on the `jax.custom_vjp` function** and will raise an error:"
      ]
    },
    {
      "cell_type": "code",
      "metadata": {
        "id": "3RGQRbI_OSEX",
        "colab_type": "code",
        "outputId": "f971d7d3-b323-4467-bbc2-3157f3381b64",
        "colab": {
          "base_uri": "https://localhost:8080/",
          "height": 68
        }
      },
      "source": [
        "from jax import jvp\n",
        "\n",
        "try:\n",
        "  jvp(f, (3.,), (1.,))\n",
        "except TypeError as e:\n",
        "  print('ERROR! {}'.format(e))"
      ],
      "execution_count": 61,
      "outputs": [
        {
          "output_type": "stream",
          "text": [
            "called f_fwd!\n",
            "called f!\n",
            "ERROR! can't apply forward-mode autodiff (jvp) to a custom_vjp function.\n"
          ],
          "name": "stdout"
        }
      ]
    },
    {
      "cell_type": "markdown",
      "metadata": {
        "id": "u04I9j2dntAU",
        "colab_type": "text"
      },
      "source": [
        "If you want to use both forward- and reverse-mode, use `jax.custom_jvp` instead."
      ]
    },
    {
      "cell_type": "markdown",
      "metadata": {
        "id": "YN97y7LEZbWV",
        "colab_type": "text"
      },
      "source": [
        "We can use `jax.custom_vjp` together with `pdb` to insert a debugger trace in the backward pass:"
      ]
    },
    {
      "cell_type": "code",
      "metadata": {
        "id": "-DvRKsHPZk_g",
        "colab_type": "code",
        "colab": {}
      },
      "source": [
        "import pdb\n",
        "\n",
        "@custom_vjp\n",
        "def debug(x):\n",
        "  return x  # acts like identity\n",
        "\n",
        "def debug_fwd(x):\n",
        "  return x, x\n",
        "\n",
        "def debug_bwd(x, g):\n",
        "  import pdb; pdb.set_trace()\n",
        "  return g\n",
        "\n",
        "debug.defvjp(debug_fwd, debug_bwd)"
      ],
      "execution_count": 0,
      "outputs": []
    },
    {
      "cell_type": "code",
      "metadata": {
        "id": "49GdkP4pZ2IV",
        "colab_type": "code",
        "colab": {}
      },
      "source": [
        "def foo(x):\n",
        "  y = x ** 2\n",
        "  y = debug(y)  # insert pdb in corresponding backward pass step\n",
        "  return np.sin(y)"
      ],
      "execution_count": 0,
      "outputs": []
    },
    {
      "cell_type": "markdown",
      "metadata": {
        "id": "sGLnRcPwaKoX",
        "colab_type": "text"
      },
      "source": [
        "```python\n",
        "jax.grad(foo)(3.)\n",
        "\n",
        "> <ipython-input-113-b19a2dc1abf7>(12)debug_bwd()\n",
        "-> return g\n",
        "(Pdb) p x\n",
        "DeviceArray(9., dtype=float32)\n",
        "(Pdb) p g\n",
        "DeviceArray(-0.91113025, dtype=float32)\n",
        "(Pdb) q\n",
        "```"
      ]
    },
    {
      "cell_type": "markdown",
      "metadata": {
        "id": "DaTfAJLAl1Lb",
        "colab_type": "text"
      },
      "source": [
        "## More features and details\n"
      ]
    },
    {
      "cell_type": "markdown",
      "metadata": {
        "id": "LQF_UDApl_UV",
        "colab_type": "text"
      },
      "source": [
        "### Working with `list` / `tuple` / `dict` containers (and other pytrees)\n",
        "\n",
        "You should expect standard Python containers like lists, tuples, namedtuples, and dicts to just work, along with nested versions of those. In general, any [pytrees](https://github.com/google/jax/blob/master/docs/notebooks/JAX_pytrees.ipynb) are permissible, so long as their structures are consistent according to the type constraints. \n",
        "\n",
        "Here's a contrived example with `jax.custom_jvp`:"
      ]
    },
    {
      "cell_type": "code",
      "metadata": {
        "id": "6sDLZ3dAn3P2",
        "colab_type": "code",
        "colab": {}
      },
      "source": [
        "from collections import namedtuple\n",
        "Point = namedtuple(\"Point\", [\"x\", \"y\"])\n",
        "\n",
        "@custom_jvp\n",
        "def f(pt):\n",
        "  x, y = pt.x, pt.y\n",
        "  return {'a': x ** 2,\n",
        "          'b': (np.sin(x), np.cos(y))}\n",
        "\n",
        "@f.defjvp\n",
        "def f_jvp(primals, tangents):\n",
        "  pt, = primals\n",
        "  pt_dot, =  tangents\n",
        "  ans = f(pt)\n",
        "  ans_dot = {'a': 2 * pt.x * pt_dot.x,\n",
        "             'b': (np.cos(pt.x) * pt_dot.x, -np.sin(pt.y) * pt_dot.y)}\n",
        "  return ans, ans_dot\n",
        "\n",
        "def fun(pt):\n",
        "  dct = f(pt)\n",
        "  return dct['a'] + dct['b'][0]"
      ],
      "execution_count": 0,
      "outputs": []
    },
    {
      "cell_type": "code",
      "metadata": {
        "id": "My8pbOlPppJj",
        "colab_type": "code",
        "outputId": "8430db76-7c94-412d-d261-60614dff2dbc",
        "colab": {
          "base_uri": "https://localhost:8080/",
          "height": 34
        }
      },
      "source": [
        "pt = Point(1., 2.)\n",
        "\n",
        "print(f(pt))"
      ],
      "execution_count": 65,
      "outputs": [
        {
          "output_type": "stream",
          "text": [
            "{'a': 1.0, 'b': (DeviceArray(0.841471, dtype=float32), DeviceArray(-0.4161468, dtype=float32))}\n"
          ],
          "name": "stdout"
        }
      ]
    },
    {
      "cell_type": "code",
      "metadata": {
        "id": "a9qyiCAhqLd3",
        "colab_type": "code",
        "outputId": "4184570b-a4b1-4297-da32-746b80bfb63f",
        "colab": {
          "base_uri": "https://localhost:8080/",
          "height": 34
        }
      },
      "source": [
        "print(grad(fun)(pt))"
      ],
      "execution_count": 66,
      "outputs": [
        {
          "output_type": "stream",
          "text": [
            "Point(x=DeviceArray(2.5403023, dtype=float32), y=array(0.))\n"
          ],
          "name": "stdout"
        }
      ]
    },
    {
      "cell_type": "markdown",
      "metadata": {
        "id": "BWLN9tu4qWQd",
        "colab_type": "text"
      },
      "source": [
        "And an analogous contrived example with `jax.custom_vjp`:"
      ]
    },
    {
      "cell_type": "code",
      "metadata": {
        "id": "QkdbwGkJqS3J",
        "colab_type": "code",
        "colab": {}
      },
      "source": [
        "@custom_vjp\n",
        "def f(pt):\n",
        "  x, y = pt.x, pt.y\n",
        "  return {'a': x ** 2,\n",
        "          'b': (np.sin(x), np.cos(y))}\n",
        "\n",
        "def f_fwd(pt):\n",
        "  return f(pt), pt\n",
        "\n",
        "def f_bwd(pt, g):\n",
        "  a_bar, (b0_bar, b1_bar) = g['a'], g['b']\n",
        "  x_bar = 2 * pt.x * a_bar + np.cos(pt.x) * b0_bar\n",
        "  y_bar = -np.sin(pt.y) * b1_bar\n",
        "  return (Point(x_bar, y_bar),)\n",
        "\n",
        "f.defvjp(f_fwd, f_bwd)\n",
        "\n",
        "def fun(pt):\n",
        "  dct = f(pt)\n",
        "  return dct['a'] + dct['b'][0]"
      ],
      "execution_count": 0,
      "outputs": []
    },
    {
      "cell_type": "code",
      "metadata": {
        "id": "3onW7t6nrJ4E",
        "colab_type": "code",
        "outputId": "75910cfc-dee5-461c-a646-2f9dcba8f674",
        "colab": {
          "base_uri": "https://localhost:8080/",
          "height": 34
        }
      },
      "source": [
        "pt = Point(1., 2.)\n",
        "\n",
        "print(f(pt))"
      ],
      "execution_count": 68,
      "outputs": [
        {
          "output_type": "stream",
          "text": [
            "{'a': 1.0, 'b': (DeviceArray(0.841471, dtype=float32), DeviceArray(-0.4161468, dtype=float32))}\n"
          ],
          "name": "stdout"
        }
      ]
    },
    {
      "cell_type": "code",
      "metadata": {
        "id": "ryyeKIXtrNpd",
        "colab_type": "code",
        "outputId": "e707a38e-f72f-40a6-ece4-499d21c9e5cb",
        "colab": {
          "base_uri": "https://localhost:8080/",
          "height": 34
        }
      },
      "source": [
        "print(grad(fun)(pt))"
      ],
      "execution_count": 69,
      "outputs": [
        {
          "output_type": "stream",
          "text": [
            "Point(x=DeviceArray(2.5403023, dtype=float32), y=DeviceArray(-0., dtype=float32))\n"
          ],
          "name": "stdout"
        }
      ]
    },
    {
      "cell_type": "markdown",
      "metadata": {
        "id": "JKTNivxbmKWO",
        "colab_type": "text"
      },
      "source": [
        "### Handling  non-differentiable arguments"
      ]
    },
    {
      "cell_type": "markdown",
      "metadata": {
        "id": "7g9sXSp_uc36",
        "colab_type": "text"
      },
      "source": [
        "Some use cases, like the final example problem, call for non-differentiable arguments to be passed to functions with custom differentiation rules, and for those arguments to also be passed to the rules themselves. In the case of `fixed_point`, the function argument `f` was such a non-differentiable argument. A similar situation arises with `jax.experimental.odeint`.\n"
      ]
    },
    {
      "cell_type": "markdown",
      "metadata": {
        "id": "9yNIOzyBCvE5",
        "colab_type": "text"
      },
      "source": [
        "#### `jax.custom_jvp` with `nondiff_argnums`\n",
        "\n",
        "Use the optional `nondiff_argnums` parameter to `jax.custom_jvp` to indicate arguments like these. Here's an example with `jax.custom_jvp`:"
      ]
    },
    {
      "cell_type": "code",
      "metadata": {
        "id": "b3YMxxTBvy0I",
        "colab_type": "code",
        "colab": {}
      },
      "source": [
        "from functools import partial\n",
        "\n",
        "@partial(custom_jvp, nondiff_argnums=(0,))\n",
        "def app(f, x):\n",
        "  return f(x)\n",
        "\n",
        "@app.defjvp\n",
        "def app_jvp(f, primals, tangents):\n",
        "  x, = primals\n",
        "  x_dot, = tangents\n",
        "  return f(x), 2. * x_dot"
      ],
      "execution_count": 0,
      "outputs": []
    },
    {
      "cell_type": "code",
      "metadata": {
        "id": "5W-yEw9IB34S",
        "colab_type": "code",
        "outputId": "0a0d493c-a1fd-4f76-8cec-f18522aa5774",
        "colab": {
          "base_uri": "https://localhost:8080/",
          "height": 34
        }
      },
      "source": [
        "print(app(lambda x: x ** 3, 3.))"
      ],
      "execution_count": 71,
      "outputs": [
        {
          "output_type": "stream",
          "text": [
            "27.0\n"
          ],
          "name": "stdout"
        }
      ]
    },
    {
      "cell_type": "code",
      "metadata": {
        "id": "zbVIlOmqB7_O",
        "colab_type": "code",
        "outputId": "280d4b0a-e68b-4996-dd50-d66d129c8eec",
        "colab": {
          "base_uri": "https://localhost:8080/",
          "height": 34
        }
      },
      "source": [
        "print(grad(app, 1)(lambda x: x ** 3, 3.))"
      ],
      "execution_count": 72,
      "outputs": [
        {
          "output_type": "stream",
          "text": [
            "2.0\n"
          ],
          "name": "stdout"
        }
      ]
    },
    {
      "cell_type": "markdown",
      "metadata": {
        "id": "-b_B_4WaBI2D",
        "colab_type": "text"
      },
      "source": [
        "Notice the gotcha here: no matter where in the argument list these parameters appear, they're placed at the *start* of the signature of the corresponding JVP rule. Here's another example:"
      ]
    },
    {
      "cell_type": "code",
      "metadata": {
        "id": "9hokWmyHBgKK",
        "colab_type": "code",
        "colab": {}
      },
      "source": [
        "@partial(custom_jvp, nondiff_argnums=(0, 2))\n",
        "def app2(f, x, g):\n",
        "  return f(g((x)))\n",
        "\n",
        "@app2.defjvp\n",
        "def app2_jvp(f, g, primals, tangents):\n",
        "  x, = primals\n",
        "  x_dot, = tangents\n",
        "  return f(g(x)), 3. * x_dot"
      ],
      "execution_count": 0,
      "outputs": []
    },
    {
      "cell_type": "code",
      "metadata": {
        "id": "J7GsvJTgCfS0",
        "colab_type": "code",
        "outputId": "6963fd03-c952-467d-c117-39a53253b2b9",
        "colab": {
          "base_uri": "https://localhost:8080/",
          "height": 34
        }
      },
      "source": [
        "print(app2(lambda x: x ** 3, 3., lambda y: 5 * y))"
      ],
      "execution_count": 74,
      "outputs": [
        {
          "output_type": "stream",
          "text": [
            "3375.0\n"
          ],
          "name": "stdout"
        }
      ]
    },
    {
      "cell_type": "code",
      "metadata": {
        "id": "kPP8Jt1CCb1X",
        "colab_type": "code",
        "outputId": "77f7d0a0-951b-44df-fb44-540a0e968072",
        "colab": {
          "base_uri": "https://localhost:8080/",
          "height": 34
        }
      },
      "source": [
        "print(grad(app2, 1)(lambda x: x ** 3, 3., lambda y: 5 * y))"
      ],
      "execution_count": 75,
      "outputs": [
        {
          "output_type": "stream",
          "text": [
            "3.0\n"
          ],
          "name": "stdout"
        }
      ]
    },
    {
      "cell_type": "markdown",
      "metadata": {
        "id": "ECbalHIkC4ts",
        "colab_type": "text"
      },
      "source": [
        "#### `jax.custom_vjp` with `nondiff_argnums`"
      ]
    },
    {
      "cell_type": "markdown",
      "metadata": {
        "id": "0u0jn4aWC8k1",
        "colab_type": "text"
      },
      "source": [
        "A similar option exists for `jax.custom_vjp`, and similarly the convention is that the non-differentiable arguments are passed as the first arguments to the rules, no matter where they appear in the original function's signature. Here's an example:"
      ]
    },
    {
      "cell_type": "code",
      "metadata": {
        "id": "yCdu-_9GClWs",
        "colab_type": "code",
        "colab": {}
      },
      "source": [
        "@partial(custom_vjp, nondiff_argnums=(0,))\n",
        "def app(f, x):\n",
        "  return f(x)\n",
        "\n",
        "def app_fwd(f, x):\n",
        "  return f(x), x\n",
        "\n",
        "def app_bwd(f, x, g):\n",
        "  return (5 * g,)\n",
        "\n",
        "app.defvjp(app_fwd, app_bwd)"
      ],
      "execution_count": 0,
      "outputs": []
    },
    {
      "cell_type": "code",
      "metadata": {
        "id": "qSgcWa1eDj4r",
        "colab_type": "code",
        "outputId": "6c34436a-1bdb-49db-a57f-b50f053c0cd4",
        "colab": {
          "base_uri": "https://localhost:8080/",
          "height": 34
        }
      },
      "source": [
        "print(app(lambda x: x ** 2, 4.))"
      ],
      "execution_count": 77,
      "outputs": [
        {
          "output_type": "stream",
          "text": [
            "16.0\n"
          ],
          "name": "stdout"
        }
      ]
    },
    {
      "cell_type": "code",
      "metadata": {
        "id": "tccagflcDmaz",
        "colab_type": "code",
        "outputId": "d28015b9-47a9-4adc-e643-3fea37ac1d46",
        "colab": {
          "base_uri": "https://localhost:8080/",
          "height": 34
        }
      },
      "source": [
        "print(grad(app, 1)(lambda x: x ** 2, 4.))"
      ],
      "execution_count": 78,
      "outputs": [
        {
          "output_type": "stream",
          "text": [
            "5.0\n"
          ],
          "name": "stdout"
        }
      ]
    },
    {
      "cell_type": "markdown",
      "metadata": {
        "id": "BTEnNTk5D0sM",
        "colab_type": "text"
      },
      "source": [
        "See `clip_gradient` and `fixed_point` above for other usage examples."
      ]
    }
  ]
}
