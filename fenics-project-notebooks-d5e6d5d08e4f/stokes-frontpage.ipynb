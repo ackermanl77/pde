{
 "cells": [
  {
   "cell_type": "markdown",
   "metadata": {},
   "source": [
    "# Solving the Stokes equation with FEniCS"
   ]
  },
  {
   "cell_type": "code",
   "execution_count": 2,
   "metadata": {},
   "outputs": [
    {
     "data": {
      "text/plain": [
       "\"if 'conda' in sys.version:  # Install using conda if we're using Anaconda Python\\n    !conda config --add channels conda-forge\\n    !conda install -y fenics\""
      ]
     },
     "execution_count": 2,
     "metadata": {},
     "output_type": "execute_result"
    }
   ],
   "source": [
    "import sys\n",
    "\"\"\"if 'conda' in sys.version:  # Install using conda if we're using Anaconda Python\n",
    "    !conda config --add channels conda-forge\n",
    "    !conda install -y fenics\"\"\""
   ]
  },
  {
   "cell_type": "code",
   "execution_count": 3,
   "metadata": {},
   "outputs": [],
   "source": [
    "from fenics import *\n",
    "from mshr import *"
   ]
  },
  {
   "cell_type": "code",
   "execution_count": 4,
   "metadata": {},
   "outputs": [],
   "source": [
    "# Define domain\n",
    "h = 0.25\n",
    "r = 0.3*h\n",
    "box = Box(Point(0, 0, 0), Point(1, h, h))\n",
    "s0 = Sphere(Point(0.3, 0.50*h, 0.50*h), r)\n",
    "s1 = Sphere(Point(0.5, 0.65*h, 0.65*h), r)\n",
    "s2 = Sphere(Point(0.7, 0.35*h, 0.35*h), r)\n",
    "domain = box - s0 - s1 - s2\n",
    "\n",
    "# Generate mesh\n",
    "mesh = generate_mesh(domain, 32)"
   ]
  },
  {
   "cell_type": "code",
   "execution_count": 5,
   "metadata": {},
   "outputs": [],
   "source": [
    "# Define source term\n",
    "f = Constant((0, 0, 0))"
   ]
  },
  {
   "cell_type": "code",
   "execution_count": 6,
   "metadata": {},
   "outputs": [
    {
     "name": "stdout",
     "output_type": "stream",
     "text": [
      "Calling FFC just-in-time (JIT) compiler, this may take some time.\n",
      "Calling FFC just-in-time (JIT) compiler, this may take some time.\n",
      "Calling FFC just-in-time (JIT) compiler, this may take some time.\n",
      "Calling FFC just-in-time (JIT) compiler, this may take some time.\n"
     ]
    }
   ],
   "source": [
    "# Define function space\n",
    "P2 = VectorElement('P', tetrahedron, 2)\n",
    "P1 = FiniteElement('P', tetrahedron, 1)\n",
    "TH = P2 * P1\n",
    "W = FunctionSpace(mesh, TH)\n",
    "\n",
    "# Define variational problem\n",
    "(u, p) = TrialFunctions(W)\n",
    "(v, q) = TestFunctions(W)\n",
    "a = inner(grad(u), grad(v))*dx - p*div(v)*dx + div(u)*q*dx\n",
    "L = dot(f, v)*dx"
   ]
  },
  {
   "cell_type": "code",
   "execution_count": 7,
   "metadata": {},
   "outputs": [],
   "source": [
    "# Define boundaries\n",
    "def inflow(x):\n",
    "    return near(x[0], 0)\n",
    "\n",
    "def outflow(x):\n",
    "    return near(x[0], 1)\n",
    "\n",
    "def walls(x):\n",
    "    return near(x[1], 0) or near(x[1], h) or near(x[2], 0) or near(x[2], h)\n",
    "\n",
    "def spheres(x, on_boundary):\n",
    "    return on_boundary and not (walls(x) or inflow(x) or outflow(x))\n",
    "\n",
    "def noslip(x, on_boundary):\n",
    "    return walls(x) or spheres(x, on_boundary)"
   ]
  },
  {
   "cell_type": "code",
   "execution_count": 8,
   "metadata": {},
   "outputs": [],
   "source": [
    "# Define boundary conditions\n",
    "u_D = Expression(('sin(pi*x[1]/h)*sin(pi*x[2]/h)', '0', '0'), h=h, degree=2)\n",
    "bc0 = DirichletBC(W.sub(0), u_D, inflow)\n",
    "bc1 = DirichletBC(W.sub(0), (0, 0, 0), noslip)"
   ]
  },
  {
   "cell_type": "code",
   "execution_count": 9,
   "metadata": {},
   "outputs": [
    {
     "name": "stdout",
     "output_type": "stream",
     "text": [
      "Calling FFC just-in-time (JIT) compiler, this may take some time.\n",
      "Calling FFC just-in-time (JIT) compiler, this may take some time.\n",
      "Calling FFC just-in-time (JIT) compiler, this may take some time.\n",
      "Calling FFC just-in-time (JIT) compiler, this may take some time.\n",
      "Calling FFC just-in-time (JIT) compiler, this may take some time.\n",
      "Calling FFC just-in-time (JIT) compiler, this may take some time.\n"
     ]
    }
   ],
   "source": [
    "# Compute solution\n",
    "w = Function(W)\n",
    "solve(a == L, w, [bc1, bc0])"
   ]
  },
  {
   "cell_type": "code",
   "execution_count": 10,
   "metadata": {},
   "outputs": [],
   "source": [
    "# Save solution to file\n",
    "(u, p) = w.split()\n",
    "File('u.pvd') << u\n",
    "File('p.pvd') << p\n",
    "File('mesh.pvd') << mesh"
   ]
  },
  {
   "cell_type": "code",
   "execution_count": null,
   "metadata": {},
   "outputs": [],
   "source": []
  },
  {
   "cell_type": "code",
   "execution_count": null,
   "metadata": {},
   "outputs": [],
   "source": []
  }
 ],
 "metadata": {
  "kernelspec": {
   "display_name": "Python 3",
   "language": "python",
   "name": "python3"
  },
  "language_info": {
   "codemirror_mode": {
    "name": "ipython",
    "version": 3
   },
   "file_extension": ".py",
   "mimetype": "text/x-python",
   "name": "python",
   "nbconvert_exporter": "python",
   "pygments_lexer": "ipython3",
   "version": "3.6.9"
  }
 },
 "nbformat": 4,
 "nbformat_minor": 4
}
