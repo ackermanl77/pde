{
  "nbformat": 4,
  "nbformat_minor": 0,
  "metadata": {
    "colab": {
      "name": "XLA in Python.ipnb",
      "version": "0.3.2",
      "provenance": [],
      "collapsed_sections": []
    },
    "kernelspec": {
      "display_name": "Python 3",
      "language": "python",
      "name": "python3"
    },
    "language_info": {
      "codemirror_mode": {
        "name": "ipython",
        "version": 3
      },
      "file_extension": ".py",
      "mimetype": "text/x-python",
      "name": "python",
      "nbconvert_exporter": "python",
      "pygments_lexer": "ipython3",
      "version": "3.7.2"
    }
  },
  "cells": [
    {
      "cell_type": "markdown",
      "metadata": {
        "colab_type": "text",
        "id": "sAgUgR5Mzzz2"
      },
      "source": [
        "# XLA in Python\n",
        "\n",
        "<img style=\"height:100px;\" src=\"https://raw.githubusercontent.com/tensorflow/tensorflow/master/tensorflow/compiler/xla/g3doc/images/xlalogo.png\"> <img style=\"height:100px;\" src=\"https://upload.wikimedia.org/wikipedia/commons/c/c3/Python-logo-notext.svg\">\n",
        "\n",
        "_Anselm Levskaya_ \n",
        "\n",
        "XLA is the compiler that JAX uses, and the compiler that TF uses for TPUs and will soon use for all devices, so it's worth some study.  However, it's not exactly easy to play with XLA computations directly using the raw C++ interface.  JAX exposes the underlying XLA computation builder API through a python wrapper, and makes interacting with the XLA compute model accessible for messing around and prototyping.\n",
        "\n",
        "XLA computations are built as computation graphs in HLO IR, which is then lowered to LLO that is device specific (CPU, GPU, TPU, etc.).  \n",
        "\n",
        "As end users we interact with the computational primitives offered to us by the HLO spec."
      ]
    },
    {
      "cell_type": "markdown",
      "metadata": {
        "colab_type": "text",
        "id": "EZK5RseuvZkr"
      },
      "source": [
        "## References \n",
        "\n",
        "__xla__: the doc that defines what's in HLO - but note that the doc is incomplete and omits some ops.\n",
        "\n",
        "https://www.tensorflow.org/xla/operation_semantics\n",
        "\n",
        "more details on ops in the source code.\n",
        "\n",
        "https://github.com/tensorflow/tensorflow/blob/master/tensorflow/compiler/xla/client/xla_builder.h\n",
        "\n",
        "__python xla client__:  this is the XLA python client for JAX, and what we're using here.\n",
        "\n",
        "https://github.com/tensorflow/tensorflow/blob/master/tensorflow/compiler/xla/python/xla_client.py\n",
        "\n",
        "https://github.com/tensorflow/tensorflow/blob/master/tensorflow/compiler/xla/python/xla_client_test.py\n",
        "\n",
        "__jax__: you can see how jax interacts with the XLA compute layer for execution and JITing in these files.\n",
        "\n",
        "https://github.com/google/jax/blob/master/jax/lax.py\n",
        "\n",
        "https://github.com/google/jax/blob/master/jax/lib/xla_bridge.py\n",
        "\n",
        "https://github.com/google/jax/blob/master/jax/interpreters/xla.py"
      ]
    },
    {
      "cell_type": "markdown",
      "metadata": {
        "colab_type": "text",
        "id": "3XR2NGmrzBGe"
      },
      "source": [
        "## Colab Setup and Imports"
      ]
    },
    {
      "cell_type": "code",
      "metadata": {
        "colab_type": "code",
        "id": "Ogo2SBd3u18P",
        "colab": {}
      },
      "source": [
        "# We import as onp to emphasize that we're using vanilla numpy, not jax numpy.\n",
        "import numpy as onp\n",
        "\n",
        "# We only need to import JAX's xla_client, not all of JAX.\n",
        "from jaxlib import xla_client\n",
        "\n",
        "# Plotting\n",
        "import matplotlib as mpl\n",
        "from matplotlib import pyplot as plt\n",
        "from matplotlib import gridspec\n",
        "from matplotlib import rcParams\n",
        "rcParams['image.interpolation'] = 'nearest'\n",
        "rcParams['image.cmap'] = 'viridis'\n",
        "rcParams['axes.grid'] = False"
      ],
      "execution_count": 0,
      "outputs": []
    },
    {
      "cell_type": "markdown",
      "metadata": {
        "colab_type": "text",
        "id": "0cf7swaobc5l"
      },
      "source": [
        "## Convenience Functions"
      ]
    },
    {
      "cell_type": "code",
      "metadata": {
        "colab_type": "code",
        "id": "5I50k0rhbg6W",
        "colab": {}
      },
      "source": [
        "# Here we borrow convenience functions from JAX to convert numpy shape/dtypes\n",
        "# to XLA appropriate shape/dtypes\n",
        "def canonicalize_dtype(dtype):\n",
        "  \"\"\"We restrict ourselves to 32bit types for this demo.\"\"\"\n",
        "  _dtype_to_32bit_dtype = {\n",
        "      str(onp.dtype('int64')): onp.dtype('int32'),\n",
        "      str(onp.dtype('uint64')): onp.dtype('uint32'),\n",
        "      str(onp.dtype('float64')): onp.dtype('float32'),\n",
        "      str(onp.dtype('complex128')): onp.dtype('complex64'),\n",
        "  }\n",
        "  dtype = onp.dtype(dtype)\n",
        "  return _dtype_to_32bit_dtype.get(str(dtype), dtype)\n",
        "\n",
        "def shape_of(value):\n",
        "  \"\"\"Given a Python or XLA value, return its canonicalized XLA Shape.\"\"\"\n",
        "  if hasattr(value, 'shape') and hasattr(value, 'dtype'):\n",
        "    return xla_client.Shape.array_shape(canonicalize_dtype(value.dtype), \n",
        "                                        value.shape)\n",
        "  elif onp.isscalar(value):\n",
        "    return shape_of(onp.asarray(value))\n",
        "  elif isinstance(value, (tuple, list)):\n",
        "    return xla_client.Shape.tuple_shape(tuple(shape_of(elt) for elt in value))\n",
        "  else:\n",
        "    raise TypeError('Unexpected type: {}'.format(type(value)))\n",
        "\n",
        "def to_xla_type(dtype):\n",
        "  \"Convert to integert xla type, for use with ConvertElementType, etc.\"\n",
        "  if isinstance(dtype, str):\n",
        "    return xla_client.DTYPE_TO_XLA_ELEMENT_TYPE[dtype]\n",
        "  elif isinstance(dtype, type):\n",
        "    return xla_client.DTYPE_TO_XLA_ELEMENT_TYPE[onp.dtype(dtype).name]\n",
        "  elif isinstance(dtype, onp.dtype):\n",
        "    return xla_client.DTYPE_TO_XLA_ELEMENT_TYPE[dtype.name]\n",
        "  else:\n",
        "    raise TypeError('Unexpected type: {}'.format(type(dtype)))"
      ],
      "execution_count": 0,
      "outputs": []
    },
    {
      "cell_type": "markdown",
      "metadata": {
        "colab_type": "text",
        "id": "odmjXyhMuNJ5"
      },
      "source": [
        "## Simple Computations"
      ]
    },
    {
      "cell_type": "code",
      "metadata": {
        "colab_type": "code",
        "id": "UYUtxVzMYIiv",
        "outputId": "bd8aa18e-26d9-4df4-ebc3-20026119de17",
        "colab": {
          "height": 33
        }
      },
      "source": [
        "# make a computation builder\n",
        "c = xla_client.ComputationBuilder(\"simple_scalar\")\n",
        "\n",
        "# define a parameter shape and parameter\n",
        "param_shape = xla_client.Shape.array_shape(onp.dtype(onp.float32), ())\n",
        "x = c.ParameterWithShape(param_shape)\n",
        "\n",
        "# define computation graph\n",
        "y = c.Sin(x)\n",
        "\n",
        "# build computation graph\n",
        "# Keep in mind that incorrectly constructed graphs can cause \n",
        "# your notebook kernel to crash!\n",
        "computation = c.Build()\n",
        "\n",
        "# compile graph based on shape\n",
        "compiled_computation = computation.Compile([param_shape,])\n",
        "\n",
        "# define a host variable with above parameter shape\n",
        "host_input = onp.array(3.0, dtype=onp.float32)\n",
        "\n",
        "# place host variable on device and execute\n",
        "device_input = xla_client.LocalBuffer.from_pyval(host_input)\n",
        "device_out = compiled_computation.Execute([device_input ,])\n",
        "\n",
        "# retrive the result\n",
        "device_out.to_py()"
      ],
      "execution_count": 0,
      "outputs": [
        {
          "output_type": "execute_result",
          "data": {
            "text/plain": [
              "array(0.14112, dtype=float32)"
            ]
          },
          "metadata": {
            "tags": []
          },
          "execution_count": 3
        }
      ]
    },
    {
      "cell_type": "code",
      "metadata": {
        "colab_type": "code",
        "id": "rIA-IVMVvQs2",
        "outputId": "ce88ec6f-d2ea-4ec2-80b4-ddd1afd36957",
        "colab": {
          "height": 33
        }
      },
      "source": [
        "# same as above with vector type:\n",
        "\n",
        "c = xla_client.ComputationBuilder(\"simple_vector\")\n",
        "param_shape = xla_client.Shape.array_shape(onp.dtype(onp.float32), (3,))\n",
        "x = c.ParameterWithShape(param_shape)\n",
        "\n",
        "# can also use this function to define a shape from an example:\n",
        "#x = c.ParameterFromNumpy(onp.array([0.0, 0.0, 0.0], dtype=onp.float32))\n",
        "\n",
        "# which is the same as using our convenience function above:\n",
        "#x = c.ParameterWithShape(shape_of(onp.array([0.0, 0.0, 0.0], \n",
        "#                                            dtype=onp.float32)))\n",
        "\n",
        "# chain steps by reference:\n",
        "y = c.Sin(x)\n",
        "z = c.Abs(y)\n",
        "computation = c.Build()\n",
        "compiled_computation = computation.Compile([param_shape,])\n",
        "\n",
        "host_input = onp.array([3.0, 4.0, 5.0], dtype=onp.float32)\n",
        "\n",
        "device_input = xla_client.LocalBuffer.from_pyval(host_input)\n",
        "device_out = compiled_computation.Execute([device_input ,])\n",
        "\n",
        "# retrive the result\n",
        "device_out.to_py()"
      ],
      "execution_count": 0,
      "outputs": [
        {
          "output_type": "execute_result",
          "data": {
            "text/plain": [
              "array([0.14112  , 0.7568025, 0.9589243], dtype=float32)"
            ]
          },
          "metadata": {
            "tags": []
          },
          "execution_count": 4
        }
      ]
    },
    {
      "cell_type": "markdown",
      "metadata": {
        "colab_type": "text",
        "id": "F8kWlLaVuQ1b"
      },
      "source": [
        "## Simple While Loop"
      ]
    },
    {
      "cell_type": "code",
      "metadata": {
        "colab_type": "code",
        "id": "MDQP1qW515Ao",
        "outputId": "4da894b5-2b0e-455e-a720-3bdadc57d164",
        "colab": {
          "height": 33
        }
      },
      "source": [
        "# trivial while loop, decrement until 0\n",
        "#   x = 5\n",
        "#   while x > 0:\n",
        "#     x = x - 1\n",
        "#\n",
        "in_shape = shape_of(5)\n",
        "\n",
        "# body computation:\n",
        "bcb = xla_client.ComputationBuilder(\"bodycomp\")\n",
        "x = bcb.ParameterWithShape(in_shape)\n",
        "const1 = bcb.Constant(onp.int32(1))\n",
        "y = bcb.Sub(x, const1)\n",
        "body_computation = bcb.Build()\n",
        "\n",
        "# test computation:\n",
        "tcb = xla_client.ComputationBuilder(\"testcomp\")\n",
        "x = tcb.ParameterWithShape(in_shape)\n",
        "const0 = tcb.Constant(onp.int32(0))\n",
        "y = tcb.Gt(x, const0)\n",
        "test_computation = tcb.Build()\n",
        "\n",
        "# while computation:\n",
        "wcb = xla_client.ComputationBuilder(\"whilecomp\")\n",
        "x = wcb.ParameterWithShape(in_shape)\n",
        "wcb.While(test_computation, body_computation, x)\n",
        "while_computation = wcb.Build()\n",
        "\n",
        "# Now compile and execute:\n",
        "compiled_computation = while_computation.Compile([in_shape,])\n",
        "\n",
        "host_input = onp.array(5, dtype=onp.int32)\n",
        "\n",
        "device_input = xla_client.LocalBuffer.from_pyval(host_input)\n",
        "device_out = compiled_computation.Execute([device_input ,])\n",
        "\n",
        "# retrive the result\n",
        "device_out.to_py()"
      ],
      "execution_count": 0,
      "outputs": [
        {
          "output_type": "execute_result",
          "data": {
            "text/plain": [
              "array(0, dtype=int32)"
            ]
          },
          "metadata": {
            "tags": []
          },
          "execution_count": 5
        }
      ]
    },
    {
      "cell_type": "markdown",
      "metadata": {
        "colab_type": "text",
        "id": "7UOnXlY8slI6"
      },
      "source": [
        "## While loops w. tuples - Newton's Method for sqrt"
      ]
    },
    {
      "cell_type": "code",
      "metadata": {
        "colab_type": "code",
        "id": "HEWz-vzd6QPR",
        "outputId": "6ef10855-232d-4701-a442-0e2667b2fd97",
        "colab": {
          "height": 33
        }
      },
      "source": [
        "Xsqr = 2\n",
        "guess = 1.0\n",
        "converged_delta = 0.001\n",
        "maxit = 1000\n",
        "\n",
        "in_shape = shape_of((1.0, 1.0, 1))\n",
        "\n",
        "# body computation:\n",
        "# x_{i+1} = x_{i} - (x_i**2 - y) / (2 * x_i)\n",
        "bcb = xla_client.ComputationBuilder(\"bodycomp\")\n",
        "intuple = bcb.ParameterWithShape(in_shape)\n",
        "y = bcb.GetTupleElement(intuple, 0)\n",
        "x = bcb.GetTupleElement(intuple, 1)\n",
        "guard_cntr = bcb.GetTupleElement(intuple, 2)\n",
        "new_x = bcb.Sub(x, bcb.Div(bcb.Sub(bcb.Mul(x, x), y), bcb.Add(x, x)))\n",
        "result = bcb.Tuple(y, new_x, bcb.Sub(guard_cntr, bcb.Constant(onp.int32(1))))\n",
        "body_computation = bcb.Build()\n",
        "\n",
        "# test computation -- convergence and max iteration test\n",
        "tcb = xla_client.ComputationBuilder(\"testcomp\")\n",
        "intuple = tcb.ParameterWithShape(in_shape)\n",
        "y = tcb.GetTupleElement(intuple, 0)\n",
        "x = tcb.GetTupleElement(intuple, 1)\n",
        "guard_cntr = tcb.GetTupleElement(intuple, 2)\n",
        "criterion = tcb.Abs(tcb.Sub(tcb.Mul(x, x), y))\n",
        "# stop at convergence criteria or too many iterations\n",
        "test = tcb.And(tcb.Gt(criterion, tcb.Constant(onp.float32(converged_delta))), \n",
        "               tcb.Gt(guard_cntr, tcb.Constant(onp.int32(0))))\n",
        "test_computation = tcb.Build()\n",
        "\n",
        "# while computation:\n",
        "wcb = xla_client.ComputationBuilder(\"whilecomp\")\n",
        "intuple = wcb.ParameterWithShape(in_shape)\n",
        "wcb.While(test_computation, body_computation, intuple)\n",
        "while_computation = wcb.Build()\n",
        "\n",
        "# Now compile and execute:\n",
        "compiled_computation = while_computation.Compile([in_shape,])\n",
        "\n",
        "y = onp.array(Xsqr, dtype=onp.float32)\n",
        "x = onp.array(guess, dtype=onp.float32)\n",
        "maxit = onp.array(maxit, dtype=onp.int32)\n",
        "\n",
        "device_input = xla_client.LocalBuffer.from_pyval((y, x, maxit))\n",
        "device_out = compiled_computation.Execute([device_input ,])\n",
        "\n",
        "host_out = device_out.to_py()\n",
        "print(\"square root of {y} is {x}\".format(y=y, x=host_out[1]))"
      ],
      "execution_count": 0,
      "outputs": [
        {
          "output_type": "stream",
          "text": [
            "square root of 2.0 is 1.4142156839370728\n"
          ],
          "name": "stdout"
        }
      ]
    },
    {
      "cell_type": "markdown",
      "metadata": {
        "colab_type": "text",
        "id": "yETVIzTInFYr"
      },
      "source": [
        "## Calculate Symm Eigenvalues"
      ]
    },
    {
      "cell_type": "markdown",
      "metadata": {
        "colab_type": "text",
        "id": "AiyR1e2NubKa"
      },
      "source": [
        "Let's exploit the XLA QR implementation to solve some eigenvalues for symmetric matrices.  \n",
        "\n",
        "This is the naive QR algorithm, without acceleration for closely-spaced eigenvalue convergence, nor any permutation to sort eigenvalues by magnitude."
      ]
    },
    {
      "cell_type": "code",
      "metadata": {
        "colab_type": "code",
        "id": "wjxDPbqCcuXT",
        "outputId": "9683e40b-3c5f-4f3e-c971-0613b182c68c",
        "colab": {
          "height": 455
        }
      },
      "source": [
        "Niter = 200\n",
        "matrix_shape = (10, 10)\n",
        "in_shape = shape_of(\n",
        "    (onp.zeros(matrix_shape, dtype=onp.float32), 1)\n",
        ")\n",
        "# NB: in_shape is the same as the manually constructed:\n",
        "# xla_client.Shape.tuple_shape(\n",
        "#      (xla_client.Shape.array_shape(onp.dtype(onp.float32), matrix_shape), \n",
        "#       xla_client.Shape.array_shape(onp.dtype(onp.int32), ()))\n",
        "# )\n",
        "\n",
        "# body computation -- QR loop: X_i = Q R , X_{i+1} = R Q\n",
        "bcb = xla_client.ComputationBuilder(\"bodycomp\")\n",
        "intuple = bcb.ParameterWithShape(in_shape)\n",
        "x = bcb.GetTupleElement(intuple, 0)\n",
        "cntr = bcb.GetTupleElement(intuple, 1)\n",
        "QR = bcb.QR(x)\n",
        "Q = bcb.GetTupleElement(QR, 0)\n",
        "R = bcb.GetTupleElement(QR, 1)\n",
        "RQ = bcb.Dot(R, Q)\n",
        "bcb.Tuple(RQ, bcb.Sub(cntr, bcb.Constant(onp.int32(1))))\n",
        "body_computation = bcb.Build()\n",
        "\n",
        "# test computation -- just a for loop condition\n",
        "tcb = xla_client.ComputationBuilder(\"testcomp\")\n",
        "intuple = tcb.ParameterWithShape(in_shape)\n",
        "cntr = tcb.GetTupleElement(intuple, 1)\n",
        "test = tcb.Gt(cntr, tcb.Constant(onp.int32(0)))\n",
        "test_computation = tcb.Build()\n",
        "\n",
        "# while computation:\n",
        "wcb = xla_client.ComputationBuilder(\"whilecomp\")\n",
        "intuple = wcb.ParameterWithShape(in_shape)\n",
        "wcb.While(test_computation, body_computation, intuple)\n",
        "while_computation = wcb.Build()\n",
        "\n",
        "# Now compile and execute:\n",
        "compiled_computation = while_computation.Compile([in_shape,])\n",
        "\n",
        "X = onp.random.random(matrix_shape).astype(onp.float32)\n",
        "X = (X + X.T) / 2.0\n",
        "it = onp.array(Niter, dtype=onp.int32)\n",
        "\n",
        "device_in = xla_client.LocalBuffer.from_pyval((X, it))\n",
        "device_out = compiled_computation.Execute([device_in,])\n",
        "\n",
        "host_out = device_out.to_py()\n",
        "eigh_vals = host_out[0].diagonal()\n",
        "\n",
        "plt.title('D')\n",
        "plt.imshow(host_out[0])\n",
        "print('sorted eigenvalues')\n",
        "print(onp.sort(eigh_vals))\n",
        "print('sorted eigenvalues from numpy')\n",
        "print(onp.sort(onp.linalg.eigh(X)[0]))\n",
        "print('sorted error') \n",
        "print(onp.sort(eigh_vals) - onp.sort(onp.linalg.eigh(X)[0]))"
      ],
      "execution_count": 0,
      "outputs": [
        {
          "output_type": "stream",
          "text": [
            "sorted eigenvalues\n",
            "[-1.190547   -0.91282177 -0.32339668 -0.14050038 -0.09441247  0.08265306\n",
            "  0.49015656  0.731502    1.0677357   5.3513203 ]\n",
            "sorted eigenvalues from numpy\n",
            "[-1.1905469  -0.9128221  -0.32339665 -0.14050038 -0.09441243  0.08265309\n",
            "  0.49015662  0.7315014   1.0677353   5.351319  ]\n",
            "sorted error\n",
            "[-1.1920929e-07  3.5762787e-07 -2.9802322e-08  0.0000000e+00\n",
            " -3.7252903e-08 -2.9802322e-08 -5.9604645e-08  5.9604645e-07\n",
            "  3.5762787e-07  1.4305115e-06]\n"
          ],
          "name": "stdout"
        },
        {
          "output_type": "display_data",
          "data": {
            "image/png": "[encoded data removed]",
            "text/plain": [
              "<Figure size 432x288 with 1 Axes>"
            ]
          },
          "metadata": {
            "tags": [],
            "needs_background": "light"
          }
        }
      ]
    },
    {
      "cell_type": "markdown",
      "metadata": {
        "colab_type": "text",
        "id": "FpggTihknAOw"
      },
      "source": [
        "## Calculate Full Symm Eigensystem"
      ]
    },
    {
      "cell_type": "markdown",
      "metadata": {
        "colab_type": "text",
        "id": "Qos4ankYuj1T"
      },
      "source": [
        "We can also calculate the  eigenbasis by accumulating the Qs."
      ]
    },
    {
      "cell_type": "code",
      "metadata": {
        "colab_type": "code",
        "id": "Kp3A-aAiZk0g",
        "outputId": "ebdc1ecc-c9e1-4e95-b989-9645f8648ee0",
        "colab": {
          "height": 1000
        }
      },
      "source": [
        "Niter = 100\n",
        "matrix_shape = (10, 10)\n",
        "in_shape = shape_of(\n",
        "    (onp.zeros(matrix_shape, dtype=onp.float32), \n",
        "     onp.eye(matrix_shape[0]),\n",
        "     1)\n",
        ")\n",
        "\n",
        "# body computation -- QR loop: X_i = Q R , X_{i+1} = R Q\n",
        "bcb = xla_client.ComputationBuilder(\"bodycomp\")\n",
        "intuple = bcb.ParameterWithShape(in_shape)\n",
        "X = bcb.GetTupleElement(intuple, 0)\n",
        "O = bcb.GetTupleElement(intuple, 1)\n",
        "cntr = bcb.GetTupleElement(intuple, 2)\n",
        "QR = bcb.QR(X)\n",
        "Q = bcb.GetTupleElement(QR, 0)\n",
        "R = bcb.GetTupleElement(QR, 1)\n",
        "RQ = bcb.Dot(R, Q)\n",
        "Onew = bcb.Dot(O, Q)\n",
        "bcb.Tuple(RQ, Onew, bcb.Sub(cntr, bcb.Constant(onp.int32(1))))\n",
        "body_computation = bcb.Build()\n",
        "\n",
        "# test computation -- just a for loop condition\n",
        "tcb = xla_client.ComputationBuilder(\"testcomp\")\n",
        "intuple = tcb.ParameterWithShape(in_shape)\n",
        "cntr = tcb.GetTupleElement(intuple, 2)\n",
        "test = tcb.Gt(cntr, tcb.Constant(onp.int32(0)))\n",
        "test_computation = tcb.Build()\n",
        "\n",
        "# while computation:\n",
        "wcb = xla_client.ComputationBuilder(\"whilecomp\")\n",
        "intuple = wcb.ParameterWithShape(in_shape)\n",
        "wcb.While(test_computation, body_computation, intuple)\n",
        "while_computation = wcb.Build()\n",
        "\n",
        "# Now compile and execute:\n",
        "compiled_computation = while_computation.Compile([in_shape,])\n",
        "\n",
        "X = onp.random.random(matrix_shape).astype(onp.float32)\n",
        "X = (X + X.T) / 2.0\n",
        "Omat = onp.eye(matrix_shape[0], dtype=onp.float32)\n",
        "it = onp.array(Niter, dtype=onp.int32)\n",
        "\n",
        "device_in = xla_client.LocalBuffer.from_pyval((X, Omat, it))\n",
        "device_out = compiled_computation.Execute([device_in,])\n",
        "\n",
        "host_out = device_out.to_py()\n",
        "eigh_vals = host_out[0].diagonal()\n",
        "eigh_mat = host_out[1]\n",
        "\n",
        "plt.title('D')\n",
        "plt.imshow(host_out[0])\n",
        "plt.figure()\n",
        "plt.title('U')\n",
        "plt.imshow(eigh_mat)\n",
        "plt.figure()\n",
        "plt.title('U^T A U')\n",
        "plt.imshow(onp.dot(onp.dot(eigh_mat.T, X), eigh_mat))\n",
        "print('sorted eigenvalues')\n",
        "print(onp.sort(eigh_vals))\n",
        "print('sorted eigenvalues from numpy')\n",
        "print(onp.sort(onp.linalg.eigh(X)[0]))\n",
        "print('sorted error') \n",
        "print(onp.sort(eigh_vals) - onp.sort(onp.linalg.eigh(X)[0]))"
      ],
      "execution_count": 0,
      "outputs": [
        {
          "output_type": "stream",
          "text": [
            "sorted eigenvalues\n",
            "[-0.94551486 -0.63820213 -0.57944936 -0.28589356 -0.05510262  0.16862962\n",
            "  0.4192178   0.4671099   0.88734317  4.990509  ]\n",
            "sorted eigenvalues from numpy\n",
            "[-0.9455159  -0.63820285 -0.5794492  -0.28589386 -0.05510259  0.16862962\n",
            "  0.41921794  0.46710995  0.88734376  4.9905105 ]\n",
            "sorted error\n",
            "[ 1.0132790e-06  7.1525574e-07 -1.7881393e-07  2.9802322e-07\n",
            " -2.9802322e-08  0.0000000e+00 -1.4901161e-07 -5.9604645e-08\n",
            " -5.9604645e-07 -1.4305115e-06]\n"
          ],
          "name": "stdout"
        },
        {
          "output_type": "display_data",
          "data": {
            "image/png": "[encoded data removed]",
            "text/plain": [
              "<Figure size 432x288 with 1 Axes>"
            ]
          },
          "metadata": {
            "tags": [],
            "needs_background": "light"
          }
        },
        {
          "output_type": "display_data",
          "data": {
            "image/png": "[encoded data removed]",
            "text/plain": [
              "<Figure size 432x288 with 1 Axes>"
            ]
          },
          "metadata": {
            "tags": [],
            "needs_background": "light"
          }
        },
        {
          "output_type": "display_data",
          "data": {
            "image/png": "[encoded data removed]",
            "text/plain": [
              "<Figure size 432x288 with 1 Axes>"
            ]
          },
          "metadata": {
            "tags": [],
            "needs_background": "light"
          }
        }
      ]
    },
    {
      "cell_type": "markdown",
      "metadata": {
        "colab_type": "text",
        "id": "Ee3LMzOvlCuK"
      },
      "source": [
        "## Convolutions\n",
        "\n",
        "I keep hearing from the AGI folks that we can use convolutions to build artificial life.  Let's try it out."
      ]
    },
    {
      "cell_type": "code",
      "metadata": {
        "colab_type": "code",
        "id": "J8QkirDalBse",
        "outputId": "73c53980-8dbd-497b-fe56-7e606a29c19f",
        "colab": {
          "height": 132
        }
      },
      "source": [
        "Niter=13\n",
        "matrix_shape = (1,1, 20, 20)\n",
        "in_shape = shape_of(\n",
        "    (onp.zeros(matrix_shape, dtype=onp.int32), 1)\n",
        ")\n",
        "\n",
        "# Body computation -- Conway Update\n",
        "bcb = xla_client.ComputationBuilder(\"bodycomp\")\n",
        "intuple = bcb.ParameterWithShape(in_shape)\n",
        "x = bcb.GetTupleElement(intuple, 0)\n",
        "cntr = bcb.GetTupleElement(intuple, 1)\n",
        "# convs require floating-point type\n",
        "xf = bcb.ConvertElementType(x, to_xla_type('float32'))\n",
        "stamp = bcb.Constant(onp.ones((1,1,3,3), dtype=onp.float32))\n",
        "convd = bcb.Conv(xf, stamp, onp.array([1, 1]), xla_client.PaddingType.SAME)\n",
        "# logic ops require integer types\n",
        "convd = bcb.ConvertElementType(convd, to_xla_type('int32'))\n",
        "bool_x = bcb.Eq(x, bcb.ConstantS32Scalar(1))\n",
        "# core update rule\n",
        "res = bcb.Or(\n",
        "    # birth rule\n",
        "    bcb.And(bcb.Not(bool_x), bcb.Eq(convd, bcb.ConstantS32Scalar(3))),\n",
        "    # survival rule\n",
        "    bcb.And(bool_x, bcb.Or(\n",
        "        # these are +1 the normal numbers since conv-sum counts self\n",
        "        bcb.Eq(convd, bcb.ConstantS32Scalar(4)),\n",
        "        bcb.Eq(convd, bcb.ConstantS32Scalar(3)))\n",
        "    )\n",
        ")\n",
        "# Convert output back to int type for type constancy\n",
        "int_res = bcb.ConvertElementType(res, to_xla_type('int32'))\n",
        "bcb.Tuple(int_res, bcb.Sub(cntr, bcb.ConstantS32Scalar(1)))\n",
        "body_computation = bcb.Build()\n",
        "\n",
        "# Test computation -- just a for loop condition\n",
        "tcb = xla_client.ComputationBuilder(\"testcomp\")\n",
        "intuple = tcb.ParameterWithShape(in_shape)\n",
        "cntr = tcb.GetTupleElement(intuple, 1)\n",
        "test = tcb.Gt(cntr, tcb.ConstantS32Scalar(0))\n",
        "test_computation = tcb.Build()\n",
        "\n",
        "# While computation:\n",
        "wcb = xla_client.ComputationBuilder(\"whilecomp\")\n",
        "intuple = wcb.ParameterWithShape(in_shape)\n",
        "wcb.While(test_computation, body_computation, intuple)\n",
        "while_computation = wcb.Build()\n",
        "\n",
        "# Now compile and execute:\n",
        "compiled_computation = while_computation.Compile([in_shape,])\n",
        "\n",
        "# Set up initial state\n",
        "X = onp.zeros(matrix_shape, dtype=onp.int32)\n",
        "X[0,0, 5:8, 5:8] = onp.array([[0,1,0],[0,0,1],[1,1,1]])\n",
        "\n",
        "# Evolve\n",
        "movie = onp.zeros((Niter,)+matrix_shape[-2:], dtype=onp.int32)\n",
        "for it in range(Niter):\n",
        "  itr = onp.array(it, dtype=onp.int32)\n",
        "  device_in = xla_client.LocalBuffer.from_pyval((X, itr))\n",
        "  device_out = compiled_computation.Execute([device_in,])\n",
        "  movie[it] = device_out.to_py()[0][0,0]\n",
        "\n",
        "# Plot\n",
        "fig = plt.figure(figsize=(15,2))\n",
        "gs = gridspec.GridSpec(1,Niter)\n",
        "for i in range(Niter):\n",
        "  ax1 = plt.subplot(gs[:, i])\n",
        "  ax1.axis('off')\n",
        "  ax1.imshow(movie[i])\n",
        "plt.subplots_adjust(left=0.0, right=1.0, top=1.0, bottom=0.0, hspace=0.0, wspace=0.05)"
      ],
      "execution_count": 0,
      "outputs": [
        {
          "output_type": "display_data",
          "data": {
            "image/png": "[encoded data removed]",
            "text/plain": [
              "<Figure size 1080x144 with 13 Axes>"
            ]
          },
          "metadata": {
            "tags": [],
            "needs_background": "light"
          }
        }
      ]
    },
    {
      "cell_type": "markdown",
      "metadata": {
        "colab_type": "text",
        "id": "9-0PJlqv237S"
      },
      "source": [
        "## Fin \n",
        "\n",
        "There's much more to XLA, but this hopefully highlights how easy it is to play with via the python client!"
      ]
    }
  ]
}
