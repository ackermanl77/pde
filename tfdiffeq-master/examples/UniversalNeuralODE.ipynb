{
 "cells": [
  {
   "cell_type": "code",
   "execution_count": 1,
   "metadata": {
    "colab": {},
    "colab_type": "code",
    "id": "Cg_WvHaHeHBw"
   },
   "outputs": [],
   "source": [
    "%matplotlib inline\n",
    "import numpy as np\n",
    "import matplotlib.pyplot as plt\n",
    "plt.style.use('seaborn-paper')"
   ]
  },
  {
   "cell_type": "code",
   "execution_count": 2,
   "metadata": {
    "colab": {
     "base_uri": "https://localhost:8080/",
     "height": 34
    },
    "colab_type": "code",
    "id": "GMof13ePeZNp",
    "outputId": "1a2e5471-673b-4d51-d423-e38a66269a5f"
   },
   "outputs": [
    {
     "data": {
      "text/plain": [
       "'2.3.0-rc0'"
      ]
     },
     "execution_count": 2,
     "metadata": {},
     "output_type": "execute_result"
    }
   ],
   "source": [
    "import tensorflow as tf\n",
    "tf.__version__"
   ]
  },
  {
   "cell_type": "code",
   "execution_count": 3,
   "metadata": {
    "colab": {},
    "colab_type": "code",
    "id": "c4gIdM-LLDMm"
   },
   "outputs": [],
   "source": [
    "%load_ext autoreload\n",
    "%autoreload 2"
   ]
  },
  {
   "cell_type": "code",
   "execution_count": 4,
   "metadata": {
    "colab": {},
    "colab_type": "code",
    "id": "YwKnjxGne9mW"
   },
   "outputs": [],
   "source": [
    "from tfdiffeq import odeint\n",
    "from tfdiffeq import plot_phase_portrait, plot_vector_field, plot_results"
   ]
  },
  {
   "cell_type": "code",
   "execution_count": 5,
   "metadata": {
    "colab": {},
    "colab_type": "code",
    "id": "rOVfrbuZfugq"
   },
   "outputs": [],
   "source": [
    "NUM_SAMPLES = 1000\n",
    "device = 'cpu:0' # These experiments do not require the GPU. Normally, 'gpu:0' if tf.test.is_gpu_available() else 'cpu:0' should be used.\n",
    "\n",
    "# Force Float 64\n",
    "tf.keras.backend.set_floatx('float64')"
   ]
  },
  {
   "cell_type": "code",
   "execution_count": 6,
   "metadata": {
    "colab": {},
    "colab_type": "code",
    "id": "Q3TBRZCPfXHE"
   },
   "outputs": [],
   "source": [
    "class LotkaVoltera(tf.keras.Model):\n",
    "  \n",
    "  def __init__(self, a, b, c, d, **kwargs):\n",
    "    super().__init__(**kwargs)\n",
    "    \n",
    "    self.a, self.b, self.c, self.d = a, b, c, d\n",
    "  \n",
    "  @tf.function\n",
    "  def call(self, t, y):\n",
    "    # y = [R, F]\n",
    "    r, f = tf.unstack(y)\n",
    "    \n",
    "    dR_dT = self.a * r - self.b * r * f\n",
    "    dF_dT = -self.c * f + self.d * r * f\n",
    "    \n",
    "    return tf.stack([dR_dT, dF_dT])"
   ]
  },
  {
   "cell_type": "code",
   "execution_count": 7,
   "metadata": {
    "colab": {},
    "colab_type": "code",
    "id": "EJKyjYl4fn6n"
   },
   "outputs": [],
   "source": [
    "t = tf.linspace(0., 10., num=NUM_SAMPLES)\n",
    "initial_states = tf.convert_to_tensor([1, 1], dtype=tf.float64)\n",
    "\n",
    "a = 1.5\n",
    "b = 1\n",
    "c = 3\n",
    "d = 1"
   ]
  },
  {
   "cell_type": "code",
   "execution_count": 8,
   "metadata": {
    "colab": {
     "base_uri": "https://localhost:8080/",
     "height": 67
    },
    "colab_type": "code",
    "id": "BmPPnn1Qfpwg",
    "outputId": "f8eeb7ae-ec88-447e-dce6-5c76b301d542"
   },
   "outputs": [
    {
     "ename": "AttributeError",
     "evalue": "module 'tensorflow.python.ops' has no attribute 'EagerTensor'",
     "output_type": "error",
     "traceback": [
      "\u001b[0;31m---------------------------------------------------------------------------\u001b[0m",
      "\u001b[0;31mAttributeError\u001b[0m                            Traceback (most recent call last)",
      "\u001b[0;32m<timed exec>\u001b[0m in \u001b[0;36m<module>\u001b[0;34m\u001b[0m\n",
      "\u001b[0;32m~/anaconda3/lib/python3.7/site-packages/tfdiffeq/odeint.py\u001b[0m in \u001b[0;36modeint\u001b[0;34m(func, y0, t, rtol, atol, method, options)\u001b[0m\n\u001b[1;32m     69\u001b[0m     \"\"\"\n\u001b[1;32m     70\u001b[0m     \u001b[0;32mwith\u001b[0m \u001b[0meager_mode\u001b[0m\u001b[0;34m(\u001b[0m\u001b[0;34m)\u001b[0m\u001b[0;34m:\u001b[0m\u001b[0;34m\u001b[0m\u001b[0m\n\u001b[0;32m---> 71\u001b[0;31m         \u001b[0mtensor_input\u001b[0m\u001b[0;34m,\u001b[0m \u001b[0mfunc\u001b[0m\u001b[0;34m,\u001b[0m \u001b[0my0\u001b[0m\u001b[0;34m,\u001b[0m \u001b[0mt\u001b[0m \u001b[0;34m=\u001b[0m \u001b[0m_check_inputs\u001b[0m\u001b[0;34m(\u001b[0m\u001b[0mfunc\u001b[0m\u001b[0;34m,\u001b[0m \u001b[0my0\u001b[0m\u001b[0;34m,\u001b[0m \u001b[0mt\u001b[0m\u001b[0;34m)\u001b[0m\u001b[0;34m\u001b[0m\u001b[0m\n\u001b[0m\u001b[1;32m     72\u001b[0m \u001b[0;34m\u001b[0m\u001b[0m\n\u001b[1;32m     73\u001b[0m         \u001b[0;32mif\u001b[0m \u001b[0moptions\u001b[0m \u001b[0;32mis\u001b[0m \u001b[0;32mNone\u001b[0m\u001b[0;34m:\u001b[0m\u001b[0;34m\u001b[0m\u001b[0m\n",
      "\u001b[0;32m~/anaconda3/lib/python3.7/site-packages/tfdiffeq/misc.py\u001b[0m in \u001b[0;36m_check_inputs\u001b[0;34m(func, y0, t)\u001b[0m\n\u001b[1;32m    346\u001b[0m         \u001b[0mtensor_input\u001b[0m \u001b[0;34m=\u001b[0m \u001b[0;32mTrue\u001b[0m\u001b[0;34m\u001b[0m\u001b[0m\n\u001b[1;32m    347\u001b[0m \u001b[0;34m\u001b[0m\u001b[0m\n\u001b[0;32m--> 348\u001b[0;31m         \u001b[0;32mif\u001b[0m \u001b[0;32mnot\u001b[0m \u001b[0misinstance\u001b[0m\u001b[0;34m(\u001b[0m\u001b[0my0\u001b[0m\u001b[0;34m,\u001b[0m \u001b[0mops\u001b[0m\u001b[0;34m.\u001b[0m\u001b[0mEagerTensor\u001b[0m\u001b[0;34m)\u001b[0m\u001b[0;34m:\u001b[0m\u001b[0;34m\u001b[0m\u001b[0m\n\u001b[0m\u001b[1;32m    349\u001b[0m             warnings.warn('Input is *not* an EagerTensor ! '\n\u001b[1;32m    350\u001b[0m                           'Dummy op with zeros will be performed instead.')\n",
      "\u001b[0;31mAttributeError\u001b[0m: module 'tensorflow.python.ops' has no attribute 'EagerTensor'"
     ]
    }
   ],
   "source": [
    "%%time\n",
    "\n",
    "with tf.device(device):\n",
    "  result = odeint(LotkaVoltera(a, b, c, d), initial_states, t)\n",
    "  \n",
    "print(\"Finished integrating ! Result shape : \", result.shape)"
   ]
  },
  {
   "cell_type": "code",
   "execution_count": 18,
   "metadata": {
    "colab": {
     "base_uri": "https://localhost:8080/",
     "height": 301
    },
    "colab_type": "code",
    "id": "xye3D3C7f5Zu",
    "outputId": "95345ae7-4556-43e2-cea6-4e9ec8f5107b"
   },
   "outputs": [
    {
     "name": "stdout",
     "output_type": "stream",
     "text": [
      "WARNING:tensorflow:AutoGraph could not transform <bound method LotkaVoltera.call of <tensorflow.python.eager.function.TfMethodTarget object at 0x7f920c6b8e80>> and will run it as-is.\n",
      "Please report this to the TensorFlow team. When filing the bug, set the verbosity to 10 (on Linux, `export AUTOGRAPH_VERBOSITY=10`) and attach the full output.\n",
      "Cause: 'arguments' object has no attribute 'posonlyargs'\n",
      "To silence this warning, decorate the function with @tf.autograph.experimental.do_not_convert\n",
      "WARNING: AutoGraph could not transform <bound method LotkaVoltera.call of <tensorflow.python.eager.function.TfMethodTarget object at 0x7f920c6b8e80>> and will run it as-is.\n",
      "Please report this to the TensorFlow team. When filing the bug, set the verbosity to 10 (on Linux, `export AUTOGRAPH_VERBOSITY=10`) and attach the full output.\n",
      "Cause: 'arguments' object has no attribute 'posonlyargs'\n",
      "To silence this warning, decorate the function with @tf.autograph.experimental.do_not_convert\n"
     ]
    },
    {
     "ename": "NameError",
     "evalue": "name 'result' is not defined",
     "output_type": "error",
     "traceback": [
      "\u001b[0;31m---------------------------------------------------------------------------\u001b[0m",
      "\u001b[0;31mNameError\u001b[0m                                 Traceback (most recent call last)",
      "\u001b[0;32m<ipython-input-18-bb37f9e833e3>\u001b[0m in \u001b[0;36m<module>\u001b[0;34m\u001b[0m\n\u001b[1;32m      1\u001b[0m \u001b[0mlims\u001b[0m \u001b[0;34m=\u001b[0m \u001b[0;34m[\u001b[0m\u001b[0;36m0\u001b[0m\u001b[0;34m,\u001b[0m \u001b[0;36m5\u001b[0m\u001b[0;34m]\u001b[0m\u001b[0;34m\u001b[0m\u001b[0m\n\u001b[1;32m      2\u001b[0m \u001b[0mplot_phase_portrait\u001b[0m\u001b[0;34m(\u001b[0m\u001b[0mLotkaVoltera\u001b[0m\u001b[0;34m(\u001b[0m\u001b[0ma\u001b[0m\u001b[0;34m,\u001b[0m \u001b[0mb\u001b[0m\u001b[0;34m,\u001b[0m \u001b[0mc\u001b[0m\u001b[0;34m,\u001b[0m \u001b[0md\u001b[0m\u001b[0;34m)\u001b[0m\u001b[0;34m,\u001b[0m \u001b[0mxlabel\u001b[0m\u001b[0;34m=\u001b[0m\u001b[0;34m'Rabbit'\u001b[0m\u001b[0;34m,\u001b[0m \u001b[0mylabel\u001b[0m\u001b[0;34m=\u001b[0m\u001b[0;34m'Wolf'\u001b[0m\u001b[0;34m,\u001b[0m \u001b[0mxlims\u001b[0m\u001b[0;34m=\u001b[0m\u001b[0;34m[\u001b[0m\u001b[0;36m0\u001b[0m\u001b[0;34m,\u001b[0m \u001b[0;36m7\u001b[0m\u001b[0;34m]\u001b[0m\u001b[0;34m,\u001b[0m \u001b[0mylims\u001b[0m\u001b[0;34m=\u001b[0m\u001b[0mlims\u001b[0m\u001b[0;34m)\u001b[0m\u001b[0;34m\u001b[0m\u001b[0m\n\u001b[0;32m----> 3\u001b[0;31m \u001b[0mplot_vector_field\u001b[0m\u001b[0;34m(\u001b[0m\u001b[0mresult\u001b[0m\u001b[0;34m,\u001b[0m \u001b[0mxlabel\u001b[0m\u001b[0;34m=\u001b[0m\u001b[0;34m'Rabbit'\u001b[0m\u001b[0;34m,\u001b[0m \u001b[0mylabel\u001b[0m\u001b[0;34m=\u001b[0m\u001b[0;34m'Wolf'\u001b[0m\u001b[0;34m)\u001b[0m\u001b[0;34m\u001b[0m\u001b[0m\n\u001b[0m",
      "\u001b[0;31mNameError\u001b[0m: name 'result' is not defined"
     ]
    },
    {
     "data": {
      "image/png": "[encoded data removed]",
      "text/plain": [
       "<Figure size 460.8x316.8 with 1 Axes>"
      ]
     },
     "metadata": {
      "needs_background": "light"
     },
     "output_type": "display_data"
    }
   ],
   "source": [
    "lims = [0, 5]\n",
    "plot_phase_portrait(LotkaVoltera(a, b, c, d), xlabel='Rabbit', ylabel='Wolf', xlims=[0, 7], ylims=lims)\n",
    "plot_vector_field(result, xlabel='Rabbit', ylabel='Wolf')"
   ]
  },
  {
   "cell_type": "code",
   "execution_count": null,
   "metadata": {
    "colab": {
     "base_uri": "https://localhost:8080/",
     "height": 288
    },
    "colab_type": "code",
    "id": "b1MBr-rVgL-W",
    "outputId": "f2f57d29-200e-4eb1-cc0d-42a93b391411"
   },
   "outputs": [],
   "source": [
    "plot_results(t, result, labels=['Rabbit', 'Fox'])"
   ]
  },
  {
   "cell_type": "markdown",
   "metadata": {
    "colab_type": "text",
    "id": "5IBlcslbgr3x"
   },
   "source": [
    "# Universal ODEs\n",
    "\n",
    "Original Lotke-Volterra system \n",
    ">$\\frac{\\partial R}{\\partial T} = aR - bRF \\\\ \\frac{\\partial F}{\\partial T} = -cF + dRF$\n",
    "\n",
    "For our system, we set $a=1.5$, $b=1$, $c=3.0$, $d=1$\n",
    "\n",
    "-------\n",
    "\n",
    "For Universal ODE formulation of the above,\n",
    "\n",
    "> We substitute $bRF$ with $U_1(R, F)$ in $\\frac{\\partial R}{\\partial T}$.\n",
    "\n",
    "> We substitute $bRF$ with $U_2(R, F)$ in $\\frac{\\partial F}{\\partial T}$.\n",
    "\n",
    "Therefore,\n",
    ">$\\frac{\\partial R}{\\partial T} = aR - U_1(R, F) \\\\ \\frac{\\partial F}{\\partial T} = -cF + U_2(R, F)$\n"
   ]
  },
  {
   "cell_type": "code",
   "execution_count": null,
   "metadata": {
    "colab": {},
    "colab_type": "code",
    "id": "0KVE3OQpgtE8"
   },
   "outputs": [],
   "source": [
    "class LotkaVolteraTrainable(tf.keras.Model):\n",
    "  \n",
    "  def __init__(self, a, b, c, d, **kwargs):\n",
    "    super().__init__(**kwargs)\n",
    "    \n",
    "    self.a, self.c = a, c\n",
    "\n",
    "    self.eqn = tf.keras.Sequential([\n",
    "             tf.keras.layers.Dense(32, activation=tf.nn.swish, input_shape=(2,)),\n",
    "             tf.keras.layers.Dense(32, activation=tf.nn.swish,),\n",
    "             tf.keras.layers.Dense(32, activation=tf.nn.swish),\n",
    "             tf.keras.layers.Dense(2, activation='relu',)   \n",
    "    ])\n",
    "  \n",
    "  @tf.function\n",
    "  def call(self, t, y):\n",
    "    # y = [R, F]\n",
    "    r, f = tf.unstack(y)\n",
    "\n",
    "    # Neural ODE component\n",
    "    n_out = self.eqn(tf.reshape(y, [1, 2]))  # [1, 2] -> [1, 2]\n",
    "    pred1 = n_out[0, 0]\n",
    "    pred2 = n_out[0, 1]\n",
    "    \n",
    "    dR_dT = self.a * r - pred1\n",
    "    dF_dT = -self.c * f + pred2\n",
    "    \n",
    "    return tf.stack([dR_dT, dF_dT])"
   ]
  },
  {
   "cell_type": "code",
   "execution_count": null,
   "metadata": {
    "colab": {},
    "colab_type": "code",
    "id": "0c_4_YNJk4jr"
   },
   "outputs": [],
   "source": [
    "t_train = tf.linspace(0., 2., num=30)  # Train for just 2 seconds of input\n",
    "initial_states_train = tf.convert_to_tensor([1, 1], dtype=tf.float64)\n",
    "\n",
    "a = 1.5\n",
    "b = 1\n",
    "c = 3\n",
    "d = 1\n",
    "\n",
    "epochs = 100\n",
    "initial_learning_rate = 0.01\n",
    "decay_steps = 100\n",
    "decay_rate = 0.5"
   ]
  },
  {
   "cell_type": "code",
   "execution_count": null,
   "metadata": {
    "colab": {
     "base_uri": "https://localhost:8080/",
     "height": 67
    },
    "colab_type": "code",
    "id": "z1xCYaJt2fQQ",
    "outputId": "40734229-85e9-4eb6-d0f2-4df3960fc831"
   },
   "outputs": [],
   "source": [
    "with tf.device(device):\n",
    "  result_train = odeint(LotkaVoltera(a, b, c, d), initial_states_train, t_train)\n",
    "  \n",
    "print(\"Finished integrating ! Result shape : \", result_train.shape)"
   ]
  },
  {
   "cell_type": "code",
   "execution_count": null,
   "metadata": {
    "colab": {
     "base_uri": "https://localhost:8080/",
     "height": 288
    },
    "colab_type": "code",
    "id": "oZHyNveF2sG9",
    "outputId": "b166a308-cd9d-4f40-fe65-17b164e210fa"
   },
   "outputs": [],
   "source": [
    "plot_results(t_train, result_train, labels=['Rabbit', 'Fox'])"
   ]
  },
  {
   "cell_type": "markdown",
   "metadata": {
    "colab_type": "text",
    "id": "tvh4VR74MI-_"
   },
   "source": [
    "# Train a model\n",
    "\n",
    "We pretrain the model for a few epochs to reduce the loss quickly, and then retrain the model using BFGS to reduce the loss to a small enough tolerance (say $10^{-6}$)."
   ]
  },
  {
   "cell_type": "code",
   "execution_count": null,
   "metadata": {
    "colab": {
     "base_uri": "https://localhost:8080/",
     "height": 1000
    },
    "colab_type": "code",
    "id": "yfAKw4zZl_sm",
    "outputId": "9fcdeada-3d27-491f-f875-b3119e2aba12"
   },
   "outputs": [],
   "source": [
    "%%time\n",
    "\n",
    "with tf.device(device):\n",
    "  model = LotkaVolteraTrainable(a, b, c, d)\n",
    "\n",
    "  learning_rate = tf.keras.optimizers.schedules.ExponentialDecay(\n",
    "    initial_learning_rate, decay_steps, decay_rate, staircase=False,\n",
    "  )\n",
    "\n",
    "  optimizer = tf.keras.optimizers.Adam(learning_rate)\n",
    "\n",
    "  print(\"Computing ground truth...\")\n",
    "  y_real = odeint(LotkaVoltera(a, b, c, d), initial_states_train, t_train)\n",
    "\n",
    "  print(\"Ground truth shape :\", y_real.shape)\n",
    "\n",
    "  for epoch in range(epochs):\n",
    "    print(f\"Epoch {epoch + 1}\")\n",
    "\n",
    "    with tf.GradientTape() as tape:\n",
    "      preds = odeint(model, initial_states_train, t_train)\n",
    "      loss = tf.reduce_mean(tf.square(y_real - preds), axis=1)\n",
    "\n",
    "    grads = tape.gradient(loss, model.trainable_variables)\n",
    "    optimizer.apply_gradients(zip(grads, model.trainable_variables))\n",
    "\n",
    "    print(\"Loss :\", loss.numpy().mean())\n",
    "    print(\"LR :\", learning_rate(optimizer.iterations).numpy())\n",
    "    print()"
   ]
  },
  {
   "cell_type": "code",
   "execution_count": null,
   "metadata": {
    "colab": {},
    "colab_type": "code",
    "id": "WLUK0cMat9fv"
   },
   "outputs": [],
   "source": [
    "model.save_weights('model_weights/ckpt', save_format='tf')"
   ]
  },
  {
   "cell_type": "code",
   "execution_count": null,
   "metadata": {
    "colab": {
     "base_uri": "https://localhost:8080/",
     "height": 34
    },
    "colab_type": "code",
    "id": "nL0hVP91vsSE",
    "outputId": "e7cc29ad-6368-4f82-e012-5c1d967f334f"
   },
   "outputs": [],
   "source": [
    "model.load_weights('model_weights/ckpt')"
   ]
  },
  {
   "cell_type": "markdown",
   "metadata": {
    "colab_type": "text",
    "id": "u3ZO0Qgut4cu"
   },
   "source": [
    "## Finetune the model with BFGS"
   ]
  },
  {
   "cell_type": "code",
   "execution_count": null,
   "metadata": {
    "colab": {},
    "colab_type": "code",
    "id": "SdgoZlE9t3zn"
   },
   "outputs": [],
   "source": [
    "from tfdiffeq.bfgs_optimizer import BFGSOptimizer"
   ]
  },
  {
   "cell_type": "code",
   "execution_count": null,
   "metadata": {
    "colab": {},
    "colab_type": "code",
    "id": "i3MSoP2Xt34c"
   },
   "outputs": [],
   "source": [
    "tolerance = 1e-6\n",
    "bfgs_optimizer = BFGSOptimizer(max_iterations=50, tolerance=tolerance)"
   ]
  },
  {
   "cell_type": "markdown",
   "metadata": {
    "colab_type": "text",
    "id": "S3BYQj7ouXsp"
   },
   "source": [
    "### Create a wrapper function for the BFGS optimizer \n",
    "\n",
    "BFGS optimizer is somewhat different than SGD or ADAM from Tensorflow. It requires a callable function `loss_func`, which accepts the `model` as input and returns a single float value `loss_value`.\n",
    "\n",
    "```python\n",
    "loss_value = loss_func(model)\n",
    "```\n",
    "\n",
    "The model is generally a `tf.keras.Model` or its subclasses, and we can use external data as inputs if required to obtain a loss value as shown below."
   ]
  },
  {
   "cell_type": "code",
   "execution_count": null,
   "metadata": {
    "colab": {},
    "colab_type": "code",
    "id": "95K2-Z5YuE2-"
   },
   "outputs": [],
   "source": [
    "from tfdiffeq.adjoint import odeint as adjoint_odeint\n",
    "\n",
    "def loss_wrapper(model):\n",
    "  # Can use `adjoing_odeint` here as replacement for `adjoint_odeint`\n",
    "  preds = odeint(model, initial_states_train, t_train, atol=1e-6, rtol=1e-6)\n",
    "  loss = tf.reduce_mean(tf.square(y_real - preds))\n",
    "  return loss"
   ]
  },
  {
   "cell_type": "code",
   "execution_count": null,
   "metadata": {
    "colab": {
     "base_uri": "https://localhost:8080/",
     "height": 1000
    },
    "colab_type": "code",
    "id": "I2_0WaHnuE5O",
    "outputId": "06b3dd86-00a8-485c-91d8-a563b7aa1db8"
   },
   "outputs": [],
   "source": [
    "%%time\n",
    "\n",
    "model = bfgs_optimizer.minimize(loss_wrapper, model)"
   ]
  },
  {
   "cell_type": "markdown",
   "metadata": {
    "colab_type": "text",
    "id": "Fi3nrE1bOiEx"
   },
   "source": [
    "# Save your weights and download them !"
   ]
  },
  {
   "cell_type": "code",
   "execution_count": null,
   "metadata": {
    "colab": {},
    "colab_type": "code",
    "id": "Eu2-OtuGEy1w"
   },
   "outputs": [],
   "source": [
    "model.save_weights('model_weights/ckpt', save_format='tf')"
   ]
  },
  {
   "cell_type": "markdown",
   "metadata": {
    "colab_type": "text",
    "id": "MouCNTbKOmPe"
   },
   "source": [
    "# Load a new model and load these weights (if you didnt train above)"
   ]
  },
  {
   "cell_type": "code",
   "execution_count": null,
   "metadata": {
    "colab": {},
    "colab_type": "code",
    "id": "2QvMCjNKT421"
   },
   "outputs": [],
   "source": [
    "import os\n",
    "import requests\n",
    "\n",
    "def get_checkpoints():\n",
    "  if not os.path.exists('model_weights'):\n",
    "      os.makedirs('model_weights')\n",
    "\n",
    "  r = requests.get('https://github.com/titu1994/tfdiffeq/releases/download/v0.0.1-pre0/checkpoint')\n",
    "  with open('./model_weights/checkpoint', 'wb') as f:\n",
    "    f.write(r.content)\n",
    "\n",
    "  r = requests.get('https://github.com/titu1994/tfdiffeq/releases/download/v0.0.1-pre0/ckpt.data-00000-of-00001')\n",
    "  with open('./model_weights/ckpt.data-00000-of-00001', 'wb') as f:\n",
    "    f.write(r.content)\n",
    "\n",
    "  r = requests.get('https://github.com/titu1994/tfdiffeq/releases/download/v0.0.1-pre0/ckpt.index')\n",
    "  with open('./model_weights/ckpt.index', 'wb') as f:\n",
    "    f.write(r.content)\n",
    "  \n",
    "  print(\"Pretrained checkpoints retrieved !\")"
   ]
  },
  {
   "cell_type": "code",
   "execution_count": null,
   "metadata": {
    "colab": {
     "base_uri": "https://localhost:8080/",
     "height": 34
    },
    "colab_type": "code",
    "id": "29RtKGxoV01d",
    "outputId": "a88df675-ed4a-4c8a-e8b6-08f3259d68ed"
   },
   "outputs": [],
   "source": [
    "get_checkpoints()"
   ]
  },
  {
   "cell_type": "code",
   "execution_count": null,
   "metadata": {
    "colab": {
     "base_uri": "https://localhost:8080/",
     "height": 34
    },
    "colab_type": "code",
    "id": "D-_0raHnGdzd",
    "outputId": "24b77b5a-33c0-48f4-a2e4-ac219e11155e"
   },
   "outputs": [],
   "source": [
    "model = LotkaVolteraTrainable(a, b, c, d)\n",
    "model.load_weights('model_weights/ckpt')"
   ]
  },
  {
   "cell_type": "markdown",
   "metadata": {
    "colab_type": "text",
    "id": "XtpdC7y4PZKF"
   },
   "source": [
    "# Lets interpolate with our approximate universal ODE !\n",
    "\n",
    "With a trained Neural ODE that appxoximates the Lotka Voltera system with just 30 samples, lets interpolate within the same timeframe to get a fine solution to the coarse approximate."
   ]
  },
  {
   "cell_type": "code",
   "execution_count": null,
   "metadata": {
    "colab": {
     "base_uri": "https://localhost:8080/",
     "height": 50
    },
    "colab_type": "code",
    "id": "OsA1wxZIpLXf",
    "outputId": "6ced8e25-9fa0-4dd8-e229-d5a00ce8c33c"
   },
   "outputs": [],
   "source": [
    "%%time\n",
    "\n",
    "t_eval = tf.linspace(0., 2, num=1000)  # Re-evaluate for just 2 seconds of input, but 1000 timesteps\n",
    "\n",
    "with tf.device(device):\n",
    "    model_results = odeint(model, initial_states, t_eval)\n",
    "    real_results = odeint(LotkaVoltera(a, b, c, d), initial_states, t_eval)"
   ]
  },
  {
   "cell_type": "markdown",
   "metadata": {
    "colab_type": "text",
    "id": "fS5zRscsP66o"
   },
   "source": [
    "# Plot the ODE approximation !"
   ]
  },
  {
   "cell_type": "code",
   "execution_count": null,
   "metadata": {
    "colab": {
     "base_uri": "https://localhost:8080/",
     "height": 288
    },
    "colab_type": "code",
    "id": "Q2xw2uOmzkOF",
    "outputId": "031f5a4a-adad-42c3-8c98-a9549deb5cf5"
   },
   "outputs": [],
   "source": [
    "plot_results(t_eval, real_results, labels=['Rabbit_real', 'Fox_real'])\n",
    "plot_results(t_eval, model_results, labels=['Rabbit_model', 'Fox_model'])"
   ]
  },
  {
   "cell_type": "markdown",
   "metadata": {
    "colab_type": "text",
    "id": "UrkHnUmRQBSL"
   },
   "source": [
    "# Lets try and obtain the underlying equations of this system"
   ]
  },
  {
   "cell_type": "code",
   "execution_count": null,
   "metadata": {
    "colab": {},
    "colab_type": "code",
    "id": "M_erg_eulXfA"
   },
   "outputs": [],
   "source": [
    "real_results_np = real_results.numpy()\n",
    "model_preds_np = model_results.numpy()\n",
    "t_eval_np = t_eval.numpy()"
   ]
  },
  {
   "cell_type": "code",
   "execution_count": null,
   "metadata": {
    "colab": {},
    "colab_type": "code",
    "id": "1tr1mHnPljab"
   },
   "outputs": [],
   "source": [
    "from pysindy import SINDy\n",
    "from pysindy import SR3\n",
    "from pysindy.feature_library.polynomial_library import PolynomialLibrary\n",
    "\n",
    "# Import this optimizer for Ridge regression !\n",
    "from tfdiffeq.sindy_utils import STRRidge"
   ]
  },
  {
   "cell_type": "markdown",
   "metadata": {
    "colab_type": "text",
    "id": "UhoOsm-aQarS"
   },
   "source": [
    "# Optimize hyper parameters of SRTRidge and the Polynomial Library"
   ]
  },
  {
   "cell_type": "code",
   "execution_count": null,
   "metadata": {
    "colab": {},
    "colab_type": "code",
    "id": "9-e5B3mPTxN4"
   },
   "outputs": [],
   "source": [
    "# sindy_optm = SRTRidge(threshold=0.5, alpha=1.0)\n",
    "sindy_optm = SR3(threshold=0.1, nu=1.0, max_iter=100)\n",
    "sindy_library = PolynomialLibrary(degree=10, include_interaction=True,  interaction_only=True)"
   ]
  },
  {
   "cell_type": "markdown",
   "metadata": {
    "colab_type": "text",
    "id": "oZQeATEAQjEW"
   },
   "source": [
    "# Lets fit the SInDy model !\n",
    "\n",
    "SInDy is short for \"Sparse Identification of Non-linear Dynamical Systems\" from the paper [Discovering governing equations from data by sparse identification of nonlinear dynamical systems](https://www.pnas.org/content/113/15/3932)"
   ]
  },
  {
   "cell_type": "code",
   "execution_count": null,
   "metadata": {
    "colab": {
     "base_uri": "https://localhost:8080/",
     "height": 168
    },
    "colab_type": "code",
    "id": "1AaQQNHYRjW8",
    "outputId": "6848feaa-d183-4cd5-dc78-59a92eb8bcc2"
   },
   "outputs": [],
   "source": [
    "sindy_model = SINDy(optimizer=sindy_optm, feature_library=sindy_library, discrete_time=False)\n",
    "sindy_model.fit(model_preds_np, t_eval_np)"
   ]
  },
  {
   "cell_type": "markdown",
   "metadata": {
    "colab_type": "text",
    "id": "Ha5dtT5ARD2X"
   },
   "source": [
    "# Lets compare with the original equations\n",
    "\n",
    ">$\\frac{\\partial R}{\\partial T} = aR - bRF \\\\ \\frac{\\partial F}{\\partial T} = -cF + dRF$\n",
    "\n",
    "Recall, $a=1.5$, $b=1$, $c=3.0$, $d=1$\n",
    "\n",
    "We substitute $bRF$ with $U_1(R, F)$ in $\\frac{\\partial R}{\\partial T}$.\n",
    "\n",
    "We substitute $bRF$ with $U_2(R, F)$ in $\\frac{\\partial F}{\\partial T}$.\n",
    "\n",
    "--------\n",
    "\n",
    "We compare the above two equations with the one printed below.\n",
    "\n",
    "We get $a'=1.498$ which is quite close to $a=1.5$, $c'=2.993$, close to the original $c=3.0$.\n",
    "\n",
    "The equation below approximates $b'=0.997$, close to the $b=1$ we expect. $d'=0.999$ is a closer approximate to our original $d=1$.\n",
    "\n"
   ]
  },
  {
   "cell_type": "code",
   "execution_count": null,
   "metadata": {
    "colab": {
     "base_uri": "https://localhost:8080/",
     "height": 50
    },
    "colab_type": "code",
    "id": "2cynYciQSHAu",
    "outputId": "4b2fe9e9-6fa7-4229-bf27-514b881841be"
   },
   "outputs": [],
   "source": [
    "sindy_model.print()"
   ]
  },
  {
   "cell_type": "code",
   "execution_count": null,
   "metadata": {
    "colab": {
     "base_uri": "https://localhost:8080/",
     "height": 50
    },
    "colab_type": "code",
    "id": "_QJOTM3ESBWf",
    "outputId": "a2139fd1-1987-4e4c-9ba5-8b1f04598a28"
   },
   "outputs": [],
   "source": [
    "sindy_model.coefficients()"
   ]
  },
  {
   "cell_type": "code",
   "execution_count": null,
   "metadata": {
    "colab": {
     "base_uri": "https://localhost:8080/",
     "height": 34
    },
    "colab_type": "code",
    "id": "hImAMyPXSIMV",
    "outputId": "ebbd0e77-db31-4a38-9c3c-20c3e399dc39"
   },
   "outputs": [],
   "source": [
    "sindy_model.equations()"
   ]
  },
  {
   "cell_type": "markdown",
   "metadata": {
    "colab_type": "text",
    "id": "ZPgviQUyTNpp"
   },
   "source": [
    "# Compute the $R^2$ score "
   ]
  },
  {
   "cell_type": "code",
   "execution_count": null,
   "metadata": {
    "colab": {
     "base_uri": "https://localhost:8080/",
     "height": 34
    },
    "colab_type": "code",
    "id": "I2nPkj4eTDX9",
    "outputId": "35a339cc-81d6-433e-9f1d-a20c34534c36"
   },
   "outputs": [],
   "source": [
    "sindy_model.score(model_preds_np, t_eval_np)"
   ]
  },
  {
   "cell_type": "markdown",
   "metadata": {
    "colab_type": "text",
    "id": "agq0PpESS_Za"
   },
   "source": [
    "# Finding the correct coefficients for the model\n",
    "\n",
    "We have the ode framework components which correspond to the neural network modules, but we cant be sure that the parameters found are correctly found by SInDy.\n",
    "\n",
    "We can refit the model (but now replacing correct components and removing the corresponding neural network component), and try to estimate the parameters from the train set."
   ]
  },
  {
   "cell_type": "code",
   "execution_count": null,
   "metadata": {
    "colab": {},
    "colab_type": "code",
    "id": "GSNxY1f6Tone"
   },
   "outputs": [],
   "source": [
    "class LotkaVolteraParameters(tf.keras.Model):\n",
    "  \n",
    "  def __init__(self, **kwargs):\n",
    "    super().__init__(**kwargs)\n",
    "    \n",
    "    # Can also initialize with the values found above for much faster convergence !\n",
    "    # self.parameters = tf.Variable([1.498, 0.997, 2.993, 0.999], dtype=tf.float64)\n",
    "    self.parameters = tf.Variable(tf.random.uniform(shape=[4], dtype=tf.float64))\n",
    "  \n",
    "  @tf.function\n",
    "  def call(self, t, y):\n",
    "    # y = [R, F]\n",
    "    r, f = tf.unstack(y)\n",
    "\n",
    "    # Apply abs, because we want to ensure these parameters are > 0\n",
    "    params = tf.math.abs(self.parameters)\n",
    "    a, b, c, d = tf.unstack(params)\n",
    "    \n",
    "    dR_dT = a * r - b * r * f\n",
    "    dF_dT = -c * f + d * r * f\n",
    "    \n",
    "    return tf.stack([dR_dT, dF_dT])"
   ]
  },
  {
   "cell_type": "code",
   "execution_count": null,
   "metadata": {
    "colab": {},
    "colab_type": "code",
    "id": "7CnZSKYSUgGp"
   },
   "outputs": [],
   "source": [
    "t_train = tf.linspace(0., 2., num=30)  # Train for just 2 seconds of input\n",
    "initial_states_train = tf.convert_to_tensor([1, 1], dtype=tf.float64)\n",
    "\n",
    "epochs = 25\n",
    "initial_learning_rate = 0.1\n",
    "decay_steps = 100\n",
    "decay_rate = 0.5"
   ]
  },
  {
   "cell_type": "code",
   "execution_count": null,
   "metadata": {
    "colab": {
     "base_uri": "https://localhost:8080/",
     "height": 1000
    },
    "colab_type": "code",
    "id": "asxNmXqFWZyn",
    "outputId": "35d983e8-0c15-436b-ca94-f6140e643cc8"
   },
   "outputs": [],
   "source": [
    "%%time\n",
    "\n",
    "with tf.device(device):\n",
    "  model = LotkaVolteraParameters()\n",
    "\n",
    "  learning_rate = tf.keras.optimizers.schedules.ExponentialDecay(\n",
    "    initial_learning_rate, decay_steps, decay_rate, staircase=False,\n",
    "  )\n",
    "\n",
    "  optimizer = tf.keras.optimizers.Adam(learning_rate)\n",
    "\n",
    "  print(\"Computing ground truth...\")\n",
    "  y_real = odeint(LotkaVoltera(a, b, c, d), initial_states_train, t_train)\n",
    "\n",
    "  print(\"Ground truth shape :\", y_real.shape)\n",
    "\n",
    "  for epoch in range(epochs):\n",
    "    print(f\"Epoch {epoch + 1}\")\n",
    "\n",
    "    with tf.GradientTape() as tape:\n",
    "      preds = odeint(model, initial_states_train, t_train)\n",
    "      loss = tf.reduce_mean(tf.square(y_real - preds), axis=1)\n",
    "\n",
    "    grads = tape.gradient(loss, model.trainable_variables)\n",
    "    optimizer.apply_gradients(zip(grads, model.trainable_variables))\n",
    "\n",
    "    print(\"Loss :\", loss.numpy().mean())\n",
    "    print(\"LR :\", learning_rate(optimizer.iterations).numpy())\n",
    "    print()"
   ]
  },
  {
   "cell_type": "code",
   "execution_count": null,
   "metadata": {
    "colab": {},
    "colab_type": "code",
    "id": "EnGd-_uLYiCp"
   },
   "outputs": [],
   "source": [
    "tolerance = 1e-6\n",
    "bfgs_optimizer = BFGSOptimizer(max_iterations=50, tolerance=tolerance)"
   ]
  },
  {
   "cell_type": "code",
   "execution_count": null,
   "metadata": {
    "colab": {},
    "colab_type": "code",
    "id": "aOsUQZn8YiG_"
   },
   "outputs": [],
   "source": [
    "def loss_wrapper(model):\n",
    "  # Can use `adjoing_odeint` here as replacement for `adjoint_odeint`\n",
    "  preds = odeint(model, initial_states_train, t_train, atol=1e-6, rtol=1e-6)\n",
    "  loss = tf.reduce_mean(tf.square(y_real - preds))\n",
    "  return loss"
   ]
  },
  {
   "cell_type": "code",
   "execution_count": null,
   "metadata": {
    "colab": {
     "base_uri": "https://localhost:8080/",
     "height": 1000
    },
    "colab_type": "code",
    "id": "NCaGXByCYiKv",
    "outputId": "d513f781-8123-4751-b01f-df8ed7413996"
   },
   "outputs": [],
   "source": [
    "model = bfgs_optimizer.minimize(loss_wrapper, model)"
   ]
  },
  {
   "cell_type": "markdown",
   "metadata": {
    "colab_type": "text",
    "id": "h2JGIGK7aOi-"
   },
   "source": [
    "## Lets print the learned parameters of this ODE"
   ]
  },
  {
   "cell_type": "code",
   "execution_count": null,
   "metadata": {
    "colab": {
     "base_uri": "https://localhost:8080/",
     "height": 34
    },
    "colab_type": "code",
    "id": "OOSLwpc-aNSw",
    "outputId": "f1096b15-cdd1-4a5b-edee-8f89e8bbe29b"
   },
   "outputs": [],
   "source": [
    "params = tf.math.abs(model.trainable_variables[0])\n",
    "params.numpy().tolist()"
   ]
  },
  {
   "cell_type": "markdown",
   "metadata": {
    "colab_type": "text",
    "id": "scoYwBqEWrvc"
   },
   "source": [
    "# Finally, lets extrapolate the derived ODE !"
   ]
  },
  {
   "cell_type": "code",
   "execution_count": null,
   "metadata": {
    "colab": {
     "base_uri": "https://localhost:8080/",
     "height": 50
    },
    "colab_type": "code",
    "id": "BdluyouWWwgu",
    "outputId": "4ab10d99-365d-4830-fbe8-d19c098a12a5"
   },
   "outputs": [],
   "source": [
    "%%time\n",
    "\n",
    "a_dash = 1.4999991388905172\n",
    "b_dash = 0.9999962208205090\n",
    "c_dash = 2.9999761581124833\n",
    "d_dash = 0.9999915705361759\n",
    "\n",
    "t_extrapolate = tf.linspace(0., 10.0, num=1000)  # Train for just 3 seconds of input\n",
    "initial_states_extrapolate = tf.convert_to_tensor([1, 1], dtype=tf.float64)\n",
    "\n",
    "with tf.device(device):\n",
    "    extrapolation_model = LotkaVoltera(a_dash, b_dash, c_dash, d_dash)\n",
    "    extrapolated_results = odeint(extrapolation_model, initial_states_extrapolate, t_extrapolate)\n",
    "    real_results = odeint(LotkaVoltera(a, b, c, d), initial_states_extrapolate, t_extrapolate)"
   ]
  },
  {
   "cell_type": "code",
   "execution_count": null,
   "metadata": {
    "colab": {
     "base_uri": "https://localhost:8080/",
     "height": 288
    },
    "colab_type": "code",
    "id": "vwlHQDtRXnNj",
    "outputId": "8766af8d-cd41-4416-b47e-215eced1c6cd"
   },
   "outputs": [],
   "source": [
    "plot_results(t_extrapolate, real_results, labels=['Rabbit_real', 'Fox_real'])\n",
    "plot_results(t_extrapolate, extrapolated_results, labels=['Rabbit_model', 'Fox_model'])"
   ]
  },
  {
   "cell_type": "code",
   "execution_count": null,
   "metadata": {
    "colab": {},
    "colab_type": "code",
    "id": "UcNJfcW-YnGM"
   },
   "outputs": [],
   "source": []
  },
  {
   "cell_type": "code",
   "execution_count": null,
   "metadata": {
    "colab": {},
    "colab_type": "code",
    "id": "fo0XXskMfkrv"
   },
   "outputs": [],
   "source": []
  }
 ],
 "metadata": {
  "colab": {
   "collapsed_sections": [],
   "name": "UniversalNeuralODE v2.ipynb",
   "provenance": [],
   "toc_visible": true
  },
  "kernelspec": {
   "display_name": "Python 3",
   "language": "python",
   "name": "python3"
  },
  "language_info": {
   "codemirror_mode": {
    "name": "ipython",
    "version": 3
   },
   "file_extension": ".py",
   "mimetype": "text/x-python",
   "name": "python",
   "nbconvert_exporter": "python",
   "pygments_lexer": "ipython3",
   "version": "3.7.0"
  }
 },
 "nbformat": 4,
 "nbformat_minor": 4
}
