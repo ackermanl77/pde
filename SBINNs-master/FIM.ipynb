{
 "cells": [
  {
   "cell_type": "code",
   "execution_count": 1,
   "metadata": {},
   "outputs": [
    {
     "ename": "SyntaxError",
     "evalue": "invalid syntax (<ipython-input-1-30e66402e555>, line 1)",
     "output_type": "error",
     "traceback": [
      "\u001b[0;36m  File \u001b[0;32m\"<ipython-input-1-30e66402e555>\"\u001b[0;36m, line \u001b[0;32m1\u001b[0m\n\u001b[0;31m    using DifferentialEquations\u001b[0m\n\u001b[0m                              ^\u001b[0m\n\u001b[0;31mSyntaxError\u001b[0m\u001b[0;31m:\u001b[0m invalid syntax\n"
     ]
    }
   ],
   "source": [
    "import DifferentialEquations\n",
    "import ForwardDiff\n",
    "import DiffResults\n",
    "import DiffEqSensitivity\n",
    "import Statistics\n",
    "import Random\n",
    "using LinearAlgebra\n",
    "using DataFrames\n",
    "using CSV\n",
    "using Dierckx\n",
    "using Plots\n",
    "using StatsPlots\n",
    "using LaTeXStrings"
   ]
  },
  {
   "cell_type": "code",
   "execution_count": 2,
   "metadata": {},
   "outputs": [
    {
     "ename": "SyntaxError",
     "evalue": "invalid syntax (<ipython-input-2-b967c167466b>, line 2)",
     "output_type": "error",
     "traceback": [
      "\u001b[0;36m  File \u001b[0;32m\"<ipython-input-2-b967c167466b>\"\u001b[0;36m, line \u001b[0;32m2\u001b[0m\n\u001b[0;31m    function f_glyc(dx, x, p, t)\u001b[0m\n\u001b[0m                  ^\u001b[0m\n\u001b[0;31mSyntaxError\u001b[0m\u001b[0;31m:\u001b[0m invalid syntax\n"
     ]
    }
   ],
   "source": [
    "# Yeast glycolysis model\n",
    "function f_glyc(dx, x, p, t)\n",
    "    x1, x2, x3, x4, x5, x6, x7 = x\n",
    "    J0, k1, K1, q, k2, N, k6, k3, A, k4, κ, k5, ψ, k = p \n",
    "    dx[1] = J0 - k1*x1*x6 / (1+(x6/K1)^q)\n",
    "    dx[2] = 2*k1*x1*x6 / (1+(x6/K1)^q) - k2*x2*(N-x5) - k6*x2*x5\n",
    "    dx[3] = k2*x2*(N-x5) - k3*x3*(A-x6)\n",
    "    dx[4] = k3*x3*(A-x6) - k4*x4*x5 - κ*(x4-x7)\n",
    "    dx[5] = k2*x2*(N-x5) - k4*x4*x5 - k6*x2*x5\n",
    "    dx[6] = -2*k1*x1*x6 / (1+(x6/K1)^q) + 2*k3*x3*(A-x6) - k5*x6\n",
    "    dx[7] = ψ*κ*(x4-x7) - k*x7\n",
    "end\n",
    "p = [2.5, 100., 0.52, 4., 6., 1., 12., 16., 4., 100., 13., 1.28, 0.1, 1.8]\n",
    "x0 = [0.501, 1.955, 0.198, 0.148, 0.161, 0.161, 0.064]\n",
    "tspan = (0., 10.)\n",
    "prob_glyc = ODELocalSensitivityProblem(f_glyc, x0, tspan, p)\n",
    "\n",
    "sol_glyc = solve(prob_glyc, alg_hints=[:stiff], saveat=0.01)\n",
    "x_glyc, dp_glyc = extract_local_sensitivities(sol_glyc)\n",
    "\n",
    "lab = [L\"J_0\", L\"k_1\", L\"K_1\", L\"q\", L\"k_2\", L\"N\", L\"k_6\", L\"k_3\", L\"A\", L\"k_4\", L\"\\kappa\", L\"k_5\", L\"\\psi\", L\"k\"]\n",
    "σ = 0.1 * std(x_glyc, dims=2)\n",
    "cov_ϵ = Diagonal(σ[5:6])\n",
    "dp = dp_glyc\n",
    "cols = 5:6\n",
    "\n",
    "plot(sol_glyc.t, x_glyc[5:6, :]', lw=2)"
   ]
  },
  {
   "cell_type": "code",
   "execution_count": null,
   "metadata": {},
   "outputs": [],
   "source": [
    "# Cell apoptosis model\n",
    "function f_apop(dx, x, p, t)\n",
    "    x1, x2, x3, x4, x5, x6, x7, x8 = x\n",
    "    k1, kd1, kd2, k3, kd3, kd4, k5, kd5, kd6 = p\n",
    "    dx[1] = -k1*x4*x1 + kd1*x5\n",
    "    dx[2] = kd2*x5 - k3*x2*x3 + kd3*x6 + kd4*x6\n",
    "    dx[3] = -k3*x2*x3 + kd3*x6\n",
    "    dx[4] = kd4*x6 - k1*x4*x1 + kd1*x5 - k5*x7*x4 + kd5*x8 + kd2*x5\n",
    "    dx[5] = -kd2*x5 + k1*x4*x1 - kd1*x5\n",
    "    dx[6] = -kd4*x6 + k3*x2*x3 - kd3*x6\n",
    "    dx[7] = -k5*x7*x4 + kd5*x8 + kd6*x8\n",
    "    dx[8] = k5*x7*x4 - kd5*x8 - kd6*x8\n",
    "end\n",
    "cscale = 1e5; tscale = 3600.;\n",
    "p = [2.67e-9*cscale, 1e-2, 8e-3, 6.8e-8*cscale, 5e-2, 1e-3, 7e-5*cscale, 1.67e-5, 1.67e-4] * tscale\n",
    "# x0 = [1.34e5, 1e5, 2.67e5, 0.0, 0.0, 0.0, 2.9e3, 0.0] / cscale  # death\n",
    "x0 = [1.34e5, 1e5, 2.67e5, 0.0, 0.0, 0.0, 2.9e4, 0.0] / cscale  # survival\n",
    "tspan = (0.0, 60.0)\n",
    "prob_apop = ODELocalSensitivityProblem(f_apop, x0, tspan, p)\n",
    "\n",
    "sol_apop = solve(prob_apop, alg_hints=[:stiff], saveat=0.1)\n",
    "x_apop, dp_apop = extract_local_sensitivities(sol_apop)\n",
    "\n",
    "lab = [L\"k_1\", L\"k_{d1}\", L\"k_{d2}\", L\"k_3\", L\"k_{d3}\", L\"k_{d4}\", L\"k_5\", L\"k_{d5}\", L\"k_{d6}\"]\n",
    "σ = 0.05 * std(x_apop, dims=2)\n",
    "cov_ϵ = σ[4]\n",
    "dp = dp_apop\n",
    "cols = 4:4\n",
    "\n",
    "plot(sol_apop.t, x_apop[4,:], lw=2)"
   ]
  },
  {
   "cell_type": "code",
   "execution_count": 3,
   "metadata": {},
   "outputs": [],
   "source": [
    "Nt = length(dp[1][1,:])\n",
    "Nstate = length(dp[1][:,1])\n",
    "Nparam = length(dp[:,1])\n",
    "F = zeros(Float64, Nparam, Nparam)\n",
    "# G = zeros(Float64, Nstate, Nparam)\n",
    "perm = vcat(1, sort(rand(2:Nt-1, Nt÷5)), Nt)\n",
    "\n",
    "for i in perm\n",
    "    S = reshape(dp[1][:,i], (Nstate,1))\n",
    "    for j = 2:Nparam\n",
    "        S = hcat(S, reshape(dp[j][:,i], (Nstate,1)))\n",
    "    end\n",
    "    F += S[cols,:]' * inv(cov_ϵ) * S[cols,:]\n",
    "#     if (i == 1)\n",
    "#         G = S\n",
    "#     else\n",
    "#         G = vcat(G, S)\n",
    "#     end\n",
    "end"
   ]
  },
  {
   "cell_type": "code",
   "execution_count": null,
   "metadata": {},
   "outputs": [],
   "source": [
    "# cor_G = cor(G, dims=1)\n",
    "# heatmap(cor_G, aspect_ratio=1, zcolor=(-1,1))"
   ]
  },
  {
   "cell_type": "code",
   "execution_count": 4,
   "metadata": {},
   "outputs": [],
   "source": [
    "# correlation matrix\n",
    "C = inv(F)\n",
    "R = ones(size(C))\n",
    "R = [C[i,j]/sqrt(C[i,i]*C[j,j]) for i = 1:size(C)[1], j = 1:size(C)[1]]\n",
    "heatmap(R, xlims=(0.5,size(R)[1]+0.5), aspect_ratio = 1, color = :inferno, clims = (-1, 1),\n",
    "        xticks = (1:1:size(C)[1], lab), xtickfont = font(14, \"Times\"),\n",
    "        yticks = (1:1:size(C)[1], lab), ytickfont = font(14, \"Times\"), fmt = :png, dpi=300)\n",
    "savefig(\"correlation_matrix\")"
   ]
  },
  {
   "cell_type": "code",
   "execution_count": null,
   "metadata": {},
   "outputs": [],
   "source": [
    "abs.(R) .> 0.99"
   ]
  },
  {
   "cell_type": "code",
   "execution_count": null,
   "metadata": {},
   "outputs": [],
   "source": [
    "# Yeast glycolysis model\n",
    "lowerbound = sqrt.(diag(inv(F)))\n",
    "for i = 1:length(lab)\n",
    "    println(lab[i], '\\t', lowerbound[i])\n",
    "end"
   ]
  },
  {
   "cell_type": "code",
   "execution_count": null,
   "metadata": {
    "scrolled": true
   },
   "outputs": [],
   "source": [
    "# Cell apoptosis model\n",
    "lowerbound = sqrt.(diag(inv(F))) / tscale\n",
    "lowerbound[1:3:7] = lowerbound[1:3:7] / cscale\n",
    "for i = 1:length(lab)\n",
    "    println(lab[i], '\\t', lowerbound[i])\n",
    "end"
   ]
  },
  {
   "cell_type": "code",
   "execution_count": null,
   "metadata": {},
   "outputs": [],
   "source": [
    "# Cell apoptosis model\n",
    "for i = 1:Nparam\n",
    "    println(eigvals(F)[i])\n",
    "    println(eigvecs(F)[:,i])\n",
    "    println('\\n')\n",
    "end\n",
    "\n",
    "# death\n",
    "# bar(eigvecs(F)[:,1:6], ylabel = \"FIM null eigenvector coefficients\", ytickfont = font(12, \"Times\"),\n",
    "#     xticks = (1:1:size(C)[1], lab), xtickfont = font(12, \"Courier\"),\n",
    "#     legendfontsize = 12, label = [L\"null_1\" L\"null_2\" L\"null_3\" L\"null_4\" L\"null_5\" L\"null_6\"], fmt = :png,\n",
    "#     legend=:topright, dpi=300)\n",
    "\n",
    "# Survival\n",
    "bar(eigvecs(F)[:,1:6], ylabel = \"FIM null eigenvector coefficients\", ytickfont = font(12, \"Times\"),\n",
    "    xticks = (1:1:size(C)[1], lab), xtickfont = font(12, \"Courier\"),\n",
    "    legendfontsize = 12, label = [L\"null_1\" L\"null_2\" L\"null_3\" L\"null_4\" L\"null_5\" L\"null_6\"], fmt = :png,\n",
    "    legend=:topright, dpi=300)\n",
    "savefig(\"nulleigen_apop\")"
   ]
  },
  {
   "cell_type": "code",
   "execution_count": null,
   "metadata": {},
   "outputs": [],
   "source": []
  }
 ],
 "metadata": {
  "kernelspec": {
   "display_name": "Python 3",
   "language": "python",
   "name": "python3"
  },
  "language_info": {
   "codemirror_mode": {
    "name": "ipython",
    "version": 3
   },
   "file_extension": ".py",
   "mimetype": "text/x-python",
   "name": "python",
   "nbconvert_exporter": "python",
   "pygments_lexer": "ipython3",
   "version": "3.7.0"
  }
 },
 "nbformat": 4,
 "nbformat_minor": 4
}
