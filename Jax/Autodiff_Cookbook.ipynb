{
  "nbformat": 4,
  "nbformat_minor": 0,
  "metadata": {
    "colab": {
      "name": "Autodiff Cookbook.ipynb",
      "provenance": [],
      "collapsed_sections": []
    },
    "kernelspec": {
      "display_name": "Python 3",
      "language": "python",
      "name": "python3"
    },
    "language_info": {
      "codemirror_mode": {
        "name": "ipython",
        "version": 3
      },
      "file_extension": ".py",
      "mimetype": "text/x-python",
      "name": "python",
      "nbconvert_exporter": "python",
      "pygments_lexer": "ipython3",
      "version": "3.7.3"
    }
  },
  "cells": [
    {
      "cell_type": "markdown",
      "metadata": {
        "colab_type": "text",
        "id": "Ic1reB4s6vu1"
      },
      "source": [
        "# The Autodiff Cookbook\n",
        "\n",
        "*alexbw@, mattjj@*  \n",
        "\n",
        "JAX has a pretty general automatic differentiation system. In this notebook, we'll go through a whole bunch of neat autodiff ideas that you can cherry pick for your own work, starting with the basics."
      ]
    },
    {
      "cell_type": "code",
      "metadata": {
        "colab_type": "code",
        "id": "JTYyZkSO6vuy",
        "colab": {
          "base_uri": "https://localhost:8080/",
          "height": 51
        },
        "outputId": "08abe649-dcdd-4638-f117-f8b82f675694"
      },
      "source": [
        "import jax.numpy as np\n",
        "from jax import grad, jit, vmap\n",
        "from jax import random\n",
        "\n",
        "key = random.PRNGKey(0)"
      ],
      "execution_count": null,
      "outputs": [
        {
          "output_type": "stream",
          "text": [
            "/usr/local/lib/python3.6/dist-packages/jax/lib/xla_bridge.py:127: UserWarning: No GPU/TPU found, falling back to CPU.\n",
            "  warnings.warn('No GPU/TPU found, falling back to CPU.')\n"
          ],
          "name": "stderr"
        }
      ]
    },
    {
      "cell_type": "markdown",
      "metadata": {
        "colab_type": "text",
        "id": "YxnjtAGN6vu2"
      },
      "source": [
        "## Gradients"
      ]
    },
    {
      "cell_type": "markdown",
      "metadata": {
        "colab_type": "text",
        "id": "zqwpfr2vAsvt"
      },
      "source": [
        "### Starting with `grad`\n",
        "\n",
        "You can differentiate a function with `grad`:"
      ]
    },
    {
      "cell_type": "code",
      "metadata": {
        "colab_type": "code",
        "id": "0NLO4Wfknzmk",
        "colab": {
          "base_uri": "https://localhost:8080/",
          "height": 34
        },
        "outputId": "f9ab1433-9a9c-4912-ce10-090847fa7eb9"
      },
      "source": [
        "grad_tanh = grad(np.tanh)\n",
        "print(grad_tanh(2.0))"
      ],
      "execution_count": null,
      "outputs": [
        {
          "output_type": "stream",
          "text": [
            "0.070650816\n"
          ],
          "name": "stdout"
        }
      ]
    },
    {
      "cell_type": "markdown",
      "metadata": {
        "colab_type": "text",
        "id": "LGcNfDntoBZI"
      },
      "source": [
        "`grad` takes a function and returns a function. If you have a Python function `f` that evaluates the mathematical function $f$, then `grad(f)` is a Python function that evaluates the mathematical function $\\nabla f$. That means `grad(f)(x)` represents the value $\\nabla f(x)$.\n",
        "\n",
        "Since `grad` operates on functions, you can apply it to its own output to differentiate as many times as you like:"
      ]
    },
    {
      "cell_type": "code",
      "metadata": {
        "colab_type": "code",
        "id": "RDGk1GDsoawu",
        "colab": {
          "base_uri": "https://localhost:8080/",
          "height": 51
        },
        "outputId": "5e382097-68b4-40aa-cae0-5968ac9d7d35"
      },
      "source": [
        "print(grad(grad(np.tanh))(2.0))\n",
        "print(grad(grad(grad(np.tanh)))(2.0))"
      ],
      "execution_count": null,
      "outputs": [
        {
          "output_type": "stream",
          "text": [
            "-0.13621867\n",
            "0.25265405\n"
          ],
          "name": "stdout"
        }
      ]
    },
    {
      "cell_type": "markdown",
      "metadata": {
        "colab_type": "text",
        "id": "2rcnpTiinqi8"
      },
      "source": [
        "Let's look at computing gradients with `grad` in a linear logistic regression model. First, the setup:"
      ]
    },
    {
      "cell_type": "code",
      "metadata": {
        "colab_type": "code",
        "id": "27TcOT2i6vu5",
        "colab": {}
      },
      "source": [
        "def sigmoid(x):\n",
        "    return 0.5 * (np.tanh(x / 2) + 1)\n",
        "\n",
        "# Outputs probability of a label being true.\n",
        "def predict(W, b, inputs):\n",
        "    return sigmoid(np.dot(inputs, W) + b)\n",
        "\n",
        "# Build a toy dataset.\n",
        "inputs = np.array([[0.52, 1.12,  0.77],\n",
        "                   [0.88, -1.08, 0.15],\n",
        "                   [0.52, 0.06, -1.30],\n",
        "                   [0.74, -2.49, 1.39]])\n",
        "targets = np.array([True, True, False, True])\n",
        "\n",
        "# Training loss is the negative log-likelihood of the training examples.\n",
        "def loss(W, b):\n",
        "    preds = predict(W, b, inputs)\n",
        "    label_probs = preds * targets + (1 - preds) * (1 - targets)\n",
        "    return -np.sum(np.log(label_probs))\n",
        "\n",
        "# Initialize random model coefficients\n",
        "key, W_key, b_key = random.split(key, 3)\n",
        "W = random.normal(W_key, (3,))\n",
        "b = random.normal(b_key, ())"
      ],
      "execution_count": null,
      "outputs": []
    },
    {
      "cell_type": "markdown",
      "metadata": {
        "colab_type": "text",
        "id": "8Wk-Yai7ooh1"
      },
      "source": [
        "Use the `grad` function with its `argnums` argument to differentiate a function with respect to positional arguments."
      ]
    },
    {
      "cell_type": "code",
      "metadata": {
        "colab_type": "code",
        "id": "bpmd8W8-6vu6",
        "colab": {
          "base_uri": "https://localhost:8080/",
          "height": 102
        },
        "outputId": "35ec5ba1-0e83-452c-e2f2-59436fd934e8"
      },
      "source": [
        "# Differentiate `loss` with respect to the first positional argument:\n",
        "W_grad = grad(loss, argnums=0)(W, b)\n",
        "print('W_grad', W_grad)\n",
        "\n",
        "# Since argnums=0 is the default, this does the same thing:\n",
        "W_grad = grad(loss)(W, b)\n",
        "print('W_grad', W_grad)\n",
        "\n",
        "# But we can choose different values too, and drop the keyword:\n",
        "b_grad = grad(loss, 1)(W, b)\n",
        "print('b_grad', b_grad)\n",
        "\n",
        "# Including tuple values\n",
        "W_grad, b_grad = grad(loss, (0, 1))(W, b)\n",
        "print('W_grad', W_grad)\n",
        "print('b_grad', b_grad)"
      ],
      "execution_count": null,
      "outputs": [
        {
          "output_type": "stream",
          "text": [
            "W_grad [-0.16965581 -0.8774648  -1.4901345 ]\n",
            "W_grad [-0.16965581 -0.8774648  -1.4901345 ]\n",
            "b_grad -0.29227245\n",
            "W_grad [-0.16965581 -0.8774648  -1.4901345 ]\n",
            "b_grad -0.29227245\n"
          ],
          "name": "stdout"
        }
      ]
    },
    {
      "cell_type": "markdown",
      "metadata": {
        "colab_type": "text",
        "id": "MDl5UZl4oyzB"
      },
      "source": [
        "This `grad` API has a direct correspondence to the excellent notation in Spivak's classic *Calculus on Manifolds* (1965), also used in Sussman and Wisdom's [*Structure and Interpretation of Classical Mechanics*](http://mitpress.mit.edu/sites/default/files/titles/content/sicm_edition_2/book.html) (2015) and their [*Functional Differential Geometry*](https://mitpress.mit.edu/books/functional-differential-geometry) (2013). Both books are open-access. See in particular the \"Prologue\" section of *Functional Differential Geometry* for a defense of this notation.\n",
        "\n",
        "Essentially, when using the `argnums` argument, if `f` is a Python function for evaluating the mathematical function $f$, then the Python expression `grad(f, i)` evaluates to a Python function for evaluating $\\partial_i f$."
      ]
    },
    {
      "cell_type": "markdown",
      "metadata": {
        "colab_type": "text",
        "id": "fuz9E2vzro5E"
      },
      "source": [
        "### Differentiating with respect to nested lists, tuples, and dicts"
      ]
    },
    {
      "cell_type": "markdown",
      "metadata": {
        "colab_type": "text",
        "id": "QQaPja7puMKi"
      },
      "source": [
        "Differentiating with respect to standard Python containers just works, so use tuples, lists, and dicts (and arbitrary nesting) however you like."
      ]
    },
    {
      "cell_type": "code",
      "metadata": {
        "colab_type": "code",
        "id": "IY82kdAe6vu_",
        "colab": {
          "base_uri": "https://localhost:8080/",
          "height": 34
        },
        "outputId": "52de2cef-d6f9-4662-d4e3-d9889777ca73"
      },
      "source": [
        "def loss2(params_dict):\n",
        "    preds = predict(params_dict['W'], params_dict['b'], inputs)\n",
        "    label_probs = preds * targets + (1 - preds) * (1 - targets)\n",
        "    return -np.sum(np.log(label_probs))\n",
        "\n",
        "print(grad(loss2)({'W': W, 'b': b}))"
      ],
      "execution_count": null,
      "outputs": [
        {
          "output_type": "stream",
          "text": [
            "{'W': DeviceArray([-0.16965581, -0.8774648 , -1.4901345 ], dtype=float32), 'b': DeviceArray(-0.29227245, dtype=float32)}\n"
          ],
          "name": "stdout"
        }
      ]
    },
    {
      "cell_type": "markdown",
      "metadata": {
        "colab_type": "text",
        "id": "cJ2NxiN58bfI"
      },
      "source": [
        "You can [register your own container types](https://github.com/google/jax/issues/446#issuecomment-467105048) to work with not just `grad` but all the JAX transformations (`jit`, `vmap`, etc.)."
      ]
    },
    {
      "cell_type": "markdown",
      "metadata": {
        "colab_type": "text",
        "id": "PaCHzAtGruBz"
      },
      "source": [
        "### Evaluate a function and its gradient using `value_and_grad`"
      ]
    },
    {
      "cell_type": "markdown",
      "metadata": {
        "colab_type": "text",
        "id": "CSgCjjo-ssnA"
      },
      "source": [
        "Another convenient function is `value_and_grad` for efficiently computing both a function's value as well as its gradient's value:"
      ]
    },
    {
      "cell_type": "code",
      "metadata": {
        "colab_type": "code",
        "id": "RsQSyT5p7OJW",
        "colab": {
          "base_uri": "https://localhost:8080/",
          "height": 51
        },
        "outputId": "54f66fc1-11cd-45eb-93e1-ac89e911de0d"
      },
      "source": [
        "from jax import value_and_grad\n",
        "loss_value, Wb_grad = value_and_grad(loss, (0, 1))(W, b)\n",
        "print('loss value', loss_value)\n",
        "print('loss value', loss(W, b))"
      ],
      "execution_count": null,
      "outputs": [
        {
          "output_type": "stream",
          "text": [
            "loss value 3.0519395\n",
            "loss value 3.0519395\n"
          ],
          "name": "stdout"
        }
      ]
    },
    {
      "cell_type": "markdown",
      "metadata": {
        "colab_type": "text",
        "id": "rYTrH5tKllC_"
      },
      "source": [
        "### Checking against numerical differences\n",
        "\n",
        "A great thing about derivatives is that they're straightforward to check with finite differences:"
      ]
    },
    {
      "cell_type": "code",
      "metadata": {
        "colab_type": "code",
        "id": "R8q5RiY3l7Fw",
        "colab": {
          "base_uri": "https://localhost:8080/",
          "height": 85
        },
        "outputId": "583d8b1d-9883-4c91-a863-8284a70bb2e0"
      },
      "source": [
        "# Set a step size for finite differences calculations\n",
        "eps = 1e-4\n",
        "\n",
        "# Check b_grad with scalar finite differences\n",
        "b_grad_numerical = (loss(W, b + eps / 2.) - loss(W, b - eps / 2.)) / eps\n",
        "print('b_grad_numerical', b_grad_numerical)\n",
        "print('b_grad_autodiff', grad(loss, 1)(W, b))\n",
        "\n",
        "# Check W_grad with finite differences in a random direction\n",
        "key, subkey = random.split(key)\n",
        "vec = random.normal(subkey, W.shape)\n",
        "unitvec = vec / np.sqrt(np.vdot(vec, vec))\n",
        "W_grad_numerical = (loss(W + eps / 2. * unitvec, b) - loss(W - eps / 2. * unitvec, b)) / eps\n",
        "print('W_dirderiv_numerical', W_grad_numerical)\n",
        "print('W_dirderiv_autodiff', np.vdot(grad(loss)(W, b), unitvec))"
      ],
      "execution_count": null,
      "outputs": [
        {
          "output_type": "stream",
          "text": [
            "b_grad_numerical -0.29325485\n",
            "b_grad_autodiff -0.29227245\n",
            "W_dirderiv_numerical -0.19788742\n",
            "W_dirderiv_autodiff -0.19909072\n"
          ],
          "name": "stdout"
        }
      ]
    },
    {
      "cell_type": "markdown",
      "metadata": {
        "colab_type": "text",
        "id": "InzB-iiJpVcx"
      },
      "source": [
        "JAX provides a simple convenience function that does essentially the same thing, but checks up to any order of differentiation that you like:"
      ]
    },
    {
      "cell_type": "code",
      "metadata": {
        "colab_type": "code",
        "id": "6Ok2LEfQmOuy",
        "colab": {
          "base_uri": "https://localhost:8080/",
          "height": 51
        },
        "outputId": "c9dde4f9-32c5-413a-cac2-16a72ba897d9"
      },
      "source": [
        "from jax.test_util import check_grads\n",
        "check_grads(loss, (W, b), order=2)  # check up to 2nd order derivatives"
      ],
      "execution_count": null,
      "outputs": [
        {
          "output_type": "stream",
          "text": [
            "/usr/local/lib/python3.6/dist-packages/jax/lib/xla_bridge.py:127: UserWarning: No GPU/TPU found, falling back to CPU.\n",
            "  warnings.warn('No GPU/TPU found, falling back to CPU.')\n"
          ],
          "name": "stderr"
        }
      ]
    },
    {
      "cell_type": "markdown",
      "metadata": {
        "colab_type": "text",
        "id": "id0DXxwt3VJi"
      },
      "source": [
        "### Hessian-vector products with `grad`-of-`grad`\n",
        "\n",
        "One thing we can do with higher-order `grad` is build a Hessian-vector product function. (Later on we'll write an even more efficient implementation that mixes both forward- and reverse-mode, but this one will use pure reverse-mode.)\n",
        "\n",
        "A Hessian-vector product function can be useful in a [truncated Newton Conjugate-Gradient algorithm](https://en.wikipedia.org/wiki/Truncated_Newton_method) for minimizing smooth convex functions, or for studying the curvature of neural network training objectives (e.g. [1](https://arxiv.org/abs/1406.2572), [2](https://arxiv.org/abs/1811.07062), [3](https://arxiv.org/abs/1706.04454), [4](https://arxiv.org/abs/1802.03451)).\n",
        "\n",
        "For a scalar-valued function $f : \\mathbb{R}^n \\to \\mathbb{R}$ with continuous second derivatives (so that the Hessian matrix is symmetric), the Hessian at a point $x \\in \\mathbb{R}^n$ is written as $\\partial^2 f(x)$. A Hessian-vector product function is then able to evaluate\n",
        "\n",
        "$\\qquad v \\mapsto \\partial^2 f(x) \\cdot v$\n",
        "\n",
        "for any $v \\in \\mathbb{R}^n$.\n",
        "\n",
        "The trick is not to instantiate the full Hessian matrix: if $n$ is large, perhaps in the millions or billions in the context of neural networks, then that might be impossible to store.\n",
        "\n",
        "Luckily, `grad` already gives us a way to write an efficient Hessian-vector product function. We just have to use the identity\n",
        "\n",
        "$\\qquad \\partial^2 f (x) v = \\partial [x \\mapsto \\partial f(x) \\cdot v] = \\partial g(x)$,\n",
        "\n",
        "where $g(x) = \\partial f(x) \\cdot v$ is a new scalar-valued function that dots the gradient of $f$ at $x$ with the vector $v$. Notice that we're only ever differentiating scalar-valued functions of vector-valued arguments, which is exactly where we know `grad` is efficient.\n",
        "\n",
        "In JAX code, we can just write this:"
      ]
    },
    {
      "cell_type": "code",
      "metadata": {
        "colab_type": "code",
        "id": "Ou5OU-gU9epm",
        "colab": {}
      },
      "source": [
        "def hvp(f, x, v):\n",
        "    return grad(lambda x: np.vdot(grad(f)(x), v))(x)"
      ],
      "execution_count": null,
      "outputs": []
    },
    {
      "cell_type": "markdown",
      "metadata": {
        "colab_type": "text",
        "id": "Rb1-5Hpv-ZV0"
      },
      "source": [
        "This example shows that you can freely use lexical closure, and JAX will never get perturbed or confused.\n",
        "\n",
        "We'll check this implementation a few cells down, once we see how to compute dense Hessian matrices. We'll also write an even better version that uses both forward-mode and reverse-mode."
      ]
    },
    {
      "cell_type": "markdown",
      "metadata": {
        "colab_type": "text",
        "id": "5A_akvtp8UTu"
      },
      "source": [
        "### Jacobians and Hessians using `jacfwd` and `jacrev`"
      ]
    },
    {
      "cell_type": "markdown",
      "metadata": {
        "colab_type": "text",
        "id": "UP5BbmSm8ZwK"
      },
      "source": [
        "You can compute full Jacobian matrices using the `jacfwd` and `jacrev` functions:"
      ]
    },
    {
      "cell_type": "code",
      "metadata": {
        "colab_type": "code",
        "id": "cbETzAvKvf5I",
        "colab": {
          "base_uri": "https://localhost:8080/",
          "height": 187
        },
        "outputId": "0a0c757f-6705-42d6-87c2-12c40ba83cc6"
      },
      "source": [
        "from jax import jacfwd, jacrev\n",
        "\n",
        "# Isolate the function from the weight matrix to the predictions\n",
        "f = lambda W: predict(W, b, inputs)\n",
        "\n",
        "J = jacfwd(f)(W)\n",
        "print(\"jacfwd result, with shape\", J.shape)\n",
        "print(J)\n",
        "\n",
        "J = jacrev(f)(W)\n",
        "print(\"jacrev result, with shape\", J.shape)\n",
        "print(J)"
      ],
      "execution_count": null,
      "outputs": [
        {
          "output_type": "stream",
          "text": [
            "jacfwd result, with shape (4, 3)\n",
            "[[ 0.05981752  0.12883773  0.08857594]\n",
            " [ 0.04015911 -0.04928619  0.0068453 ]\n",
            " [ 0.12188289  0.01406341 -0.3047072 ]\n",
            " [ 0.00140426 -0.00472514  0.00263773]]\n",
            "jacrev result, with shape (4, 3)\n",
            "[[ 0.05981752  0.12883773  0.08857594]\n",
            " [ 0.04015911 -0.04928619  0.0068453 ]\n",
            " [ 0.12188289  0.01406341 -0.3047072 ]\n",
            " [ 0.00140426 -0.00472514  0.00263773]]\n"
          ],
          "name": "stdout"
        }
      ]
    },
    {
      "cell_type": "markdown",
      "metadata": {
        "colab_type": "text",
        "id": "iZDL-n_AvgBt"
      },
      "source": [
        "These two functions compute the same values (up to machine numerics), but differ in their implementation: `jacfwd` uses forward-mode automatic differentiation, which is more efficient for \"tall\" Jacobian matrices, while `jacrev` uses reverse-mode, which is more efficient for \"wide\" Jacobian matrices. For matrices that are near-square, `jacfwd` probably has an edge over `jacrev`."
      ]
    },
    {
      "cell_type": "markdown",
      "metadata": {
        "colab_type": "text",
        "id": "zeKlr7Xz8bfm"
      },
      "source": [
        "You can also use `jacfwd` and `jacrev` with container types:"
      ]
    },
    {
      "cell_type": "code",
      "metadata": {
        "colab_type": "code",
        "id": "eH46Xnm88bfm",
        "colab": {
          "base_uri": "https://localhost:8080/",
          "height": 136
        },
        "outputId": "236277f5-50f9-4ac1-8bd8-be3309c9d372"
      },
      "source": [
        "def predict_dict(params, inputs):\n",
        "    return predict(params['W'], params['b'], inputs)\n",
        "\n",
        "J_dict = jacrev(predict_dict)({'W': W, 'b': b}, inputs)\n",
        "for k, v in J_dict.items():\n",
        "    print(\"Jacobian from {} to logits is\".format(k))\n",
        "    print(v)"
      ],
      "execution_count": null,
      "outputs": [
        {
          "output_type": "stream",
          "text": [
            "Jacobian from W to logits is\n",
            "[[ 0.05981752  0.12883773  0.08857594]\n",
            " [ 0.04015911 -0.04928619  0.0068453 ]\n",
            " [ 0.12188289  0.01406341 -0.3047072 ]\n",
            " [ 0.00140426 -0.00472514  0.00263773]]\n",
            "Jacobian from b to logits is\n",
            "[0.11503369 0.04563536 0.23439017 0.00189765]\n"
          ],
          "name": "stdout"
        }
      ]
    },
    {
      "cell_type": "markdown",
      "metadata": {
        "colab_type": "text",
        "id": "yH34zjV88bfp"
      },
      "source": [
        "For more details on forward- and reverse-mode, as well as how to implement `jacfwd` and `jacrev` as efficiently as possible, read on!"
      ]
    },
    {
      "cell_type": "markdown",
      "metadata": {
        "colab_type": "text",
        "id": "K6Mpw_7K8bfp"
      },
      "source": [
        "Using a composition of two of these functions gives us a way to compute dense Hessian matrices:"
      ]
    },
    {
      "cell_type": "code",
      "metadata": {
        "colab_type": "code",
        "id": "n155ypD9rfIZ",
        "colab": {
          "base_uri": "https://localhost:8080/",
          "height": 289
        },
        "outputId": "414711b8-37ba-4873-88c9-f6e34b604049"
      },
      "source": [
        "def hessian(f):\n",
        "    return jacfwd(jacrev(f))\n",
        "\n",
        "H = hessian(f)(W)\n",
        "print(\"hessian, with shape\", H.shape)\n",
        "print(H)"
      ],
      "execution_count": null,
      "outputs": [
        {
          "output_type": "stream",
          "text": [
            "hessian, with shape (4, 3, 3)\n",
            "[[[ 0.02285464  0.04922538  0.03384245]\n",
            "  [ 0.04922538  0.10602391  0.07289143]\n",
            "  [ 0.03384245  0.07289144  0.05011286]]\n",
            "\n",
            " [[-0.03195212  0.03921397 -0.00544638]\n",
            "  [ 0.03921397 -0.04812624  0.0066842 ]\n",
            "  [-0.00544638  0.0066842  -0.00092836]]\n",
            "\n",
            " [[-0.01583708 -0.00182736  0.0395927 ]\n",
            "  [-0.00182736 -0.00021085  0.00456839]\n",
            "  [ 0.0395927   0.00456839 -0.09898175]]\n",
            "\n",
            " [[-0.0010352   0.00348331 -0.0019445 ]\n",
            "  [ 0.00348331 -0.01172087  0.00654297]\n",
            "  [-0.0019445   0.00654297 -0.0036525 ]]]\n"
          ],
          "name": "stdout"
        }
      ]
    },
    {
      "cell_type": "markdown",
      "metadata": {
        "colab_type": "text",
        "id": "wvkk82R6uRoM"
      },
      "source": [
        "This shape makes sense: if we start with a function $f : \\mathbb{R}^n \\to \\mathbb{R}^m$, then at a point $x \\in \\mathbb{R}^n$ we expect to get the shapes\n",
        "\n",
        "* $f(x) \\in \\mathbb{R}^m$, the value of $f$ at $x$,\n",
        "* $\\partial f(x) \\in \\mathbb{R}^{m \\times n}$, the Jacobian matrix at $x$,\n",
        "* $\\partial^2 f(x) \\in \\mathbb{R}^{m \\times n \\times n}$, the Hessian at $x$,\n",
        "\n",
        "and so on.\n",
        "\n",
        "To implement `hessian`, we could have used `jacfwd(jacrev(f))` or `jacrev(jacfwd(f))` or any other composition of the two. But forward-over-reverse is typically the most efficient. That's because in the inner Jacobian computation we're often differentiating a function wide Jacobian (maybe like a loss function $f : \\mathbb{R}^n \\to \\mathbb{R}$), while in the outer Jacobian computation we're differentiating a function with a square Jacobian (since $\\nabla f : \\mathbb{R}^n \\to \\mathbb{R}^n$), which is where forward-mode wins out."
      ]
    },
    {
      "cell_type": "markdown",
      "metadata": {
        "colab_type": "text",
        "id": "OMmi9cyhs1bj"
      },
      "source": [
        "## How it's made: two foundational autodiff functions"
      ]
    },
    {
      "cell_type": "markdown",
      "metadata": {
        "colab_type": "text",
        "id": "mtSRvouV6vvG"
      },
      "source": [
        "### Jacobian-Vector products (JVPs, aka forward-mode autodiff)\n",
        "\n",
        "JAX includes efficient and general implementations of both forward- and reverse-mode automatic differentiation. The familiar `grad` function is built on reverse-mode, but to explain the difference in the two modes, and when each can be useful, we need a bit of math background.\n",
        "\n",
        "#### JVPs in math\n",
        "\n",
        "Mathematically, given a function $f : \\mathbb{R}^n \\to \\mathbb{R}^m$, the Jacobian of $f$ evaluated at an input point $x \\in \\mathbb{R}^n$, denoted $\\partial f(x)$, is often thought of as a matrix in $\\mathbb{R}^m \\times \\mathbb{R}^n$:\n",
        "\n",
        "$\\qquad \\partial f(x) \\in \\mathbb{R}^{m \\times n}$.\n",
        "\n",
        "But we can also think of $\\partial f(x)$ as a linear map, which maps the tangent space of the domain of $f$ at the point $x$ (which is just another copy of $\\mathbb{R}^n$) to the tangent space of the codomain of $f$ at the point $f(x)$ (a copy of $\\mathbb{R}^m$):\n",
        "\n",
        "$\\qquad \\partial f(x) : \\mathbb{R}^n \\to \\mathbb{R}^m$.\n",
        "\n",
        "This map is called the [pushforward map](https://en.wikipedia.org/wiki/Pushforward_(differential)) of $f$ at $x$. The Jacobian matrix is just the matrix for this linear map in a standard basis.\n",
        "\n",
        "If we don't commit to one specific input point $x$, then we can think of the function $\\partial f$ as first taking an input point and returning the Jacobian linear map at that input point:\n",
        "\n",
        "$\\qquad \\partial f : \\mathbb{R}^n \\to \\mathbb{R}^n \\to \\mathbb{R}^m$.\n",
        "\n",
        "In particular, we can uncurry things so that given input point $x \\in \\mathbb{R}^n$ and a tangent vector $v \\in \\mathbb{R}^n$, we get back an output tangent vector in $\\mathbb{R}^m$. We call that mapping, from $(x, v)$ pairs to output tangent vectors, the *Jacobian-vector product*, and write it as\n",
        "\n",
        "$\\qquad (x, v) \\mapsto \\partial f(x) v$\n",
        "\n",
        "#### JVPs in JAX code\n",
        "\n",
        "Back in Python code, JAX's `jvp` function models this transformation. Given a Python function that evaluates $f$, JAX's `jvp` is a way to get a Python function for evaluating $(x, v) \\mapsto (f(x), \\partial f(x) v)$."
      ]
    },
    {
      "cell_type": "code",
      "metadata": {
        "colab_type": "code",
        "id": "pTncYR6F6vvG",
        "colab": {}
      },
      "source": [
        "from jax import jvp\n",
        "\n",
        "# Isolate the function from the weight matrix to the predictions\n",
        "f = lambda W: predict(W, b, inputs)\n",
        "\n",
        "key, subkey = random.split(key)\n",
        "v = random.normal(subkey, W.shape)\n",
        "\n",
        "# Push forward the vector `v` along `f` evaluated at `W`\n",
        "y, u = jvp(f, (W,), (v,))"
      ],
      "execution_count": null,
      "outputs": []
    },
    {
      "cell_type": "markdown",
      "metadata": {
        "colab_type": "text",
        "id": "m1VJgJYQGfCK"
      },
      "source": [
        "In terms of Haskell-like type signatures, we could write\n",
        "\n",
        "```haskell\n",
        "jvp :: (a -> b) -> a -> T a -> (b, T b)\n",
        "```\n",
        "\n",
        "where we use `T a` to denote the type of the tangent space for `a`. In words, `jvp` takes as arguments a function of type `a -> b`, a value of type `a`, and a tangent vector value of type `T a`. It gives back a pair consisting of a value of type `b` and an output tangent vector of type `T b`."
      ]
    },
    {
      "cell_type": "markdown",
      "metadata": {
        "colab_type": "text",
        "id": "3RpbiasHGD3X"
      },
      "source": [
        "The `jvp`-transformed function is evaluated much like the original function, but paired up with each primal value of type `a` it pushes along tangent values of type `T a`. For each primitive numerical operation that the original function would have applied, the `jvp`-transformed function executes a \"JVP rule\" for that primitive that both evaluates the primitive on the primals and applies the primitive's JVP at those primal values.\n",
        "\n",
        "That evaluation strategy has some immediate implications about computational complexity: since we evaluate JVPs as we go, we don't need to store anything for later, and so the memory cost is independent of the depth of the computation. In addition, the FLOP cost of the `jvp`-transformed function is about 3x the cost of just evaluating the function (one unit of work for evaluating the original function, for example `sin(x)`; one unit for linearizing, like `cos(x)`; and one unit for applying the linearized function to a vector, like `cos_x * v`). Put another way, for a fixed primal point $x$, we can evaluate $v \\mapsto \\partial f(x) \\cdot v$ for about the same marginal cost as evaluating $f$.\n",
        "\n",
        "That memory complexity sounds pretty compelling! So why don't we see forward-mode very often in machine learning?\n",
        "\n",
        "To answer that, first think about how you could use a JVP to build a full Jacobian matrix. If we apply a JVP to a one-hot tangent vector, it reveals one column of the Jacobian matrix, corresponding to the nonzero entry we fed in. So we can build a full Jacobian one column at a time, and to get each column costs about the same as one function evaluation. That will be efficient for functions with \"tall\" Jacobians, but inefficient for \"wide\" Jacobians.\n",
        "\n",
        "If you're doing gradient-based optimization in machine learning, you probably want to minimize a loss function from parameters in $\\mathbb{R}^n$ to a scalar loss value in $\\mathbb{R}$. That means the Jacobian of this function is a very wide matrix: $\\partial f(x) \\in \\mathbb{R}^{1 \\times n}$, which we often identify with the Gradient vector $\\nabla f(x) \\in \\mathbb{R}^n$. Building that matrix one column at a time, with each call taking a similar number of FLOPs to evaluating the original function, sure seems inefficient! In particular, for training neural networks, where $f$ is a training loss function and $n$ can be in the millions or billions, this approach just won't scale.\n",
        "\n",
        "To do better for functions like this, we just need to use reverse-mode."
      ]
    },
    {
      "cell_type": "markdown",
      "metadata": {
        "colab_type": "text",
        "id": "PhkvkZazdXu1"
      },
      "source": [
        "### Vector-Jacobian products (VJPs, aka reverse-mode autodiff)\n",
        "\n",
        "Where forward-mode gives us back a function for evaluating Jacobian-vector products, which we can then use to build Jacobian matrices one column at a time, reverse-mode is a way to get back a function for evaluating vector-Jacobian products (equivalently Jacobian-transpose-vector products), which we can use to build Jacobian matrices one row at a time.\n",
        "\n",
        "#### VJPs in math\n",
        "\n",
        "Let's again consider a function $f : \\mathbb{R}^n \\to \\mathbb{R}^m$.\n",
        "Starting from our notation for JVPs, the notation for VJPs is pretty simple:\n",
        "\n",
        "$\\qquad (x, v) \\mapsto v \\partial f(x)$,\n",
        "\n",
        "where $v$ is an element of the cotangent space of $f$ at $x$ (isomorphic to another copy of $\\mathbb{R}^m$). When being rigorous, we should think of $v$ as a linear map $v : \\mathbb{R}^m \\to \\mathbb{R}$, and when we write $v \\partial f(x)$ we mean function composition $v \\circ \\partial f(x)$, where the types work out because $\\partial f(x) : \\mathbb{R}^n \\to \\mathbb{R}^m$. But in the common case we can identify $v$ with a vector in $\\mathbb{R}^m$ and use the two almost interchageably, just like we might sometimes flip between \"column vectors\" and \"row vectors\" without much comment.\n",
        "\n",
        "With that identification, we can alternatively think of the linear part of a VJP as the transpose (or adjoint conjugate) of the linear part of a JVP:\n",
        "\n",
        "$\\qquad (x, v) \\mapsto \\partial f(x)^\\mathsf{T} v$.\n",
        "\n",
        "For a given point $x$, we can write the signature as\n",
        "\n",
        "$\\qquad \\partial f(x)^\\mathsf{T} : \\mathbb{R}^m \\to \\mathbb{R}^n$.\n",
        "\n",
        "The corresponding map on cotangent spaces is often called the [pullback](https://en.wikipedia.org/wiki/Pullback_(differential_geometry))\n",
        "of $f$ at $x$. The key for our purposes is that it goes from something that looks like the output of $f$ to something that looks like the input of $f$, just like we might expect from a transposed linear function.\n",
        "\n",
        "#### VJPs in JAX code\n",
        "\n",
        "Switching from math back to Python, the JAX function `vjp` can take a Python function for evaluating $f$ and give us back a Python function for evaluating the VJP $(x, v) \\mapsto (f(x), v^\\mathsf{T} \\partial f(x))$."
      ]
    },
    {
      "cell_type": "code",
      "metadata": {
        "colab_type": "code",
        "id": "1tFcRuEzkGRR",
        "colab": {}
      },
      "source": [
        "from jax import vjp\n",
        "\n",
        "# Isolate the function from the weight matrix to the predictions\n",
        "f = lambda W: predict(W, b, inputs)\n",
        "\n",
        "y, vjp_fun = vjp(f, W)\n",
        "\n",
        "key, subkey = random.split(key)\n",
        "u = random.normal(subkey, y.shape)\n",
        "\n",
        "# Pull back the covector `u` along `f` evaluated at `W`\n",
        "v = vjp_fun(u)"
      ],
      "execution_count": null,
      "outputs": []
    },
    {
      "cell_type": "markdown",
      "metadata": {
        "colab_type": "text",
        "id": "oVOZexCEkvv3"
      },
      "source": [
        "In terms of Haskell-like type signatures, we could write\n",
        "\n",
        "```haskell\n",
        "vjp :: (a -> b) -> a -> (b, CT b -> CT a)\n",
        "```\n",
        "\n",
        "where we use `CT a` to denote the type for the cotangent space for `a`. In words, `vjp` takes as arguments a function of type `a -> b` and a point of type `a`, and gives back a pair consisting of a value of type `b` and a linear map of type `CT b -> CT a`.\n",
        "\n",
        "This is great because it lets us build Jacobian matrices one row at a time, and the FLOP cost for evaluating $(x, v) \\mapsto (f(x), v^\\mathsf{T} \\partial f(x))$ is only about three times the cost of evaluating $f$. In particular, if we want the gradient of a function $f : \\mathbb{R}^n \\to \\mathbb{R}$, we can do it in just one call. That's how `grad` is efficient for gradient-based optimization, even for objectives like neural network training loss functions on millions or billions of parameters.\n",
        "\n",
        "There's a cost, though: though the FLOPs are friendly, memory scales with the depth of the computation. Also, the implementation is traditionally more complex than that of forward-mode, though JAX has some tricks up its sleeve (that's a story for a future notebook!).\n",
        "\n",
        "For more on how reverse-mode works, see [this tutorial video from the Deep Learning Summer School in 2017](http://videolectures.net/deeplearning2017_johnson_automatic_differentiation/)."
      ]
    },
    {
      "cell_type": "markdown",
      "metadata": {
        "colab_type": "text",
        "id": "MWHcAPqLdJFn"
      },
      "source": [
        "### Hessian-vector products using both forward- and reverse-mode"
      ]
    },
    {
      "cell_type": "markdown",
      "metadata": {
        "colab_type": "text",
        "id": "YG3g5C3KdW7H"
      },
      "source": [
        "In a previous section, we implemented a Hessian-vector product function just using reverse-mode (assuming continuous second derivatives):"
      ]
    },
    {
      "cell_type": "code",
      "metadata": {
        "colab_type": "code",
        "id": "C70CA-7wdelL",
        "colab": {}
      },
      "source": [
        "def hvp(f, x, v):\n",
        "    return grad(lambda x: np.vdot(grad(f)(x), v))(x)"
      ],
      "execution_count": null,
      "outputs": []
    },
    {
      "cell_type": "markdown",
      "metadata": {
        "colab_type": "text",
        "id": "zJlJbFKCdfd0"
      },
      "source": [
        "That's efficient, but we can do even better and save some memory by using forward-mode together with reverse-mode.\n",
        "\n",
        "Mathematically, given a function $f : \\mathbb{R}^n \\to \\mathbb{R}$ to differentiate, a point $x \\in \\mathbb{R}^n$ at which to linearize the function, and a vector $v \\in \\mathbb{R}^n$, the Hessian-vector product function we want is\n",
        "\n",
        "$(x, v) \\mapsto \\partial^2 f(x) v$\n",
        "\n",
        "Consider the helper function $g : \\mathbb{R}^n \\to \\mathbb{R}^n$ defined to be the derivative (or gradient) of $f$, namely $g(x) = \\partial f(x)$. All we need is its JVP, since that will give us\n",
        "\n",
        "$(x, v) \\mapsto \\partial g(x) v = \\partial^2 f(x) v$.\n",
        "\n",
        "We can translate that almost directly into code:"
      ]
    },
    {
      "cell_type": "code",
      "metadata": {
        "colab_type": "code",
        "id": "rq3C0reVfAaI",
        "colab": {}
      },
      "source": [
        "from jax import jvp, grad\n",
        "\n",
        "# forward-over-reverse\n",
        "def hvp(f, primals, tangents):\n",
        "  return jvp(grad(f), primals, tangents)[1]"
      ],
      "execution_count": null,
      "outputs": []
    },
    {
      "cell_type": "markdown",
      "metadata": {
        "colab_type": "text",
        "id": "XUsye1SwfSFm"
      },
      "source": [
        "Even better, since we didn't have to call `np.dot` directly, this `hvp` function works with arrays of any shape and with arbitrary container types (like vectors stored as nested lists/dicts/tuples), and doesn't even have a dependence on `jax.numpy`.\n",
        "\n",
        "Here's an example of how to use it:"
      ]
    },
    {
      "cell_type": "code",
      "metadata": {
        "colab_type": "code",
        "id": "bmpuQa5_f1Al",
        "colab": {
          "base_uri": "https://localhost:8080/",
          "height": 34
        },
        "outputId": "9928e5a1-9706-48bf-f378-e8ac7ae449bc"
      },
      "source": [
        "def f(X):\n",
        "  return np.sum(np.tanh(X)**2)\n",
        "\n",
        "key, subkey1, subkey2 = random.split(key, 3)\n",
        "X = random.normal(subkey1, (30, 40))\n",
        "V = random.normal(subkey2, (30, 40))\n",
        "\n",
        "ans1 = hvp(f, (X,), (V,))\n",
        "ans2 = np.tensordot(hessian(f)(X), V, 2)\n",
        "\n",
        "print(np.allclose(ans1, ans2, 1e-4, 1e-4))"
      ],
      "execution_count": null,
      "outputs": [
        {
          "output_type": "stream",
          "text": [
            "True\n"
          ],
          "name": "stdout"
        }
      ]
    },
    {
      "cell_type": "markdown",
      "metadata": {
        "colab_type": "text",
        "id": "aWTii5TyXL5C"
      },
      "source": [
        "Another way you might consider writing this is using reverse-over-forward:"
      ]
    },
    {
      "cell_type": "code",
      "metadata": {
        "colab_type": "code",
        "id": "YxwmXZH2XQrw",
        "colab": {}
      },
      "source": [
        "# reverse-over-forward\n",
        "def hvp_revfwd(f, primals, tangents):\n",
        "  g = lambda primals: jvp(f, primals, tangents)[1]\n",
        "  return grad(g)(primals)"
      ],
      "execution_count": null,
      "outputs": []
    },
    {
      "cell_type": "markdown",
      "metadata": {
        "colab_type": "text",
        "id": "8z-QG_xTXR4I"
      },
      "source": [
        "That's not quite as good, though, because forward-mode has less overhead than reverse-mode, and since the outer differentiation operator here has to differentiate a larger computation than the inner one, keeping forward-mode on the outside works best:"
      ]
    },
    {
      "cell_type": "code",
      "metadata": {
        "colab_type": "code",
        "id": "lxfv25qTX5gZ",
        "colab": {
          "base_uri": "https://localhost:8080/",
          "height": 153
        },
        "outputId": "65a04b9b-1510-4123-b352-d2a63d512e5c"
      },
      "source": [
        "# reverse-over-reverse, only works for single arguments\n",
        "def hvp_revrev(f, primals, tangents):\n",
        "  x, = primals\n",
        "  v, = tangents\n",
        "  return grad(lambda x: np.vdot(grad(f)(x), v))(x)\n",
        "\n",
        "\n",
        "print(\"Forward over reverse\")\n",
        "%timeit -n10 -r3 hvp(f, (X,), (V,))\n",
        "print(\"Reverse over forward\")\n",
        "%timeit -n10 -r3 hvp_revfwd(f, (X,), (V,))\n",
        "print(\"Reverse over reverse\")\n",
        "%timeit -n10 -r3 hvp_revrev(f, (X,), (V,))\n",
        "\n",
        "print(\"Naive full Hessian materialization\")\n",
        "%timeit -n10 -r3 np.tensordot(hessian(f)(X), V, 2)"
      ],
      "execution_count": null,
      "outputs": [
        {
          "output_type": "stream",
          "text": [
            "Forward over reverse\n",
            "10 loops, best of 3: 5.71 ms per loop\n",
            "Reverse over forward\n",
            "10 loops, best of 3: 7.73 ms per loop\n",
            "Reverse over reverse\n",
            "10 loops, best of 3: 10.1 ms per loop\n",
            "Naive full Hessian materialization\n",
            "10 loops, best of 3: 44.4 ms per loop\n"
          ],
          "name": "stdout"
        }
      ]
    },
    {
      "cell_type": "markdown",
      "metadata": {
        "colab_type": "text",
        "id": "xtqSUJgzwQXO"
      },
      "source": [
        "## Composing VJPs, JVPs, and `vmap`"
      ]
    },
    {
      "cell_type": "markdown",
      "metadata": {
        "colab_type": "text",
        "id": "PSL1TciM6vvI"
      },
      "source": [
        "### Jacobian-Matrix and Matrix-Jacobian products\n",
        "\n",
        "Now that we have `jvp` and `vjp` transformations that give us functions to push-forward or pull-back single vectors at a time, we can use JAX's `vmap` [transformation](https://github.com/google/jax#auto-vectorization-with-vmap) to push and pull entire bases at once. In particular, we can use that to write fast matrix-Jacobian and Jacobian-matrix products."
      ]
    },
    {
      "cell_type": "code",
      "metadata": {
        "colab_type": "code",
        "id": "asAWvxVaCmsx",
        "colab": {
          "base_uri": "https://localhost:8080/",
          "height": 102
        },
        "outputId": "aa90dc09-454b-49b1-a17a-fdb2c52460c6"
      },
      "source": [
        "# Isolate the function from the weight matrix to the predictions\n",
        "f = lambda W: predict(W, b, inputs)\n",
        "\n",
        "# Pull back the covectors `m_i` along `f`, evaluated at `W`, for all `i`.\n",
        "# First, use a list comprehension to loop over rows in the matrix M.\n",
        "def loop_mjp(f, x, M):\n",
        "    y, vjp_fun = vjp(f, x)\n",
        "    return np.vstack([vjp_fun(mi) for mi in M])\n",
        "\n",
        "# Now, use vmap to build a computation that does a single fast matrix-matrix\n",
        "# multiply, rather than an outer loop over vector-matrix multiplies.\n",
        "def vmap_mjp(f, x, M):\n",
        "    y, vjp_fun = vjp(f, x)\n",
        "    outs, = vmap(vjp_fun)(M)\n",
        "    return outs\n",
        "\n",
        "key = random.PRNGKey(0)\n",
        "num_covecs = 128\n",
        "U = random.normal(key, (num_covecs,) + y.shape)\n",
        "\n",
        "loop_vs = loop_mjp(f, W, M=U)\n",
        "print('Non-vmapped Matrix-Jacobian product')\n",
        "%timeit -n10 -r3 loop_mjp(f, W, M=U)\n",
        "\n",
        "print('\\nVmapped Matrix-Jacobian product')\n",
        "vmap_vs = vmap_mjp(f, W, M=U)\n",
        "%timeit -n10 -r3 vmap_mjp(f, W, M=U)\n",
        "\n",
        "assert np.allclose(loop_vs, vmap_vs), 'Vmap and non-vmapped Matrix-Jacobian Products should be identical'"
      ],
      "execution_count": null,
      "outputs": [
        {
          "output_type": "stream",
          "text": [
            "Non-vmapped Matrix-Jacobian product\n",
            "10 loops, best of 3: 144 ms per loop\n",
            "\n",
            "Vmapped Matrix-Jacobian product\n",
            "10 loops, best of 3: 5.42 ms per loop\n"
          ],
          "name": "stdout"
        }
      ]
    },
    {
      "cell_type": "code",
      "metadata": {
        "colab_type": "code",
        "id": "TDaxsJrlDraK",
        "colab": {
          "base_uri": "https://localhost:8080/",
          "height": 102
        },
        "outputId": "37b33c33-df98-4545-88fa-e6a3a5cbdbe5"
      },
      "source": [
        "def loop_jmp(f, x, M):\n",
        "    # jvp immediately returns the primal and tangent values as a tuple,\n",
        "    # so we'll compute and select the tangents in a list comprehension\n",
        "    return np.vstack([jvp(f, (W,), (mi,))[1] for mi in M])\n",
        "\n",
        "def vmap_jmp(f, x, M):\n",
        "    _jvp = lambda s: jvp(f, (W,), (s,))[1]\n",
        "    return vmap(_jvp)(M)\n",
        "\n",
        "num_vecs = 128\n",
        "S = random.normal(key, (num_vecs,) + W.shape)\n",
        "\n",
        "loop_vs = loop_jmp(f, W, M=S)\n",
        "print('Non-vmapped Jacobian-Matrix product')\n",
        "%timeit -n10 -r3 loop_jmp(f, W, M=S)\n",
        "vmap_vs = vmap_jmp(f, W, M=S)\n",
        "print('\\nVmapped Jacobian-Matrix product')\n",
        "%timeit -n10 -r3 vmap_jmp(f, W, M=S)\n",
        "\n",
        "assert np.allclose(loop_vs, vmap_vs), 'Vmap and non-vmapped Jacobian-Matrix products should be identical'"
      ],
      "execution_count": null,
      "outputs": [
        {
          "output_type": "stream",
          "text": [
            "Non-vmapped Jacobian-Matrix product\n",
            "10 loops, best of 3: 421 ms per loop\n",
            "\n",
            "Vmapped Jacobian-Matrix product\n",
            "10 loops, best of 3: 4.12 ms per loop\n"
          ],
          "name": "stdout"
        }
      ]
    },
    {
      "cell_type": "markdown",
      "metadata": {
        "colab_type": "text",
        "id": "MXFEFBDz6vvL"
      },
      "source": [
        "### The implementation of `jacfwd` and `jacrev`\n",
        "\n"
      ]
    },
    {
      "cell_type": "markdown",
      "metadata": {
        "colab_type": "text",
        "id": "ZAgUb6sp8bf7"
      },
      "source": [
        "Now that we've seen fast Jacobian-matrix and matrix-Jacobian products, it's not hard to guess how to write `jacfwd` and `jacrev`. We just use the same technique to push-forward or pull-back an entire standard basis (isomorphic to an identity matrix) at once."
      ]
    },
    {
      "cell_type": "code",
      "metadata": {
        "colab_type": "code",
        "id": "HBEzsDH1U5_4",
        "colab": {}
      },
      "source": [
        "from jax import jacrev as builtin_jacrev\n",
        "\n",
        "def our_jacrev(f):\n",
        "    def jacfun(x):\n",
        "        y, vjp_fun = vjp(f, x)\n",
        "        # Use vmap to do a matrix-Jacobian product.\n",
        "        # Here, the matrix is the Euclidean basis, so we get all\n",
        "        # entries in the Jacobian at once. \n",
        "        J, = vmap(vjp_fun, in_axes=0)(np.eye(len(y)))\n",
        "        return J\n",
        "    return jacfun\n",
        "\n",
        "assert np.allclose(builtin_jacrev(f)(W), our_jacrev(f)(W)), 'Incorrect reverse-mode Jacobian results!'"
      ],
      "execution_count": null,
      "outputs": []
    },
    {
      "cell_type": "code",
      "metadata": {
        "colab_type": "code",
        "id": "Qd9gVZ5t6vvP",
        "colab": {}
      },
      "source": [
        "from jax import jacfwd as builtin_jacfwd\n",
        "\n",
        "def our_jacfwd(f):\n",
        "    def jacfun(x):\n",
        "        _jvp = lambda s: jvp(f, (x,), (s,))[1]\n",
        "        Jt =vmap(_jvp, in_axes=1)(np.eye(len(x)))\n",
        "        return np.transpose(Jt)\n",
        "    return jacfun\n",
        "\n",
        "assert np.allclose(builtin_jacfwd(f)(W), our_jacfwd(f)(W)), 'Incorrect forward-mode Jacobian results!'"
      ],
      "execution_count": null,
      "outputs": []
    },
    {
      "cell_type": "markdown",
      "metadata": {
        "colab_type": "text",
        "id": "7r5_m9Y68bf_"
      },
      "source": [
        "Interestingly, [Autograd](https://github.com/hips/autograd) couldn't do this. Our [implementation](https://github.com/HIPS/autograd/blob/96a03f44da43cd7044c61ac945c483955deba957/autograd/differential_operators.py#L60) of reverse-mode `jacobian` in Autograd had to pull back one vector at a time with an outer-loop `map`. Pushing one vector at a time through the computation is much less efficient than batching it all together with `vmap`."
      ]
    },
    {
      "cell_type": "markdown",
      "metadata": {
        "colab_type": "text",
        "id": "9maev0Nd8bf_"
      },
      "source": [
        "Another thing that Autograd couldn't do is `jit`. Interestingly, no matter how much Python dynamism you use in your function to be differentiated, we could always use `jit` on the linear part of the computation. For example:"
      ]
    },
    {
      "cell_type": "code",
      "metadata": {
        "colab_type": "code",
        "id": "_5jDflC08bgB",
        "colab": {
          "base_uri": "https://localhost:8080/",
          "height": 34
        },
        "outputId": "964c1bae-afcb-40ae-c589-ac80ff97a7d5"
      },
      "source": [
        "def f(x):\n",
        "    try:\n",
        "        if x < 3:\n",
        "            return 2 * x ** 3\n",
        "        else:\n",
        "            raise ValueError\n",
        "    except ValueError:\n",
        "        return np.pi * x\n",
        "\n",
        "y, f_vjp = vjp(f, 4.)\n",
        "print(jit(f_vjp)(1.))"
      ],
      "execution_count": null,
      "outputs": [
        {
          "output_type": "stream",
          "text": [
            "(DeviceArray(3.1415927, dtype=float32),)\n"
          ],
          "name": "stdout"
        }
      ]
    },
    {
      "cell_type": "markdown",
      "metadata": {
        "colab_type": "text",
        "id": "3fPWLrxK8bgD"
      },
      "source": [
        "## Complex numbers and differentiation"
      ]
    },
    {
      "cell_type": "markdown",
      "metadata": {
        "colab_type": "text",
        "id": "2pZOHvrm8bgE"
      },
      "source": [
        "JAX is great at complex numbers and differentiation. To support both [holomorphic and non-holomorphic differentiation](https://en.wikipedia.org/wiki/Holomorphic_function), it helps to think in terms of JVPs and VJPs.\n",
        "\n",
        "Consider a complex-to-complex function $f: \\mathbb{C} \\to \\mathbb{C}$ and identify it with a corresponding function $g: \\mathbb{R}^2 \\to \\mathbb{R}^2$,"
      ]
    },
    {
      "cell_type": "code",
      "metadata": {
        "colab_type": "code",
        "id": "OaqZ2MuP8bgF",
        "colab": {}
      },
      "source": [
        "def f(z):\n",
        "  x, y = np.real(z), np.imag(z)\n",
        "  return u(x, y) + v(x, y) * 1j\n",
        "\n",
        "def g(x, y):\n",
        "  return (u(x, y), v(x, y))"
      ],
      "execution_count": null,
      "outputs": []
    },
    {
      "cell_type": "markdown",
      "metadata": {
        "colab_type": "text",
        "id": "3XB5oGxl8bgH"
      },
      "source": [
        "That is, we've decomposed $f(z) = u(x, y) + v(x, y) i$ where $z = x + y i$, and identified $\\mathbb{C}$ with $\\mathbb{R}^2$ to get $g$."
      ]
    },
    {
      "cell_type": "markdown",
      "metadata": {
        "id": "6fBBMxqpiVjF",
        "colab_type": "text"
      },
      "source": [
        "Since $g$ only involves real inputs and outputs, we already know how to write a Jacobian-vector product for it, say given a tangent vector $(c, d) \\in \\mathbb{R}^2$, namely\n",
        "\n",
        "$\\begin{bmatrix} \\partial_0 u(x, y) & \\partial_1 u(x, y) \\\\ \\partial_0 v(x, y) & \\partial_1 v(x, y) \\end{bmatrix}\n",
        "\\begin{bmatrix} c \\\\ d \\end{bmatrix}$.\n",
        "\n",
        "To get a JVP for the original function $f$ applied to a tangent vector $c + di \\in \\mathbb{C}$, we just use the same definition and identify the result as another complex number, \n",
        "\n",
        "$\\partial f(x + y i)(c + d i) =\n",
        "\\begin{matrix} \\begin{bmatrix} 1 & i \\end{bmatrix} \\\\ ~ \\end{matrix}\n",
        "\\begin{bmatrix} \\partial_0 u(x, y) & \\partial_1 u(x, y) \\\\ \\partial_0 v(x, y) & \\partial_1 v(x, y) \\end{bmatrix}\n",
        "\\begin{bmatrix} c \\\\ d \\end{bmatrix}$.\n",
        "\n",
        "That's our definition of the JVP of a $\\mathbb{C} \\to \\mathbb{C}$ function! Notice it doesn't matter whether or not $f$ is holomorphic: the JVP is unambiguous."
      ]
    },
    {
      "cell_type": "markdown",
      "metadata": {
        "id": "6SL6dWtFpBUr",
        "colab_type": "text"
      },
      "source": [
        "Here's a check:"
      ]
    },
    {
      "cell_type": "code",
      "metadata": {
        "id": "BGZV__zupIMS",
        "colab_type": "code",
        "colab": {}
      },
      "source": [
        "def check(seed):\n",
        "  key = random.PRNGKey(seed)\n",
        "\n",
        "  # random coeffs for u and v\n",
        "  key, subkey = random.split(key)\n",
        "  a, b, c, d = random.uniform(subkey, (4,))\n",
        "\n",
        "  def fun(z):\n",
        "    x, y = np.real(z), np.imag(z)\n",
        "    return u(x, y) + v(x, y) * 1j\n",
        "\n",
        "  def u(x, y):\n",
        "    return a * x + b * y\n",
        "\n",
        "  def v(x, y):\n",
        "    return c * x + d * y\n",
        "\n",
        "  # primal point\n",
        "  key, subkey = random.split(key)\n",
        "  x, y = random.uniform(subkey, (2,))\n",
        "  z = x + y * 1j\n",
        "\n",
        "  # tangent vector\n",
        "  key, subkey = random.split(key)\n",
        "  c, d = random.uniform(subkey, (2,))\n",
        "  z_dot = c + d * 1j\n",
        "\n",
        "  # check jvp\n",
        "  _, ans = jvp(fun, (z,), (z_dot,))\n",
        "  expected = (grad(u, 0)(x, y) * c +\n",
        "              grad(u, 1)(x, y) * d +\n",
        "              grad(v, 0)(x, y) * c * 1j+\n",
        "              grad(v, 1)(x, y) * d * 1j)\n",
        "  print(np.allclose(ans, expected))"
      ],
      "execution_count": null,
      "outputs": []
    },
    {
      "cell_type": "code",
      "metadata": {
        "id": "I2OBU3OGp-CY",
        "colab_type": "code",
        "colab": {
          "base_uri": "https://localhost:8080/",
          "height": 68
        },
        "outputId": "ad7c662f-be05-4472-e8fe-8c1c58ce1771"
      },
      "source": [
        "check(0)\n",
        "check(1)\n",
        "check(2)"
      ],
      "execution_count": null,
      "outputs": [
        {
          "output_type": "stream",
          "text": [
            "True\n",
            "True\n",
            "True\n"
          ],
          "name": "stdout"
        }
      ]
    },
    {
      "cell_type": "markdown",
      "metadata": {
        "id": "XjWMgDOimUcU",
        "colab_type": "text"
      },
      "source": [
        "What about VJPs? We do something pretty similar: for a cotangent vector $c + di \\in \\mathbb{C}$ we define the VJP of $f$ as\n",
        "\n",
        "$(c + di)^* \\; \\partial f(x + y i) =\n",
        "\\begin{matrix} \\begin{bmatrix} c & -d \\end{bmatrix} \\\\ ~ \\end{matrix}\n",
        "\\begin{bmatrix} \\partial_0 u(x, y) & \\partial_1 u(x, y) \\\\ \\partial_0 v(x, y) & \\partial_1 v(x, y) \\end{bmatrix}\n",
        "\\begin{bmatrix} 1 \\\\ -i \\end{bmatrix}$.\n",
        "\n",
        "What's with the negatives? They're just to take care of complex conjugation, and the fact that we're working with covectors."
      ]
    },
    {
      "cell_type": "markdown",
      "metadata": {
        "id": "oRu2VRjmtrgB",
        "colab_type": "text"
      },
      "source": [
        "Here's a check of the VJP rules:"
      ]
    },
    {
      "cell_type": "code",
      "metadata": {
        "id": "4J7edvIBttcU",
        "colab_type": "code",
        "colab": {}
      },
      "source": [
        "def check(seed):\n",
        "  key = random.PRNGKey(seed)\n",
        "\n",
        "  # random coeffs for u and v\n",
        "  key, subkey = random.split(key)\n",
        "  a, b, c, d = random.uniform(subkey, (4,))\n",
        "\n",
        "  def fun(z):\n",
        "    x, y = np.real(z), np.imag(z)\n",
        "    return u(x, y) + v(x, y) * 1j\n",
        "\n",
        "  def u(x, y):\n",
        "    return a * x + b * y\n",
        "\n",
        "  def v(x, y):\n",
        "    return c * x + d * y\n",
        "\n",
        "  # primal point\n",
        "  key, subkey = random.split(key)\n",
        "  x, y = random.uniform(subkey, (2,))\n",
        "  z = x + y * 1j\n",
        "\n",
        "  # cotangent vector\n",
        "  key, subkey = random.split(key)\n",
        "  c, d = random.uniform(subkey, (2,))\n",
        "  z_bar = np.array(c + d * 1j)  # for dtype control\n",
        "\n",
        "  # check vjp\n",
        "  _, fun_vjp = vjp(fun, z)\n",
        "  ans, = fun_vjp(z_bar)\n",
        "  expected = (grad(u, 0)(x, y) * c +\n",
        "              grad(v, 0)(x, y) * (-d) +\n",
        "              grad(u, 1)(x, y) * c * (-1j) +\n",
        "              grad(v, 1)(x, y) * (-d) * (-1j))\n",
        "  assert np.allclose(ans, expected, atol=1e-5, rtol=1e-5)"
      ],
      "execution_count": null,
      "outputs": []
    },
    {
      "cell_type": "code",
      "metadata": {
        "id": "RieNCdXgtzs7",
        "colab_type": "code",
        "colab": {}
      },
      "source": [
        "check(0)\n",
        "check(1)\n",
        "check(2)"
      ],
      "execution_count": null,
      "outputs": []
    },
    {
      "cell_type": "markdown",
      "metadata": {
        "id": "7I6A19Myt3qN",
        "colab_type": "text"
      },
      "source": [
        "What about convenience wrappers like `grad`, `jacfwd`, and `jacrev`?\n",
        "\n",
        "For $\\mathbb{R} \\to \\mathbb{R}$ functions, recall we defined `grad(f)(x)` as being `vjp(f, x)[1](1.0)`, which works because applying a VJP to a `1.0` value reveals the gradient (i.e. Jacobian, or derivative). We can do the same thing for $\\mathbb{C} \\to \\mathbb{R}$ functions: we can still use `1.0` as the cotangent vector, and we just get out a complex number result summarizing the full Jacobian:"
      ]
    },
    {
      "cell_type": "code",
      "metadata": {
        "id": "xz_9lK61wGdm",
        "colab_type": "code",
        "colab": {
          "base_uri": "https://localhost:8080/",
          "height": 34
        },
        "outputId": "9715dfb0-f50d-425c-fd85-c9e0a3147921"
      },
      "source": [
        "def f(z):\n",
        "  x, y = np.real(z), np.imag(z)\n",
        "  return x**2 + y**2\n",
        "\n",
        "z = 3. + 4j\n",
        "grad(f)(z)"
      ],
      "execution_count": null,
      "outputs": [
        {
          "output_type": "execute_result",
          "data": {
            "text/plain": [
              "DeviceArray(6.-8.j, dtype=complex64)"
            ]
          },
          "metadata": {
            "tags": []
          },
          "execution_count": 31
        }
      ]
    },
    {
      "cell_type": "markdown",
      "metadata": {
        "id": "jqCvEE8qwGw7",
        "colab_type": "text"
      },
      "source": [
        "For geneneral $\\mathbb{C} \\to \\mathbb{C}$ functions, the Jacobian has 4 real-valued degrees of freedom (as in the 2x2 Jacobian matrices above), so we can't hope to represent all of them with in a complex number. But we can for holomorphic functions! A holomorphic function is precisely a $\\mathbb{C} \\to \\mathbb{C}$ function with the special property that its derivative can be represented as a single complex number. (The [Cauchy-Riemann equations](https://en.wikipedia.org/wiki/Cauchy%E2%80%93Riemann_equations) ensure that the above 2x2 Jacobians have the special form of a scale-and-rotate matrix in the complex plane, i.e. the action of a single complex number under multiplication.) And we can reveal that one complex number using a single call to `vjp` with a covector of `1.0`.\n",
        "\n",
        "Because this only works for holomorphic functions, to use this trick we need to promise JAX that our function is holomorphic; otherwise, JAX will raise an error when `grad` is used for a complex-output function:"
      ]
    },
    {
      "cell_type": "code",
      "metadata": {
        "id": "Y3n9hPVrwvXx",
        "colab_type": "code",
        "colab": {
          "base_uri": "https://localhost:8080/",
          "height": 34
        },
        "outputId": "d278e7df-ccc6-4de0-806c-31dbc3d6aaaf"
      },
      "source": [
        "def f(z):\n",
        "  return np.sin(z)\n",
        "\n",
        "z = 3. + 4j\n",
        "grad(f, holomorphic=True)(z)"
      ],
      "execution_count": null,
      "outputs": [
        {
          "output_type": "execute_result",
          "data": {
            "text/plain": [
              "DeviceArray(-27.034946-3.8511534j, dtype=complex64)"
            ]
          },
          "metadata": {
            "tags": []
          },
          "execution_count": 33
        }
      ]
    },
    {
      "cell_type": "markdown",
      "metadata": {
        "id": "LjIbDxX-w9Qf",
        "colab_type": "text"
      },
      "source": [
        "All the `holomorphic=True` promise does is disable the error when the output is complex-valued. We can still write `holomorphic=True` when the function isn't holomorphic, but the answer we get out won't represent the full Jacobian. Instead, it'll be the Jacobian of the function where we just discard the imaginary part of the output:"
      ]
    },
    {
      "cell_type": "code",
      "metadata": {
        "id": "th9xhwp2xaeU",
        "colab_type": "code",
        "colab": {
          "base_uri": "https://localhost:8080/",
          "height": 34
        },
        "outputId": "748dcfbf-f00c-4a17-a550-9833a9fb089f"
      },
      "source": [
        "def f(z):\n",
        "  return np.conjugate(z)\n",
        "\n",
        "z = 3. + 4j\n",
        "grad(f, holomorphic=True)(z)  # f is not actually holomorphic!"
      ],
      "execution_count": null,
      "outputs": [
        {
          "output_type": "execute_result",
          "data": {
            "text/plain": [
              "DeviceArray(1.-0.j, dtype=complex64)"
            ]
          },
          "metadata": {
            "tags": []
          },
          "execution_count": 34
        }
      ]
    },
    {
      "cell_type": "markdown",
      "metadata": {
        "id": "R8ytpfeXyBu2",
        "colab_type": "text"
      },
      "source": [
        "There are some useful upshots for how `grad` works here:\n",
        "\n",
        "1. We can use `grad` on holomorphic $\\mathbb{C} \\to \\mathbb{C}$ functions.\n",
        "2. We can use `grad` to optimize $f : \\mathbb{C} \\to \\mathbb{R}$ functions, like real-valued loss functions of complex parameters `x`, by taking steps in the dierction of the conjugate of `grad(f)(x)`.\n",
        "3. If we have an $\\mathbb{R} \\to \\mathbb{R}$ function that just happens to use some complex-valued operations internally (some of which must be non-holomorphic, e.g. FFTs used in covolutions) then `grad` still works and we get the same result that an implementation using only real values would have given.\n",
        "\n",
        "In any case, JVPs and VJPs are always unambiguous. And if we wanted to compute the full Jacobian matrix of a non-holomorphic $\\mathbb{C} \\to \\mathbb{C}$ function, we can do it with JVPs or VJPs!"
      ]
    },
    {
      "cell_type": "markdown",
      "metadata": {
        "colab_type": "text",
        "id": "qmXkI37T8bgL"
      },
      "source": [
        "You should expect complex numbers to work everywhere in JAX. Here's differentiating through a Cholesky decomposition of a complex matrix:"
      ]
    },
    {
      "cell_type": "code",
      "metadata": {
        "colab_type": "code",
        "id": "WrDHHfKI8bgM",
        "colab": {
          "base_uri": "https://localhost:8080/",
          "height": 119
        },
        "outputId": "4eb13d90-cce5-42f8-e025-e1d62c380a84"
      },
      "source": [
        "A = np.array([[5.,    2.+3j,    5j],\n",
        "              [2.-3j,   7.,  1.+7j],\n",
        "              [-5j,  1.-7j,    12.]])\n",
        "\n",
        "def f(X):\n",
        "    L = np.linalg.cholesky(X)\n",
        "    return np.sum((L - np.sin(L))**2)\n",
        "\n",
        "grad(f, holomorphic=True)(A)"
      ],
      "execution_count": null,
      "outputs": [
        {
          "output_type": "execute_result",
          "data": {
            "text/plain": [
              "DeviceArray([[-0.7534186  +0.j      , -3.0509028 -10.940545j,\n",
              "               5.9896846  +3.542303j],\n",
              "             [-3.0509028 +10.940545j, -8.904491   +0.j      ,\n",
              "              -5.1351523  -6.559373j],\n",
              "             [ 5.9896846  -3.542303j, -5.1351523  +6.559373j,\n",
              "               0.01320427 +0.j      ]], dtype=complex64)"
            ]
          },
          "metadata": {
            "tags": []
          },
          "execution_count": 35
        }
      ]
    },
    {
      "cell_type": "markdown",
      "metadata": {
        "colab_type": "text",
        "id": "Pgr2A60q9gl1"
      },
      "source": [
        "## More advanced autodiff\n",
        "\n",
        "In this notebook, we worked through some easy, and then progressively more complicated, applications of automatic differentiation in JAX. We hope you now feel that taking derivatives in JAX is easy and powerful.  \n",
        "\n",
        "There's a whole world of other autodiff tricks and functionality out there. Topics we didn't cover, but hope to in a \"Advanced Autodiff Cookbook\" include:\n",
        "\n",
        " - Gauss-Newton Vector Products, linearizing once\n",
        " - Custom VJPs and JVPs\n",
        " - Efficient derivatives at fixed-points\n",
        " - Estimating the trace of a Hessian using random Hessian-vector products.\n",
        " - Forward-mode autodiff using only reverse-mode autodiff.\n",
        " - Taking derivatives with respect to custom data types.\n",
        " - Checkpointing (binomial checkpointing for efficient reverse-mode, not model snapshotting).\n",
        " - Optimizing VJPs with Jacobian pre-accumulation."
      ]
    }
  ]
}