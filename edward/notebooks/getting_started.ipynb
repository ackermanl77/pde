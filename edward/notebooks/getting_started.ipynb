{
 "cells": [
  {
   "cell_type": "markdown",
   "metadata": {},
   "source": [
    "# Your first Edward program\n",
    "\n",
    "Probabilistic modeling in Edward uses a simple language of random variables. Here we will show a Bayesian neural network. It is a neural network with a prior distribution on its weights.\n",
    "\n",
    "A webpage version is available at \n",
    "http://edwardlib.org/getting-started."
   ]
  },
  {
   "cell_type": "code",
   "execution_count": null,
   "metadata": {},
   "outputs": [],
   "source": [
    "import numpy as np\n",
    "import tensorflow as tf\n",
    "from edward.models import Normal\n",
    "import edward as ed\n",
    "import sys\n",
    "sys.setrecursionlimit(100000)\n",
    "tf.keras.backend.set_floatx('float64')\n",
    "\n",
    "\n",
    "\n",
    "x_train = np.linspace(-3, 3, num=50)\n",
    "y_train = np.cos(x_train) + np.random.normal(0, 0.1, size=50)\n",
    "x_train = x_train.astype(np.float64).reshape((50, 1))\n",
    "y_train = y_train.astype(np.float64).reshape((50, 1))\n",
    "\n",
    "\n",
    "#tf.cast(x, tf.float64)\n",
    "W_0 = Normal(loc=tf.cast(tf.zeros([1, 2]), tf.float64), \n",
    "             scale=tf.cast(tf.ones([1, 2]), tf.float64))\n",
    "W_1 = Normal(loc=tf.cast(tf.zeros([2, 1]), tf.float64), \n",
    "             scale=tf.cast(tf.ones([2, 1]), tf.float64))\n",
    "b_0 = Normal(loc=tf.cast(tf.zeros(2), tf.float64), \n",
    "             scale=tf.cast(tf.ones(2), tf.float64))\n",
    "b_1 = Normal(loc=tf.cast(tf.zeros(1), tf.float64), \n",
    "             scale=tf.cast(tf.ones(1), tf.float64))\n",
    "\n",
    "x = x_train\n",
    "y = Normal(loc=tf.cast(tf.matmul(tf.tanh(tf.matmul(x, W_0) + b_0), W_1) + b_1, tf.float64),\n",
    "           scale=tf.cast(0.1, tf.float64))\n",
    "\n",
    "\n",
    "\n",
    "qW_0 = Normal(loc=tf.cast(tf.get_variable(\"qW_0/loc\", [1, 2]), tf.float64),\n",
    "       scale=tf.cast(tf.nn.softplus(tf.get_variable(\"qW_0/scale\", [1, 2])), tf.float64))\n",
    "qW_1 = Normal(loc=tf.cast(tf.get_variable(\"qW_1/loc\", [2, 1]), tf.float64),\n",
    "       scale=tf.cast(tf.nn.softplus(tf.get_variable(\"qW_1/scale\", [2, 1])), tf.float64))\n",
    "qb_0 = Normal(loc=tf.cast(tf.get_variable(\"qb_0/loc\", [2]), tf.float64),\n",
    "       scale=tf.cast(tf.nn.softplus(tf.get_variable(\"qb_0/scale\", [2])), tf.float64))\n",
    "qb_1 = Normal(loc=tf.cast(tf.get_variable(\"qb_1/loc\", [1]), tf.float64),\n",
    "       scale=tf.cast(tf.nn.softplus(tf.get_variable(\"qb_1/scale\", [1])), tf.float64))\n",
    "\n",
    "\n",
    "\n",
    "\n",
    "inference = ed.KLqp({W_0: qW_0, b_0: qb_0,\n",
    "                     W_1: qW_1, b_1: qb_1}, data={y: y_train})\n",
    "inference.run(n_iter=1000)"
   ]
  },
  {
   "cell_type": "code",
   "execution_count": null,
   "metadata": {},
   "outputs": [],
   "source": []
  },
  {
   "cell_type": "code",
   "execution_count": null,
   "metadata": {},
   "outputs": [],
   "source": []
  },
  {
   "cell_type": "code",
   "execution_count": null,
   "metadata": {},
   "outputs": [],
   "source": []
  },
  {
   "cell_type": "code",
   "execution_count": 1,
   "metadata": {},
   "outputs": [
    {
     "name": "stdout",
     "output_type": "stream",
     "text": [
      "WARNING:tensorflow:\n",
      "The TensorFlow contrib module will not be included in TensorFlow 2.0.\n",
      "For more information, please see:\n",
      "  * https://github.com/tensorflow/community/blob/master/rfcs/20180907-contrib-sunset.md\n",
      "  * https://github.com/tensorflow/addons\n",
      "  * https://github.com/tensorflow/io (for I/O related ops)\n",
      "If you depend on functionality not listed there, please file an issue.\n",
      "\n"
     ]
    }
   ],
   "source": [
    "from __future__ import absolute_import\n",
    "from __future__ import division\n",
    "from __future__ import print_function\n",
    "\n",
    "import edward as ed\n",
    "import matplotlib.pyplot as plt\n",
    "import numpy as np\n",
    "import tensorflow as tf\n",
    "\n",
    "from edward.models import Normal\n",
    "%matplotlib inline\n",
    "plt.style.use('ggplot')"
   ]
  },
  {
   "cell_type": "code",
   "execution_count": 2,
   "metadata": {},
   "outputs": [],
   "source": [
    "def build_toy_dataset(N=50, noise_std=0.1):\n",
    "  x = np.linspace(-3, 3, num=N)\n",
    "  y = np.cos(x) + np.random.normal(0, noise_std, size=N)\n",
    "  x = x.astype(np.float64).reshape((N, 1))\n",
    "  y = y.astype(np.float64)\n",
    "  return x, y\n",
    "\n",
    "\n",
    "def neural_network(x, W_0, W_1, b_0, b_1):\n",
    "  h = tf.tanh(tf.matmul(x, W_0) + b_0)\n",
    "  h = tf.matmul(h, W_1) + b_1\n",
    "  return tf.reshape(h, [-1])"
   ]
  },
  {
   "cell_type": "markdown",
   "metadata": {},
   "source": [
    "First, simulate a toy dataset of 50 observations with a cosine relationship."
   ]
  },
  {
   "cell_type": "code",
   "execution_count": 3,
   "metadata": {},
   "outputs": [
    {
     "name": "stdout",
     "output_type": "stream",
     "text": [
      "WARNING:tensorflow:From /home/david/src/edward/edward/util/graphs.py:66: The name tf.get_default_graph is deprecated. Please use tf.compat.v1.get_default_graph instead.\n",
      "\n",
      "WARNING:tensorflow:From /home/david/src/edward/edward/util/graphs.py:73: The name tf.set_random_seed is deprecated. Please use tf.compat.v1.set_random_seed instead.\n",
      "\n"
     ]
    }
   ],
   "source": [
    "ed.set_seed(42)\n",
    "\n",
    "x_train = np.linspace(-3, 3, num=50)\n",
    "y_train = np.cos(x_train) + np.random.normal(0, 0.1, size=50)\n",
    "x_train = x_train.astype(np.float64).reshape((50, 1))\n",
    "y_train = y_train.astype(np.float64).reshape((50, 1))\n",
    "#N = 50  # number of data points\n",
    "#D = 1   # number of features\n",
    "\n",
    "#x_train, y_train = build_toy_dataset(N)"
   ]
  },
  {
   "cell_type": "markdown",
   "metadata": {},
   "source": [
    "Next, define a two-layer Bayesian neural network. Here, we define the neural network manually with `tanh` nonlinearities."
   ]
  },
  {
   "cell_type": "code",
   "execution_count": 4,
   "metadata": {},
   "outputs": [
    {
     "name": "stdout",
     "output_type": "stream",
     "text": [
      "WARNING:tensorflow:From /home/david/src/edward/edward/models/random_variable.py:112: Normal.__init__ (from tensorflow.python.ops.distributions.normal) is deprecated and will be removed after 2019-01-01.\n",
      "Instructions for updating:\n",
      "The TensorFlow Distributions library has moved to TensorFlow Probability (https://github.com/tensorflow/probability). You should update all references to use `tfp.distributions` instead of `tf.distributions`.\n",
      "WARNING:tensorflow:From /home/david/anaconda3/envs/DifferentialEquations/lib/python3.7/site-packages/tensorflow_core/python/ops/distributions/normal.py:160: Distribution.__init__ (from tensorflow.python.ops.distributions.distribution) is deprecated and will be removed after 2019-01-01.\n",
      "Instructions for updating:\n",
      "The TensorFlow Distributions library has moved to TensorFlow Probability (https://github.com/tensorflow/probability). You should update all references to use `tfp.distributions` instead of `tf.distributions`.\n"
     ]
    }
   ],
   "source": [
    "W_0 = Normal(loc=tf.cast(tf.zeros([1, 2]), tf.float64), \n",
    "             scale=tf.cast(tf.ones([1, 2]), tf.float64))\n",
    "W_1 = Normal(loc=tf.cast(tf.zeros([2, 1]), tf.float64), \n",
    "             scale=tf.cast(tf.ones([2, 1]), tf.float64))\n",
    "b_0 = Normal(loc=tf.cast(tf.zeros(2), tf.float64), \n",
    "             scale=tf.cast(tf.ones(2), tf.float64))\n",
    "b_1 = Normal(loc=tf.cast(tf.zeros(1), tf.float64), \n",
    "             scale=tf.cast(tf.ones(1), tf.float64))\n",
    "\n",
    "x = x_train\n",
    "y = Normal(loc=tf.cast(tf.matmul(tf.tanh(tf.matmul(x, W_0) + b_0), W_1) + b_1, tf.float64),\n",
    "           scale=tf.cast(0.1, tf.float64))"
   ]
  },
  {
   "cell_type": "markdown",
   "metadata": {},
   "source": [
    "Next, make inferences about the model from data. We will use variational inference. Specify a normal approximation over the weights and biases."
   ]
  },
  {
   "cell_type": "code",
   "execution_count": 5,
   "metadata": {},
   "outputs": [],
   "source": [
    "qW_0 = Normal(loc=tf.cast(tf.get_variable(\"qW_0/loc\", [1, 2]), tf.float64),\n",
    "       scale=tf.cast(tf.nn.softplus(tf.get_variable(\"qW_0/scale\", [1, 2])), tf.float64))\n",
    "qW_1 = Normal(loc=tf.cast(tf.get_variable(\"qW_1/loc\", [2, 1]), tf.float64),\n",
    "       scale=tf.cast(tf.nn.softplus(tf.get_variable(\"qW_1/scale\", [2, 1])), tf.float64))\n",
    "qb_0 = Normal(loc=tf.cast(tf.get_variable(\"qb_0/loc\", [2]), tf.float64),\n",
    "       scale=tf.cast(tf.nn.softplus(tf.get_variable(\"qb_0/scale\", [2])), tf.float64))\n",
    "qb_1 = Normal(loc=tf.cast(tf.get_variable(\"qb_1/loc\", [1]), tf.float64),\n",
    "       scale=tf.cast(tf.nn.softplus(tf.get_variable(\"qb_1/scale\", [1])), tf.float64))"
   ]
  },
  {
   "cell_type": "markdown",
   "metadata": {},
   "source": [
    "Defining `tf.get_variable` allows the variational factors’ parameters to vary. They are initialized randomly. The standard deviation parameters are constrained to be greater than zero according to a [softplus](https://en.wikipedia.org/wiki/Rectifier_(neural_networks)) transformation."
   ]
  },
  {
   "cell_type": "code",
   "execution_count": 6,
   "metadata": {},
   "outputs": [],
   "source": [
    "# Sample functions from variational model to visualize fits.\n",
    "rs = np.random.RandomState(0)\n",
    "inputs = np.linspace(-5, 5, num=400, dtype=np.float64)\n",
    "x = tf.expand_dims(inputs, 1)\n",
    "mus = tf.stack(\n",
    "    [neural_network(x, qW_0.sample(), qW_1.sample(),\n",
    "                    qb_0.sample(), qb_1.sample())\n",
    "     for _ in range(10)])"
   ]
  },
  {
   "cell_type": "code",
   "execution_count": 7,
   "metadata": {
    "scrolled": true
   },
   "outputs": [
    {
     "name": "stdout",
     "output_type": "stream",
     "text": [
      "WARNING:tensorflow:From /home/david/src/edward/edward/util/graphs.py:23: The name tf.get_default_session is deprecated. Please use tf.compat.v1.get_default_session instead.\n",
      "\n",
      "WARNING:tensorflow:From /home/david/src/edward/edward/util/graphs.py:24: The name tf.InteractiveSession is deprecated. Please use tf.compat.v1.InteractiveSession instead.\n",
      "\n"
     ]
    },
    {
     "data": {
      "image/png": "[encoded data removed]",
      "text/plain": [
       "<Figure size 720x432 with 1 Axes>"
      ]
     },
     "metadata": {},
     "output_type": "display_data"
    }
   ],
   "source": [
    "# FIRST VISUALIZATION (prior)\n",
    "\n",
    "sess = ed.get_session()\n",
    "tf.global_variables_initializer().run()\n",
    "outputs = mus.eval()\n",
    "\n",
    "fig = plt.figure(figsize=(10, 6))\n",
    "ax = fig.add_subplot(111)\n",
    "ax.set_title(\"Iteration: 0\")\n",
    "ax.plot(x_train, y_train, 'ks', alpha=0.5, label='(x, y)')\n",
    "ax.plot(inputs, outputs[0].T, 'r', lw=2, alpha=0.5, label='prior draws')\n",
    "ax.plot(inputs, outputs[1:].T, 'r', lw=2, alpha=0.5)\n",
    "ax.set_xlim([-5, 5])\n",
    "ax.set_ylim([-2, 2])\n",
    "ax.legend()\n",
    "plt.show()"
   ]
  },
  {
   "cell_type": "markdown",
   "metadata": {},
   "source": [
    "Now, run variational inference with the [Kullback-Leibler](https://en.wikipedia.org/wiki/Kullback–Leibler_divergence) divergence in order to infer the model’s latent variables with the given data. We specify `1000` iterations."
   ]
  },
  {
   "cell_type": "code",
   "execution_count": 8,
   "metadata": {},
   "outputs": [
    {
     "ename": "TypeError",
     "evalue": "Posterior approximation must consist of only Empirical random variables.",
     "output_type": "error",
     "traceback": [
      "\u001b[0;31m---------------------------------------------------------------------------\u001b[0m",
      "\u001b[0;31mTypeError\u001b[0m                                 Traceback (most recent call last)",
      "\u001b[0;32m<ipython-input-8-e3f07d752e35>\u001b[0m in \u001b[0;36m<module>\u001b[0;34m\u001b[0m\n\u001b[1;32m      1\u001b[0m inference = ed.SGLD({W_0: qW_0, b_0: qb_0,\n\u001b[0;32m----> 2\u001b[0;31m                      W_1: qW_1, b_1: qb_1}, data={y: y_train})\n\u001b[0m\u001b[1;32m      3\u001b[0m \u001b[0minference\u001b[0m\u001b[0;34m.\u001b[0m\u001b[0mrun\u001b[0m\u001b[0;34m(\u001b[0m\u001b[0mn_iter\u001b[0m\u001b[0;34m=\u001b[0m\u001b[0;36m1\u001b[0m\u001b[0;34m)\u001b[0m\u001b[0;34m\u001b[0m\u001b[0;34m\u001b[0m\u001b[0m\n",
      "\u001b[0;32m~/src/edward/edward/inferences/sgld.py\u001b[0m in \u001b[0;36m__init__\u001b[0;34m(self, *args, **kwargs)\u001b[0m\n\u001b[1;32m     39\u001b[0m   \"\"\"\n\u001b[1;32m     40\u001b[0m   \u001b[0;32mdef\u001b[0m \u001b[0m__init__\u001b[0m\u001b[0;34m(\u001b[0m\u001b[0mself\u001b[0m\u001b[0;34m,\u001b[0m \u001b[0;34m*\u001b[0m\u001b[0margs\u001b[0m\u001b[0;34m,\u001b[0m \u001b[0;34m**\u001b[0m\u001b[0mkwargs\u001b[0m\u001b[0;34m)\u001b[0m\u001b[0;34m:\u001b[0m\u001b[0;34m\u001b[0m\u001b[0;34m\u001b[0m\u001b[0m\n\u001b[0;32m---> 41\u001b[0;31m     \u001b[0msuper\u001b[0m\u001b[0;34m(\u001b[0m\u001b[0mSGLD\u001b[0m\u001b[0;34m,\u001b[0m \u001b[0mself\u001b[0m\u001b[0;34m)\u001b[0m\u001b[0;34m.\u001b[0m\u001b[0m__init__\u001b[0m\u001b[0;34m(\u001b[0m\u001b[0;34m*\u001b[0m\u001b[0margs\u001b[0m\u001b[0;34m,\u001b[0m \u001b[0;34m**\u001b[0m\u001b[0mkwargs\u001b[0m\u001b[0;34m)\u001b[0m\u001b[0;34m\u001b[0m\u001b[0;34m\u001b[0m\u001b[0m\n\u001b[0m\u001b[1;32m     42\u001b[0m \u001b[0;34m\u001b[0m\u001b[0m\n\u001b[1;32m     43\u001b[0m   \u001b[0;32mdef\u001b[0m \u001b[0minitialize\u001b[0m\u001b[0;34m(\u001b[0m\u001b[0mself\u001b[0m\u001b[0;34m,\u001b[0m \u001b[0mstep_size\u001b[0m\u001b[0;34m=\u001b[0m\u001b[0;36m0.25\u001b[0m\u001b[0;34m,\u001b[0m \u001b[0;34m*\u001b[0m\u001b[0margs\u001b[0m\u001b[0;34m,\u001b[0m \u001b[0;34m**\u001b[0m\u001b[0mkwargs\u001b[0m\u001b[0;34m)\u001b[0m\u001b[0;34m:\u001b[0m\u001b[0;34m\u001b[0m\u001b[0;34m\u001b[0m\u001b[0m\n",
      "\u001b[0;32m~/src/edward/edward/inferences/monte_carlo.py\u001b[0m in \u001b[0;36m__init__\u001b[0;34m(self, latent_vars, data)\u001b[0m\n\u001b[1;32m     85\u001b[0m       \u001b[0;32mfor\u001b[0m \u001b[0mqz\u001b[0m \u001b[0;32min\u001b[0m \u001b[0msix\u001b[0m\u001b[0;34m.\u001b[0m\u001b[0mitervalues\u001b[0m\u001b[0;34m(\u001b[0m\u001b[0mlatent_vars\u001b[0m\u001b[0;34m)\u001b[0m\u001b[0;34m:\u001b[0m\u001b[0;34m\u001b[0m\u001b[0;34m\u001b[0m\u001b[0m\n\u001b[1;32m     86\u001b[0m         \u001b[0;32mif\u001b[0m \u001b[0;32mnot\u001b[0m \u001b[0misinstance\u001b[0m\u001b[0;34m(\u001b[0m\u001b[0mqz\u001b[0m\u001b[0;34m,\u001b[0m \u001b[0mEmpirical\u001b[0m\u001b[0;34m)\u001b[0m\u001b[0;34m:\u001b[0m\u001b[0;34m\u001b[0m\u001b[0;34m\u001b[0m\u001b[0m\n\u001b[0;32m---> 87\u001b[0;31m           raise TypeError(\"Posterior approximation must consist of only \"\n\u001b[0m\u001b[1;32m     88\u001b[0m                           \"Empirical random variables.\")\n\u001b[1;32m     89\u001b[0m         \u001b[0;32melif\u001b[0m \u001b[0mlen\u001b[0m\u001b[0;34m(\u001b[0m\u001b[0mqz\u001b[0m\u001b[0;34m.\u001b[0m\u001b[0msample_shape\u001b[0m\u001b[0;34m)\u001b[0m \u001b[0;34m!=\u001b[0m \u001b[0;36m0\u001b[0m\u001b[0;34m:\u001b[0m\u001b[0;34m\u001b[0m\u001b[0;34m\u001b[0m\u001b[0m\n",
      "\u001b[0;31mTypeError\u001b[0m: Posterior approximation must consist of only Empirical random variables."
     ]
    }
   ],
   "source": [
    "inference = ed.SGLD({W_0: qW_0, b_0: qb_0,\n",
    "                     W_1: qW_1, b_1: qb_1}, data={y: y_train})\n",
    "inference.run(n_iter=1)"
   ]
  },
  {
   "cell_type": "markdown",
   "metadata": {},
   "source": [
    "Finally, criticize the model fit. Bayesian neural networks define a distribution over neural networks, so we can perform a graphical check. Draw neural networks from the inferred model and visualize how well it fits the data."
   ]
  },
  {
   "cell_type": "code",
   "execution_count": null,
   "metadata": {},
   "outputs": [],
   "source": [
    "# SECOND VISUALIZATION (posterior)\n",
    "\n",
    "outputs = mus.eval()\n",
    "\n",
    "fig = plt.figure(figsize=(10, 6))\n",
    "ax = fig.add_subplot(111)\n",
    "ax.set_title(\"Iteration: 1000\")\n",
    "ax.plot(x_train, y_train, 'ks', alpha=0.5, label='(x, y)')\n",
    "ax.plot(inputs, outputs[0].T, 'r', lw=2, alpha=0.5, label='posterior draws')\n",
    "ax.plot(inputs, outputs[1:].T, 'r', lw=2, alpha=0.5)\n",
    "ax.set_xlim([-5, 5])\n",
    "ax.set_ylim([-2, 2])\n",
    "ax.legend()\n",
    "plt.show()"
   ]
  },
  {
   "cell_type": "markdown",
   "metadata": {},
   "source": [
    "The model has captured the cosine relationship between $x$ and $y$ in the observed domain.\n",
    "\n",
    "\n",
    "To learn more about Edward, [delve in](http://edwardlib.org/api)!\n",
    "\n",
    "If you prefer to learn via examples, then check out some\n",
    "[tutorials](http://edwardlib.org/tutorials/)."
   ]
  }
 ],
 "metadata": {
  "kernelspec": {
   "display_name": "Python 3",
   "language": "python",
   "name": "python3"
  },
  "language_info": {
   "codemirror_mode": {
    "name": "ipython",
    "version": 3
   },
   "file_extension": ".py",
   "mimetype": "text/x-python",
   "name": "python",
   "nbconvert_exporter": "python",
   "pygments_lexer": "ipython3",
   "version": "3.7.6"
  }
 },
 "nbformat": 4,
 "nbformat_minor": 4
}
