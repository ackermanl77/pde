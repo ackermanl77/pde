{
 "cells": [
  {
   "cell_type": "code",
   "execution_count": 1,
   "metadata": {},
   "outputs": [],
   "source": [
    "import autograd.numpy as np\n",
    "from autograd import grad \n",
    "import autograd.numpy.random as npr\n",
    "\n",
    "from matplotlib import pyplot as plt\n",
    "%matplotlib inline"
   ]
  },
  {
   "cell_type": "code",
   "execution_count": 2,
   "metadata": {},
   "outputs": [],
   "source": [
    "nx = 10\n",
    "dx = 1. / nx"
   ]
  },
  {
   "cell_type": "code",
   "execution_count": 3,
   "metadata": {},
   "outputs": [],
   "source": [
    "def f(x, psy, dpsy):\n",
    "    '''\n",
    "        d2(psy)/dx2 = f(x, dpsy/dx, psy)\n",
    "        This is f() function on the right\n",
    "    '''\n",
    "    return -1./5. * np.exp(-x/5.) * np.cos(x) - 1./5. * dpsy - psy\n",
    "\n",
    "\n",
    "def psy_analytic(x):\n",
    "    '''\n",
    "        Analytical solution of current problem\n",
    "    '''\n",
    "    return np.exp(-x/5.) * np.sin(x)"
   ]
  },
  {
   "cell_type": "code",
   "execution_count": 4,
   "metadata": {
    "collapsed": false,
    "jupyter": {
     "outputs_hidden": false
    }
   },
   "outputs": [],
   "source": [
    "x_space = np.linspace(0, 2, nx)    \n",
    "y_space = psy_analytic(x_space)"
   ]
  },
  {
   "cell_type": "code",
   "execution_count": 5,
   "metadata": {
    "collapsed": false,
    "jupyter": {
     "outputs_hidden": false
    }
   },
   "outputs": [],
   "source": [
    "def sigmoid(x):\n",
    "    return 1. / (1. + np.exp(-x))\n",
    "\n",
    "def neural_network(W, x):\n",
    "    a1 = sigmoid(np.dot(x, W[0]))\n",
    "    return np.dot(a1, W[1])\n",
    "\n",
    "def neural_network_x(x):\n",
    "    a1 = sigmoid(np.dot(x, W[0]))\n",
    "    return np.dot(a1, W[1])\n",
    "\n",
    "def psy_trial(xi, net_out):\n",
    "    return xi + xi**2 * net_out\n",
    "\n",
    "psy_grad = grad(psy_trial)\n",
    "psy_grad2 = grad(psy_grad)\n",
    "\n",
    "def loss_function(W, x):\n",
    "    loss_sum = 0.\n",
    "    \n",
    "    for xi in x:\n",
    "        net_out = neural_network(W, xi)[0][0]\n",
    "\n",
    "        net_out_d = grad(neural_network_x)(xi)\n",
    "        net_out_dd = grad(grad(neural_network_x))(xi)\n",
    "        \n",
    "        psy_t = psy_trial(xi, net_out)\n",
    "        \n",
    "        gradient_of_trial = psy_grad(xi, net_out)\n",
    "        second_gradient_of_trial = psy_grad2(xi, net_out)\n",
    "        \n",
    "        func = f(xi, psy_t, gradient_of_trial) # right part function\n",
    "        \n",
    "        err_sqr = (second_gradient_of_trial - func)**2\n",
    "        loss_sum += err_sqr\n",
    "        \n",
    "    return loss_sum"
   ]
  },
  {
   "cell_type": "code",
   "execution_count": 6,
   "metadata": {
    "collapsed": false,
    "jupyter": {
     "outputs_hidden": false
    }
   },
   "outputs": [],
   "source": [
    "W = [npr.randn(1, 10), npr.randn(10, 1)]\n",
    "lmb = 0.001\n",
    "\n",
    "for i in range(50):\n",
    "    loss_grad =  grad(loss_function)(W, x_space)\n",
    "\n",
    "    W[0] = W[0] - lmb * loss_grad[0]\n",
    "    W[1] = W[1] - lmb * loss_grad[1]"
   ]
  },
  {
   "cell_type": "code",
   "execution_count": 7,
   "metadata": {
    "collapsed": false,
    "jupyter": {
     "outputs_hidden": false
    }
   },
   "outputs": [
    {
     "name": "stdout",
     "output_type": "stream",
     "text": [
      "16.70732405067043\n"
     ]
    },
    {
     "data": {
      "image/png": "[encoded data removed]",
      "text/plain": [
       "<Figure size 720x720 with 1 Axes>"
      ]
     },
     "metadata": {
      "needs_background": "light"
     },
     "output_type": "display_data"
    }
   ],
   "source": [
    "print (loss_function(W, x_space))\n",
    "res = [psy_trial(xi, neural_network(W, xi)[0][0]) for xi in x_space] \n",
    "\n",
    "fig, ax = plt.subplots(figsize=(10, 10))\n",
    "ax.plot(x_space, y_space, 'ro') \n",
    "ax.plot(x_space, res, 'b+')\n",
    "ax.set_xscale('log')\n",
    "ax.set_yscale('log')"
   ]
  },
  {
   "cell_type": "code",
   "execution_count": null,
   "metadata": {},
   "outputs": [],
   "source": []
  },
  {
   "cell_type": "code",
   "execution_count": null,
   "metadata": {},
   "outputs": [],
   "source": []
  },
  {
   "cell_type": "code",
   "execution_count": null,
   "metadata": {},
   "outputs": [],
   "source": []
  }
 ],
 "metadata": {
  "kernelspec": {
   "display_name": "Python 3",
   "language": "python",
   "name": "python3"
  },
  "language_info": {
   "codemirror_mode": {
    "name": "ipython",
    "version": 3
   },
   "file_extension": ".py",
   "mimetype": "text/x-python",
   "name": "python",
   "nbconvert_exporter": "python",
   "pygments_lexer": "ipython3",
   "version": "3.7.4"
  }
 },
 "nbformat": 4,
 "nbformat_minor": 4
}
