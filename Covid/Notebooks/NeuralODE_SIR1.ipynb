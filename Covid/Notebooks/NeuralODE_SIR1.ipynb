{
 "cells": [
  {
   "cell_type": "code",
   "execution_count": 1,
   "metadata": {
    "colab": {},
    "colab_type": "code",
    "executionInfo": {
     "elapsed": 7425,
     "status": "ok",
     "timestamp": 1595619529158,
     "user": {
      "displayName": "Rey David Gutiérrez Torres",
      "photoUrl": "https://lh3.googleusercontent.com/a-/AOh14GjS0pZJGmERwlVOGZ7TLH_waNZjVVaIbZL4lepgNQ=s64",
      "userId": "06369964389533930564"
     },
     "user_tz": 300
    },
    "id": "Cg_WvHaHeHBw"
   },
   "outputs": [],
   "source": [
    "%matplotlib inline\n",
    "import numpy as np\n",
    "import matplotlib.pyplot as plt\n",
    "plt.style.use('seaborn-paper')"
   ]
  },
  {
   "cell_type": "code",
   "execution_count": 2,
   "metadata": {
    "colab": {},
    "colab_type": "code",
    "executionInfo": {
     "elapsed": 7521,
     "status": "ok",
     "timestamp": 1595619529261,
     "user": {
      "displayName": "Rey David Gutiérrez Torres",
      "photoUrl": "https://lh3.googleusercontent.com/a-/AOh14GjS0pZJGmERwlVOGZ7TLH_waNZjVVaIbZL4lepgNQ=s64",
      "userId": "06369964389533930564"
     },
     "user_tz": 300
    },
    "id": "7Al8ZRF5emic"
   },
   "outputs": [
    {
     "name": "stderr",
     "output_type": "stream",
     "text": [
      "UsageError: Line magic function `%tensorflow_version` not found.\n"
     ]
    }
   ],
   "source": [
    "%tensorflow_version 2.x"
   ]
  },
  {
   "cell_type": "code",
   "execution_count": 3,
   "metadata": {
    "colab": {
     "base_uri": "https://localhost:8080/",
     "height": 34
    },
    "colab_type": "code",
    "executionInfo": {
     "elapsed": 9123,
     "status": "ok",
     "timestamp": 1595619530870,
     "user": {
      "displayName": "Rey David Gutiérrez Torres",
      "photoUrl": "https://lh3.googleusercontent.com/a-/AOh14GjS0pZJGmERwlVOGZ7TLH_waNZjVVaIbZL4lepgNQ=s64",
      "userId": "06369964389533930564"
     },
     "user_tz": 300
    },
    "id": "GMof13ePeZNp",
    "outputId": "54748813-ecf8-4ee3-b67a-cf23e36babd5"
   },
   "outputs": [
    {
     "name": "stdout",
     "output_type": "stream",
     "text": [
      "2.3.0-rc0\n"
     ]
    }
   ],
   "source": [
    "import tensorflow as tf\n",
    "#tf.enable_eager_execution()\n",
    "print(tf.__version__)"
   ]
  },
  {
   "cell_type": "code",
   "execution_count": 4,
   "metadata": {
    "colab": {
     "base_uri": "https://localhost:8080/",
     "height": 374
    },
    "colab_type": "code",
    "executionInfo": {
     "elapsed": 15516,
     "status": "ok",
     "timestamp": 1595619537270,
     "user": {
      "displayName": "Rey David Gutiérrez Torres",
      "photoUrl": "https://lh3.googleusercontent.com/a-/AOh14GjS0pZJGmERwlVOGZ7TLH_waNZjVVaIbZL4lepgNQ=s64",
      "userId": "06369964389533930564"
     },
     "user_tz": 300
    },
    "id": "viPToQkOecMI",
    "outputId": "c78956b6-3216-4f3b-b8d9-aaba85d19d3b"
   },
   "outputs": [
    {
     "name": "stdout",
     "output_type": "stream",
     "text": [
      "Collecting git+https://github.com/titu1994/tfdiffeq.git\n",
      "  Cloning https://github.com/titu1994/tfdiffeq.git to /tmp/pip-req-build-uf7rxidm\n",
      "  Running command git clone -q https://github.com/titu1994/tfdiffeq.git /tmp/pip-req-build-uf7rxidm\n",
      "Requirement already satisfied, skipping upgrade: numpy>=1.16.2 in /home/david/anaconda3/lib/python3.7/site-packages (from tfdiffeq==0.0.1) (1.18.5)\n",
      "Requirement already satisfied, skipping upgrade: scipy>=1.1.0 in /home/david/anaconda3/lib/python3.7/site-packages (from tfdiffeq==0.0.1) (1.4.1)\n",
      "Requirement already satisfied, skipping upgrade: six>=1.11.0 in /home/david/anaconda3/lib/python3.7/site-packages (from tfdiffeq==0.0.1) (1.15.0)\n",
      "Requirement already satisfied, skipping upgrade: matplotlib>=3.0.0 in /home/david/anaconda3/lib/python3.7/site-packages (from tfdiffeq==0.0.1) (3.2.2)\n",
      "Requirement already satisfied, skipping upgrade: python-dateutil>=2.1 in /home/david/anaconda3/lib/python3.7/site-packages (from matplotlib>=3.0.0->tfdiffeq==0.0.1) (2.8.1)\n",
      "Requirement already satisfied, skipping upgrade: pyparsing!=2.0.4,!=2.1.2,!=2.1.6,>=2.0.1 in /home/david/anaconda3/lib/python3.7/site-packages (from matplotlib>=3.0.0->tfdiffeq==0.0.1) (2.4.7)\n",
      "Requirement already satisfied, skipping upgrade: cycler>=0.10 in /home/david/anaconda3/lib/python3.7/site-packages (from matplotlib>=3.0.0->tfdiffeq==0.0.1) (0.10.0)\n",
      "Requirement already satisfied, skipping upgrade: kiwisolver>=1.0.1 in /home/david/anaconda3/lib/python3.7/site-packages (from matplotlib>=3.0.0->tfdiffeq==0.0.1) (1.2.0)\n",
      "Building wheels for collected packages: tfdiffeq\n",
      "  Building wheel for tfdiffeq (setup.py) ... \u001b[?25ldone\n",
      "\u001b[?25h  Created wheel for tfdiffeq: filename=tfdiffeq-0.0.1-py2.py3-none-any.whl size=52324 sha256=e3723d99b7bbf499a8508999eed82351323bcc5d998c5d06e938210bac288fff\n",
      "  Stored in directory: /tmp/pip-ephem-wheel-cache-u8tntz1u/wheels/39/f7/18/5249c8ee2e8306b27455aca27c3b64d272570ddb0323eefc04\n",
      "Successfully built tfdiffeq\n",
      "Installing collected packages: tfdiffeq\n",
      "  Attempting uninstall: tfdiffeq\n",
      "    Found existing installation: tfdiffeq 0.0.1\n",
      "    Uninstalling tfdiffeq-0.0.1:\n",
      "      Successfully uninstalled tfdiffeq-0.0.1\n",
      "Successfully installed tfdiffeq-0.0.1\n"
     ]
    }
   ],
   "source": [
    "!pip install --upgrade git+https://github.com/titu1994/tfdiffeq.git "
   ]
  },
  {
   "cell_type": "code",
   "execution_count": 5,
   "metadata": {
    "colab": {
     "base_uri": "https://localhost:8080/",
     "height": 119
    },
    "colab_type": "code",
    "executionInfo": {
     "elapsed": 18372,
     "status": "ok",
     "timestamp": 1595619540133,
     "user": {
      "displayName": "Rey David Gutiérrez Torres",
      "photoUrl": "https://lh3.googleusercontent.com/a-/AOh14GjS0pZJGmERwlVOGZ7TLH_waNZjVVaIbZL4lepgNQ=s64",
      "userId": "06369964389533930564"
     },
     "user_tz": 300
    },
    "id": "ZKY7P0zNe3kS",
    "outputId": "4e4635e0-c979-4256-971e-c035829e1bc6"
   },
   "outputs": [
    {
     "name": "stdout",
     "output_type": "stream",
     "text": [
      "Requirement already satisfied: pysindy in /home/david/anaconda3/lib/python3.7/site-packages (1.1.0)\n",
      "Requirement already satisfied: scikit-learn[alldeps]>=0.23 in /home/david/anaconda3/lib/python3.7/site-packages (from pysindy) (0.23.1)\n",
      "Requirement already satisfied: numpy in /home/david/anaconda3/lib/python3.7/site-packages (from pysindy) (1.18.5)\n",
      "Requirement already satisfied: scipy in /home/david/anaconda3/lib/python3.7/site-packages (from pysindy) (1.4.1)\n",
      "Requirement already satisfied: joblib>=0.11 in /home/david/anaconda3/lib/python3.7/site-packages (from scikit-learn[alldeps]>=0.23->pysindy) (0.16.0)\n",
      "Requirement already satisfied: threadpoolctl>=2.0.0 in /home/david/anaconda3/lib/python3.7/site-packages (from scikit-learn[alldeps]>=0.23->pysindy) (2.1.0)\n"
     ]
    }
   ],
   "source": [
    "!pip install pysindy"
   ]
  },
  {
   "cell_type": "code",
   "execution_count": 6,
   "metadata": {
    "colab": {
     "base_uri": "https://localhost:8080/",
     "height": 119
    },
    "colab_type": "code",
    "executionInfo": {
     "elapsed": 21380,
     "status": "ok",
     "timestamp": 1595619543148,
     "user": {
      "displayName": "Rey David Gutiérrez Torres",
      "photoUrl": "https://lh3.googleusercontent.com/a-/AOh14GjS0pZJGmERwlVOGZ7TLH_waNZjVVaIbZL4lepgNQ=s64",
      "userId": "06369964389533930564"
     },
     "user_tz": 300
    },
    "id": "v63jc-GhtQQ_",
    "outputId": "ebb3fcc2-6ab5-40ce-f37e-68fbd58f5f80"
   },
   "outputs": [
    {
     "name": "stdout",
     "output_type": "stream",
     "text": [
      "Requirement already satisfied: tensorflow_probability in /home/david/.local/lib/python3.7/site-packages (0.10.1)\n",
      "Requirement already satisfied: numpy>=1.13.3 in /home/david/anaconda3/lib/python3.7/site-packages (from tensorflow_probability) (1.18.5)\n",
      "Requirement already satisfied: decorator in /home/david/anaconda3/lib/python3.7/site-packages (from tensorflow_probability) (4.4.2)\n",
      "Requirement already satisfied: six>=1.10.0 in /home/david/anaconda3/lib/python3.7/site-packages (from tensorflow_probability) (1.15.0)\n",
      "Requirement already satisfied: gast>=0.3.2 in /home/david/anaconda3/lib/python3.7/site-packages (from tensorflow_probability) (0.3.3)\n",
      "Requirement already satisfied: cloudpickle==1.3 in /home/david/.local/lib/python3.7/site-packages (from tensorflow_probability) (1.3.0)\n"
     ]
    }
   ],
   "source": [
    "!pip install tensorflow_probability"
   ]
  },
  {
   "cell_type": "code",
   "execution_count": 7,
   "metadata": {
    "colab": {},
    "colab_type": "code",
    "executionInfo": {
     "elapsed": 21374,
     "status": "ok",
     "timestamp": 1595619543149,
     "user": {
      "displayName": "Rey David Gutiérrez Torres",
      "photoUrl": "https://lh3.googleusercontent.com/a-/AOh14GjS0pZJGmERwlVOGZ7TLH_waNZjVVaIbZL4lepgNQ=s64",
      "userId": "06369964389533930564"
     },
     "user_tz": 300
    },
    "id": "c4gIdM-LLDMm"
   },
   "outputs": [],
   "source": [
    "%load_ext autoreload\n",
    "%autoreload 2"
   ]
  },
  {
   "cell_type": "code",
   "execution_count": 8,
   "metadata": {
    "colab": {},
    "colab_type": "code",
    "executionInfo": {
     "elapsed": 21883,
     "status": "ok",
     "timestamp": 1595619543665,
     "user": {
      "displayName": "Rey David Gutiérrez Torres",
      "photoUrl": "https://lh3.googleusercontent.com/a-/AOh14GjS0pZJGmERwlVOGZ7TLH_waNZjVVaIbZL4lepgNQ=s64",
      "userId": "06369964389533930564"
     },
     "user_tz": 300
    },
    "id": "YwKnjxGne9mW"
   },
   "outputs": [],
   "source": [
    "from tfdiffeq import odeint\n",
    "from tfdiffeq import plot_phase_portrait, plot_vector_field, plot_results\n",
    "from tfdiffeq.bfgs_optimizer import BFGSOptimizer"
   ]
  },
  {
   "cell_type": "code",
   "execution_count": 9,
   "metadata": {
    "colab": {},
    "colab_type": "code",
    "executionInfo": {
     "elapsed": 21881,
     "status": "ok",
     "timestamp": 1595619543667,
     "user": {
      "displayName": "Rey David Gutiérrez Torres",
      "photoUrl": "https://lh3.googleusercontent.com/a-/AOh14GjS0pZJGmERwlVOGZ7TLH_waNZjVVaIbZL4lepgNQ=s64",
      "userId": "06369964389533930564"
     },
     "user_tz": 300
    },
    "id": "rOVfrbuZfugq"
   },
   "outputs": [],
   "source": [
    "NUM_SAMPLES = 1000\n",
    "device = 'cpu:0' # These experiments do not require the GPU. Normally, 'gpu:0' if tf.test.is_gpu_available() else 'cpu:0' should be used.\n",
    "\n",
    "# Force Float 64\n",
    "tf.keras.backend.set_floatx('float64')"
   ]
  },
  {
   "cell_type": "code",
   "execution_count": 10,
   "metadata": {
    "colab": {},
    "colab_type": "code",
    "executionInfo": {
     "elapsed": 21878,
     "status": "ok",
     "timestamp": 1595619543669,
     "user": {
      "displayName": "Rey David Gutiérrez Torres",
      "photoUrl": "https://lh3.googleusercontent.com/a-/AOh14GjS0pZJGmERwlVOGZ7TLH_waNZjVVaIbZL4lepgNQ=s64",
      "userId": "06369964389533930564"
     },
     "user_tz": 300
    },
    "id": "Q3TBRZCPfXHE"
   },
   "outputs": [],
   "source": [
    "class LotkaVoltera(tf.keras.Model):\n",
    "  \n",
    "  def __init__(self, a, b, c, d, **kwargs):\n",
    "    super().__init__(**kwargs)\n",
    "    \n",
    "    self.a, self.b, self.c, self.d = a, b, c, d\n",
    "  \n",
    "  @tf.function\n",
    "  def call(self, t, y):\n",
    "    # y = [R, F]\n",
    "    r, f = tf.unstack(y)\n",
    "    \n",
    "    dR_dT = self.a * r - self.b * r * f\n",
    "    dF_dT = -self.c * f + self.d * r * f\n",
    "    \n",
    "    return tf.stack([dR_dT, dF_dT])"
   ]
  },
  {
   "cell_type": "code",
   "execution_count": 11,
   "metadata": {
    "colab": {},
    "colab_type": "code",
    "executionInfo": {
     "elapsed": 21979,
     "status": "ok",
     "timestamp": 1595619543774,
     "user": {
      "displayName": "Rey David Gutiérrez Torres",
      "photoUrl": "https://lh3.googleusercontent.com/a-/AOh14GjS0pZJGmERwlVOGZ7TLH_waNZjVVaIbZL4lepgNQ=s64",
      "userId": "06369964389533930564"
     },
     "user_tz": 300
    },
    "id": "EJKyjYl4fn6n"
   },
   "outputs": [],
   "source": [
    "t = tf.linspace(0., 10., num=NUM_SAMPLES)\n",
    "initial_states = tf.convert_to_tensor([1, 1], dtype=tf.float64)\n",
    "\n",
    "a = 1.5\n",
    "b = 1\n",
    "c = 3\n",
    "d = 1"
   ]
  },
  {
   "cell_type": "code",
   "execution_count": 12,
   "metadata": {
    "colab": {
     "base_uri": "https://localhost:8080/",
     "height": 68
    },
    "colab_type": "code",
    "executionInfo": {
     "elapsed": 24448,
     "status": "ok",
     "timestamp": 1595619546247,
     "user": {
      "displayName": "Rey David Gutiérrez Torres",
      "photoUrl": "https://lh3.googleusercontent.com/a-/AOh14GjS0pZJGmERwlVOGZ7TLH_waNZjVVaIbZL4lepgNQ=s64",
      "userId": "06369964389533930564"
     },
     "user_tz": 300
    },
    "id": "BmPPnn1Qfpwg",
    "outputId": "7b2df504-7979-4190-b393-65e4b3b1ae3c"
   },
   "outputs": [
    {
     "name": "stdout",
     "output_type": "stream",
     "text": [
      "WARNING:tensorflow:AutoGraph could not transform <bound method LotkaVoltera.call of <tensorflow.python.eager.function.TfMethodTarget object at 0x7f22ab9792e8>> and will run it as-is.\n",
      "Please report this to the TensorFlow team. When filing the bug, set the verbosity to 10 (on Linux, `export AUTOGRAPH_VERBOSITY=10`) and attach the full output.\n",
      "Cause: 'arguments' object has no attribute 'posonlyargs'\n",
      "To silence this warning, decorate the function with @tf.autograph.experimental.do_not_convert\n",
      "WARNING: AutoGraph could not transform <bound method LotkaVoltera.call of <tensorflow.python.eager.function.TfMethodTarget object at 0x7f22ab9792e8>> and will run it as-is.\n",
      "Please report this to the TensorFlow team. When filing the bug, set the verbosity to 10 (on Linux, `export AUTOGRAPH_VERBOSITY=10`) and attach the full output.\n",
      "Cause: 'arguments' object has no attribute 'posonlyargs'\n",
      "To silence this warning, decorate the function with @tf.autograph.experimental.do_not_convert\n",
      "Finished integrating ! Result shape :  (1000, 2)\n",
      "CPU times: user 1.06 s, sys: 57.8 ms, total: 1.12 s\n",
      "Wall time: 1.05 s\n"
     ]
    }
   ],
   "source": [
    "%%time\n",
    "\n",
    "with tf.device(device):\n",
    "  result = odeint(LotkaVoltera(a, b, c, d), initial_states, t)\n",
    "  \n",
    "print(\"Finished integrating ! Result shape : \", result.shape)"
   ]
  },
  {
   "cell_type": "code",
   "execution_count": 13,
   "metadata": {
    "colab": {
     "base_uri": "https://localhost:8080/",
     "height": 301
    },
    "colab_type": "code",
    "executionInfo": {
     "elapsed": 25200,
     "status": "ok",
     "timestamp": 1595619547007,
     "user": {
      "displayName": "Rey David Gutiérrez Torres",
      "photoUrl": "https://lh3.googleusercontent.com/a-/AOh14GjS0pZJGmERwlVOGZ7TLH_waNZjVVaIbZL4lepgNQ=s64",
      "userId": "06369964389533930564"
     },
     "user_tz": 300
    },
    "id": "xye3D3C7f5Zu",
    "outputId": "255d8099-27a7-41dd-e526-e33f3c38f83b"
   },
   "outputs": [
    {
     "data": {
      "image/png": "[encoded data removed]",
      "text/plain": [
       "<Figure size 460.8x316.8 with 1 Axes>"
      ]
     },
     "metadata": {
      "needs_background": "light"
     },
     "output_type": "display_data"
    }
   ],
   "source": [
    "lims = [0, 5]\n",
    "plot_phase_portrait(LotkaVoltera(a, b, c, d), xlabel='Rabbit', ylabel='Wolf', xlims=[0, 7], ylims=lims)\n",
    "plot_vector_field(result, xlabel='Rabbit', ylabel='Wolf')"
   ]
  },
  {
   "cell_type": "code",
   "execution_count": 14,
   "metadata": {
    "colab": {
     "base_uri": "https://localhost:8080/",
     "height": 288
    },
    "colab_type": "code",
    "executionInfo": {
     "elapsed": 25353,
     "status": "ok",
     "timestamp": 1595619547168,
     "user": {
      "displayName": "Rey David Gutiérrez Torres",
      "photoUrl": "https://lh3.googleusercontent.com/a-/AOh14GjS0pZJGmERwlVOGZ7TLH_waNZjVVaIbZL4lepgNQ=s64",
      "userId": "06369964389533930564"
     },
     "user_tz": 300
    },
    "id": "b1MBr-rVgL-W",
    "outputId": "f1c0fabd-8ca8-4e61-ea79-670caf59c6c6"
   },
   "outputs": [
    {
     "data": {
      "image/png": "[encoded data removed]",
      "text/plain": [
       "<Figure size 460.8x316.8 with 1 Axes>"
      ]
     },
     "metadata": {
      "needs_background": "light"
     },
     "output_type": "display_data"
    }
   ],
   "source": [
    "plot_results(t, result, labels=['Rabbit', 'Fox'])"
   ]
  },
  {
   "cell_type": "markdown",
   "metadata": {
    "colab_type": "text",
    "id": "5IBlcslbgr3x"
   },
   "source": [
    "# Universal ODEs\n",
    "\n",
    "Original Lotke-Volterra system \n",
    ">$\\frac{\\partial R}{\\partial T} = aR - bRF \\\\ \\frac{\\partial F}{\\partial T} = -cF + dRF$\n",
    "\n",
    "For our system, we set $a=1.5$, $b=1$, $c=3.0$, $d=1$\n",
    "\n",
    "-------\n",
    "\n",
    "For Universal ODE formulation of the above,\n",
    "\n",
    "> We substitute $bRF$ with $U_1(R, F)$ in $\\frac{\\partial R}{\\partial T}$.\n",
    "\n",
    "> We substitute $bRF$ with $U_2(R, F)$ in $\\frac{\\partial F}{\\partial T}$.\n",
    "\n",
    "Therefore,\n",
    ">$\\frac{\\partial R}{\\partial T} = aR - U_1(R, F) \\\\ \\frac{\\partial F}{\\partial T} = -cF + U_2(R, F)$\n"
   ]
  },
  {
   "cell_type": "code",
   "execution_count": 15,
   "metadata": {
    "colab": {},
    "colab_type": "code",
    "executionInfo": {
     "elapsed": 25352,
     "status": "ok",
     "timestamp": 1595619547173,
     "user": {
      "displayName": "Rey David Gutiérrez Torres",
      "photoUrl": "https://lh3.googleusercontent.com/a-/AOh14GjS0pZJGmERwlVOGZ7TLH_waNZjVVaIbZL4lepgNQ=s64",
      "userId": "06369964389533930564"
     },
     "user_tz": 300
    },
    "id": "0KVE3OQpgtE8"
   },
   "outputs": [],
   "source": [
    "class LotkaVolteraTrainable(tf.keras.Model):\n",
    "  \n",
    "  def __init__(self, a, b, c, d, **kwargs):\n",
    "    super().__init__(**kwargs)\n",
    "    \n",
    "    self.a, self.c = a, c\n",
    "\n",
    "    self.eqn = tf.keras.Sequential([\n",
    "             tf.keras.layers.Dense(32, activation=tf.nn.swish, input_shape=(2,)),\n",
    "             tf.keras.layers.Dense(32, activation=tf.nn.swish,),\n",
    "             tf.keras.layers.Dense(32, activation=tf.nn.swish),\n",
    "             tf.keras.layers.Dense(2, activation='relu',)   \n",
    "    ])\n",
    "  \n",
    "  @tf.function\n",
    "  def call(self, t, y):\n",
    "    # y = [R, F]\n",
    "    r, f = tf.unstack(y)\n",
    "\n",
    "    # Neural ODE component\n",
    "    n_out = self.eqn(tf.reshape(y, [1, 2]))  # [1, 2] -> [1, 2]\n",
    "    pred1 = n_out[0, 0]\n",
    "    pred2 = n_out[0, 1]\n",
    "    \n",
    "    dR_dT = self.a * r - pred1\n",
    "    dF_dT = -self.c * f + pred2\n",
    "    \n",
    "    return tf.stack([dR_dT, dF_dT])"
   ]
  },
  {
   "cell_type": "code",
   "execution_count": 16,
   "metadata": {
    "colab": {},
    "colab_type": "code",
    "executionInfo": {
     "elapsed": 25349,
     "status": "ok",
     "timestamp": 1595619547175,
     "user": {
      "displayName": "Rey David Gutiérrez Torres",
      "photoUrl": "https://lh3.googleusercontent.com/a-/AOh14GjS0pZJGmERwlVOGZ7TLH_waNZjVVaIbZL4lepgNQ=s64",
      "userId": "06369964389533930564"
     },
     "user_tz": 300
    },
    "id": "0c_4_YNJk4jr"
   },
   "outputs": [],
   "source": [
    "t_train = tf.linspace(0., 2., num=30)  # Train for just 2 seconds of input\n",
    "initial_states_train = tf.convert_to_tensor([1, 1], dtype=tf.float64)\n",
    "\n",
    "a = 1.5\n",
    "b = 1\n",
    "c = 3\n",
    "d = 1\n",
    "\n",
    "epochs = 100\n",
    "initial_learning_rate = 0.01\n",
    "decay_steps = 100\n",
    "decay_rate = 0.5"
   ]
  },
  {
   "cell_type": "code",
   "execution_count": 17,
   "metadata": {
    "colab": {
     "base_uri": "https://localhost:8080/",
     "height": 68
    },
    "colab_type": "code",
    "executionInfo": {
     "elapsed": 25841,
     "status": "ok",
     "timestamp": 1595619547672,
     "user": {
      "displayName": "Rey David Gutiérrez Torres",
      "photoUrl": "https://lh3.googleusercontent.com/a-/AOh14GjS0pZJGmERwlVOGZ7TLH_waNZjVVaIbZL4lepgNQ=s64",
      "userId": "06369964389533930564"
     },
     "user_tz": 300
    },
    "id": "z1xCYaJt2fQQ",
    "outputId": "5ff7ebea-a211-4034-dd04-bcd5b6e2f9af"
   },
   "outputs": [
    {
     "name": "stderr",
     "output_type": "stream",
     "text": [
      "UsageError: Line magic function `%%time` not found.\n"
     ]
    }
   ],
   "source": [
    "# Lets see the ground truth sample\n",
    "%%time\n",
    "\n",
    "with tf.device(device):\n",
    "  result_train = odeint(LotkaVoltera(a, b, c, d), initial_states_train, t_train)\n",
    "  \n",
    "print(\"Finished integrating ! Result shape : \", result_train.shape)"
   ]
  },
  {
   "cell_type": "code",
   "execution_count": null,
   "metadata": {
    "colab": {
     "base_uri": "https://localhost:8080/",
     "height": 288
    },
    "colab_type": "code",
    "executionInfo": {
     "elapsed": 25955,
     "status": "ok",
     "timestamp": 1595619547795,
     "user": {
      "displayName": "Rey David Gutiérrez Torres",
      "photoUrl": "https://lh3.googleusercontent.com/a-/AOh14GjS0pZJGmERwlVOGZ7TLH_waNZjVVaIbZL4lepgNQ=s64",
      "userId": "06369964389533930564"
     },
     "user_tz": 300
    },
    "id": "oZHyNveF2sG9",
    "outputId": "2cbbff93-ee5a-4b32-90b7-4a46ad614c8a"
   },
   "outputs": [],
   "source": [
    "plot_results(t_train, result_train, labels=['Rabbit', 'Fox'])"
   ]
  },
  {
   "cell_type": "markdown",
   "metadata": {
    "colab_type": "text",
    "id": "tvh4VR74MI-_"
   },
   "source": [
    "# Train a model\n",
    "\n",
    "We pretrain the model for a few epochs to reduce the loss quickly, and then retrain the model using BFGS to reduce the loss to a small enough tolerance (say $10^{-6}$)."
   ]
  },
  {
   "cell_type": "code",
   "execution_count": null,
   "metadata": {
    "colab": {
     "base_uri": "https://localhost:8080/",
     "height": 1000
    },
    "colab_type": "code",
    "id": "yfAKw4zZl_sm",
    "outputId": "ff4fa73b-29cd-41ec-9a95-19e0b50f553c"
   },
   "outputs": [],
   "source": [
    "%%time\n",
    "\n",
    "with tf.device(device):\n",
    "  model = LotkaVolteraTrainable(a, b, c, d)\n",
    "\n",
    "  learning_rate = tf.keras.optimizers.schedules.ExponentialDecay(\n",
    "    initial_learning_rate, decay_steps, decay_rate, staircase=False,\n",
    "  )\n",
    "\n",
    "  optimizer = tf.keras.optimizers.Adam(learning_rate)\n",
    "\n",
    "  print(\"Computing ground truth...\")\n",
    "  y_real = odeint(LotkaVoltera(a, b, c, d), initial_states_train, t_train)\n",
    "\n",
    "  print(\"Ground truth shape :\", y_real.shape)\n",
    "\n",
    "  for epoch in range(epochs):\n",
    "    print(f\"Epoch {epoch + 1}\")\n",
    "\n",
    "    with tf.GradientTape() as tape:\n",
    "      preds = odeint(model, initial_states_train, t_train)\n",
    "      loss = tf.reduce_mean(tf.square(y_real - preds), axis=1)\n",
    "\n",
    "    grads = tape.gradient(loss, model.trainable_variables)\n",
    "    optimizer.apply_gradients(zip(grads, model.trainable_variables))\n",
    "\n",
    "    print(\"Loss :\", loss.numpy().mean())\n",
    "    print(\"LR :\", learning_rate(optimizer.iterations).numpy())\n",
    "    print()"
   ]
  },
  {
   "cell_type": "code",
   "execution_count": null,
   "metadata": {
    "colab": {},
    "colab_type": "code",
    "id": "WLUK0cMat9fv"
   },
   "outputs": [],
   "source": [
    "model.save_weights('model_weights/ckpt', save_format='tf')"
   ]
  },
  {
   "cell_type": "code",
   "execution_count": null,
   "metadata": {
    "colab": {},
    "colab_type": "code",
    "id": "nL0hVP91vsSE"
   },
   "outputs": [],
   "source": [
    "model.load_weights('model_weights/ckpt')"
   ]
  },
  {
   "cell_type": "markdown",
   "metadata": {
    "colab_type": "text",
    "id": "u3ZO0Qgut4cu"
   },
   "source": [
    "## Finetune the model with BFGS"
   ]
  },
  {
   "cell_type": "code",
   "execution_count": null,
   "metadata": {
    "colab": {},
    "colab_type": "code",
    "id": "SdgoZlE9t3zn"
   },
   "outputs": [],
   "source": [
    "#from tfdiffeq.bfgs_optimizer import BFGSOptimizer"
   ]
  },
  {
   "cell_type": "code",
   "execution_count": null,
   "metadata": {
    "colab": {},
    "colab_type": "code",
    "id": "i3MSoP2Xt34c"
   },
   "outputs": [],
   "source": [
    "tolerance = 1e-6\n",
    "bfgs_optimizer = BFGSOptimizer(max_iterations=50, tolerance=tolerance)"
   ]
  },
  {
   "cell_type": "markdown",
   "metadata": {
    "colab_type": "text",
    "id": "S3BYQj7ouXsp"
   },
   "source": [
    "### Create a wrapper function for the BFGS optimizer \n",
    "\n",
    "BFGS optimizer is somewhat different than SGD or ADAM from Tensorflow. It requires a callable function `loss_func`, which accepts the `model` as input and returns a single float value `loss_value`.\n",
    "\n",
    "```python\n",
    "loss_value = loss_func(model)\n",
    "```\n",
    "\n",
    "The model is generally a `tf.keras.Model` or its subclasses, and we can use external data as inputs if required to obtain a loss value as shown below."
   ]
  },
  {
   "cell_type": "code",
   "execution_count": null,
   "metadata": {
    "colab": {},
    "colab_type": "code",
    "id": "95K2-Z5YuE2-"
   },
   "outputs": [],
   "source": [
    "from tfdiffeq.adjoint import odeint as adjoint_odeint\n",
    "\n",
    "def loss_wrapper(model):\n",
    "  # Can use `adjoing_odeint` here as replacement for `adjoint_odeint`\n",
    "  preds = odeint(model, initial_states_train, t_train, atol=1e-6, rtol=1e-6)\n",
    "  loss = tf.reduce_mean(tf.square(y_real - preds))\n",
    "  return loss"
   ]
  },
  {
   "cell_type": "code",
   "execution_count": null,
   "metadata": {
    "colab": {},
    "colab_type": "code",
    "id": "I2_0WaHnuE5O"
   },
   "outputs": [],
   "source": [
    "%%time\n",
    "\n",
    "model = bfgs_optimizer.minimize(loss_wrapper, model)"
   ]
  },
  {
   "cell_type": "markdown",
   "metadata": {
    "colab_type": "text",
    "id": "Fi3nrE1bOiEx"
   },
   "source": [
    "# Save your weights and download them !"
   ]
  },
  {
   "cell_type": "code",
   "execution_count": null,
   "metadata": {
    "colab": {},
    "colab_type": "code",
    "id": "Eu2-OtuGEy1w"
   },
   "outputs": [],
   "source": [
    "model.save_weights('model_weights/ckpt', save_format='tf')"
   ]
  },
  {
   "cell_type": "markdown",
   "metadata": {
    "colab_type": "text",
    "id": "MouCNTbKOmPe"
   },
   "source": [
    "# Load a new model and load these weights (if you didnt train above)"
   ]
  },
  {
   "cell_type": "code",
   "execution_count": null,
   "metadata": {
    "colab": {},
    "colab_type": "code",
    "id": "2QvMCjNKT421"
   },
   "outputs": [],
   "source": [
    "import os\n",
    "import requests\n",
    "\n",
    "def get_checkpoints():\n",
    "  if not os.path.exists('model_weights'):\n",
    "      os.makedirs('model_weights')\n",
    "\n",
    "  r = requests.get('https://github.com/titu1994/tfdiffeq/releases/download/v0.0.1-pre0/checkpoint')\n",
    "  with open('./model_weights/checkpoint', 'wb') as f:\n",
    "    f.write(r.content)\n",
    "\n",
    "  r = requests.get('https://github.com/titu1994/tfdiffeq/releases/download/v0.0.1-pre0/ckpt.data-00000-of-00001')\n",
    "  with open('./model_weights/ckpt.data-00000-of-00001', 'wb') as f:\n",
    "    f.write(r.content)\n",
    "\n",
    "  r = requests.get('https://github.com/titu1994/tfdiffeq/releases/download/v0.0.1-pre0/ckpt.index')\n",
    "  with open('./model_weights/ckpt.index', 'wb') as f:\n",
    "    f.write(r.content)\n",
    "  \n",
    "  print(\"Pretrained checkpoints retrieved !\")"
   ]
  },
  {
   "cell_type": "code",
   "execution_count": null,
   "metadata": {
    "colab": {},
    "colab_type": "code",
    "id": "29RtKGxoV01d"
   },
   "outputs": [],
   "source": [
    "get_checkpoints()"
   ]
  },
  {
   "cell_type": "code",
   "execution_count": null,
   "metadata": {
    "colab": {},
    "colab_type": "code",
    "id": "D-_0raHnGdzd"
   },
   "outputs": [],
   "source": [
    "model = LotkaVolteraTrainable(a, b, c, d)\n",
    "model.load_weights('model_weights/ckpt')"
   ]
  },
  {
   "cell_type": "markdown",
   "metadata": {
    "colab_type": "text",
    "id": "XtpdC7y4PZKF"
   },
   "source": [
    "# Lets interpolate with our approximate universal ODE !\n",
    "\n",
    "With a trained Neural ODE that appxoximates the Lotka Voltera system with just 30 samples, lets interpolate within the same timeframe to get a fine solution to the coarse approximate."
   ]
  },
  {
   "cell_type": "code",
   "execution_count": null,
   "metadata": {
    "colab": {},
    "colab_type": "code",
    "id": "OsA1wxZIpLXf"
   },
   "outputs": [],
   "source": [
    "%%time\n",
    "\n",
    "t_eval = tf.linspace(0., 2, num=1000)  # Re-evaluate for just 2 seconds of input, but 1000 timesteps\n",
    "\n",
    "with tf.device(device):\n",
    "    model_results = odeint(model, initial_states, t_eval)\n",
    "    real_results = odeint(LotkaVoltera(a, b, c, d), initial_states, t_eval)"
   ]
  },
  {
   "cell_type": "markdown",
   "metadata": {
    "colab_type": "text",
    "id": "fS5zRscsP66o"
   },
   "source": [
    "# Plot the ODE approximation !"
   ]
  },
  {
   "cell_type": "code",
   "execution_count": null,
   "metadata": {
    "colab": {},
    "colab_type": "code",
    "id": "Q2xw2uOmzkOF"
   },
   "outputs": [],
   "source": [
    "plot_results(t_eval, real_results, labels=['Rabbit_real', 'Fox_real'])\n",
    "plot_results(t_eval, model_results, labels=['Rabbit_model', 'Fox_model'])"
   ]
  },
  {
   "cell_type": "markdown",
   "metadata": {
    "colab_type": "text",
    "id": "UrkHnUmRQBSL"
   },
   "source": [
    "# Lets try and obtain the underlying equations of this system"
   ]
  },
  {
   "cell_type": "code",
   "execution_count": null,
   "metadata": {
    "colab": {},
    "colab_type": "code",
    "id": "M_erg_eulXfA"
   },
   "outputs": [],
   "source": [
    "real_results_np = real_results.numpy()\n",
    "model_preds_np = model_results.numpy()\n",
    "t_eval_np = t_eval.numpy()"
   ]
  },
  {
   "cell_type": "code",
   "execution_count": null,
   "metadata": {
    "colab": {},
    "colab_type": "code",
    "id": "1tr1mHnPljab"
   },
   "outputs": [],
   "source": [
    "from pysindy import SINDy\n",
    "from pysindy import SR3\n",
    "from pysindy.feature_library.polynomial_library import PolynomialLibrary\n",
    "\n",
    "# Import this optimizer for Ridge regression !\n",
    "from tfdiffeq.sindy_utils import STRRidge"
   ]
  },
  {
   "cell_type": "markdown",
   "metadata": {
    "colab_type": "text",
    "id": "UhoOsm-aQarS"
   },
   "source": [
    "# Optimize hyper parameters of SRTRidge and the Polynomial Library"
   ]
  },
  {
   "cell_type": "code",
   "execution_count": null,
   "metadata": {
    "colab": {},
    "colab_type": "code",
    "id": "9-e5B3mPTxN4"
   },
   "outputs": [],
   "source": [
    "# sindy_optm = SRTRidge(threshold=0.5, alpha=1.0)\n",
    "sindy_optm = SR3(threshold=0.1, nu=1.0, max_iter=100)\n",
    "sindy_library = PolynomialLibrary(degree=10, include_interaction=True,  interaction_only=True)"
   ]
  },
  {
   "cell_type": "markdown",
   "metadata": {
    "colab_type": "text",
    "id": "oZQeATEAQjEW"
   },
   "source": [
    "# Lets fit the SInDy model !\n",
    "\n",
    "SInDy is short for \"Sparse Identification of Non-linear Dynamical Systems\" from the paper [Discovering governing equations from data by sparse identification of nonlinear dynamical systems](https://www.pnas.org/content/113/15/3932)"
   ]
  },
  {
   "cell_type": "code",
   "execution_count": null,
   "metadata": {
    "colab": {},
    "colab_type": "code",
    "id": "1AaQQNHYRjW8"
   },
   "outputs": [],
   "source": [
    "sindy_model = SINDy(optimizer=sindy_optm, feature_library=sindy_library, discrete_time=False)\n",
    "sindy_model.fit(model_preds_np, t_eval_np)"
   ]
  },
  {
   "cell_type": "markdown",
   "metadata": {
    "colab_type": "text",
    "id": "Ha5dtT5ARD2X"
   },
   "source": [
    "# Lets compare with the original equations\n",
    "\n",
    ">$\\frac{\\partial R}{\\partial T} = aR - bRF \\\\ \\frac{\\partial F}{\\partial T} = -cF + dRF$\n",
    "\n",
    "Recall, $a=1.5$, $b=1$, $c=3.0$, $d=1$\n",
    "\n",
    "We substitute $bRF$ with $U_1(R, F)$ in $\\frac{\\partial R}{\\partial T}$.\n",
    "\n",
    "We substitute $bRF$ with $U_2(R, F)$ in $\\frac{\\partial F}{\\partial T}$.\n",
    "\n",
    "--------\n",
    "\n",
    "We compare the above two equations with the one printed below.\n",
    "\n",
    "We get $a'=1.498$ which is quite close to $a=1.5$, $c'=2.993$, close to the original $c=3.0$.\n",
    "\n",
    "The equation below approximates $b'=0.997$, close to the $b=1$ we expect. $d'=0.999$ is a closer approximate to our original $d=1$.\n",
    "\n"
   ]
  },
  {
   "cell_type": "code",
   "execution_count": null,
   "metadata": {
    "colab": {},
    "colab_type": "code",
    "id": "2cynYciQSHAu"
   },
   "outputs": [],
   "source": [
    "sindy_model.print()"
   ]
  },
  {
   "cell_type": "code",
   "execution_count": null,
   "metadata": {
    "colab": {},
    "colab_type": "code",
    "id": "_QJOTM3ESBWf"
   },
   "outputs": [],
   "source": [
    "sindy_model.coefficients()"
   ]
  },
  {
   "cell_type": "code",
   "execution_count": null,
   "metadata": {
    "colab": {},
    "colab_type": "code",
    "id": "hImAMyPXSIMV"
   },
   "outputs": [],
   "source": [
    "sindy_model.equations()"
   ]
  },
  {
   "cell_type": "markdown",
   "metadata": {
    "colab_type": "text",
    "id": "ZPgviQUyTNpp"
   },
   "source": [
    "# Compute the $R^2$ score "
   ]
  },
  {
   "cell_type": "code",
   "execution_count": null,
   "metadata": {
    "colab": {},
    "colab_type": "code",
    "id": "I2nPkj4eTDX9"
   },
   "outputs": [],
   "source": [
    "sindy_model.score(model_preds_np, t_eval_np)"
   ]
  },
  {
   "cell_type": "markdown",
   "metadata": {
    "colab_type": "text",
    "id": "agq0PpESS_Za"
   },
   "source": [
    "# Finding the correct coefficients for the model\n",
    "\n",
    "We have the ode framework components which correspond to the neural network modules, but we cant be sure that the parameters found are correctly found by SInDy.\n",
    "\n",
    "We can refit the model (but now replacing correct components and removing the corresponding neural network component), and try to estimate the parameters from the train set."
   ]
  },
  {
   "cell_type": "code",
   "execution_count": null,
   "metadata": {
    "colab": {},
    "colab_type": "code",
    "id": "40AKkEXiiQqR"
   },
   "outputs": [],
   "source": [
    "device = 'cpu:0' "
   ]
  },
  {
   "cell_type": "code",
   "execution_count": null,
   "metadata": {
    "colab": {},
    "colab_type": "code",
    "id": "GSNxY1f6Tone"
   },
   "outputs": [],
   "source": [
    "class LotkaVolteraParameters(tf.keras.Model):\n",
    "  \n",
    "  def __init__(self, **kwargs):\n",
    "    super().__init__(**kwargs)\n",
    "    \n",
    "    # Can also initialize with the values found above for much faster convergence !\n",
    "    # self.parameters = tf.Variable([1.498, 0.997, 2.993, 0.999], dtype=tf.float64)\n",
    "    self.parameters = tf.Variable(tf.random.uniform(shape=[4], dtype=tf.float64))\n",
    "  \n",
    "  @tf.function\n",
    "  def call(self, t, y):\n",
    "    # y = [R, F]\n",
    "    r, f = tf.unstack(y)\n",
    "\n",
    "    # Apply abs, because we want to ensure these parameters are > 0\n",
    "    params = tf.math.abs(self.parameters)\n",
    "    a, b, c, d = tf.unstack(params)\n",
    "    \n",
    "    dR_dT = a * r - b * r * f\n",
    "    dF_dT = -c * f + d * r * f\n",
    "    \n",
    "    return tf.stack([dR_dT, dF_dT])"
   ]
  },
  {
   "cell_type": "code",
   "execution_count": null,
   "metadata": {
    "colab": {},
    "colab_type": "code",
    "id": "7CnZSKYSUgGp"
   },
   "outputs": [],
   "source": [
    "t_train = tf.linspace(0., 2., num=30)  # Train for just 2 seconds of input\n",
    "initial_states_train = tf.convert_to_tensor([1, 1], dtype=tf.float64)\n",
    "\n",
    "a = 1.5\n",
    "b = 1\n",
    "c = 3\n",
    "d = 1\n",
    "\n",
    "epochs = 25\n",
    "initial_learning_rate = 0.1\n",
    "decay_steps = 100\n",
    "decay_rate = 0.5"
   ]
  },
  {
   "cell_type": "code",
   "execution_count": null,
   "metadata": {
    "colab": {},
    "colab_type": "code",
    "id": "asxNmXqFWZyn"
   },
   "outputs": [],
   "source": [
    "%%time\n",
    "\n",
    "with tf.device(device):\n",
    "  model = LotkaVolteraParameters()\n",
    "\n",
    "  learning_rate = tf.keras.optimizers.schedules.ExponentialDecay(\n",
    "    initial_learning_rate, decay_steps, decay_rate, staircase=False,\n",
    "  )\n",
    "\n",
    "  optimizer = tf.keras.optimizers.Adam(learning_rate)\n",
    "\n",
    "  print(\"Computing ground truth...\")\n",
    "  y_real = odeint(LotkaVoltera(a, b, c, d), initial_states_train, t_train)\n",
    "\n",
    "  print(\"Ground truth shape :\", y_real.shape)\n",
    "\n",
    "  for epoch in range(epochs):\n",
    "    print(f\"Epoch {epoch + 1}\")\n",
    "\n",
    "    with tf.GradientTape() as tape:\n",
    "      preds = odeint(model, initial_states_train, t_train)\n",
    "      loss = tf.reduce_mean(tf.square(y_real - preds), axis=1)\n",
    "\n",
    "    grads = tape.gradient(loss, model.trainable_variables)\n",
    "    optimizer.apply_gradients(zip(grads, model.trainable_variables))\n",
    "\n",
    "    print(\"Loss :\", loss.numpy().mean())\n",
    "    print(\"LR :\", learning_rate(optimizer.iterations).numpy())\n",
    "    print()"
   ]
  },
  {
   "cell_type": "code",
   "execution_count": null,
   "metadata": {
    "colab": {},
    "colab_type": "code",
    "id": "u720HfU6IyD0"
   },
   "outputs": [],
   "source": [
    "model.save_weights('Weights_LV.ckpt', save_format='tf')"
   ]
  },
  {
   "cell_type": "code",
   "execution_count": null,
   "metadata": {
    "colab": {},
    "colab_type": "code",
    "id": "UCqeskQRQhOC"
   },
   "outputs": [],
   "source": [
    "Weights=model.load_weights('Weights_LV.ckpt')"
   ]
  },
  {
   "cell_type": "code",
   "execution_count": null,
   "metadata": {
    "colab": {},
    "colab_type": "code",
    "id": "jp4DfyWdQxiB"
   },
   "outputs": [],
   "source": [
    "type(Weights)"
   ]
  },
  {
   "cell_type": "code",
   "execution_count": null,
   "metadata": {
    "colab": {},
    "colab_type": "code",
    "id": "gCOEAWigQ0jy"
   },
   "outputs": [],
   "source": [
    "Weights"
   ]
  },
  {
   "cell_type": "code",
   "execution_count": null,
   "metadata": {
    "colab": {},
    "colab_type": "code",
    "id": "3nq4MMVYZy6_"
   },
   "outputs": [],
   "source": [
    "Wei=tf.compat.v1.get_collection(tf.compat.v1.GraphKeys.TRAINABLE_VARIABLES, 'layer1/weights')"
   ]
  },
  {
   "cell_type": "code",
   "execution_count": null,
   "metadata": {
    "colab": {},
    "colab_type": "code",
    "id": "MyrIhUTkbYqB"
   },
   "outputs": [],
   "source": [
    "Bia=tf.compat.v1.get_collection(tf.compat.v1.GraphKeys.TRAINABLE_VARIABLES, 'layer1/bias')"
   ]
  },
  {
   "cell_type": "code",
   "execution_count": null,
   "metadata": {
    "colab": {},
    "colab_type": "code",
    "id": "trA4UFLHp4-U"
   },
   "outputs": [],
   "source": [
    "def get_weights():\n",
    "  return [v for v in tf.compat.v1.get_collection(tf.compat.v1.GraphKeys.TRAINABLE_VARIABLES) \n",
    "  if v.name.endswith('weights:0')]"
   ]
  },
  {
   "cell_type": "code",
   "execution_count": null,
   "metadata": {
    "colab": {},
    "colab_type": "code",
    "id": "Uq4zMs0uqEA0"
   },
   "outputs": [],
   "source": [
    "Weig=get_weights"
   ]
  },
  {
   "cell_type": "code",
   "execution_count": null,
   "metadata": {
    "colab": {},
    "colab_type": "code",
    "id": "qAUtOAt5cLa_"
   },
   "outputs": [],
   "source": [
    "sess = tf.compat.v1.Session()\n",
    "tvars = tf.compat.v1.trainable_variables()\n",
    "tvars_vals = sess.run(tvars)\n",
    "\n",
    "for var, val in zip(tvars, tvars_vals):\n",
    "    print(var.name, val)  # Prints the name of the variable alongside its value."
   ]
  },
  {
   "cell_type": "code",
   "execution_count": null,
   "metadata": {
    "colab": {},
    "colab_type": "code",
    "id": "pyKGWLOCrB-Y"
   },
   "outputs": [],
   "source": [
    "print(model.trainable_variables) "
   ]
  },
  {
   "cell_type": "code",
   "execution_count": null,
   "metadata": {
    "colab": {},
    "colab_type": "code",
    "id": "3QCzsdnCuxpX"
   },
   "outputs": [],
   "source": [
    "# Dump weights\n",
    "for layerNum, layer in enumerate(model.layers):\n",
    "    weights = layer.get_weights()[0]\n",
    "    biases = layer.get_weights()[1]\n",
    "    \n",
    "    for toNeuronNum, bias in enumerate(biases):\n",
    "        print(f'{layerNum}B -> L{layerNum+1}N{toNeuronNum}: {bias}')\n",
    "    \n",
    "    for fromNeuronNum, wgt in enumerate(weights):\n",
    "        for toNeuronNum, wgt2 in enumerate(wgt):\n",
    "            print(f'L{layerNum}N{fromNeuronNum} \\\n",
    "                  -> L{layerNum+1}N{toNeuronNum} = {wgt2}')"
   ]
  },
  {
   "cell_type": "code",
   "execution_count": null,
   "metadata": {
    "colab": {},
    "colab_type": "code",
    "id": "My3jn4UlvFS5"
   },
   "outputs": [],
   "source": [
    "for layerNum, layer in enumerate(model.layers):\n",
    "    print(layerNum)"
   ]
  },
  {
   "cell_type": "code",
   "execution_count": null,
   "metadata": {
    "colab": {},
    "colab_type": "code",
    "id": "yDwwId1wvWpr"
   },
   "outputs": [],
   "source": [
    "model"
   ]
  },
  {
   "cell_type": "code",
   "execution_count": null,
   "metadata": {
    "colab": {},
    "colab_type": "code",
    "id": "amceQjrMV6JT"
   },
   "outputs": [],
   "source": [
    "with tf.compat.v1.variable_scope('layer1', reuse=True):\n",
    "     tf.compat.v1.get_variable('weights')"
   ]
  },
  {
   "cell_type": "code",
   "execution_count": null,
   "metadata": {
    "colab": {},
    "colab_type": "code",
    "id": "EnGd-_uLYiCp"
   },
   "outputs": [],
   "source": [
    "tolerance = 1e-6\n",
    "bfgs_optimizer = BFGSOptimizer(max_iterations=50, tolerance=tolerance)"
   ]
  },
  {
   "cell_type": "code",
   "execution_count": null,
   "metadata": {
    "colab": {},
    "colab_type": "code",
    "id": "aOsUQZn8YiG_"
   },
   "outputs": [],
   "source": [
    "def loss_wrapper(model):\n",
    "  # Can use `adjoing_odeint` here as replacement for `adjoint_odeint`\n",
    "  preds = odeint(model, initial_states_train, t_train, atol=1e-6, rtol=1e-6)\n",
    "  loss = tf.reduce_mean(tf.square(y_real - preds))\n",
    "  return loss"
   ]
  },
  {
   "cell_type": "code",
   "execution_count": null,
   "metadata": {
    "colab": {},
    "colab_type": "code",
    "id": "NCaGXByCYiKv"
   },
   "outputs": [],
   "source": [
    "model = bfgs_optimizer.minimize(loss_wrapper, model)"
   ]
  },
  {
   "cell_type": "markdown",
   "metadata": {
    "colab_type": "text",
    "id": "h2JGIGK7aOi-"
   },
   "source": [
    "## Lets print the learned parameters of this ODE"
   ]
  },
  {
   "cell_type": "code",
   "execution_count": null,
   "metadata": {
    "colab": {},
    "colab_type": "code",
    "id": "OOSLwpc-aNSw"
   },
   "outputs": [],
   "source": [
    "params = tf.math.abs(model.trainable_variables[0])\n",
    "params.numpy().tolist()"
   ]
  },
  {
   "cell_type": "markdown",
   "metadata": {
    "colab_type": "text",
    "id": "scoYwBqEWrvc"
   },
   "source": [
    "# Finally, lets extrapolate the derived ODE !"
   ]
  },
  {
   "cell_type": "code",
   "execution_count": null,
   "metadata": {
    "colab": {},
    "colab_type": "code",
    "id": "BdluyouWWwgu"
   },
   "outputs": [],
   "source": [
    "%%time\n",
    "\n",
    "a_dash = 1.4999991609739252\n",
    "b_dash = 0.9999962444516388\n",
    "c_dash = 2.999976055259427\n",
    "d_dash = 0.9999915353099846\n",
    "\n",
    "t_extrapolate = tf.linspace(0., 10.0, num=1000)  # Train for just 3 seconds of input\n",
    "initial_states_extrapolate = tf.convert_to_tensor([1, 1], dtype=tf.float64)\n",
    "\n",
    "with tf.device(device):\n",
    "    extrapolation_model = LotkaVoltera(a_dash, b_dash, c_dash, d_dash)\n",
    "    extrapolated_results = odeint(extrapolation_model, initial_states_extrapolate, t_extrapolate)\n",
    "    real_results = odeint(LotkaVoltera(a, b, c, d), initial_states_extrapolate, t_extrapolate)"
   ]
  },
  {
   "cell_type": "code",
   "execution_count": null,
   "metadata": {
    "colab": {},
    "colab_type": "code",
    "id": "vwlHQDtRXnNj"
   },
   "outputs": [],
   "source": [
    "plot_results(t_extrapolate, real_results, labels=['Rabbit_real', 'Fox_real'])\n",
    "plot_results(t_extrapolate, extrapolated_results, labels=['Rabbit_model', 'Fox_model'])"
   ]
  },
  {
   "cell_type": "code",
   "execution_count": 21,
   "metadata": {
    "colab": {},
    "colab_type": "code",
    "id": "cxEupTh4uh44"
   },
   "outputs": [],
   "source": [
    "import pandas as pd\n",
    "import matplotlib.pyplot as plt\n",
    "\n",
    "NUM_SAMPLES=89\n",
    "a = 0.28\n",
    "b = 0.2\n",
    "c = .01\n",
    "\n",
    "mu = 0.000046948\n",
    "nu = 0.00001589\n",
    "# mu = 0.0\n",
    "# nu = 0.0\n",
    "N  = 128932753\n",
    "S0 = (N-4)/N\n",
    "I0 = 4/N\n",
    "R0 = 0\n",
    "\n",
    "t = tf.linspace(0., 89., num=NUM_SAMPLES)\n",
    "initial_states = tf.convert_to_tensor([S0, I0,R0], dtype=tf.float64)"
   ]
  },
  {
   "cell_type": "code",
   "execution_count": 22,
   "metadata": {
    "colab": {},
    "colab_type": "code",
    "id": "1l1jOwmYJr1h"
   },
   "outputs": [],
   "source": [
    "class SIR(tf.keras.Model):\n",
    "  \n",
    "  def __init__(self, a, b, c, **kwargs):\n",
    "    super().__init__(**kwargs)\n",
    "    \n",
    "    self.a, self.b, self.c = a, b, c\n",
    "  \n",
    "  @tf.function\n",
    "  def call(self, t, y):\n",
    "    # y = [R, F]\n",
    "    r, f,g= tf.unstack(y)\n",
    "\n",
    "\n",
    "    dS_dT = mu - ( self.a*f + nu   )*r   \n",
    "    dI_dT = ( self.a*f + nu   )*r -(self.b + nu)*f     \n",
    "    dP_dT = self.c*f\n",
    "    \n",
    "    return tf.stack([dS_dT,dI_dT,dP_dT])"
   ]
  },
  {
   "cell_type": "code",
   "execution_count": 23,
   "metadata": {
    "colab": {},
    "colab_type": "code",
    "id": "N29c9zpBMAzD"
   },
   "outputs": [
    {
     "name": "stdout",
     "output_type": "stream",
     "text": [
      "WARNING:tensorflow:AutoGraph could not transform <bound method SIR.call of <tensorflow.python.eager.function.TfMethodTarget object at 0x7f221c51eeb8>> and will run it as-is.\n",
      "Please report this to the TensorFlow team. When filing the bug, set the verbosity to 10 (on Linux, `export AUTOGRAPH_VERBOSITY=10`) and attach the full output.\n",
      "Cause: 'arguments' object has no attribute 'posonlyargs'\n",
      "To silence this warning, decorate the function with @tf.autograph.experimental.do_not_convert\n",
      "WARNING: AutoGraph could not transform <bound method SIR.call of <tensorflow.python.eager.function.TfMethodTarget object at 0x7f221c51eeb8>> and will run it as-is.\n",
      "Please report this to the TensorFlow team. When filing the bug, set the verbosity to 10 (on Linux, `export AUTOGRAPH_VERBOSITY=10`) and attach the full output.\n",
      "Cause: 'arguments' object has no attribute 'posonlyargs'\n",
      "To silence this warning, decorate the function with @tf.autograph.experimental.do_not_convert\n",
      "Finished integrating ! Result shape :  (89, 3)\n",
      "CPU times: user 170 ms, sys: 8.5 ms, total: 178 ms\n",
      "Wall time: 159 ms\n"
     ]
    }
   ],
   "source": [
    "%%time\n",
    "\n",
    "with tf.device(device):\n",
    "#     result = odeint(SIR(a, b, c), initial_states, t,method='rk4')\n",
    "#     result = odeint(SIR(a, b, c), initial_states, t,method='adams')\n",
    "     result = odeint(SIR(a, b, c), initial_states, t)\n",
    "  \n",
    "print(\"Finished integrating ! Result shape : \", result.shape)"
   ]
  },
  {
   "cell_type": "code",
   "execution_count": 24,
   "metadata": {
    "colab": {},
    "colab_type": "code",
    "id": "efkqjPUBDEJr"
   },
   "outputs": [
    {
     "data": {
      "text/plain": [
       "TensorShape([89, 3])"
      ]
     },
     "execution_count": 24,
     "metadata": {},
     "output_type": "execute_result"
    }
   ],
   "source": [
    "np.shape(result)"
   ]
  },
  {
   "cell_type": "code",
   "execution_count": 25,
   "metadata": {
    "colab": {},
    "colab_type": "code",
    "id": "96l9lbhqRM9F"
   },
   "outputs": [
    {
     "data": {
      "image/png": "[encoded data removed]",
      "text/plain": [
       "<Figure size 460.8x316.8 with 1 Axes>"
      ]
     },
     "metadata": {
      "needs_background": "light"
     },
     "output_type": "display_data"
    }
   ],
   "source": [
    "plot_results(t, result, labels=['S', 'I','P'])"
   ]
  },
  {
   "cell_type": "code",
   "execution_count": 26,
   "metadata": {
    "colab": {},
    "colab_type": "code",
    "id": "YxBOpVkjDKrs"
   },
   "outputs": [
    {
     "data": {
      "text/plain": [
       "[<matplotlib.lines.Line2D at 0x7f221c526be0>,\n",
       " <matplotlib.lines.Line2D at 0x7f221c397da0>]"
      ]
     },
     "execution_count": 26,
     "metadata": {},
     "output_type": "execute_result"
    },
    {
     "data": {
      "image/png": "[encoded data removed]",
      "text/plain": [
       "<Figure size 460.8x316.8 with 1 Axes>"
      ]
     },
     "metadata": {
      "needs_background": "light"
     },
     "output_type": "display_data"
    }
   ],
   "source": [
    "plt.plot(t, result[:,1], t, result[:,2])"
   ]
  },
  {
   "cell_type": "code",
   "execution_count": 27,
   "metadata": {
    "colab": {},
    "colab_type": "code",
    "id": "q8rzjRi4MiON"
   },
   "outputs": [],
   "source": [
    "class SIRParameters(tf.keras.Model):\n",
    "  \n",
    "  def __init__(self, **kwargs):\n",
    "    super().__init__(**kwargs)\n",
    "\n",
    "    # Can also initialize with the values found above for much faster convergence !\n",
    "    self.parameters = tf.Variable([.28, .2, .01], dtype=tf.float64)\n",
    "#    self.parameters = tf.Variable(tf.random.uniform(shape=[3], minval=0, maxval=1,dtype=tf.float64))\n",
    "  \n",
    "  @tf.function\n",
    "  def call(self, t, y):\n",
    "    # y = [R, F]\n",
    "    r, f,g = tf.unstack(y)\n",
    "\n",
    "    # Apply abs, because we want to ensure these parameters are > 0\n",
    "    params = tf.math.abs(self.parameters)\n",
    "    a, b, c = tf.unstack(params)\n",
    "\n",
    "    dS_dT = mu - ( a*f + nu   )*r   \n",
    "    dI_dT = ( a*f + nu   )*r -(b + nu)*f     \n",
    "    dP_dT = c*f\n",
    "    \n",
    "    return tf.stack([dS_dT,dI_dT,dP_dT])    "
   ]
  },
  {
   "cell_type": "code",
   "execution_count": 28,
   "metadata": {
    "colab": {},
    "colab_type": "code",
    "id": "LhMOKntES_NK"
   },
   "outputs": [],
   "source": [
    "epochs = 10000\n",
    "initial_learning_rate = 0.1\n",
    "decay_steps = 100\n",
    "decay_rate = 0.5\n",
    "\n",
    "\n",
    "t_train = tf.linspace(0., 89., num=89)  # Train for the days of the pandemic\n",
    "initial_states_train = tf.convert_to_tensor([S0, I0,R0], dtype=tf.float64)\n",
    "#initial_states_train = tf.convert_to_tensor([1, 1], dtype=tf.float64)"
   ]
  },
  {
   "cell_type": "code",
   "execution_count": 32,
   "metadata": {
    "colab": {},
    "colab_type": "code",
    "id": "TBcdORCCTi5e"
   },
   "outputs": [],
   "source": [
    "data=pd.read_csv(\"covidMexico.csv\")\n",
    "yobs=data[[\"New cases (HUC)\",\"Deaths (HUC)\"]]\n",
    "y_obs=yobs.to_numpy()\n",
    "y_real=tf.convert_to_tensor(y_obs, dtype=tf.float64)"
   ]
  },
  {
   "cell_type": "code",
   "execution_count": null,
   "metadata": {
    "colab": {},
    "colab_type": "code",
    "id": "B3xrFGnkS_m3"
   },
   "outputs": [
    {
     "name": "stdout",
     "output_type": "stream",
     "text": [
      "Computing ground truth...\n",
      "Ground truth shape : (89, 2)\n",
      "Epoch 1\n",
      "WARNING:tensorflow:AutoGraph could not transform <bound method SIRParameters.call of <tensorflow.python.eager.function.TfMethodTarget object at 0x7f221c3dd4e0>> and will run it as-is.\n",
      "Please report this to the TensorFlow team. When filing the bug, set the verbosity to 10 (on Linux, `export AUTOGRAPH_VERBOSITY=10`) and attach the full output.\n",
      "Cause: 'arguments' object has no attribute 'posonlyargs'\n",
      "To silence this warning, decorate the function with @tf.autograph.experimental.do_not_convert\n",
      "WARNING: AutoGraph could not transform <bound method SIRParameters.call of <tensorflow.python.eager.function.TfMethodTarget object at 0x7f221c3dd4e0>> and will run it as-is.\n",
      "Please report this to the TensorFlow team. When filing the bug, set the verbosity to 10 (on Linux, `export AUTOGRAPH_VERBOSITY=10`) and attach the full output.\n",
      "Cause: 'arguments' object has no attribute 'posonlyargs'\n",
      "To silence this warning, decorate the function with @tf.autograph.experimental.do_not_convert\n",
      "Loss : 4378536202077.0156\n",
      "LR : 0.09930925\n",
      "\n",
      "Epoch 2\n",
      "Loss : 4295660883227.2305\n",
      "LR : 0.09862327\n",
      "\n",
      "Epoch 3\n",
      "Loss : 4214062001052.274\n",
      "LR : 0.09794203\n",
      "\n",
      "Epoch 4\n",
      "Loss : 4134247693511.1904\n",
      "LR : 0.0972655\n",
      "\n",
      "Epoch 5\n",
      "Loss : 4056419385301.407\n",
      "LR : 0.09659363\n",
      "\n",
      "Epoch 6\n",
      "Loss : 3980658520856.467\n",
      "LR : 0.09592641\n",
      "\n",
      "Epoch 7\n",
      "Loss : 3906986227743.827\n",
      "LR : 0.0952638\n",
      "\n",
      "Epoch 8\n",
      "Loss : 3835390560430.561\n",
      "LR : 0.094605766\n",
      "\n",
      "Epoch 9\n",
      "Loss : 3765840247315.67\n",
      "LR : 0.093952276\n",
      "\n",
      "Epoch 10\n",
      "Loss : 3698292617923.0605\n",
      "LR : 0.0933033\n",
      "\n",
      "Epoch 11\n",
      "Loss : 3632698021821.3994\n",
      "LR : 0.09265881\n",
      "\n",
      "Epoch 12\n",
      "Loss : 3569002605887.453\n",
      "LR : 0.09201877\n",
      "\n",
      "Epoch 13\n",
      "Loss : 3507150294416.4795\n",
      "LR : 0.09138315\n",
      "\n",
      "Epoch 14\n",
      "Loss : 3447084213257.989\n",
      "LR : 0.090751916\n",
      "\n",
      "Epoch 15\n",
      "Loss : 3388747540556.622\n",
      "LR : 0.09012505\n",
      "\n",
      "Epoch 16\n",
      "Loss : 3332083946245.684\n",
      "LR : 0.089502506\n",
      "\n",
      "Epoch 17\n",
      "Loss : 3277037883564.103\n",
      "LR : 0.08888427\n",
      "\n",
      "Epoch 18\n",
      "Loss : 3223554945332.091\n",
      "LR : 0.0882703\n",
      "\n",
      "Epoch 19\n",
      "Loss : 3171582289018.3896\n",
      "LR : 0.08766057\n",
      "\n",
      "Epoch 20\n",
      "Loss : 3121068601285.6587\n",
      "LR : 0.08705506\n",
      "\n",
      "Epoch 21\n",
      "Loss : 3071964103415.4385\n",
      "LR : 0.08645373\n",
      "\n",
      "Epoch 22\n",
      "Loss : 3024220525057.014\n",
      "LR : 0.08585655\n",
      "\n",
      "Epoch 23\n",
      "Loss : 2977791137202.564\n",
      "LR : 0.08526349\n",
      "\n",
      "Epoch 24\n",
      "Loss : 2932631030288.6504\n",
      "LR : 0.08467453\n",
      "\n",
      "Epoch 25\n",
      "Loss : 2888696887111.226\n",
      "LR : 0.084089644\n",
      "\n",
      "Epoch 26\n",
      "Loss : 2845946929591.461\n",
      "LR : 0.08350879\n",
      "\n",
      "Epoch 27\n",
      "Loss : 2804340805867.2524\n",
      "LR : 0.08293196\n",
      "\n",
      "Epoch 28\n",
      "Loss : 2763839574249.9995\n",
      "LR : 0.0823591\n",
      "\n",
      "Epoch 29\n",
      "Loss : 2724405913773.182\n",
      "LR : 0.08179021\n",
      "\n",
      "Epoch 30\n",
      "Loss : 2686003925408.9365\n",
      "LR : 0.08122524\n",
      "\n",
      "Epoch 31\n",
      "Loss : 2648599065530.4146\n",
      "LR : 0.08066418\n",
      "\n",
      "Epoch 32\n",
      "Loss : 2612157878336.2188\n",
      "LR : 0.08010699\n",
      "\n",
      "Epoch 33\n",
      "Loss : 2576648286773.1157\n",
      "LR : 0.07955365\n",
      "\n",
      "Epoch 34\n",
      "Loss : 2542039476702.6753\n",
      "LR : 0.07900413\n",
      "\n",
      "Epoch 35\n",
      "Loss : 2508301820233.7695\n",
      "LR : 0.07845841\n",
      "\n",
      "Epoch 36\n",
      "Loss : 2475406786421.0454\n",
      "LR : 0.07791646\n",
      "\n",
      "Epoch 37\n",
      "Loss : 2443326823964.0005\n",
      "LR : 0.07737825\n",
      "\n",
      "Epoch 38\n",
      "Loss : 2412035484021.571\n",
      "LR : 0.07684376\n",
      "\n",
      "Epoch 39\n",
      "Loss : 2381504765253.8047\n",
      "LR : 0.07631296\n",
      "\n",
      "Epoch 40\n",
      "Loss : 2351715043206.4297\n",
      "LR : 0.07578583\n",
      "\n",
      "Epoch 41\n",
      "Loss : 2322640455872.284\n",
      "LR : 0.07526234\n",
      "\n",
      "Epoch 42\n",
      "Loss : 2294258313640.2417\n",
      "LR : 0.07474246\n",
      "\n",
      "Epoch 43\n",
      "Loss : 2266546699761.496\n",
      "LR : 0.07422618\n",
      "\n",
      "Epoch 44\n",
      "Loss : 2239484598114.7246\n",
      "LR : 0.07371347\n",
      "\n",
      "Epoch 45\n",
      "Loss : 2213051725414.514\n",
      "LR : 0.07320429\n",
      "\n",
      "Epoch 46\n",
      "Loss : 2187228570031.6057\n",
      "LR : 0.07269862\n",
      "\n",
      "Epoch 47\n",
      "Loss : 2161996341266.0217\n",
      "LR : 0.07219646\n",
      "\n",
      "Epoch 48\n",
      "Loss : 2137336921213.573\n",
      "LR : 0.071697764\n",
      "\n",
      "Epoch 49\n",
      "Loss : 2113234056015.6335\n",
      "LR : 0.07120251\n",
      "\n",
      "Epoch 50\n",
      "Loss : 2089668375563.4873\n",
      "LR : 0.07071068\n",
      "\n",
      "Epoch 51\n",
      "Loss : 2066624989439.7598\n",
      "LR : 0.07022225\n",
      "\n",
      "Epoch 52\n",
      "Loss : 2044088265025.2693\n",
      "LR : 0.06973719\n",
      "\n",
      "Epoch 53\n",
      "Loss : 2022043130645.7957\n",
      "LR : 0.06925548\n",
      "\n",
      "Epoch 54\n",
      "Loss : 2000475053247.1003\n",
      "LR : 0.06877709\n",
      "\n",
      "Epoch 55\n",
      "Loss : 1979370004726.8347\n",
      "LR : 0.06830201\n",
      "\n",
      "Epoch 56\n",
      "Loss : 1958714429541.8726\n",
      "LR : 0.06783022\n",
      "\n",
      "Epoch 57\n",
      "Loss : 1938495252602.5586\n",
      "LR : 0.067361675\n",
      "\n",
      "Epoch 58\n",
      "Loss : 1918699881082.1997\n",
      "LR : 0.06689638\n",
      "\n",
      "Epoch 59\n",
      "Loss : 1899316164057.19\n",
      "LR : 0.066434294\n",
      "\n",
      "Epoch 60\n",
      "Loss : 1880332364721.9214\n",
      "LR : 0.06597539\n",
      "\n",
      "Epoch 61\n",
      "Loss : 1861737154877.492\n",
      "LR : 0.06551967\n",
      "\n",
      "Epoch 62\n",
      "Loss : 1843519596914.259\n",
      "LR : 0.0650671\n",
      "\n",
      "Epoch 63\n",
      "Loss : 1825669120573.3108\n",
      "LR : 0.06461764\n",
      "\n",
      "Epoch 64\n",
      "Loss : 1808175516961.936\n",
      "LR : 0.0641713\n",
      "\n",
      "Epoch 65\n",
      "Loss : 1791028922334.8142\n",
      "LR : 0.063728034\n",
      "\n",
      "Epoch 66\n",
      "Loss : 1774219781400.8496\n",
      "LR : 0.06328783\n",
      "\n",
      "Epoch 67\n",
      "Loss : 1757738862766.908\n",
      "LR : 0.06285067\n",
      "\n",
      "Epoch 68\n",
      "Loss : 1741577256659.4634\n",
      "LR : 0.06241653\n",
      "\n",
      "Epoch 69\n",
      "Loss : 1725726354884.0618\n",
      "LR : 0.061985385\n",
      "\n",
      "Epoch 70\n",
      "Loss : 1710177832421.7566\n",
      "LR : 0.061557222\n",
      "\n",
      "Epoch 71\n",
      "Loss : 1694923641579.1929\n",
      "LR : 0.061132014\n",
      "\n",
      "Epoch 72\n",
      "Loss : 1679955993016.1428\n",
      "LR : 0.060709745\n",
      "\n",
      "Epoch 73\n",
      "Loss : 1665267352682.2698\n",
      "LR : 0.060290392\n",
      "\n",
      "Epoch 74\n",
      "Loss : 1650850428778.7253\n",
      "LR : 0.059873935\n",
      "\n",
      "Epoch 75\n",
      "Loss : 1636698164656.4575\n",
      "LR : 0.059460353\n",
      "\n",
      "Epoch 76\n",
      "Loss : 1622803721777.3884\n",
      "LR : 0.059049636\n",
      "\n",
      "Epoch 77\n",
      "Loss : 1609160472540.9792\n",
      "LR : 0.05864175\n",
      "\n",
      "Epoch 78\n",
      "Loss : 1595761996622.205\n",
      "LR : 0.058236685\n",
      "\n",
      "Epoch 79\n",
      "Loss : 1582602091000.1892\n",
      "LR : 0.057834413\n",
      "\n",
      "Epoch 80\n",
      "Loss : 1569674749466.3394\n",
      "LR : 0.057434916\n",
      "\n",
      "Epoch 81\n",
      "Loss : 1556974155414.6284\n",
      "LR : 0.057038188\n",
      "\n",
      "Epoch 82\n",
      "Loss : 1544494672587.7385\n",
      "LR : 0.056644198\n",
      "\n",
      "Epoch 83\n",
      "Loss : 1532230836494.969\n",
      "LR : 0.056252927\n",
      "\n",
      "Epoch 84\n",
      "Loss : 1520177353134.1016\n",
      "LR : 0.05586436\n",
      "\n",
      "Epoch 85\n",
      "Loss : 1508329091132.109\n",
      "LR : 0.055478472\n",
      "\n",
      "Epoch 86\n",
      "Loss : 1496681075217.978\n",
      "LR : 0.055095255\n",
      "\n",
      "Epoch 87\n",
      "Loss : 1485228476461.968\n",
      "LR : 0.054714687\n",
      "\n",
      "Epoch 88\n",
      "Loss : 1473966602650.981\n",
      "LR : 0.054336745\n",
      "\n",
      "Epoch 89\n",
      "Loss : 1462890906644.9978\n",
      "LR : 0.053961415\n",
      "\n",
      "Epoch 90\n",
      "Loss : 1451996977516.8975\n",
      "LR : 0.053588677\n",
      "\n",
      "Epoch 91\n",
      "Loss : 1441280541810.661\n",
      "LR : 0.05321851\n",
      "\n",
      "Epoch 92\n",
      "Loss : 1430737453588.141\n",
      "LR : 0.052850902\n",
      "\n",
      "Epoch 93\n",
      "Loss : 1420363691663.587\n",
      "LR : 0.052485835\n",
      "\n",
      "Epoch 94\n",
      "Loss : 1410155350321.1882\n",
      "LR : 0.05212329\n",
      "\n",
      "Epoch 95\n",
      "Loss : 1400108637881.1877\n",
      "LR : 0.051763248\n",
      "\n",
      "Epoch 96\n",
      "Loss : 1390219872877.7207\n",
      "LR : 0.051405694\n",
      "\n",
      "Epoch 97\n",
      "Loss : 1380485480378.9453\n",
      "LR : 0.051050603\n",
      "\n",
      "Epoch 98\n",
      "Loss : 1370901986996.1746\n",
      "LR : 0.05069797\n",
      "\n",
      "Epoch 99\n",
      "Loss : 1361466012605.8535\n",
      "LR : 0.050347775\n",
      "\n",
      "Epoch 100\n",
      "Loss : 1352174275238.5647\n",
      "LR : 0.05\n",
      "\n",
      "Epoch 101\n",
      "Loss : 1343023584748.092\n",
      "LR : 0.049654625\n",
      "\n",
      "Epoch 102\n",
      "Loss : 1334010838565.4797\n",
      "LR : 0.049311634\n",
      "\n",
      "Epoch 103\n",
      "Loss : 1325133030753.1587\n",
      "LR : 0.048971016\n",
      "\n",
      "Epoch 104\n",
      "Loss : 1316387239742.904\n",
      "LR : 0.048632752\n",
      "\n",
      "Epoch 105\n",
      "Loss : 1307770632695.7798\n",
      "LR : 0.04829682\n",
      "\n",
      "Epoch 106\n",
      "Loss : 1299285845223.4175\n",
      "LR : 0.04796321\n",
      "\n",
      "Epoch 107\n",
      "Loss : 1290919250631.8228\n",
      "LR : 0.0476319\n",
      "\n",
      "Epoch 108\n",
      "Loss : 1282673759490.4028\n",
      "LR : 0.047302883\n",
      "\n",
      "Epoch 109\n",
      "Loss : 1274546829197.1265\n",
      "LR : 0.046976138\n",
      "\n",
      "Epoch 110\n",
      "Loss : 1266535984604.1587\n",
      "LR : 0.04665165\n",
      "\n",
      "Epoch 111\n",
      "Loss : 1258638817841.2078\n",
      "LR : 0.046329405\n",
      "\n",
      "Epoch 112\n",
      "Loss : 1250852985580.3389\n",
      "LR : 0.046009384\n",
      "\n",
      "Epoch 113\n",
      "Loss : 1243176207023.7405\n",
      "LR : 0.045691576\n",
      "\n",
      "Epoch 114\n",
      "Loss : 1235606262571.576\n",
      "LR : 0.045375958\n",
      "\n",
      "Epoch 115\n",
      "Loss : 1228140989984.6055\n",
      "LR : 0.045062523\n",
      "\n",
      "Epoch 116\n",
      "Loss : 1220778279376.1396\n",
      "LR : 0.044751253\n",
      "\n",
      "Epoch 117\n",
      "Loss : 1213516077855.3516\n",
      "LR : 0.044442136\n",
      "\n",
      "Epoch 118\n",
      "Loss : 1206352386758.8325\n",
      "LR : 0.04413515\n",
      "\n",
      "Epoch 119\n",
      "Loss : 1199285261842.7996\n",
      "LR : 0.043830287\n",
      "\n",
      "Epoch 120\n",
      "Loss : 1192312810612.7808\n",
      "LR : 0.043527525\n",
      "\n",
      "Epoch 121\n",
      "Loss : 1185433187818.459\n",
      "LR : 0.04322686\n",
      "\n",
      "Epoch 122\n",
      "Loss : 1178644596572.9553\n",
      "LR : 0.04292827\n",
      "\n",
      "Epoch 123\n",
      "Loss : 1171945284047.722\n",
      "LR : 0.042631745\n",
      "\n",
      "Epoch 124\n",
      "Loss : 1165333543028.6885\n",
      "LR : 0.042337265\n",
      "\n",
      "Epoch 125\n",
      "Loss : 1158807708849.8513\n",
      "LR : 0.042044822\n",
      "\n",
      "Epoch 126\n",
      "Loss : 1152366159267.651\n",
      "LR : 0.041754395\n",
      "\n",
      "Epoch 127\n",
      "Loss : 1146007311522.4434\n",
      "LR : 0.04146598\n",
      "\n",
      "Epoch 128\n",
      "Loss : 1139729623418.9592\n",
      "LR : 0.041179553\n",
      "\n",
      "Epoch 129\n",
      "Loss : 1133531589615.349\n",
      "LR : 0.040895104\n",
      "\n",
      "Epoch 130\n",
      "Loss : 1127411742628.794\n",
      "LR : 0.04061262\n",
      "\n",
      "Epoch 131\n",
      "Loss : 1121368645389.8972\n",
      "LR : 0.04033209\n",
      "\n",
      "Epoch 132\n",
      "Loss : 1115400899698.0364\n",
      "LR : 0.040053494\n",
      "\n",
      "Epoch 133\n",
      "Loss : 1109507142056.483\n",
      "LR : 0.039776824\n",
      "\n",
      "Epoch 134\n",
      "Loss : 1103686041930.3872\n",
      "LR : 0.039502066\n",
      "\n",
      "Epoch 135\n",
      "Loss : 1097936298198.7429\n",
      "LR : 0.039229207\n",
      "\n",
      "Epoch 136\n",
      "Loss : 1092256643661.5989\n",
      "LR : 0.03895823\n",
      "\n",
      "Epoch 137\n",
      "Loss : 1086645840907.4872\n",
      "LR : 0.038689125\n",
      "\n",
      "Epoch 138\n",
      "Loss : 1081102682537.193\n",
      "LR : 0.03842188\n",
      "\n",
      "Epoch 139\n",
      "Loss : 1075625988767.429\n",
      "LR : 0.03815648\n",
      "\n",
      "Epoch 140\n",
      "Loss : 1070214610294.0261\n",
      "LR : 0.037892915\n",
      "\n",
      "Epoch 141\n",
      "Loss : 1064867440370.0586\n",
      "LR : 0.03763117\n",
      "\n",
      "Epoch 142\n",
      "Loss : 1059583358350.27\n",
      "LR : 0.037371233\n",
      "\n",
      "Epoch 143\n",
      "Loss : 1054361291043.8605\n",
      "LR : 0.037113093\n",
      "\n",
      "Epoch 144\n",
      "Loss : 1049200189271.0127\n",
      "LR : 0.03685673\n",
      "\n",
      "Epoch 145\n",
      "Loss : 1044099028134.766\n",
      "LR : 0.036602143\n",
      "\n",
      "Epoch 146\n",
      "Loss : 1039056804301.408\n",
      "LR : 0.03634931\n",
      "\n",
      "Epoch 147\n",
      "Loss : 1034072532488.1099\n",
      "LR : 0.03609823\n",
      "\n",
      "Epoch 148\n",
      "Loss : 1029145256433.4108\n",
      "LR : 0.035848882\n",
      "\n",
      "Epoch 149\n",
      "Loss : 1024274040091.6519\n",
      "LR : 0.035601255\n",
      "\n",
      "Epoch 150\n",
      "Loss : 1019457969090.7605\n",
      "LR : 0.03535534\n",
      "\n",
      "Epoch 151\n",
      "Loss : 1014696147998.6733\n",
      "LR : 0.035111126\n",
      "\n",
      "Epoch 152\n",
      "Loss : 1009987698362.9279\n",
      "LR : 0.034868594\n",
      "\n",
      "Epoch 153\n",
      "Loss : 1005331764510.6265\n",
      "LR : 0.03462774\n",
      "\n",
      "Epoch 154\n",
      "Loss : 1000727510152.3254\n",
      "LR : 0.034388546\n",
      "\n",
      "Epoch 155\n",
      "Loss : 996174116263.4368\n",
      "LR : 0.03415101\n",
      "\n",
      "Epoch 156\n",
      "Loss : 991670781788.2869\n",
      "LR : 0.03391511\n",
      "\n",
      "Epoch 157\n",
      "Loss : 987216722033.0934\n",
      "LR : 0.033680838\n",
      "\n",
      "Epoch 158\n",
      "Loss : 982811170091.4924\n",
      "LR : 0.033448186\n",
      "\n",
      "Epoch 159\n",
      "Loss : 978453374933.6426\n",
      "LR : 0.033217143\n",
      "\n",
      "Epoch 160\n",
      "Loss : 974142600905.274\n",
      "LR : 0.032987695\n",
      "\n",
      "Epoch 161\n",
      "Loss : 969878126643.8097\n",
      "LR : 0.032759834\n",
      "\n",
      "Epoch 162\n",
      "Loss : 965659242563.859\n",
      "LR : 0.03253355\n",
      "\n",
      "Epoch 163\n",
      "Loss : 961485257776.758\n",
      "LR : 0.03230882\n",
      "\n",
      "Epoch 164\n",
      "Loss : 957355496371.5283\n",
      "LR : 0.03208565\n",
      "\n",
      "Epoch 165\n",
      "Loss : 953269297300.7948\n",
      "LR : 0.031864017\n",
      "\n",
      "Epoch 166\n",
      "Loss : 949226011672.1185\n",
      "LR : 0.031643916\n",
      "\n",
      "Epoch 167\n",
      "Loss : 945225004778.1615\n",
      "LR : 0.03142534\n",
      "\n",
      "Epoch 168\n",
      "Loss : 941265653714.8483\n",
      "LR : 0.031208266\n",
      "\n",
      "Epoch 169\n",
      "Loss : 937347345454.7693\n",
      "LR : 0.030992692\n",
      "\n",
      "Epoch 170\n",
      "Loss : 933469482584.6791\n",
      "LR : 0.030778611\n",
      "\n",
      "Epoch 171\n",
      "Loss : 929631479406.7551\n",
      "LR : 0.030566007\n",
      "\n",
      "Epoch 172\n",
      "Loss : 925832761469.4547\n",
      "LR : 0.030354872\n",
      "\n",
      "Epoch 173\n",
      "Loss : 922072766210.7798\n",
      "LR : 0.030145196\n",
      "\n",
      "Epoch 174\n",
      "Loss : 918350941764.2051\n",
      "LR : 0.029936967\n",
      "\n",
      "Epoch 175\n",
      "Loss : 914666747157.1334\n",
      "LR : 0.029730177\n",
      "\n",
      "Epoch 176\n",
      "Loss : 911019652067.9851\n",
      "LR : 0.029524818\n",
      "\n",
      "Epoch 177\n",
      "Loss : 907409134818.6879\n",
      "LR : 0.029320875\n",
      "\n",
      "Epoch 178\n",
      "Loss : 903834680540.5256\n",
      "LR : 0.029118342\n",
      "\n",
      "Epoch 179\n",
      "Loss : 900295789240.8058\n",
      "LR : 0.028917206\n",
      "\n",
      "Epoch 180\n",
      "Loss : 896791969953.3418\n",
      "LR : 0.028717462\n",
      "\n",
      "Epoch 181\n",
      "Loss : 893322741395.4819\n",
      "LR : 0.028519094\n",
      "\n",
      "Epoch 182\n",
      "Loss : 889886364591.6548\n",
      "LR : 0.028322095\n",
      "\n",
      "Epoch 183\n",
      "Loss : 886484915151.197\n",
      "LR : 0.028126461\n",
      "\n",
      "Epoch 184\n",
      "Loss : 883116666733.9054\n",
      "LR : 0.02793218\n",
      "\n",
      "Epoch 185\n",
      "Loss : 879781170315.2695\n",
      "LR : 0.027739236\n",
      "\n",
      "Epoch 186\n",
      "Loss : 876477986839.7784\n",
      "LR : 0.027547628\n",
      "\n",
      "Epoch 187\n",
      "Loss : 873206686228.6355\n",
      "LR : 0.027357344\n",
      "\n",
      "Epoch 188\n",
      "Loss : 869966845637.319\n",
      "LR : 0.027168373\n",
      "\n",
      "Epoch 189\n",
      "Loss : 866758050123.6578\n",
      "LR : 0.026980707\n",
      "\n",
      "Epoch 190\n",
      "Loss : 863579892474.3286\n",
      "LR : 0.026794339\n",
      "\n",
      "Epoch 191\n",
      "Loss : 860431972602.1636\n",
      "LR : 0.026609255\n",
      "\n",
      "Epoch 192\n",
      "Loss : 857313897080.2798\n",
      "LR : 0.026425451\n",
      "\n",
      "Epoch 193\n",
      "Loss : 854225276933.6561\n",
      "LR : 0.026242917\n",
      "\n",
      "Epoch 194\n",
      "Loss : 851165732111.8274\n",
      "LR : 0.026061643\n",
      "\n",
      "Epoch 195\n",
      "Loss : 848134890295.3441\n",
      "LR : 0.025881622\n",
      "\n",
      "Epoch 196\n",
      "Loss : 845132385932.2333\n",
      "LR : 0.025702847\n",
      "\n",
      "Epoch 197\n",
      "Loss : 842157859397.5813\n",
      "LR : 0.025525302\n",
      "\n",
      "Epoch 198\n",
      "Loss : 839210957180.5806\n",
      "LR : 0.025348986\n",
      "\n",
      "Epoch 199\n",
      "Loss : 836291332792.4475\n",
      "LR : 0.025173888\n",
      "\n",
      "Epoch 200\n",
      "Loss : 833398644714.6636\n",
      "LR : 0.025\n",
      "\n",
      "Epoch 201\n",
      "Loss : 830532557560.724\n",
      "LR : 0.024827313\n",
      "\n",
      "Epoch 202\n",
      "Loss : 827692741528.8661\n",
      "LR : 0.024655817\n",
      "\n",
      "Epoch 203\n",
      "Loss : 824878872788.5148\n",
      "LR : 0.024485508\n",
      "\n",
      "Epoch 204\n",
      "Loss : 822090631819.6704\n",
      "LR : 0.024316376\n",
      "\n",
      "Epoch 205\n",
      "Loss : 819327703429.2733\n",
      "LR : 0.02414841\n",
      "\n",
      "Epoch 206\n",
      "Loss : 816589779369.7758\n",
      "LR : 0.023981605\n",
      "\n",
      "Epoch 207\n",
      "Loss : 813876556839.3011\n",
      "LR : 0.02381595\n",
      "\n",
      "Epoch 208\n",
      "Loss : 811187737748.9714\n",
      "LR : 0.023651442\n",
      "\n",
      "Epoch 209\n",
      "Loss : 808523029043.6671\n",
      "LR : 0.02348807\n",
      "\n",
      "Epoch 210\n",
      "Loss : 805882142187.7686\n",
      "LR : 0.023325827\n",
      "\n",
      "Epoch 211\n",
      "Loss : 803264793281.8408\n",
      "LR : 0.023164703\n",
      "\n",
      "Epoch 212\n",
      "Loss : 800670703385.1226\n",
      "LR : 0.023004694\n",
      "\n",
      "Epoch 213\n",
      "Loss : 798099598008.2484\n",
      "LR : 0.022845784\n",
      "\n",
      "Epoch 214\n",
      "Loss : 795551206614.5978\n",
      "LR : 0.022687977\n",
      "\n",
      "Epoch 215\n",
      "Loss : 793025263981.0453\n",
      "LR : 0.022531262\n",
      "\n",
      "Epoch 216\n",
      "Loss : 790521507844.2211\n",
      "LR : 0.022375626\n",
      "\n",
      "Epoch 217\n",
      "Loss : 788039680475.6436\n",
      "LR : 0.022221066\n",
      "\n",
      "Epoch 218\n",
      "Loss : 785579528598.065\n",
      "LR : 0.022067575\n",
      "\n",
      "Epoch 219\n",
      "Loss : 783140802664.9497\n",
      "LR : 0.021915143\n",
      "\n",
      "Epoch 220\n",
      "Loss : 780723256731.3165\n",
      "LR : 0.021763762\n",
      "\n",
      "Epoch 221\n",
      "Loss : 778326648991.4286\n",
      "LR : 0.02161343\n",
      "\n",
      "Epoch 222\n",
      "Loss : 775950741546.2439\n",
      "LR : 0.021464135\n",
      "\n",
      "Epoch 223\n",
      "Loss : 773595299559.1439\n",
      "LR : 0.021315873\n",
      "\n",
      "Epoch 224\n",
      "Loss : 771260092056.4486\n",
      "LR : 0.021168632\n",
      "\n",
      "Epoch 225\n",
      "Loss : 768944889974.4211\n",
      "LR : 0.021022411\n",
      "\n",
      "Epoch 226\n",
      "Loss : 766649468689.7108\n",
      "LR : 0.020877197\n",
      "\n",
      "Epoch 227\n",
      "Loss : 764373607384.0702\n",
      "LR : 0.02073299\n",
      "\n",
      "Epoch 228\n",
      "Loss : 762117089000.354\n",
      "LR : 0.020589776\n",
      "\n",
      "Epoch 229\n",
      "Loss : 759879699174.6151\n",
      "LR : 0.020447552\n",
      "\n",
      "Epoch 230\n",
      "Loss : 757661227187.098\n",
      "LR : 0.02030631\n",
      "\n",
      "Epoch 231\n",
      "Loss : 755461465300.6067\n",
      "LR : 0.020166045\n",
      "\n",
      "Epoch 232\n",
      "Loss : 753280208907.2418\n",
      "LR : 0.020026749\n",
      "\n",
      "Epoch 233\n"
     ]
    }
   ],
   "source": [
    "%%time\n",
    "\n",
    "with tf.device(device):\n",
    "  model = SIRParameters()\n",
    "\n",
    "  learning_rate = tf.keras.optimizers.schedules.ExponentialDecay(\n",
    "    initial_learning_rate, decay_steps, decay_rate, staircase=False,\n",
    "  )\n",
    "\n",
    "  optimizer = tf.keras.optimizers.Adadelta(learning_rate)\n",
    "\n",
    "  print(\"Computing ground truth...\")\n",
    "#  y_real = odeint(LotkaVoltera(a, b, c, d), initial_states_train, t_train)\n",
    "#  y_real = tf.convert_to_tensor(yobs, dtype=tf.float64)\n",
    "\n",
    "  print(\"Ground truth shape :\", y_real.shape)\n",
    "\n",
    "  for epoch in range(epochs):\n",
    "    print(f\"Epoch {epoch + 1}\")\n",
    "\n",
    "    with tf.GradientTape() as tape:\n",
    "      preds = odeint(model, initial_states_train, t_train)\n",
    "      y_hat = tf.transpose(tf.stack([preds[:,1],preds[:,2]]))\n",
    "      loss = tf.reduce_mean(tf.square(y_real - N*y_hat), axis=1)\n",
    "\n",
    "    grads = tape.gradient(loss, model.trainable_variables)\n",
    "    optimizer.apply_gradients(zip(grads, model.trainable_variables))\n",
    "\n",
    "    print(\"Loss :\", loss.numpy().mean())\n",
    "    print(\"LR :\", learning_rate(optimizer.iterations).numpy())\n",
    "    print()"
   ]
  },
  {
   "cell_type": "code",
   "execution_count": null,
   "metadata": {
    "colab": {},
    "colab_type": "code",
    "id": "5D-d2rvSS_Ds"
   },
   "outputs": [],
   "source": [
    "tolerance = 1e-1\n",
    "bfgs_optimizer = BFGSOptimizer(max_iterations=50, tolerance=tolerance)"
   ]
  },
  {
   "cell_type": "code",
   "execution_count": null,
   "metadata": {
    "colab": {},
    "colab_type": "code",
    "id": "fWfqq-6pV3QW"
   },
   "outputs": [],
   "source": [
    "def loss_wrapper(model):\n",
    "  # Can use `adjoing_odeint` here as replacement for `adjoint_odeint`\n",
    "  preds = odeint(model, initial_states_train, t_train, atol=1e-3, rtol=1e-3)\n",
    "  y_hat = tf.transpose(tf.stack([preds[:,1],preds[:,2]]))\n",
    "  loss = tf.reduce_mean(tf.square(y_real - N*y_hat))\n",
    "  return loss"
   ]
  },
  {
   "cell_type": "code",
   "execution_count": null,
   "metadata": {
    "colab": {},
    "colab_type": "code",
    "id": "G0ZBb4UMV3iy"
   },
   "outputs": [],
   "source": [
    "model = bfgs_optimizer.minimize(loss_wrapper, model)"
   ]
  },
  {
   "cell_type": "code",
   "execution_count": null,
   "metadata": {
    "colab": {},
    "colab_type": "code",
    "id": "kNh8QWR-V3WL"
   },
   "outputs": [],
   "source": [
    "params = tf.math.abs(model.trainable_variables[0])\n",
    "params.numpy().tolist()"
   ]
  },
  {
   "cell_type": "code",
   "execution_count": null,
   "metadata": {
    "colab": {},
    "colab_type": "code",
    "id": "JSpIlZh2V3M4"
   },
   "outputs": [],
   "source": [
    "a_dash = 0.2944932012466365\n",
    "b_dash = 0.01259975623864584\n",
    "c_dash = 0.014807657555633421\n",
    "\n",
    "\n",
    "t_extrapolate = tf.linspace(0., 120, num=1000)  # Train for just 3 seconds of input\n",
    "initial_states_extrapolate = tf.convert_to_tensor([S0, I0,R0], dtype=tf.float64)\n",
    "#initial_states_extrapolate = tf.convert_to_tensor([1, 1], dtype=tf.float64)\n",
    "\n",
    "with tf.device(device):\n",
    "    extrapolation_model = SIR(a_dash, b_dash, c_dash)\n",
    "    extrapolated_results = odeint(extrapolation_model, initial_states_extrapolate, t_extrapolate)\n",
    "#    real_results = odeint(SIR(a, b, c), initial_states_extrapolate, t_extrapolate)"
   ]
  },
  {
   "cell_type": "code",
   "execution_count": null,
   "metadata": {
    "colab": {},
    "colab_type": "code",
    "id": "pcQGB0nqaiQ0"
   },
   "outputs": [],
   "source": [
    "#plot_results(t_extrapolate, real_results, labels=['S_real', 'Fox_real'])\n",
    "plot_results(t_extrapolate, extrapolated_results, labels=['S_model', 'I_model','P_model'])"
   ]
  },
  {
   "cell_type": "code",
   "execution_count": null,
   "metadata": {
    "colab": {},
    "colab_type": "code",
    "id": "lhsGqgTubbg0"
   },
   "outputs": [],
   "source": [
    "a_dash, b_dash,c_dash=  0.2747860575935803, 0.20509276253250144, 0.00614110333871718\n",
    "\n",
    "\n",
    "t_extrapolate = tf.linspace(0., 120, num=1000)  # Train for just 3 seconds of input\n",
    "initial_states_extrapolate = tf.convert_to_tensor([S0, I0,R0], dtype=tf.float64)\n",
    "#initial_states_extrapolate = tf.convert_to_tensor([1, 1], dtype=tf.float64)\n",
    "\n",
    "with tf.device(device):\n",
    "    extrapolation_model = SIR(a_dash, b_dash, c_dash)\n",
    "    extrapolated_results = odeint(extrapolation_model, initial_states_extrapolate, t_extrapolate)\n",
    "#    real_results = odeint(SIR(a, b, c), initial_states_extrapolate, t_extrapolate)"
   ]
  },
  {
   "cell_type": "code",
   "execution_count": null,
   "metadata": {
    "colab": {},
    "colab_type": "code",
    "id": "0VfHlasi3J-i"
   },
   "outputs": [],
   "source": [
    "np.shape(extrapolated_results)"
   ]
  },
  {
   "cell_type": "code",
   "execution_count": null,
   "metadata": {
    "colab": {},
    "colab_type": "code",
    "id": "1veQEvwl39zT"
   },
   "outputs": [],
   "source": [
    "plt.plot(t_train, y_obs[:,0],'r.', t_train, y_obs[:,1],'b.')\n",
    "plt.plot(t_extrapolate, N*extrapolated_results[:,1], \n",
    "         t_extrapolate, N*extrapolated_results[:,2])"
   ]
  },
  {
   "cell_type": "code",
   "execution_count": null,
   "metadata": {
    "colab": {},
    "colab_type": "code",
    "id": "Ou3UEpx-4c8w"
   },
   "outputs": [],
   "source": []
  }
 ],
 "metadata": {
  "colab": {
   "collapsed_sections": [],
   "name": "NeuralODE_SIR1.ipynb",
   "provenance": []
  },
  "kernelspec": {
   "display_name": "Python 3",
   "language": "python",
   "name": "python3"
  },
  "language_info": {
   "codemirror_mode": {
    "name": "ipython",
    "version": 3
   },
   "file_extension": ".py",
   "mimetype": "text/x-python",
   "name": "python",
   "nbconvert_exporter": "python",
   "pygments_lexer": "ipython3",
   "version": "3.7.0"
  }
 },
 "nbformat": 4,
 "nbformat_minor": 4
}
